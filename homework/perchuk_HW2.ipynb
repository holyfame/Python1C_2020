{
 "cells": [
  {
   "cell_type": "markdown",
   "metadata": {},
   "source": [
    "## 1. Передача данных"
   ]
  },
  {
   "cell_type": "code",
   "execution_count": 142,
   "metadata": {
    "scrolled": true
   },
   "outputs": [],
   "source": [
    "chars = 'ABCDEFGHIJKLMNOPQRSTUVWXYZabcdefghijklmnopqrstuvwxyz0123456789+/'\n",
    "\n",
    "def encode(string):\n",
    "    # кодируем в Windos-1251\n",
    "    encoded = string.encode('cp1251')\n",
    "    \n",
    "    # разбиваем на байты в двоичной кодировке\n",
    "    split = [bin(i)[2:] for i in encoded]\n",
    "    \n",
    "    # добавляем нужное количество байтов, чтобы число бит делилось на 6\n",
    "    n = len(split)\n",
    "    m = n % 3\n",
    "    if m != 0:\n",
    "        m = 3 - m\n",
    "    split += ['00000000' * m]\n",
    "    \n",
    "    # группируем биты по 6\n",
    "    bits = ''.join(split)\n",
    "    indices = [int(bits[i:i+6], 2) for i in range(0, len(bits), 6)]\n",
    "    \n",
    "    # получаем новую строку, используя полученные двоичные числа как индексы\n",
    "    result = ''\n",
    "    for i in indices:\n",
    "        result += chars[i]\n",
    "        \n",
    "    # докидываем знаки '='\n",
    "    result += '=' * m\n",
    "        \n",
    "    return result"
   ]
  },
  {
   "cell_type": "code",
   "execution_count": 143,
   "metadata": {},
   "outputs": [
    {
     "name": "stdout",
     "output_type": "stream",
     "text": [
      "wMHCw8QA=\n"
     ]
    }
   ],
   "source": [
    "print(encode('АБВГД'))"
   ]
  },
  {
   "cell_type": "code",
   "execution_count": 144,
   "metadata": {},
   "outputs": [],
   "source": [
    "def sixBitString(n):\n",
    "    b = bin(n)[2:]\n",
    "    return '0' * (6 - len(b)) + b"
   ]
  },
  {
   "cell_type": "code",
   "execution_count": 145,
   "metadata": {},
   "outputs": [],
   "source": [
    "def decode(string):\n",
    "    m = 0\n",
    "    indices = []\n",
    "    for c in string:\n",
    "        if (c == '='):\n",
    "            m += 1\n",
    "        else:\n",
    "            indices.append(chars.find(c))\n",
    "\n",
    "    groups = [sixBitString(i) for i in indices]\n",
    "    bits = ''.join(groups)\n",
    "    bytes_list = [bits[i: i + 8] for i in range(0, len(bits), 8)][:-m]\n",
    "\n",
    "    encoded = bytes()\n",
    "    for byte in bytes_list:\n",
    "        i = int(byte, 2)\n",
    "        c = i.to_bytes(1, byteorder='little')\n",
    "        encoded += c\n",
    "\n",
    "    result = encoded.decode('cp1251')\n",
    "    return result"
   ]
  },
  {
   "cell_type": "code",
   "execution_count": 146,
   "metadata": {},
   "outputs": [
    {
     "name": "stdout",
     "output_type": "stream",
     "text": [
      "АБВГД\n"
     ]
    }
   ],
   "source": [
    "print(decode(encode('АБВГД')))"
   ]
  },
  {
   "cell_type": "markdown",
   "metadata": {},
   "source": [
    "## 2. CounterGetter"
   ]
  },
  {
   "cell_type": "code",
   "execution_count": 237,
   "metadata": {},
   "outputs": [],
   "source": [
    "class CounterGetter(object):\n",
    "    counter = 0\n",
    "    \n",
    "    def __init__(self, **kwargs):\n",
    "        self.__dict__ = kwargs\n",
    "        \n",
    "    def __getattribute__(self, key):\n",
    "        CounterGetter.counter += 1\n",
    "        return object.__getattribute__(self, key)\n",
    "                \n",
    "    def dummy(self):\n",
    "        CounterGetter.counter += 1"
   ]
  },
  {
   "cell_type": "code",
   "execution_count": 239,
   "metadata": {},
   "outputs": [
    {
     "name": "stdout",
     "output_type": "stream",
     "text": [
      "yes\n",
      "sanek\n",
      "yes\n",
      "6\n",
      "6\n"
     ]
    }
   ],
   "source": [
    "a = CounterGetter(name = 'sanek', gay = 'yes')\n",
    "print(a.gay)\n",
    "print(a.name)\n",
    "print(a.gay)\n",
    "print(CounterGetter.counter)\n",
    "print(CounterGetter.counter)"
   ]
  },
  {
   "cell_type": "markdown",
   "metadata": {},
   "source": [
    "## Vector"
   ]
  },
  {
   "cell_type": "code",
   "execution_count": 323,
   "metadata": {},
   "outputs": [],
   "source": [
    "class Vector(object):\n",
    "    def __init__(self, *args):\n",
    "        self.list = list(args)\n",
    "        \n",
    "    def __len__(self):\n",
    "        return len(self.list)\n",
    "    \n",
    "    def __getitem__(self, index):\n",
    "        return self.list[index]\n",
    "        \n",
    "    def __add__(self, other):\n",
    "        res = Vector()\n",
    "        if type(other) == int:\n",
    "            for i in self.list:\n",
    "                res.list.append(i + other)\n",
    "        elif type(other) == Vector:\n",
    "            if len(self) != len(other):\n",
    "                raise RuntimeError\n",
    "            for i, j in zip(self.list, other.list):\n",
    "                res.list.append(i + j)\n",
    "        else:\n",
    "            raise RuntimeError\n",
    "        return res\n",
    "    \n",
    "    def __sub__(self, other):\n",
    "        res = Vector()\n",
    "        if type(other) == int:\n",
    "            for i in self.list:\n",
    "                res.list.append(i - other)\n",
    "        elif type(other) == Vector:\n",
    "            if len(self) != len(other):\n",
    "                raise RuntimeError\n",
    "            for i, j in zip(self.list, other.list):\n",
    "                res.list.append(i - j)\n",
    "        else:\n",
    "            raise RuntimeError\n",
    "        return res\n",
    "    \n",
    "    def __mul__(self, other):\n",
    "        res = Vector()\n",
    "        if type(other) == int:\n",
    "            for i in self.list:\n",
    "                res.list.append(i * other)\n",
    "        elif type(other) == Vector:\n",
    "            if len(self) != len(other):\n",
    "                raise RuntimeError\n",
    "            for i, j in zip(self.list, other.list):\n",
    "                res.list.append(i * j)\n",
    "        else:\n",
    "            raise RuntimeError\n",
    "        return res\n",
    "    \n",
    "    def __truediv__(self, other):\n",
    "        res = Vector()\n",
    "        if type(other) == int:\n",
    "            for i in self.list:\n",
    "                res.list.append(i / other)\n",
    "        elif type(other) == Vector:\n",
    "            if len(self) != len(other):\n",
    "                raise RuntimeError\n",
    "            for i, j in zip(self.list, other.list):\n",
    "                res.list.append(i / j)\n",
    "        else:\n",
    "            raise RuntimeError\n",
    "        return res\n",
    "            \n",
    "    def push_back(self, elem):\n",
    "        self.list.append(elem)\n",
    "        \n",
    "    def pop_back(self):\n",
    "        self.list = self.list[:-1]\n",
    "        \n",
    "    def insert(self, elem):\n",
    "        if elem not in self.list:\n",
    "            self.push_back(elem)\n",
    "            return True\n",
    "        return False\n",
    "    "
   ]
  },
  {
   "cell_type": "code",
   "execution_count": 324,
   "metadata": {},
   "outputs": [
    {
     "name": "stdout",
     "output_type": "stream",
     "text": [
      "[4, 5, 6]\n",
      "[5, 7, 9]\n"
     ]
    }
   ],
   "source": [
    "vec = Vector(1, 2, 3)\n",
    "v = vec + 3\n",
    "print(v.list)\n",
    "d = v + vec\n",
    "print(d.list)"
   ]
  },
  {
   "cell_type": "code",
   "execution_count": 325,
   "metadata": {},
   "outputs": [
    {
     "name": "stdout",
     "output_type": "stream",
     "text": [
      "Incorrect behaviour catch\n"
     ]
    }
   ],
   "source": [
    "e = Vector(1, 2)\n",
    "try:\n",
    "    d + e\n",
    "except:\n",
    "    print(\"Incorrect behaviour catch\")"
   ]
  },
  {
   "cell_type": "code",
   "execution_count": 326,
   "metadata": {},
   "outputs": [
    {
     "name": "stdout",
     "output_type": "stream",
     "text": [
      "[20, 35, 54]\n",
      "[0.8, 0.7142857142857143, 0.6666666666666666]\n"
     ]
    }
   ],
   "source": [
    "print((v * d).list)\n",
    "print((v / d).list)"
   ]
  },
  {
   "cell_type": "code",
   "execution_count": 327,
   "metadata": {},
   "outputs": [
    {
     "name": "stdout",
     "output_type": "stream",
     "text": [
      "5\n"
     ]
    }
   ],
   "source": [
    "print(v[1])"
   ]
  },
  {
   "cell_type": "code",
   "execution_count": 328,
   "metadata": {},
   "outputs": [
    {
     "data": {
      "text/plain": [
       "False"
      ]
     },
     "execution_count": 328,
     "metadata": {},
     "output_type": "execute_result"
    }
   ],
   "source": [
    "v.push_back(6)\n",
    "v.push_back(7)\n",
    "v.pop_back()\n",
    "v.insert(6)"
   ]
  },
  {
   "cell_type": "code",
   "execution_count": 329,
   "metadata": {},
   "outputs": [],
   "source": [
    "vec = Vector()\n",
    "vec.pop_back()"
   ]
  },
  {
   "cell_type": "code",
   "execution_count": null,
   "metadata": {},
   "outputs": [],
   "source": []
  }
 ],
 "metadata": {
  "kernelspec": {
   "display_name": "Python 3",
   "language": "python",
   "name": "python3"
  },
  "language_info": {
   "codemirror_mode": {
    "name": "ipython",
    "version": 3
   },
   "file_extension": ".py",
   "mimetype": "text/x-python",
   "name": "python",
   "nbconvert_exporter": "python",
   "pygments_lexer": "ipython3",
   "version": "3.8.2"
  }
 },
 "nbformat": 4,
 "nbformat_minor": 2
}
