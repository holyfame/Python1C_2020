{
 "cells": [
  {
   "cell_type": "markdown",
   "metadata": {},
   "source": [
    "## 1. PropertyCreator (0.2 балла)\n",
    "Напишите мета класс для создания свойств (property) класса из функций начинающихся с \"set_\", \"get_\" или \"del_\"."
   ]
  },
  {
   "cell_type": "code",
   "execution_count": 20,
   "metadata": {},
   "outputs": [],
   "source": [
    "class Property(object):\n",
    "    def __init__(self):\n",
    "        self.fget = None\n",
    "        self.fset = None\n",
    "        self.fdel = None"
   ]
  },
  {
   "cell_type": "code",
   "execution_count": 40,
   "metadata": {},
   "outputs": [],
   "source": [
    "class PropertyCreator(type): \n",
    "\n",
    "    def __new__(cls, name, bases, dct):\n",
    "        # добавим все атрибуты, которые не нужно делать свойставми\n",
    "        attrs = dict((name, value) for name, value in dct.items() if not (name.startswith(('set_', 'get_', 'del_'))))\n",
    "                \n",
    "        # найдем имена всех свойств\n",
    "        properties = dict()\n",
    "        for (name, value) in dct.items():\n",
    "            if name.startswith(('set_', 'get_', 'del_')):\n",
    "                properties[name[4:]] = Property()\n",
    "               \n",
    "        # сохраним для каждого свойства соответствующие функции\n",
    "        for (name, value) in dct.items():\n",
    "            if name.startswith('set_'):\n",
    "                properties[name[4:]].fset = value\n",
    "            elif name.startswith('get_'):\n",
    "                properties[name[4:]].fget = value\n",
    "            elif name.startswith('del_'):\n",
    "                properties[name[4:]].fdel = value\n",
    "                \n",
    "        # добавим свойства с нужными функциями как атрибуты нового класса\n",
    "        for (name, value) in properties.items():\n",
    "            attrs[name] = property(fset=value.fset, fget=value.fget, fdel=value.fdel)\n",
    "                    \n",
    "        return type.__new__(cls, name, bases, attrs)"
   ]
  },
  {
   "cell_type": "markdown",
   "metadata": {},
   "source": [
    "**Пример использования:**"
   ]
  },
  {
   "cell_type": "code",
   "execution_count": 44,
   "metadata": {},
   "outputs": [],
   "source": [
    "class TestPropertyCreator(metaclass=PropertyCreator):\n",
    "    def __init__(self, lo):\n",
    "        self.__x = None\n",
    "        self.lo = lo\n",
    "\n",
    "    def get_x(self):\n",
    "        return self.__x\n",
    "\n",
    "    def set_x(self, value):\n",
    "        if value < self.lo:\n",
    "            raise ValueError(\"Value must in condition: {} <= value\".format(self.lo))\n",
    "        self.__x = value\n",
    "\n",
    "    def del_x(self):\n",
    "        self.__x = \"No more\""
   ]
  },
  {
   "cell_type": "code",
   "execution_count": 45,
   "metadata": {},
   "outputs": [
    {
     "name": "stdout",
     "output_type": "stream",
     "text": [
      "5\n",
      "6\n"
     ]
    }
   ],
   "source": [
    "obj = TestPropertyCreator(5) \n",
    "print(obj.lo)\n",
    "obj.x = 6\n",
    "print(obj.x)\n",
    "del(obj.x)"
   ]
  },
  {
   "cell_type": "markdown",
   "metadata": {},
   "source": [
    "**Протестируем:**"
   ]
  },
  {
   "cell_type": "code",
   "execution_count": 56,
   "metadata": {},
   "outputs": [],
   "source": [
    "def test_simple():\n",
    "    class TestPropertyCreator(metaclass=PropertyCreator):\n",
    "        def __init__(self, lo):\n",
    "            self.__x = None\n",
    "            self.lo = lo\n",
    "\n",
    "        def get_x(self):\n",
    "            return self.__x\n",
    "\n",
    "        def set_x(self, value):\n",
    "            if value < self.lo:\n",
    "                raise ValueError(\"Value must in condition: {} <= value\".format(self.lo))\n",
    "            self.__x = value\n",
    "\n",
    "        def del_x(self):\n",
    "            self.__x = \"No more\"\n",
    "    \n",
    "    obj = TestPropertyCreator(5) \n",
    "    # проверим, что значение x не может быть ниже lo\n",
    "    try:\n",
    "        obj.x = 4 \n",
    "        raise RuntimeError\n",
    "    except ValueError:\n",
    "        pass\n",
    "    \n",
    "    # проверим, что корректно присваивание и удаление\n",
    "    obj.x = 6\n",
    "    assert obj.x == 6\n",
    "    del(obj.x)\n",
    "    assert obj.x == 'No more'"
   ]
  },
  {
   "cell_type": "code",
   "execution_count": 57,
   "metadata": {},
   "outputs": [],
   "source": [
    "test_simple()"
   ]
  },
  {
   "cell_type": "code",
   "execution_count": 98,
   "metadata": {},
   "outputs": [],
   "source": [
    "def test_with_inheritance():\n",
    "    class TestPropertyCreator(metaclass=PropertyCreator):\n",
    "        def __init__(self):\n",
    "            self._secret_list = []\n",
    "\n",
    "        def get_x(self):\n",
    "            self._secret_list.append(\"get\")\n",
    "            return 0\n",
    "\n",
    "        def set_x(self, value):\n",
    "            self._secret_list.append(\"set\")\n",
    "\n",
    "    class TestPropertyCreatorInheritance(TestPropertyCreator, metaclass=PropertyCreator):\n",
    "        pass\n",
    "    \n",
    "    obj = TestPropertyCreatorInheritance()\n",
    "    obj.x = 5\n",
    "    assert obj.x == 0\n",
    "    assert obj._secret_list == ['set', 'get']\n",
    "        "
   ]
  },
  {
   "cell_type": "code",
   "execution_count": 99,
   "metadata": {},
   "outputs": [],
   "source": [
    "test_with_inheritance()"
   ]
  },
  {
   "cell_type": "code",
   "execution_count": 95,
   "metadata": {},
   "outputs": [],
   "source": [
    "def test_partially_defined():\n",
    "    class TestPropertyCreator(metaclass=PropertyCreator):\n",
    "        def __init__(self):\n",
    "            self._secret_list = []\n",
    "\n",
    "        def get_x(self):\n",
    "            self._secret_list.append(\"get\")\n",
    "            return 0\n",
    "\n",
    "        def set_y(self, value):\n",
    "            self._secret_list.append(\"set\")\n",
    "            self._y = value\n",
    "    \n",
    "    \n",
    "    obj = TestPropertyCreator()\n",
    "    assert obj.x == 0\n",
    "    obj.y = 1\n",
    "    \n",
    "    assert obj._secret_list == ['get', 'set']"
   ]
  },
  {
   "cell_type": "code",
   "execution_count": 96,
   "metadata": {},
   "outputs": [],
   "source": [
    "test_partially_defined()"
   ]
  },
  {
   "cell_type": "code",
   "execution_count": 86,
   "metadata": {},
   "outputs": [],
   "source": [
    "def test_sanity():\n",
    "    class TestPropertyCreator(metaclass=PropertyCreator):\n",
    "        _text = 0\n",
    "        _boo = 'Boooooo'\n",
    "        \n",
    "        def get_raw_text(self):\n",
    "             return self._boo\n",
    "\n",
    "        def get_text(self):\n",
    "             return self._text % 2\n",
    "\n",
    "        def set_text(self, value):\n",
    "            try:\n",
    "                self._text = int(value)\n",
    "            except ValueError:\n",
    "                raise TypeError(\"unproper value for text: {}\".format(value))\n",
    "    \n",
    "    obj = TestPropertyCreator()\n",
    "    # проверим, что сеттер и геттер атрибута 'text' работают правильно\n",
    "    try:\n",
    "        obj.text = 'abc'\n",
    "        raise RuntimeError\n",
    "    except TypeError:\n",
    "        pass\n",
    "    obj.text = '10000'\n",
    "    assert obj.text == 0\n",
    "    \n",
    "    # проверим, что у атрибута 'raw_text' работает только геттер\n",
    "    assert obj.raw_text == 'Boooooo'\n",
    "    try:\n",
    "        obj.raw_text = '5'\n",
    "        raise RuntimeError\n",
    "    except AttributeError:\n",
    "        pass"
   ]
  },
  {
   "cell_type": "code",
   "execution_count": 87,
   "metadata": {},
   "outputs": [],
   "source": [
    "test_sanity()"
   ]
  },
  {
   "cell_type": "code",
   "execution_count": 90,
   "metadata": {},
   "outputs": [],
   "source": [
    "def test_multiple_usages():\n",
    "    class TestPropertyCreatorA(metaclass=PropertyCreator):\n",
    "        def get_x(self):\n",
    "            return 0\n",
    "    class TestPropertyCreatorB(metaclass=PropertyCreator):\n",
    "        def get_x(self):\n",
    "            return 1\n",
    "    class TestPropertyCreatorC(metaclass=PropertyCreator):\n",
    "        def set_x(self, value):\n",
    "            self.value = value + 1\n",
    "        def get_x(self):\n",
    "            return self.value\n",
    "    \n",
    "    \n",
    "    obj1 = TestPropertyCreatorA()\n",
    "    obj2 = TestPropertyCreatorB()\n",
    "    obj3 = TestPropertyCreatorC()\n",
    "    \n",
    "    # проверим, что геттеры у 1 и 2 классов работают правильно\n",
    "    assert obj1.x == 0\n",
    "    assert obj2.x == 1\n",
    "    \n",
    "    # проверим, что сеттеры у 1 и 2 классов не установлены\n",
    "    try:\n",
    "        obj1.x = 1\n",
    "        raise RuntimeError\n",
    "    except AttributeError:\n",
    "        pass\n",
    "    try:\n",
    "        obj2.x = 1\n",
    "        raise RuntimeError\n",
    "    except AttributeError:\n",
    "        pass\n",
    "    \n",
    "    # проверим, что геттер и сеттер у 3 класса работают правильно\n",
    "    obj3.x = 3\n",
    "    assert obj3.x == 4\n",
    "        "
   ]
  },
  {
   "cell_type": "code",
   "execution_count": 91,
   "metadata": {},
   "outputs": [],
   "source": [
    "test_multiple_usages()"
   ]
  },
  {
   "cell_type": "markdown",
   "metadata": {},
   "source": [
    "## 2. InstanceCountExeptioner (0.2 балла)\n",
    "Напишите метакласс InstanceCountExeptioner, который будет следить за количеством экземпляров класса, использующих его. Количество задается через поле класса __max_instane_count__. Т. е. число экземпляров каждого класса регулируется отдельно. Если в классе не указано поле __max_instane_count__, то используйте заранее заданное число в метаклассе (любое)."
   ]
  },
  {
   "cell_type": "code",
   "execution_count": 1,
   "metadata": {},
   "outputs": [],
   "source": [
    "class InstanceCountException(Exception):\n",
    "    def __init__(self,*args,**kwargs):\n",
    "        Exception.__init__(self,*args,**kwargs)"
   ]
  },
  {
   "cell_type": "code",
   "execution_count": 2,
   "metadata": {},
   "outputs": [],
   "source": [
    "import functools\n",
    "\n",
    "class InstanceCountExceptioner(type): \n",
    "    max_instance_count_default = 2\n",
    "    \n",
    "    def init_decorator(init_func):\n",
    "        @functools.wraps(init_func)\n",
    "        def init_wrapper(instance, *args, **kwargs):\n",
    "            if instance.__class__.__max_instance_count__ <= 0:\n",
    "                raise InstanceCountException\n",
    "            instance.__class__.__max_instance_count__ -= 1\n",
    "            init_func(instance, *args, **kwargs)\n",
    "            \n",
    "        return init_wrapper\n",
    "\n",
    "    def __new__(cls, name, bases, dct):\n",
    "        # добавим в список полей класса счетчик, если его там нет\n",
    "        if '__max_instance_count__' not in dct.keys():\n",
    "            dct['__max_instance_count__'] = InstanceCountExceptioner.max_instance_count_default\n",
    "            \n",
    "        # обернем __init__ с помощью декоратора, чтобы увеличивать счетчик при инициализации нового экземпляра класса\n",
    "        dct['__init__'] = InstanceCountExceptioner.init_decorator(dct['__init__'])\n",
    "                    \n",
    "        return type.__new__(cls, name, bases, dct)"
   ]
  },
  {
   "cell_type": "markdown",
   "metadata": {},
   "source": [
    "**Пример работы:**"
   ]
  },
  {
   "cell_type": "code",
   "execution_count": 3,
   "metadata": {},
   "outputs": [],
   "source": [
    "class TestA(metaclass=InstanceCountExceptioner):\n",
    "    __max_instance_count__ = 2\n",
    "    def __init__(self, a):\n",
    "        self.a = a\n",
    "        \n",
    "class TestB(metaclass=InstanceCountExceptioner): \n",
    "    __max_instance_count__ = 1\n",
    "    def __init__(self, a): \n",
    "        self.a = a\n",
    "\n",
    "a_one = TestA('one') \n",
    "a_two = TestA('two') \n",
    "b_one = TestB('one') # пока всё шло хорошо\n",
    "\n",
    "# а вот \n",
    "try:\n",
    "    a_three = TestA('three')  # выкенет исключение InstanceCountExeption\n",
    "    raise RuntimeError\n",
    "except InstanceCountException:\n",
    "    pass"
   ]
  },
  {
   "cell_type": "markdown",
   "metadata": {},
   "source": [
    "**Протестируем:**"
   ]
  },
  {
   "cell_type": "code",
   "execution_count": 4,
   "metadata": {},
   "outputs": [],
   "source": [
    "class TestInstanceCountExceptionerA(metaclass=InstanceCountExceptioner):\n",
    "    __max_instance_count__ = 3\n",
    "\n",
    "    def __init__(self):\n",
    "        self.a = 1\n",
    "\n",
    "    def get(self):\n",
    "        return self.a\n",
    "\n",
    "class TestInstanceCountExceptionerB(metaclass=InstanceCountExceptioner):\n",
    "    __max_instance_count__ = 2\n",
    "\n",
    "    def __init__(self):\n",
    "        self.b = 2\n",
    "\n",
    "    def get(self):\n",
    "        return self.b"
   ]
  },
  {
   "cell_type": "code",
   "execution_count": 5,
   "metadata": {},
   "outputs": [],
   "source": [
    "def test_simple():\n",
    "    a = TestInstanceCountExceptionerA() \n",
    "    assert a.get() == 1\n",
    "\n",
    "def test_create():\n",
    "    b = TestInstanceCountExceptionerB()\n",
    "    assert b.get() == 2\n",
    "\n",
    "def test_fail_create_a():\n",
    "    a = TestInstanceCountExceptionerA()\n",
    "    a = TestInstanceCountExceptionerA()\n",
    "    try:\n",
    "        a = TestInstanceCountExceptionerA()\n",
    "        raise RuntimeError\n",
    "    except InstanceCountException as e:\n",
    "        pass\n",
    "\n",
    "\n",
    "def test_fail_create_b():\n",
    "    b = TestInstanceCountExceptionerB()\n",
    "    try:\n",
    "        b = TestInstanceCountExceptionerB()\n",
    "        raise RuntimeError\n",
    "    except InstanceCountException as e:\n",
    "        pass"
   ]
  },
  {
   "cell_type": "code",
   "execution_count": 6,
   "metadata": {},
   "outputs": [],
   "source": [
    "test_simple()\n",
    "test_create()\n",
    "test_fail_create_a()\n",
    "test_fail_create_b()"
   ]
  },
  {
   "cell_type": "markdown",
   "metadata": {},
   "source": [
    "## 3. JSONClassCreator (0.6 баллов)\n",
    "Напишите метакласс, который будет по json представлению строить новый класс и обратно. Класс должен уметь следующее:\n",
    "\n",
    "* Поддерживать сохранение и получение магических функций класса.\n",
    "* Поддерживать сохранение и получение обычных функций.\n",
    "* Поддерживать сохранение полей со стандартными типами.\n",
    "* Уберите из сохранения следующие поля и методы: ['__dict__', '__weakref__', '__module__', '__init__']\n",
    "* У создаваемого класса должна быть функция to_json_str\n",
    "\n",
    "Формат json строки должен быть следующий:  \n",
    "{  \n",
    "\"name\": название класса,   \n",
    "    \"bases\": базовые классы,   \n",
    "    \"methods\": методы класса,  \n",
    "    \"attrs\": поля класса  \n",
    "}\n",
    "\n",
    "Рекомендации:\n",
    "\n",
    "* Для получения кода функций используйте модуль inspect.\n",
    "* Для того, чтобы запустить код функций, можно использовать exec.\n",
    "* Можно не исправлять ошибку типа OSError: could not get source code - возникает для функций, полученных с помощью exec."
   ]
  },
  {
   "cell_type": "code",
   "execution_count": 189,
   "metadata": {},
   "outputs": [],
   "source": [
    "import inspect\n",
    "import json\n",
    "\n",
    "class JSONClassCreator(type):   \n",
    "    def __new__(mcls, json_str):\n",
    "        json_obj = json.loads(json_str)\n",
    "        name = json_obj['name']\n",
    "        \n",
    "        bases = tuple(globals()[base_name] for base_name in json_obj['bases'])\n",
    "        \n",
    "        attrs = dict()\n",
    "        for key, value in json_obj['attrs'].items():\n",
    "            attrs[key] = value\n",
    "            \n",
    "        attrs['to_json_str'] = JSONClassCreator.to_json_str\n",
    "            \n",
    "        for func_name, func_text in json_obj['methods'].items():\n",
    "            exec(func_text) # теперь в локальном модуле существует нужная функция\n",
    "            attrs[func_name] = locals()[func_name] # кладем ее в атрибуты\n",
    "        \n",
    "        return type.__new__(mcls, name, bases, attrs)\n",
    "\n",
    "    def to_json_str(cls):\n",
    "        exclude = ['__dict__', '__weakref__', '__module__', '__init__']       \n",
    "\n",
    "        name = cls.__name__\n",
    "        bases = list(base.__name__ for base in inspect.getmro(cls)[1:-1])\n",
    "        \n",
    "        methods, attrs = dict(), dict()\n",
    "        for attr_key, attr_value in filter(lambda x: x[0] not in exclude, cls.__dict__.items()):\n",
    "            if callable(attr_value):\n",
    "                methods[attr_key] = inspect.getsource(attr_value).strip()\n",
    "            else:\n",
    "                attrs[attr_key] = attr_value\n",
    "        \n",
    "        return json.dumps({\n",
    "            \"name\": name,\n",
    "            \"bases\": bases,\n",
    "            \"methods\": methods,\n",
    "            \"attrs\": attrs\n",
    "        })\n",
    "\n",
    "    pass"
   ]
  },
  {
   "cell_type": "markdown",
   "metadata": {},
   "source": [
    "**Пример генерации json по классу:**"
   ]
  },
  {
   "cell_type": "code",
   "execution_count": 190,
   "metadata": {},
   "outputs": [],
   "source": [
    "class A:\n",
    "    pass\n",
    "\n",
    "class B(A):\n",
    "    '''test B class'''\n",
    "    y = 7\n",
    "    \n",
    "    def f(self):\n",
    "        return 5"
   ]
  },
  {
   "cell_type": "code",
   "execution_count": 191,
   "metadata": {},
   "outputs": [
    {
     "name": "stdout",
     "output_type": "stream",
     "text": [
      "('name', 'B')\n",
      "('bases', ['A'])\n",
      "('methods', {'f': 'def f(self):\\n        return 5'})\n",
      "('attrs', {'__doc__': 'test B class', 'y': 7})\n"
     ]
    }
   ],
   "source": [
    "print(*json.loads(JSONClassCreator.to_json_str(B)).items(), sep=\"\\n\")"
   ]
  },
  {
   "cell_type": "markdown",
   "metadata": {},
   "source": [
    "**Пример генерации класса по json:**"
   ]
  },
  {
   "cell_type": "code",
   "execution_count": 192,
   "metadata": {},
   "outputs": [],
   "source": [
    "json_string = json.dumps({\n",
    "    'name': 'Test',\n",
    "    'bases': ['B'],\n",
    "    'methods': {'f': 'def f(self, a):\\n        return a + 5'},\n",
    "    'attrs': {'x': 5}\n",
    "})"
   ]
  },
  {
   "cell_type": "code",
   "execution_count": 193,
   "metadata": {},
   "outputs": [
    {
     "name": "stdout",
     "output_type": "stream",
     "text": [
      "10 5 7\n"
     ]
    }
   ],
   "source": [
    "tmp = JSONClassCreator(json_string)\n",
    "obj = tmp()\n",
    "print(obj.f(5), obj.x, obj.y)"
   ]
  },
  {
   "cell_type": "markdown",
   "metadata": {},
   "source": [
    "**Протестируем на примере из условий:**"
   ]
  },
  {
   "cell_type": "code",
   "execution_count": 194,
   "metadata": {},
   "outputs": [],
   "source": [
    "class ParentTest1(object):\n",
    "    pass\n",
    "\n",
    "class ParentTest2(object):\n",
    "    pass\n",
    "\n",
    "class Test(ParentTest1, ParentTest2):\n",
    "    \"\"\"Тестовый класс\"\"\"\n",
    "\n",
    "    val = [1, 2, 3]\n",
    "\n",
    "    def f(self, x):\n",
    "        print(x)\n",
    "    \n",
    "    def __repr__(self):\n",
    "        return \"Test(val={})\".format(self.val)\n",
    "\n",
    "    def __str__(self):\n",
    "        return \"Test(val={})\".format(self.val)\n",
    "\n",
    "    pass"
   ]
  },
  {
   "cell_type": "code",
   "execution_count": 195,
   "metadata": {},
   "outputs": [
    {
     "name": "stdout",
     "output_type": "stream",
     "text": [
      "('name', 'Test')\n",
      "('bases', ['ParentTest1', 'ParentTest2'])\n",
      "('methods', {'f': 'def f(self, x):\\n        print(x)', '__repr__': 'def __repr__(self):\\n        return \"Test(val={})\".format(self.val)', '__str__': 'def __str__(self):\\n        return \"Test(val={})\".format(self.val)'})\n",
      "('attrs', {'__doc__': 'Тестовый класс', 'val': [1, 2, 3]})\n"
     ]
    }
   ],
   "source": [
    "print(*json.loads(JSONClassCreator.to_json_str(Test)).items(), sep=\"\\n\")"
   ]
  },
  {
   "cell_type": "code",
   "execution_count": 196,
   "metadata": {},
   "outputs": [
    {
     "name": "stdout",
     "output_type": "stream",
     "text": [
      "hi\n"
     ]
    },
    {
     "data": {
      "text/plain": [
       "(Test(val=[1, 2, 3]), None, [1, 2, 3], 'Тестовый класс')"
      ]
     },
     "execution_count": 196,
     "metadata": {},
     "output_type": "execute_result"
    }
   ],
   "source": [
    "tmp = JSONClassCreator(JSONClassCreator.to_json_str(Test))\n",
    "\n",
    "tmp_obj = tmp()\n",
    "tmp_obj, tmp_obj.f(\"hi\"), tmp.val, tmp.__doc__"
   ]
  },
  {
   "cell_type": "code",
   "execution_count": 197,
   "metadata": {},
   "outputs": [
    {
     "data": {
      "text/plain": [
       "mappingproxy({'__doc__': 'Тестовый класс',\n",
       "              'val': [1, 2, 3],\n",
       "              'to_json_str': <function __main__.JSONClassCreator.to_json_str(cls)>,\n",
       "              'f': <function __main__.f(self, x)>,\n",
       "              '__repr__': <function __main__.__repr__(self)>,\n",
       "              '__str__': <function __main__.__str__(self)>,\n",
       "              '__module__': '__main__'})"
      ]
     },
     "execution_count": 197,
     "metadata": {},
     "output_type": "execute_result"
    }
   ],
   "source": [
    "tmp.__dict__"
   ]
  },
  {
   "cell_type": "code",
   "execution_count": null,
   "metadata": {},
   "outputs": [],
   "source": []
  }
 ],
 "metadata": {
  "kernelspec": {
   "display_name": "Python 3",
   "language": "python",
   "name": "python3"
  },
  "language_info": {
   "codemirror_mode": {
    "name": "ipython",
    "version": 3
   },
   "file_extension": ".py",
   "mimetype": "text/x-python",
   "name": "python",
   "nbconvert_exporter": "python",
   "pygments_lexer": "ipython3",
   "version": "3.8.2"
  }
 },
 "nbformat": 4,
 "nbformat_minor": 2
}
