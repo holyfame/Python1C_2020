{
 "cells": [
  {
   "cell_type": "markdown",
   "metadata": {},
   "source": [
    "## 1. Chainer (0.4 балла)\n",
    "Требуется реализовать функцию chainer, которая принимает на вход любое количество итерируемых объектов (в т.ч. контейнеров, которые тоже могут содержать итерируемые объекты) и возвращает список из всех элементов всех переданных контейнеров."
   ]
  },
  {
   "cell_type": "code",
   "execution_count": 256,
   "metadata": {},
   "outputs": [],
   "source": [
    "from collections import Iterable\n",
    "\n",
    "def flatten(x, ignore_types=(str, bytes)):\n",
    "    if isinstance(x, Iterable) and not isinstance(x, ignore_types):\n",
    "        yield from flatten(x[0])\n",
    "        if len(x) > 1:\n",
    "            yield from flatten(x[1:])\n",
    "    elif isinstance(x, ignore_types):\n",
    "        yield from list(x)\n",
    "    else:\n",
    "        yield x\n",
    "        \n",
    "def chainer(*items):\n",
    "    return list(flatten(items))"
   ]
  },
  {
   "cell_type": "code",
   "execution_count": 255,
   "metadata": {},
   "outputs": [
    {
     "name": "stdout",
     "output_type": "stream",
     "text": [
      "[1, 2, 3, 'w', 'h', 'y', 'i', ' ', 'n', 'e', 'e', 'd', 't', 'o', 'd', 'o', ' ', 't', 'h', 'a', 't', '?']\n"
     ]
    }
   ],
   "source": [
    "print(chainer([1, 2, 3], \"why\", [\"i need\", [[\"to\"], \"do that\", [\"?\"]]]))"
   ]
  },
  {
   "cell_type": "markdown",
   "metadata": {},
   "source": [
    "## 2. Dataflow (0.6 балла)\n",
    "В данном задании требуется написать обработчик генераторов, вычисляющих факториал. Для каждого генератора должна быть функция декоратор, которая инициализирует генератор."
   ]
  },
  {
   "cell_type": "markdown",
   "metadata": {},
   "source": [
    "Функция генератор факториалов принимает на вход n - максимальный факториал, который может вычислить (n!)."
   ]
  },
  {
   "cell_type": "code",
   "execution_count": 345,
   "metadata": {},
   "outputs": [],
   "source": [
    "def fact_iterator(n):\n",
    "    res = 1\n",
    "    for m in range(1, n + 1):\n",
    "        res *= m\n",
    "        yield res"
   ]
  },
  {
   "cell_type": "code",
   "execution_count": 346,
   "metadata": {},
   "outputs": [
    {
     "name": "stdout",
     "output_type": "stream",
     "text": [
      "1\n",
      "2\n",
      "6\n",
      "24\n",
      "120\n"
     ]
    }
   ],
   "source": [
    "f = fact_iterator(5)\n",
    "for i in range(5):\n",
    "    print(next(f))"
   ]
  },
  {
   "cell_type": "markdown",
   "metadata": {},
   "source": [
    "При этом должен быть реализован функционал, который позволяет послать значение z в генератор и должно вернуться соответствующее значение факториала последовательным применением функции next. Если это невозможно (генератор исчерпался), должно быть выведено сообщение об этом и последнее возможное значение факториала.\n",
    "\n",
    "Данный функционал должен быть реализован в классе GeneratorManeger."
   ]
  },
  {
   "cell_type": "code",
   "execution_count": 351,
   "metadata": {},
   "outputs": [],
   "source": [
    "class FactGenerator(object):\n",
    "    def __init__(self, n):\n",
    "        self.n = n\n",
    "        self.cur = 0\n",
    "        self.iter = fact_iterator(n)\n",
    "\n",
    "class GeneratorManeger(object):    \n",
    "    def __init__(self, *fact_desc):\n",
    "        self.open_count = len(fact_desc)\n",
    "        self.generators = []\n",
    "        for ni in fact_desc:\n",
    "            self.generators.append(FactGenerator(ni))\n",
    "    \n",
    "    def send(self, z):\n",
    "        if (self.open_count == 0):\n",
    "            print('All generators are closed')\n",
    "            return\n",
    "        \n",
    "        for gen in self.generators:\n",
    "            if gen.n >= z and gen.cur < z:\n",
    "                if gen.n == z:\n",
    "                    self.open_count -= 1\n",
    "                 \n",
    "                while gen.cur < z:\n",
    "                    res = next(gen.iter)\n",
    "                    gen.cur += 1\n",
    "                    \n",
    "                return res\n",
    "            \n",
    "        print(\"Can't calculate\", z)"
   ]
  },
  {
   "cell_type": "markdown",
   "metadata": {},
   "source": [
    "fact_desc - это список из чисел $n_i$ для каждого из которых создается свой генератор fact_generator($n_i$) и сохраняется в классе GeneratorManeger.\n",
    "\n",
    "send должна выбрать любой генератор из еще не исчерпавшихся и вычислить значение факториала. Если таких нет, сообщить об этом."
   ]
  },
  {
   "cell_type": "code",
   "execution_count": 355,
   "metadata": {},
   "outputs": [],
   "source": [
    "gm = GeneratorManeger(3, 6)"
   ]
  },
  {
   "cell_type": "code",
   "execution_count": 356,
   "metadata": {},
   "outputs": [
    {
     "data": {
      "text/plain": [
       "6"
      ]
     },
     "execution_count": 356,
     "metadata": {},
     "output_type": "execute_result"
    }
   ],
   "source": [
    "gm.send(3)"
   ]
  },
  {
   "cell_type": "code",
   "execution_count": 357,
   "metadata": {},
   "outputs": [
    {
     "data": {
      "text/plain": [
       "6"
      ]
     },
     "execution_count": 357,
     "metadata": {},
     "output_type": "execute_result"
    }
   ],
   "source": [
    "gm.send(3)"
   ]
  },
  {
   "cell_type": "code",
   "execution_count": 358,
   "metadata": {},
   "outputs": [
    {
     "name": "stdout",
     "output_type": "stream",
     "text": [
      "Can't calculate 3\n"
     ]
    }
   ],
   "source": [
    "gm.send(3)"
   ]
  },
  {
   "cell_type": "code",
   "execution_count": 359,
   "metadata": {},
   "outputs": [
    {
     "name": "stdout",
     "output_type": "stream",
     "text": [
      "Can't calculate 7\n"
     ]
    }
   ],
   "source": [
    "gm.send(7)"
   ]
  },
  {
   "cell_type": "code",
   "execution_count": 360,
   "metadata": {},
   "outputs": [
    {
     "data": {
      "text/plain": [
       "720"
      ]
     },
     "execution_count": 360,
     "metadata": {},
     "output_type": "execute_result"
    }
   ],
   "source": [
    "gm.send(6)"
   ]
  },
  {
   "cell_type": "code",
   "execution_count": 361,
   "metadata": {},
   "outputs": [
    {
     "name": "stdout",
     "output_type": "stream",
     "text": [
      "All generators are closed\n"
     ]
    }
   ],
   "source": [
    "gm.send(4)"
   ]
  }
 ],
 "metadata": {
  "kernelspec": {
   "display_name": "Python 3",
   "language": "python",
   "name": "python3"
  },
  "language_info": {
   "codemirror_mode": {
    "name": "ipython",
    "version": 3
   },
   "file_extension": ".py",
   "mimetype": "text/x-python",
   "name": "python",
   "nbconvert_exporter": "python",
   "pygments_lexer": "ipython3",
   "version": "3.6.9"
  }
 },
 "nbformat": 4,
 "nbformat_minor": 2
}
