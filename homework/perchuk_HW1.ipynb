{
 "cells": [
  {
   "cell_type": "code",
   "execution_count": 33,
   "metadata": {},
   "outputs": [],
   "source": [
    "def create_dict(texts, dictionary = {}):\n",
    "    new_words = []\n",
    "    for text in texts:\n",
    "        new_words += text.split(' ')\n",
    "        \n",
    "    n = len(dictionary)\n",
    "    for word in new_words:\n",
    "        if word not in dictionary:\n",
    "            dictionary[word] = n\n",
    "            n += 1\n",
    "            \n",
    "    return dictionary"
   ]
  },
  {
   "cell_type": "code",
   "execution_count": 37,
   "metadata": {},
   "outputs": [
    {
     "name": "stdout",
     "output_type": "stream",
     "text": [
      "{'a': 1, 'b': 2, 'word': 2, '1': 3, '2': 4} True\n"
     ]
    }
   ],
   "source": [
    "d = {'a': 1, 'b': 2}\n",
    "a = create_dict(['word 1', 'word 2'], d)\n",
    "print(a, d is a)"
   ]
  },
  {
   "cell_type": "code",
   "execution_count": null,
   "metadata": {},
   "outputs": [],
   "source": []
  }
 ],
 "metadata": {
  "kernelspec": {
   "display_name": "Python 3",
   "language": "python",
   "name": "python3"
  },
  "language_info": {
   "codemirror_mode": {
    "name": "ipython",
    "version": 3
   },
   "file_extension": ".py",
   "mimetype": "text/x-python",
   "name": "python",
   "nbconvert_exporter": "python",
   "pygments_lexer": "ipython3",
   "version": "3.6.9"
  }
 },
 "nbformat": 4,
 "nbformat_minor": 2
}
