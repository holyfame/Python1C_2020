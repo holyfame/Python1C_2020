{
 "cells": [
  {
   "cell_type": "code",
   "execution_count": 28,
   "metadata": {},
   "outputs": [],
   "source": [
    "import sys\n",
    "import functools\n",
    "from collections import OrderedDict "
   ]
  },
  {
   "cell_type": "markdown",
   "metadata": {},
   "source": [
    "## 1. Декоратор @cached "
   ]
  },
  {
   "cell_type": "code",
   "execution_count": 29,
   "metadata": {},
   "outputs": [],
   "source": [
    "def cached(*args, **kwargs):\n",
    "    max_count = 10\n",
    "    if ('max_count' in kwargs):\n",
    "        max_count = kwargs['max_count']\n",
    "    elif len(args) > 0 and isinstance(args[0], int):\n",
    "        max_count = args[0]\n",
    "            \n",
    "    class LruCache(object):\n",
    "        \n",
    "        def __init__(self, func):\n",
    "            self.__func = func\n",
    "            self.__cached = []\n",
    "            functools.update_wrapper(self, func)\n",
    "            \n",
    "        def __call__(self, *args, **kwargs):\n",
    "            res = self.__func(*args, **kwargs)\n",
    "            if len(self.__cached) == max_count:\n",
    "                self.__cached = self.__cached[1:]\n",
    "            self.__cached.append(res)\n",
    "            return res\n",
    "        \n",
    "        def cache(self):\n",
    "            return self.__cached\n",
    "        \n",
    "    return LruCache\n",
    "    "
   ]
  },
  {
   "cell_type": "code",
   "execution_count": 30,
   "metadata": {},
   "outputs": [],
   "source": [
    "@cached(3)\n",
    "def f(x):\n",
    "    return x\n",
    "\n",
    "@cached()\n",
    "def g(x):\n",
    "    return x"
   ]
  },
  {
   "cell_type": "code",
   "execution_count": 31,
   "metadata": {},
   "outputs": [
    {
     "name": "stdout",
     "output_type": "stream",
     "text": [
      "[7, 8, 9]\n",
      "[0, 1, 2, 3, 4, 5, 6, 7, 8, 9]\n"
     ]
    }
   ],
   "source": [
    "for i in range(10):\n",
    "    f(i)\n",
    "    g(i)\n",
    "    \n",
    "print(f.cache())\n",
    "print(g.cache())"
   ]
  },
  {
   "cell_type": "code",
   "execution_count": 32,
   "metadata": {},
   "outputs": [
    {
     "data": {
      "text/plain": [
       "'f'"
      ]
     },
     "execution_count": 32,
     "metadata": {},
     "output_type": "execute_result"
    }
   ],
   "source": [
    "f.__name__"
   ]
  },
  {
   "cell_type": "code",
   "execution_count": 10,
   "metadata": {},
   "outputs": [],
   "source": [
    "from functools import lru_cache"
   ]
  },
  {
   "cell_type": "markdown",
   "metadata": {},
   "source": [
    "## 2. Декоратор @checked"
   ]
  },
  {
   "cell_type": "code",
   "execution_count": 44,
   "metadata": {},
   "outputs": [],
   "source": [
    "def checked(*types):\n",
    "    def decorator(func):\n",
    "        @functools.wraps(func)\n",
    "        def wrapper(*args, **kwargs):\n",
    "            args_types = [type(arg) for arg in args]\n",
    "            args_types += [type(arg) for arg in kwargs.values()]\n",
    "            if len(types) != len(args_types):\n",
    "                raise TypeError\n",
    "            for t1, t2 in zip(types, args_types):\n",
    "                if t1 != t2:\n",
    "                    raise TypeError\n",
    "            return func(*args, **kwargs)\n",
    "        return wrapper\n",
    "    return decorator"
   ]
  },
  {
   "cell_type": "code",
   "execution_count": 45,
   "metadata": {},
   "outputs": [],
   "source": [
    "from typing import List\n",
    "\n",
    "@checked(str, int, list)\n",
    "def strange_func(a: str, b: int, c: List):\n",
    "    pass\n",
    "\n",
    "strange_func('asdf', 10, [])"
   ]
  },
  {
   "cell_type": "code",
   "execution_count": 49,
   "metadata": {},
   "outputs": [
    {
     "name": "stdout",
     "output_type": "stream",
     "text": [
      "типы должны совпадать\n"
     ]
    }
   ],
   "source": [
    "@checked(str, int, list)\n",
    "def strange_func(a: str, b: int, c: List):\n",
    "    pass\n",
    "\n",
    "try:\n",
    "    strange_func('asdf', 10, 'asdf')\n",
    "except TypeError:\n",
    "    print('типы должны совпадать')"
   ]
  },
  {
   "cell_type": "code",
   "execution_count": 48,
   "metadata": {},
   "outputs": [
    {
     "name": "stdout",
     "output_type": "stream",
     "text": [
      "число аргументов должно совпадать\n"
     ]
    }
   ],
   "source": [
    "@checked(str, int, list)\n",
    "def strange_func(a: str, b: int, c: List, d: str):\n",
    "    pass\n",
    "\n",
    "try:\n",
    "    strange_func('asdf', 10, [], 'asdf')\n",
    "except TypeError:\n",
    "    print('число аргументов должно совпадать')"
   ]
  },
  {
   "cell_type": "markdown",
   "metadata": {},
   "source": [
    "## 3. Декоратор @Logger"
   ]
  },
  {
   "cell_type": "code",
   "execution_count": 84,
   "metadata": {},
   "outputs": [],
   "source": [
    "class Logger(object):\n",
    "    \n",
    "    def __init__(self, dest=sys.stdout):\n",
    "        self.__dest = dest\n",
    "        \n",
    "    def __call__(self, func):\n",
    "        \n",
    "        @functools.wraps(func)\n",
    "        def callable(*args, **kwargs):\n",
    "            res = func(*args, **kwargs)\n",
    "            print(\"[log]\\nfunction name: {}\\nargs: {}\\nkwargs: {}\\nresult: {}\".format(func.__name__, args, kwargs, res), file=self.__dest)\n",
    "            return res\n",
    "        \n",
    "        return callable\n",
    "        "
   ]
  },
  {
   "cell_type": "code",
   "execution_count": 85,
   "metadata": {},
   "outputs": [],
   "source": [
    "@Logger()\n",
    "def f(x):\n",
    "    return x"
   ]
  },
  {
   "cell_type": "code",
   "execution_count": 86,
   "metadata": {},
   "outputs": [
    {
     "name": "stdout",
     "output_type": "stream",
     "text": [
      "[log]\n",
      "function name: f\n",
      "args: (5,)\n",
      "kwargs: {}\n",
      "result: 5\n"
     ]
    },
    {
     "data": {
      "text/plain": [
       "5"
      ]
     },
     "execution_count": 86,
     "metadata": {},
     "output_type": "execute_result"
    }
   ],
   "source": [
    "f(5)"
   ]
  },
  {
   "cell_type": "code",
   "execution_count": null,
   "metadata": {},
   "outputs": [],
   "source": []
  }
 ],
 "metadata": {
  "kernelspec": {
   "display_name": "Python 3",
   "language": "python",
   "name": "python3"
  },
  "language_info": {
   "codemirror_mode": {
    "name": "ipython",
    "version": 3
   },
   "file_extension": ".py",
   "mimetype": "text/x-python",
   "name": "python",
   "nbconvert_exporter": "python",
   "pygments_lexer": "ipython3",
   "version": "3.8.2"
  }
 },
 "nbformat": 4,
 "nbformat_minor": 2
}
