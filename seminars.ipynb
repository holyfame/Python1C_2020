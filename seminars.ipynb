{
 "cells": [
  {
   "cell_type": "markdown",
   "metadata": {},
   "source": [
    "## Семинар 1"
   ]
  },
  {
   "cell_type": "code",
   "execution_count": 1,
   "metadata": {},
   "outputs": [
    {
     "data": {
      "text/plain": [
       "True"
      ]
     },
     "execution_count": 1,
     "metadata": {},
     "output_type": "execute_result"
    }
   ],
   "source": [
    "False == False in [False]"
   ]
  },
  {
   "cell_type": "code",
   "execution_count": 3,
   "metadata": {},
   "outputs": [
    {
     "name": "stdout",
     "output_type": "stream",
     "text": [
      "0\n",
      "1\n",
      "2\n",
      "2\n"
     ]
    }
   ],
   "source": [
    "for i in range(3):\n",
    "    print(i)\n",
    "\n",
    "print(i)"
   ]
  },
  {
   "cell_type": "markdown",
   "metadata": {},
   "source": [
    "Объекты выбают изменяемыми и неизменяемыми\n",
    "Переменная - это ссылка на объект"
   ]
  },
  {
   "cell_type": "code",
   "execution_count": 4,
   "metadata": {},
   "outputs": [
    {
     "name": "stdout",
     "output_type": "stream",
     "text": [
      "0 a\n",
      "1 b\n",
      "2 c\n",
      "3 d\n"
     ]
    }
   ],
   "source": [
    "lst = \"abcd\"\n",
    "for i, sym in enumerate(lst):\n",
    "    print(i, sym)"
   ]
  },
  {
   "cell_type": "code",
   "execution_count": 5,
   "metadata": {},
   "outputs": [
    {
     "name": "stdout",
     "output_type": "stream",
     "text": [
      "a 0\n",
      "b 1\n",
      "c 2\n",
      "d 3\n"
     ]
    }
   ],
   "source": [
    "lst2 = list(range(4))\n",
    "for el1, el2 in zip(lst, lst2):\n",
    "    print(el1, el2)"
   ]
  },
  {
   "cell_type": "code",
   "execution_count": 10,
   "metadata": {},
   "outputs": [
    {
     "data": {
      "text/plain": [
       "Counter({'test': 1})"
      ]
     },
     "execution_count": 10,
     "metadata": {},
     "output_type": "execute_result"
    }
   ],
   "source": [
    "from collections import defaultdict, Counter\n",
    "a = Counter()\n",
    "a['test'] += 1\n",
    "a"
   ]
  },
  {
   "cell_type": "code",
   "execution_count": 11,
   "metadata": {},
   "outputs": [
    {
     "data": {
      "text/plain": [
       "defaultdict(str, {'test': 'hi'})"
      ]
     },
     "execution_count": 11,
     "metadata": {},
     "output_type": "execute_result"
    }
   ],
   "source": [
    "b = defaultdict(str)\n",
    "b['test'] += 'hi'\n",
    "b"
   ]
  },
  {
   "cell_type": "code",
   "execution_count": 12,
   "metadata": {},
   "outputs": [
    {
     "name": "stdout",
     "output_type": "stream",
     "text": [
      "(1, 2)\n",
      "{'a': 5, 'b': 10}\n"
     ]
    }
   ],
   "source": [
    "def f(*args, **kwargs):\n",
    "    print(args)\n",
    "    print(kwargs)\n",
    "\n",
    "f(1, 2, a = 5, b = 10)"
   ]
  },
  {
   "cell_type": "markdown",
   "metadata": {},
   "source": [
    "## Семинар 2"
   ]
  },
  {
   "cell_type": "code",
   "execution_count": 1,
   "metadata": {},
   "outputs": [],
   "source": [
    "import sys\n",
    "import chardet"
   ]
  },
  {
   "cell_type": "code",
   "execution_count": 5,
   "metadata": {},
   "outputs": [
    {
     "data": {
      "text/plain": [
       "[49, 50, 51, 52, 82, 84, 86, 88, 90, 92, 94, 96, 98, 100, 102]"
      ]
     },
     "execution_count": 5,
     "metadata": {},
     "output_type": "execute_result"
    }
   ],
   "source": [
    "beer = \" W привет some\"\n",
    "[sys.getsizeof(beer[:index]) for index in range(len(beer) + 1)]"
   ]
  },
  {
   "cell_type": "markdown",
   "metadata": {},
   "source": [
    "чем больше разных символов используется в строке, тем больше весит строка"
   ]
  },
  {
   "cell_type": "code",
   "execution_count": 7,
   "metadata": {},
   "outputs": [
    {
     "data": {
      "text/plain": [
       "{'encoding': 'utf-8', 'confidence': 0.99, 'language': ''}"
      ]
     },
     "execution_count": 7,
     "metadata": {},
     "output_type": "execute_result"
    }
   ],
   "source": [
    "chardet.detect(beer.encode())"
   ]
  },
  {
   "cell_type": "code",
   "execution_count": 10,
   "metadata": {},
   "outputs": [
    {
     "name": "stdout",
     "output_type": "stream",
     "text": [
      "b'\\xd0\\xbb\\xd0\\xb5\\xd0\\xb3\\xd0\\xba\\xd0\\xbe'\n",
      "легко\n"
     ]
    }
   ],
   "source": [
    "byte_str = \"легко\".encode(\"utf-8\")\n",
    "print(byte_str)\n",
    "print(byte_str.decode(\"utf-8\"))"
   ]
  },
  {
   "cell_type": "markdown",
   "metadata": {},
   "source": [
    "## Семинар 3 (декораторы)"
   ]
  },
  {
   "cell_type": "code",
   "execution_count": null,
   "metadata": {},
   "outputs": [],
   "source": []
  },
  {
   "cell_type": "code",
   "execution_count": null,
   "metadata": {},
   "outputs": [],
   "source": []
  },
  {
   "cell_type": "markdown",
   "metadata": {},
   "source": [
    "## Семинар 4 (генераторы)"
   ]
  },
  {
   "cell_type": "code",
   "execution_count": 2,
   "metadata": {},
   "outputs": [],
   "source": [
    "n = 9\n",
    "m = 3"
   ]
  },
  {
   "cell_type": "code",
   "execution_count": 52,
   "metadata": {},
   "outputs": [
    {
     "data": {
      "text/plain": [
       "[0, 1, 2, 4, 6, 8, 9]"
      ]
     },
     "execution_count": 52,
     "metadata": {},
     "output_type": "execute_result"
    }
   ],
   "source": [
    "exclude = [3, 5, 7]\n",
    "list(i for i in filter(lambda x: x not in exclude, range(10)))"
   ]
  },
  {
   "cell_type": "code",
   "execution_count": 3,
   "metadata": {},
   "outputs": [
    {
     "data": {
      "text/plain": [
       "[3, 12, 21]"
      ]
     },
     "execution_count": 3,
     "metadata": {},
     "output_type": "execute_result"
    }
   ],
   "source": [
    "list(map(lambda x: int(x * m + m * (m - 1) / 2), filter(lambda x: not x % m, range(n))))"
   ]
  },
  {
   "cell_type": "code",
   "execution_count": 62,
   "metadata": {},
   "outputs": [
    {
     "data": {
      "text/plain": [
       "[(0, 1, 2), (3, 4, 5), (6, 7, 8)]"
      ]
     },
     "execution_count": 62,
     "metadata": {},
     "output_type": "execute_result"
    }
   ],
   "source": [
    "it = iter(range(n))\n",
    "# list(map(sum, zip(*[it] * m)))\n",
    "list(zip(*[it] * m))"
   ]
  },
  {
   "cell_type": "code",
   "execution_count": 53,
   "metadata": {},
   "outputs": [
    {
     "data": {
      "text/plain": [
       "[(0, 1), (2, 3)]"
      ]
     },
     "execution_count": 53,
     "metadata": {},
     "output_type": "execute_result"
    }
   ],
   "source": [
    "it = iter(range(4))\n",
    "\n",
    "list(zip(*[iter(range(4))] * 2))"
   ]
  },
  {
   "cell_type": "code",
   "execution_count": 66,
   "metadata": {},
   "outputs": [
    {
     "data": {
      "text/plain": [
       "[0, 1, 2, 3, 4, 10, 20, 't', 'e', 's', 't']"
      ]
     },
     "execution_count": 66,
     "metadata": {},
     "output_type": "execute_result"
    }
   ],
   "source": [
    "def chain(*iterables):\n",
    "    for iterable in iterables:\n",
    "        for it in iterable:\n",
    "            yield it\n",
    "list(chain(range(5), [10, 20], \"test\"))"
   ]
  },
  {
   "cell_type": "code",
   "execution_count": 76,
   "metadata": {},
   "outputs": [
    {
     "name": "stdout",
     "output_type": "stream",
     "text": [
      "1\n",
      "None\n",
      "2\n"
     ]
    }
   ],
   "source": [
    "# def echo(value=None):\n",
    "#     print(\"Execution starts when 'next()' is called for the first time.\")\n",
    "#     try:\n",
    "#         while True:\n",
    "#             try:\n",
    "#                 value = (yield value)\n",
    "#             except Exception as e:\n",
    "#                 value = e\n",
    "#     finally:\n",
    "#         print(\"Don't forget to clean up when 'close()' is called.\")\n",
    "\n",
    "def echo(value=None):\n",
    "    while True:\n",
    "        try:\n",
    "            value = (yield value)\n",
    "        except Exception as e:\n",
    "            value = e\n",
    "\n",
    "generator = echo(1)\n",
    "print(next(generator))\n",
    "\n",
    "print(next(generator))\n",
    "\n",
    "print(generator.send(2))\n",
    "\n",
    "generator.throw(TypeError, \"spam\")\n",
    "\n",
    "generator.close()"
   ]
  },
  {
   "cell_type": "code",
   "execution_count": 77,
   "metadata": {},
   "outputs": [
    {
     "name": "stdout",
     "output_type": "stream",
     "text": [
      "From generator 1\n",
      "From user 2\n",
      "From generator 1\n",
      "From user 3\n",
      "From generator 1\n",
      "From user 4\n",
      "From generator 1\n",
      "From user 5\n",
      "From generator 1\n",
      "From user 6\n",
      "From generator 1\n",
      "From user 7\n",
      "From generator 1\n",
      "From user 8\n",
      "From generator 1\n",
      "From user 9\n",
      "From generator 1\n"
     ]
    }
   ],
   "source": [
    "def coroutine():\n",
    "    for i in range(1, 10):\n",
    "        print(\"From generator {}\".format((yield i)))\n",
    "c = coroutine()\n",
    "c.send(None)\n",
    "try:\n",
    "    while True:\n",
    "        print(\"From user {}\".format(c.send(1)))\n",
    "except StopIteration: pass"
   ]
  },
  {
   "cell_type": "code",
   "execution_count": 132,
   "metadata": {},
   "outputs": [
    {
     "name": "stdout",
     "output_type": "stream",
     "text": [
      "x 10\n",
      "1\n",
      "x 10\n",
      "2\n",
      "x spam\n",
      "x 10\n",
      "4\n",
      "fail\n"
     ]
    }
   ],
   "source": [
    "def helpless():\n",
    "    for i in range(10):\n",
    "        try:\n",
    "            x = yield i\n",
    "        except Exception as e:\n",
    "            x = e\n",
    "            \n",
    "        print('x', x)\n",
    "        \n",
    "c = helpless()\n",
    "next(c)\n",
    "print(c.send(10))\n",
    "print(c.send(10))\n",
    "c.throw(TypeError('spam'))\n",
    "print(c.send(10))\n",
    "c.close()\n",
    "try:\n",
    "    print(c.send(5))\n",
    "except Exception as e:\n",
    "    print('fail')"
   ]
  },
  {
   "cell_type": "markdown",
   "metadata": {},
   "source": [
    "## Семинар 5 (Дескрипторы и метаклассы)"
   ]
  },
  {
   "cell_type": "code",
   "execution_count": null,
   "metadata": {},
   "outputs": [],
   "source": [
    "class Limited(object):\n",
    "\n",
    "    def __init__(self, lo, hi, label):\n",
    "        self.lo = lo\n",
    "        self.hi = hi\n",
    "        self.label = label\n",
    "        self.__val = None\n",
    "\n",
    "    def get_val(self):\n",
    "        return self.__val\n",
    "\n",
    "    def set_val(self, value):\n",
    "        if not (self.lo < value < self.hi):\n",
    "            raise ValueError(\"Please, set {label} with conditions: {lo} < {label} < {hi}\".format(**self.__dict__))\n",
    "        self.__val = value\n",
    "\n",
    "    def del_val(self):\n",
    "        self.__val = 'No more'\n",
    "\n",
    "    val = property(get_val, set_val, del_val, \"Это свойство val.\")"
   ]
  },
  {
   "cell_type": "code",
   "execution_count": 2,
   "metadata": {},
   "outputs": [],
   "source": [
    "class Mine(object):\n",
    "    def __init__(self):\n",
    "        self._x = None\n",
    "\n",
    "    x = property()\n",
    "\n",
    "    @x.getter\n",
    "    def x(self):\n",
    "        \"\"\"Это свойство x.\"\"\"\n",
    "        return self._x\n",
    "\n",
    "    @x.setter\n",
    "    def x(self, value):\n",
    "        self._x = value\n",
    "\n",
    "    @x.deleter\n",
    "    def x(self):\n",
    "        self._x = 'No more'"
   ]
  },
  {
   "cell_type": "code",
   "execution_count": 3,
   "metadata": {},
   "outputs": [
    {
     "name": "stdout",
     "output_type": "stream",
     "text": [
      "5\n",
      "None\n",
      "No more\n"
     ]
    }
   ],
   "source": [
    "a, b = Mine(), Mine()\n",
    "a.x = 5\n",
    "print(a.x)\n",
    "print(b.x)\n",
    "del(a.x)\n",
    "print(a.x)"
   ]
  },
  {
   "cell_type": "code",
   "execution_count": 4,
   "metadata": {},
   "outputs": [
    {
     "name": "stdout",
     "output_type": "stream",
     "text": [
      "100.0\n"
     ]
    }
   ],
   "source": [
    "class Limited(object):\n",
    "\n",
    "    def __init__(self, lo, hi, label=None):\n",
    "        self.lo = lo\n",
    "        self.hi = hi\n",
    "        self.label = label\n",
    "        self.__val = None\n",
    "    \n",
    "    @property\n",
    "    def val(self):\n",
    "        \"Это свойство val.\"\n",
    "        return self.__val\n",
    "\n",
    "    @val.setter\n",
    "    def val(self, value):\n",
    "        if not (self.lo < value < self.hi):\n",
    "            raise ValueError(\"Please, set {label} with conditions: {lo} < {label} < {hi}\".format(**self.__dict__))\n",
    "        self.__val = value\n",
    "    \n",
    "    @val.deleter\n",
    "    def val(self):\n",
    "        self.__val = 'No more'\n",
    "\n",
    "\n",
    "class Summator(object):\n",
    "    x = Limited(1, 1000)\n",
    "    y = Limited(0, 1)\n",
    "\n",
    "summator = Summator()\n",
    "summator.x = 1e2\n",
    "print(summator.x)"
   ]
  },
  {
   "cell_type": "code",
   "execution_count": 5,
   "metadata": {},
   "outputs": [
    {
     "name": "stdout",
     "output_type": "stream",
     "text": [
      "__set__\n",
      "(<__main__.Test object at 0x7f6a01427be0>, 5)\n",
      "<__main__.Trace object at 0x7f6a01427a90>\n",
      "__get__\n",
      "(<__main__.Test object at 0x7f6a01427be0>, <class '__main__.Test'>)\n",
      "None\n"
     ]
    }
   ],
   "source": [
    "class Trace(object):\n",
    "\n",
    "    def __set__(self, *args):\n",
    "        print('__set__', args, sep=\"\\n\")\n",
    "\n",
    "    def __get__(self, *args):\n",
    "        print(self, '__get__', args, sep=\"\\n\")\n",
    "\n",
    "    def __delete__(self, *args):\n",
    "        print('__delete__', args, sep=\"\\n\")\n",
    "\n",
    "class Test(object):\n",
    "    attr = Trace()\n",
    "\n",
    "t = Test()\n",
    "t.attr = 5\n",
    "print(t.attr)\n",
    "# del t.attr"
   ]
  },
  {
   "cell_type": "code",
   "execution_count": 3,
   "metadata": {},
   "outputs": [
    {
     "ename": "RuntimeError",
     "evalue": "",
     "output_type": "error",
     "traceback": [
      "\u001b[1;31m---------------------------------------------------------------------------\u001b[0m",
      "\u001b[1;31mRuntimeError\u001b[0m                              Traceback (most recent call last)",
      "\u001b[1;32m<ipython-input-3-e44541694eae>\u001b[0m in \u001b[0;36m<module>\u001b[1;34m\u001b[0m\n\u001b[0;32m      2\u001b[0m \u001b[1;32mtry\u001b[0m\u001b[1;33m:\u001b[0m\u001b[1;33m\u001b[0m\u001b[1;33m\u001b[0m\u001b[0m\n\u001b[0;32m      3\u001b[0m     \u001b[1;36m1\u001b[0m \u001b[1;33m+\u001b[0m \u001b[1;36m1\u001b[0m\u001b[1;33m\u001b[0m\u001b[1;33m\u001b[0m\u001b[0m\n\u001b[1;32m----> 4\u001b[1;33m     \u001b[1;32mraise\u001b[0m \u001b[0mRuntimeError\u001b[0m\u001b[1;33m\u001b[0m\u001b[1;33m\u001b[0m\u001b[0m\n\u001b[0m\u001b[0;32m      5\u001b[0m \u001b[1;32mexcept\u001b[0m \u001b[0mZeroDivisionError\u001b[0m\u001b[1;33m:\u001b[0m\u001b[1;33m\u001b[0m\u001b[1;33m\u001b[0m\u001b[0m\n\u001b[0;32m      6\u001b[0m     \u001b[1;32mpass\u001b[0m\u001b[1;33m\u001b[0m\u001b[1;33m\u001b[0m\u001b[0m\n",
      "\u001b[1;31mRuntimeError\u001b[0m: "
     ]
    }
   ],
   "source": [
    "type(int)\n",
    "try:\n",
    "    1 + 1\n",
    "    raise RuntimeError\n",
    "except ZeroDivisionError:\n",
    "    pass"
   ]
  },
  {
   "cell_type": "code",
   "execution_count": 25,
   "metadata": {},
   "outputs": [],
   "source": [
    "class NonNegative:\n",
    "    \n",
    "    def __get__(self, instance, owner):\n",
    "        return instance.__dict__[self.name]\n",
    "    \n",
    "    def __set__(self, instance, value):\n",
    "        if value < 0:\n",
    "            raise ValueError('Cannot be negative.')\n",
    "        instance.__dict__[self.name] = value\n",
    "        \n",
    "    def __set_name__(self, owner, name):\n",
    "        self.name = name\n",
    "        \n",
    "class Order:\n",
    "    \n",
    "    price = NonNegative()\n",
    "    quantity = NonNegative()\n",
    "    \n",
    "    def __init__(self, name, price, quantity):\n",
    "        self._name = name\n",
    "        self.price = price\n",
    "        self.quantity = quantity\n",
    "        \n",
    "    def total(self):\n",
    "        return self.price * self.quantity"
   ]
  },
  {
   "cell_type": "code",
   "execution_count": 26,
   "metadata": {},
   "outputs": [
    {
     "name": "stdout",
     "output_type": "stream",
     "text": [
      "6\n",
      "10\n"
     ]
    },
    {
     "data": {
      "text/plain": [
       "{'_name': 'apple_pie', 'price': 2, 'quantity': 3}"
      ]
     },
     "execution_count": 26,
     "metadata": {},
     "output_type": "execute_result"
    }
   ],
   "source": [
    "apple_order = Order('apple', 1, 10)\n",
    "new_order = Order('apple_pie', 2, 3)\n",
    "print(new_order.total())\n",
    "print(apple_order.total())\n",
    "new_order.__dict__\n",
    "# 10\n",
    "# apple_order.price = -10\n",
    "# # ValueError: Cannot be negative\n",
    "# apple_order.quantity = -10\n",
    "# # ValueError: Cannot be negative"
   ]
  },
  {
   "cell_type": "code",
   "execution_count": 45,
   "metadata": {},
   "outputs": [
    {
     "name": "stdout",
     "output_type": "stream",
     "text": [
      "C\n",
      "7sm\n"
     ]
    }
   ],
   "source": [
    "def my_metaclass(a, b, c):\n",
    "    return a\n",
    "\n",
    "class C(metaclass=my_metaclass):\n",
    "    pass\n",
    "\n",
    "print(C)\n",
    "B = type('MyClass', (object, ), {'hui': '7sm'})\n",
    "b = B()\n",
    "print(b.hui)"
   ]
  },
  {
   "cell_type": "code",
   "execution_count": 1,
   "metadata": {},
   "outputs": [],
   "source": [
    "class UpperAttrMetaclass(type): \n",
    "\n",
    "    def __new__(cls, name, bases, dct):\n",
    "\n",
    "        attrs = ((name, value) for name, value in dct.items() if not name.startswith('__'))\n",
    "        uppercase_attr = dict((name.upper(), value) for name, value in attrs)\n",
    "\n",
    "        return type.__new__(cls, name, bases, uppercase_attr)"
   ]
  },
  {
   "cell_type": "code",
   "execution_count": 2,
   "metadata": {},
   "outputs": [
    {
     "name": "stdout",
     "output_type": "stream",
     "text": [
      "False\n",
      "True\n",
      "bip\n"
     ]
    }
   ],
   "source": [
    "\n",
    "class Foo(metaclass=UpperAttrMetaclass): \n",
    "    bar = 'bip'\n",
    "\n",
    "f = Foo()\n",
    "print(hasattr(Foo, 'bar'))\n",
    "print(hasattr(Foo, 'BAR'))\n",
    "print(f.BAR)"
   ]
  },
  {
   "cell_type": "code",
   "execution_count": 36,
   "metadata": {},
   "outputs": [
    {
     "name": "stdout",
     "output_type": "stream",
     "text": [
      "3 5\n"
     ]
    }
   ],
   "source": [
    "class JsonCreator(type):\n",
    "    def __new__(mcls, name):\n",
    "        val = 5 if name == 'doodo' else 3\n",
    "        return type.__new__(mcls, name, (), {'a': val})\n",
    "    \n",
    "cls = JsonCreator('xuo')\n",
    "cls2 = JsonCreator('doodo')\n",
    "obj, obj2 = cls(), cls2()\n",
    "print(obj.a, obj2.a)"
   ]
  },
  {
   "cell_type": "code",
   "execution_count": 8,
   "metadata": {},
   "outputs": [
    {
     "data": {
      "text/plain": [
       "10"
      ]
     },
     "execution_count": 8,
     "metadata": {},
     "output_type": "execute_result"
    }
   ],
   "source": [
    "s = 'def f(a):\\n        return a + 5'\n",
    "exec(s)\n",
    "f(5)"
   ]
  },
  {
   "cell_type": "code",
   "execution_count": 38,
   "metadata": {},
   "outputs": [
    {
     "data": {
      "text/plain": [
       "(0, 1, 2, 3, 4)"
      ]
     },
     "execution_count": 38,
     "metadata": {},
     "output_type": "execute_result"
    }
   ],
   "source": [
    "a = tuple(i for i in range(5))\n",
    "a"
   ]
  },
  {
   "cell_type": "code",
   "execution_count": 22,
   "metadata": {},
   "outputs": [
    {
     "data": {
      "text/plain": [
       "71"
      ]
     },
     "execution_count": 22,
     "metadata": {},
     "output_type": "execute_result"
    }
   ],
   "source": [
    "f_text = 'def f(self, a):\\n        return a + 5'\n",
    "class S(object):\n",
    "    exec(f_text)\n",
    "    \n",
    "    def __init__(self):\n",
    "        \n",
    "        self.f = f\n",
    "        \n",
    "obj = S()\n",
    "obj.f(66)"
   ]
  },
  {
   "cell_type": "code",
   "execution_count": 27,
   "metadata": {},
   "outputs": [
    {
     "name": "stdout",
     "output_type": "stream",
     "text": [
      "5\n"
     ]
    }
   ],
   "source": [
    "class D:\n",
    "    def __init__(self):\n",
    "        self.__dict__['x'] = 5\n",
    "        \n",
    "    def module(self):\n",
    "        def test():\n",
    "            print(5)\n",
    "\n",
    "        method_to_call = locals()['test']\n",
    "        method_to_call()\n",
    "        \n",
    "d = D()\n",
    "d.x\n",
    "d.module()"
   ]
  },
  {
   "cell_type": "code",
   "execution_count": 28,
   "metadata": {},
   "outputs": [],
   "source": [
    "def f(obj):\n",
    "    print('attr =', obj.attr)\n",
    "\n",
    "Foo = type(\n",
    "    'Foo',\n",
    "    (),\n",
    "    {\n",
    "        'attr': 100,\n",
    "        'attr_val': f\n",
    "    }\n",
    ")"
   ]
  },
  {
   "cell_type": "code",
   "execution_count": 29,
   "metadata": {},
   "outputs": [
    {
     "data": {
      "text/plain": [
       "\"def f(obj):\\n    print('attr =', obj.attr)\\n\""
      ]
     },
     "execution_count": 29,
     "metadata": {},
     "output_type": "execute_result"
    }
   ],
   "source": [
    "import inspect\n",
    "inspect.getsource(f)"
   ]
  },
  {
   "cell_type": "code",
   "execution_count": 35,
   "metadata": {},
   "outputs": [
    {
     "data": {
      "text/plain": [
       "'{}'"
      ]
     },
     "execution_count": 35,
     "metadata": {},
     "output_type": "execute_result"
    }
   ],
   "source": [
    "import json\n",
    "\n",
    "obj = Foo()\n",
    "obj.attr\n",
    "json.dumps(obj.__dict__)"
   ]
  },
  {
   "cell_type": "code",
   "execution_count": 49,
   "metadata": {},
   "outputs": [
    {
     "data": {
      "text/plain": [
       "mappingproxy({'__module__': '__main__',\n",
       "              'x': 5,\n",
       "              'f': <function __main__.A.f(self)>,\n",
       "              '__dict__': <attribute '__dict__' of 'A' objects>,\n",
       "              '__weakref__': <attribute '__weakref__' of 'A' objects>,\n",
       "              '__doc__': None})"
      ]
     },
     "execution_count": 49,
     "metadata": {},
     "output_type": "execute_result"
    }
   ],
   "source": [
    "class A:\n",
    "    x = 5\n",
    "    \n",
    "    def f(self):\n",
    "        return 5\n",
    "\n",
    "A.__dict__"
   ]
  },
  {
   "cell_type": "code",
   "execution_count": 53,
   "metadata": {},
   "outputs": [
    {
     "name": "stdout",
     "output_type": "stream",
     "text": [
      "    sdstrins sdf asd  \n",
      "\n",
      "sdstrins sdf asd\n"
     ]
    }
   ],
   "source": [
    "s = \"    sdstrins sdf asd  \\n\"\n",
    "print(s)\n",
    "print(s.strip())"
   ]
  },
  {
   "cell_type": "code",
   "execution_count": null,
   "metadata": {},
   "outputs": [],
   "source": []
  },
  {
   "cell_type": "markdown",
   "metadata": {},
   "source": [
    "# Python & WEB"
   ]
  },
  {
   "cell_type": "markdown",
   "metadata": {},
   "source": [
    "## \"Обычные запросы\" в google"
   ]
  },
  {
   "cell_type": "code",
   "execution_count": 46,
   "metadata": {},
   "outputs": [],
   "source": [
    "from requests import get, post\n",
    "import urllib\n",
    "import urllib.parse\n",
    "from bs4 import BeautifulSoup\n",
    "from IPython.core.display import display, HTML"
   ]
  },
  {
   "cell_type": "code",
   "execution_count": 53,
   "metadata": {},
   "outputs": [],
   "source": [
    "def google(query):\n",
    "    template = 'https://www.google.ru/search?{}'\n",
    "    url = template.format(urllib.parse.urlencode({'q' : query}))\n",
    "    req = get(url)\n",
    "    \n",
    "    assert req.status_code == 200, 'request failed'\n",
    "    soup = BeautifulSoup(req.text)\n",
    "    \n",
    "    for i, li in enumerate(soup.findAll('h3', attrs={'class' : 'r'})):\n",
    "        display(HTML('<h2>Operating systems</h2>'))\n",
    "        link = li.find('a')\n",
    "        if link:\n",
    "            link['href'] = 'http://www.google.com' +  link['href']\n",
    "            link = '<i>{}.</i>  {}'.format(i, link)\n",
    "            display(HTML(str(link)))\n",
    "\n",
    "            \n",
    "google('Hello, World!')"
   ]
  },
  {
   "cell_type": "code",
   "execution_count": 59,
   "metadata": {},
   "outputs": [
    {
     "data": {
      "text/html": [
       "[<p><b>Филосо́фия</b> (<a href=\"/wiki/%D0%94%D1%80%D0%B5%D0%B2%D0%BD%D0%B5%D0%B3%D1%80%D0%B5%D1%87%D0%B5%D1%81%D0%BA%D0%B8%D0%B9_%D1%8F%D0%B7%D1%8B%D0%BA\" title=\"Древнегреческий язык\">др.-греч.</a> <span lang=\"grc\"><span style=\"font-family: palatino linotype, new athena unicode, athena, gentium, code2000, serif; font-size: 105%;\"><a class=\"extiw\" href=\"https://ru.wiktionary.org/wiki/%CF%86%CE%B9%CE%BB%CE%BF%CF%83%CE%BF%CF%86%CE%AF%CE%B1#Древнегреческий\" title=\"wikt:φιλοσοφία\">φιλοσοφία</a></span></span> дословно «любомудрие; любовь к мудрости») — особая форма <a href=\"/wiki/%D0%9F%D0%BE%D0%B7%D0%BD%D0%B0%D0%BD%D0%B8%D0%B5\" title=\"Познание\">познания</a> мира, вырабатывающая систему знаний о наиболее общих характеристиках, предельно-обобщающих понятиях и фундаментальных принципах реальности (<a href=\"/wiki/%D0%91%D1%8B%D1%82%D0%B8%D0%B5\" title=\"Бытие\">бытия</a>) и познания, <a class=\"mw-redirect\" href=\"/wiki/%D0%91%D1%8B%D1%82%D0%B8%D0%B5_%D1%87%D0%B5%D0%BB%D0%BE%D0%B2%D0%B5%D0%BA%D0%B0\" title=\"Бытие человека\">бытия человека</a>, об отношении человека и мира<sup class=\"reference\" id=\"cite_ref-krugosvet_2-0\"><a href=\"#cite_note-krugosvet-2\">[2]</a></sup><sup class=\"reference\" id=\"cite_ref-noveyshiy_3-0\"><a href=\"#cite_note-noveyshiy-3\">[3]</a></sup><sup class=\"reference\" id=\"cite_ref-4\"><a href=\"#cite_note-4\">[4]</a></sup>. К задачам философии на протяжении её истории относились как изучение всеобщих законов развития мира и общества, так и изучение самого процесса познания и <a class=\"mw-redirect\" href=\"/wiki/%D0%9C%D1%8B%D1%88%D0%BB%D0%B5%D0%BD%D0%B8%D0%B5_(%D1%84%D0%B8%D0%BB%D0%BE%D1%81%D0%BE%D1%84%D0%B8%D1%8F)\" title=\"Мышление (философия)\">мышления</a>, а также изучение нравственных категорий и <a class=\"new\" href=\"/w/index.php?title=%D0%A6%D0%B5%D0%BD%D0%BD%D0%BE%D1%81%D1%82%D1%8C_(%D1%84%D0%B8%D0%BB%D0%BE%D1%81%D0%BE%D1%84%D0%B8%D1%8F)&amp;action=edit&amp;redlink=1\" title=\"Ценность (философия) (страница отсутствует)\">ценностей</a>. К числу предельных философских вопросов относятся, например, вопросы «Познаваем ли мир?», «<a href=\"/wiki/%D0%92%D0%BE%D0%BF%D1%80%D0%BE%D1%81_%D1%81%D1%83%D1%89%D0%B5%D1%81%D1%82%D0%B2%D0%BE%D0%B2%D0%B0%D0%BD%D0%B8%D1%8F_%D0%91%D0%BE%D0%B3%D0%B0\" title=\"Вопрос существования Бога\">Существует ли Бог?</a>», «Что такое <a href=\"/wiki/%D0%98%D1%81%D1%82%D0%B8%D0%BD%D0%B0\" title=\"Истина\">истина</a>?», «Что такое <a href=\"/wiki/%D0%94%D0%BE%D0%B1%D1%80%D0%BE\" title=\"Добро\">хорошо</a>?», «Что есть <a href=\"/wiki/%D0%A7%D0%B5%D0%BB%D0%BE%D0%B2%D0%B5%D0%BA\" title=\"Человек\">Человек</a>?», «<a href=\"/wiki/%D0%9E%D1%81%D0%BD%D0%BE%D0%B2%D0%BD%D0%BE%D0%B9_%D0%B2%D0%BE%D0%BF%D1%80%D0%BE%D1%81_%D1%84%D0%B8%D0%BB%D0%BE%D1%81%D0%BE%D1%84%D0%B8%D0%B8\" title=\"Основной вопрос философии\">Что первично — материя или сознание?</a>» и другие<sup class=\"reference\" id=\"cite_ref-_34d0510f483def00_5-0\"><a href=\"#cite_note-_34d0510f483def00-5\">[5]</a></sup><sup class=\"reference\" id=\"cite_ref-_6fd90995660389eb_6-0\"><a href=\"#cite_note-_6fd90995660389eb-6\">[6]</a></sup>.\n",
       "</p>, <p>Хотя иногда философию определяют более узко, в качестве <i><a href=\"/wiki/%D0%9D%D0%B0%D1%83%D0%BA%D0%B0\" title=\"Наука\">науки</a></i> с определённым предметом изучения<sup class=\"reference\" id=\"cite_ref-_6fd90995660389eb_6-1\"><a href=\"#cite_note-_6fd90995660389eb-6\">[6]</a></sup>, такой подход встречает возражения современных философов, настаивающих на том, что философия представляет собой скорее <a href=\"/wiki/%D0%9C%D0%B8%D1%80%D0%BE%D0%B2%D0%BE%D0%B7%D0%B7%D1%80%D0%B5%D0%BD%D0%B8%D0%B5\" title=\"Мировоззрение\">мировоззрение</a>, общий критический подход к познанию всего сущего, который применим к любому объекту или <a href=\"/wiki/%D0%9A%D0%BE%D0%BD%D1%86%D0%B5%D0%BF%D1%86%D0%B8%D1%8F\" title=\"Концепция\">концепции</a><sup class=\"reference\" id=\"cite_ref-_1b1e17f88c9f7758_7-0\"><a href=\"#cite_note-_1b1e17f88c9f7758-7\">[7]</a></sup><sup class=\"reference\" id=\"cite_ref-_5c8ab40a2b354d34_8-0\"><a href=\"#cite_note-_5c8ab40a2b354d34-8\">[8]</a></sup>. В этом смысле каждый человек хотя бы изредка занимается философией, то есть размышляет<sup class=\"reference\" id=\"cite_ref-_1b1e17f88c9f7758_7-1\"><a href=\"#cite_note-_1b1e17f88c9f7758-7\">[7]</a></sup><sup class=\"reference\" id=\"cite_ref-наука_9-0\"><a href=\"#cite_note-наука-9\">[прим. 1]</a></sup>.\n",
       "</p>, <p>Философия фактически существует в виде множества различных философских учений, которые могут противостоять друг другу, но при этом и дополняют друг друга<sup class=\"reference\" id=\"cite_ref-10\"><a href=\"#cite_note-10\">[9]</a></sup>.\n",
       "</p>, <p>Философия включает в себя множество предметных областей, от <a href=\"/wiki/%D0%9C%D0%B5%D1%82%D0%B0%D1%84%D0%B8%D0%B7%D0%B8%D0%BA%D0%B0\" title=\"Метафизика\">метафизики</a>, <a href=\"/wiki/%D0%AD%D0%BF%D0%B8%D1%81%D1%82%D0%B5%D0%BC%D0%BE%D0%BB%D0%BE%D0%B3%D0%B8%D1%8F\" title=\"Эпистемология\">эпистемологии</a>, <a href=\"/wiki/%D0%AD%D1%82%D0%B8%D0%BA%D0%B0\" title=\"Этика\">этики</a>, <a href=\"/wiki/%D0%AD%D1%81%D1%82%D0%B5%D1%82%D0%B8%D0%BA%D0%B0\" title=\"Эстетика\">эстетики</a>, <a href=\"/wiki/%D0%9F%D0%BE%D0%BB%D0%B8%D1%82%D0%B8%D1%87%D0%B5%D1%81%D0%BA%D0%B0%D1%8F_%D1%84%D0%B8%D0%BB%D0%BE%D1%81%D0%BE%D1%84%D0%B8%D1%8F\" title=\"Политическая философия\">политической философии</a> и <a href=\"/wiki/%D0%A4%D0%B8%D0%BB%D0%BE%D1%81%D0%BE%D1%84%D0%B8%D1%8F_%D0%BD%D0%B0%D1%83%D0%BA%D0%B8\" title=\"Философия науки\">философии науки</a> до <a class=\"extiw\" href=\"https://en.wikipedia.org/wiki/Philosophy_of_design\" title=\"en:Philosophy of design\">философии дизайна</a><span style=\"white-space: nowrap\"><span class=\"noprint\" style=\"font-size:95%; position: relative; top: .4em;\"> <span class=\"ref-info\" style=\"cursor:help;\" title=\"на английском языке\">(англ.)</span></span><span class=\"link-ru metadata noprint\" style=\"font-size:80%; margin-left:-1.7em; position: relative; top: -.4em;\"><a class=\"new\" href=\"/w/index.php?title=%D0%A4%D0%B8%D0%BB%D0%BE%D1%81%D0%BE%D1%84%D0%B8%D1%8F_%D0%B4%D0%B8%D0%B7%D0%B0%D0%B9%D0%BD%D0%B0&amp;action=edit&amp;redlink=1\" title=\"Философия дизайна (страница отсутствует)\">русск.</a></span></span> и <a class=\"extiw\" href=\"https://en.wikipedia.org/wiki/Philosophy_of_film\" title=\"en:Philosophy of film\">философии кино</a><span style=\"white-space: nowrap\"><span class=\"noprint\" style=\"font-size:95%; position: relative; top: .4em;\"> <span class=\"ref-info\" style=\"cursor:help;\" title=\"на английском языке\">(англ.)</span></span><span class=\"link-ru metadata noprint\" style=\"font-size:80%; margin-left:-1.7em; position: relative; top: -.4em;\"><a class=\"new\" href=\"/w/index.php?title=%D0%A4%D0%B8%D0%BB%D0%BE%D1%81%D0%BE%D1%84%D0%B8%D1%8F_%D0%BA%D0%B8%D0%BD%D0%BE&amp;action=edit&amp;redlink=1\" title=\"Философия кино (страница отсутствует)\">русск.</a></span></span>. \n",
       "</p>, <p>Те области познания, для которых удаётся выработать ясную и работоспособную методологическую <a href=\"/wiki/%D0%9F%D0%B0%D1%80%D0%B0%D0%B4%D0%B8%D0%B3%D0%BC%D0%B0_(%D1%84%D0%B8%D0%BB%D0%BE%D1%81%D0%BE%D1%84%D0%B8%D1%8F)\" title=\"Парадигма (философия)\">парадигму</a>, выделяются из философии в научные дисциплины, как, например, в своё время из философии выделились <a href=\"/wiki/%D0%A4%D0%B8%D0%B7%D0%B8%D0%BA%D0%B0\" title=\"Физика\">физика</a>, <a href=\"/wiki/%D0%91%D0%B8%D0%BE%D0%BB%D0%BE%D0%B3%D0%B8%D1%8F\" title=\"Биология\">биология</a> и <a href=\"/wiki/%D0%9F%D1%81%D0%B8%D1%85%D0%BE%D0%BB%D0%BE%D0%B3%D0%B8%D1%8F\" title=\"Психология\">психология</a><sup class=\"reference\" id=\"cite_ref-_1b1e17f88c9f7758_7-2\"><a href=\"#cite_note-_1b1e17f88c9f7758-7\">[7]</a></sup><sup class=\"reference\" id=\"cite_ref-_9ca10da044bb7912_11-0\"><a href=\"#cite_note-_9ca10da044bb7912-11\">[10]</a></sup>.\n",
       "</p>, <p>Слово «философия» заимствовано у <a href=\"/wiki/%D0%94%D1%80%D0%B5%D0%B2%D0%BD%D0%B5%D0%B3%D1%80%D0%B5%D1%87%D0%B5%D1%81%D0%BA%D0%B0%D1%8F_%D1%84%D0%B8%D0%BB%D0%BE%D1%81%D0%BE%D1%84%D0%B8%D1%8F\" title=\"Древнегреческая философия\">древнегреческих философов</a>. Известный <a class=\"mw-redirect\" href=\"/wiki/%D0%A4%D0%B8%D0%BB%D0%BE%D0%BB%D0%BE%D0%B3\" title=\"Филолог\">филолог</a> и <a href=\"/wiki/%D0%90%D0%BD%D1%82%D0%B8%D0%BA%D0%BE%D0%B2%D0%B5%D0%B4%D0%B5%D0%BD%D0%B8%D0%B5\" title=\"Антиковедение\">историк античности</a> <a href=\"/wiki/%D0%94%D0%B8%D0%BB%D1%8C%D1%81,_%D0%93%D0%B5%D1%80%D0%BC%D0%B0%D0%BD\" title=\"Дильс, Герман\">Герман Дильс</a> указывает, что самое раннее употребление существительного <a class=\"extiw\" href=\"https://ru.wiktionary.org/wiki/%CF%86%CE%B9%CE%BB%CE%BF%CF%83%CE%BF%CF%86%CE%AF%CE%B1#Древнегреческий\" title=\"wikt:φιλοσοφία\">φιλοσοφία</a> и глагола φιλοσοφέω в дошедших до нас текстах встречается у историков <a href=\"/wiki/%D0%93%D0%B5%D1%80%D0%BE%D0%B4%D0%BE%D1%82\" title=\"Геродот\">Геродота</a> и <a href=\"/wiki/%D0%A4%D1%83%D0%BA%D0%B8%D0%B4%D0%B8%D0%B4\" title=\"Фукидид\">Фукидида</a> в связи с существительными σοφός и σοφιστής<sup class=\"reference\" id=\"cite_ref-12\"><a href=\"#cite_note-12\">[11]</a></sup>. Только у <a href=\"/wiki/%D0%A1%D0%BE%D0%BA%D1%80%D0%B0%D1%82\" title=\"Сократ\">Сократа</a> это слово превращается в специальный термин в значении, близком к современному.\n",
       "</p>, <p>... все другие науки более необходимы, чем она, но лучше нет ни одной\n",
       "</p>, <p><a href=\"/wiki/%D0%A1%D0%BE%D1%86%D0%B8%D0%B0%D0%BB%D0%B8%D0%B7%D0%B0%D1%86%D0%B8%D1%8F\" title=\"Социализация\">Социализированный</a> человек в норме обладает сложившимся жизненно-практическим миропониманием<sup class=\"reference\" id=\"cite_ref-13\"><a href=\"#cite_note-13\">[12]</a></sup>. Как правило, оно <a href=\"/wiki/%D0%98%D0%BC%D0%BF%D0%BB%D0%B8%D1%86%D0%B8%D1%82%D0%BD%D0%BE%D0%B5_%D0%BD%D0%B0%D1%83%D1%87%D0%B5%D0%BD%D0%B8%D0%B5\" title=\"Имплицитное научение\">складывается стихийно</a>, опираясь на <a href=\"/wiki/%D0%A2%D1%80%D0%B0%D0%B4%D0%B8%D1%86%D0%B8%D1%8F\" title=\"Традиция\">опыт предыдущих поколений</a>. Однако человек в своей жизни может столкнуться с проблемами, с которыми его мировоззрение не справляется. Для их решения, как на уровне человека, так и на уровне общества<sup class=\"reference\" id=\"cite_ref-14\"><a href=\"#cite_note-14\">[13]</a></sup>, может потребоваться более высокий, <a href=\"/wiki/%D0%9A%D1%80%D0%B8%D1%82%D0%B8%D1%87%D0%B5%D1%81%D0%BA%D0%BE%D0%B5_%D0%BC%D1%8B%D1%88%D0%BB%D0%B5%D0%BD%D0%B8%D0%B5\" title=\"Критическое мышление\">критико</a>-<a href=\"/wiki/%D0%A0%D0%B5%D1%84%D0%BB%D0%B5%D0%BA%D1%81%D0%B8%D1%8F_(%D1%84%D0%B8%D0%BB%D0%BE%D1%81%D0%BE%D1%84%D0%B8%D1%8F)\" title=\"Рефлексия (философия)\">рефлексивный</a> уровень отношения к миру. На этом уровне находится философия.\n",
       "</p>, <p>Точное определение философии является само по себе открытым философским вопросом<sup class=\"reference\" id=\"cite_ref-_5c8ab40a2b354d34_8-1\"><a href=\"#cite_note-_5c8ab40a2b354d34-8\">[8]</a></sup>. Это связано с тем, что и предмет изучения в философии конкретно не определён — философия рассматривает всё, что может быть <a href=\"/wiki/%D0%9F%D1%80%D0%BE%D0%B1%D0%BB%D0%B5%D0%BC%D0%B0\" title=\"Проблема\">проблематизировано</a>, в том числе и саму <a href=\"/wiki/%D0%9C%D0%B5%D1%82%D0%BE%D0%B4%D0%BE%D0%BB%D0%BE%D0%B3%D0%B8%D1%8F\" title=\"Методология\">методологию</a> познания (в рамках <a href=\"/wiki/%D0%AD%D0%BF%D0%B8%D1%81%D1%82%D0%B5%D0%BC%D0%BE%D0%BB%D0%BE%D0%B3%D0%B8%D1%8F\" title=\"Эпистемология\">эпистемологии</a>). В рамках учений разных философских школ, образовавшихся за время существования философии, можно дать разные определения того, что есть философия. Поэтому в определённом смысле определение философии зависит от эпохи<sup class=\"reference\" id=\"cite_ref-_44db6934c5d4e329_15-0\"><a href=\"#cite_note-_44db6934c5d4e329-15\">[14]</a></sup>.\n",
       "</p>, <p>С другой стороны, у философии существует важный объединяющий принцип — любое философское рассуждение, какими бы неожиданными ни были его <a class=\"mw-redirect\" href=\"/wiki/%D0%9F%D1%80%D0%B5%D0%B4%D0%BF%D0%BE%D1%81%D1%8B%D0%BB%D0%BA%D0%B0\" title=\"Предпосылка\">посылки</a>, тем не менее строится <a href=\"/wiki/%D0%A0%D0%B0%D1%86%D0%B8%D0%BE%D0%BD%D0%B0%D0%BB%D1%8C%D0%BD%D0%BE%D1%81%D1%82%D1%8C\" title=\"Рациональность\">рационально</a>: <a class=\"mw-redirect\" href=\"/wiki/%D0%9E%D1%81%D0%BC%D1%8B%D1%81%D0%BB%D0%B5%D0%BD%D0%BD%D0%BE%D1%81%D1%82%D1%8C\" title=\"Осмысленность\">осмысленно</a>, в соответствии с некими принципами мышления, как пример, <a href=\"/wiki/%D0%9B%D0%BE%D0%B3%D0%B8%D0%BA%D0%B0\" title=\"Логика\">логикой</a>. Рациональность рассуждения отличает философское <a class=\"mw-redirect\" href=\"/wiki/%D0%9C%D1%8B%D1%88%D0%BB%D0%B5%D0%BD%D0%B8%D0%B5_(%D1%84%D0%B8%D0%BB%D0%BE%D1%81%D0%BE%D1%84%D0%B8%D1%8F)\" title=\"Мышление (философия)\">мышление</a> от <a href=\"/wiki/%D0%9C%D0%B8%D1%84\" title=\"Миф\">мифологического</a> мышления и <a href=\"/wiki/%D0%A0%D0%B5%D0%BB%D0%B8%D0%B3%D0%B8%D1%8F\" title=\"Религия\">религиозного</a> мышления, в котором подразумевается <a class=\"mw-redirect\" href=\"/wiki/%D0%A1%D1%83%D0%BF%D1%80%D0%B0%D0%BD%D0%B0%D1%82%D1%83%D1%80%D0%B0%D0%BB%D0%B8%D0%B7%D0%BC\" title=\"Супранатурализм\">супранатурализм</a> и <a href=\"/wiki/%D0%A1%D0%B2%D0%B5%D1%80%D1%85%D1%8A%D0%B5%D1%81%D1%82%D0%B5%D1%81%D1%82%D0%B2%D0%B5%D0%BD%D0%BD%D0%BE%D0%B5\" title=\"Сверхъестественное\">сверхъестественное</a>, то есть <a href=\"/wiki/%D0%98%D1%80%D1%80%D0%B0%D1%86%D0%B8%D0%BE%D0%BD%D0%B0%D0%BB%D0%B8%D0%B7%D0%BC\" title=\"Иррационализм\">иррациональное</a><span class=\"nowrap\"><sup class=\"reference\" id=\"cite_ref-_e06857d9a694f856_16-0\"><a href=\"#cite_note-_e06857d9a694f856-16\">[15]</a></sup><sup class=\"reference\" id=\"cite_ref-_4f7ff2b57bf243c6_17-0\"><a href=\"#cite_note-_4f7ff2b57bf243c6-17\">[16]</a></sup><sup class=\"reference\" id=\"cite_ref-_b1940654a4a8ecd4_18-0\"><a href=\"#cite_note-_b1940654a4a8ecd4-18\">[17]</a></sup></span>. Это, однако, не означает, что философия не допускает сосуществования, например, с религией. Напротив, распространены ситуации, когда какая-нибудь религия принималась в качестве предпосылки философской системы, и рациональный философский аппарат использовался далее для развития тех областей знания, которые не были покрыты <a href=\"/wiki/%D0%A6%D0%B5%D1%80%D0%BA%D0%BE%D0%B2%D0%BD%D1%8B%D0%B9_%D0%BA%D0%B0%D0%BD%D0%BE%D0%BD\" title=\"Церковный канон\">каноном</a> этой религии<sup class=\"reference\" id=\"cite_ref-_3d5e3acb7a080701_19-0\"><a href=\"#cite_note-_3d5e3acb7a080701-19\">[18]</a></sup>. Например, <a href=\"/wiki/%D0%A4%D0%B8%D0%BB%D0%BE%D1%81%D0%BE%D1%84%D0%B8%D1%8F_%D0%B8%D0%BD%D0%B4%D1%83%D0%B8%D0%B7%D0%BC%D0%B0\" title=\"Философия индуизма\">древнеиндийская философия</a> истолковывала <a href=\"/wiki/%D0%92%D0%B5%D0%B4%D1%8B\" title=\"Веды\">Веды</a>, а <a href=\"/wiki/%D0%A1%D1%80%D0%B5%D0%B4%D0%BD%D0%B5%D0%B2%D0%B5%D0%BA%D0%BE%D0%B2%D0%B0%D1%8F_%D1%84%D0%B8%D0%BB%D0%BE%D1%81%D0%BE%D1%84%D0%B8%D1%8F\" title=\"Средневековая философия\">средневековые философы</a> Европы (<a href=\"/wiki/%D0%90%D0%B2%D1%80%D0%B5%D0%BB%D0%B8%D0%B9_%D0%90%D0%B2%D0%B3%D1%83%D1%81%D1%82%D0%B8%D0%BD\" title=\"Аврелий Августин\">Блаженный Августин</a>, <a href=\"/wiki/%D0%A4%D0%BE%D0%BC%D0%B0_%D0%90%D0%BA%D0%B2%D0%B8%D0%BD%D1%81%D0%BA%D0%B8%D0%B9\" title=\"Фома Аквинский\">Фома Аквинский</a> и другие) истолковывали <a href=\"/wiki/%D0%91%D0%B8%D0%B1%D0%BB%D0%B8%D1%8F\" title=\"Библия\">Библию</a>. Распространены также случаи, когда философское мышление использовалось для попыток доказать справедливость какой-нибудь религии или же, в более общем смысле, доказать существование Бога. Например, <a href=\"/wiki/%D0%90%D0%BF%D0%BE%D0%BB%D0%BE%D0%B3%D0%B5%D1%82\" title=\"Апологет\">апологеты</a> старались рационально обосновать <a href=\"/wiki/%D0%A5%D1%80%D0%B8%D1%81%D1%82%D0%B8%D0%B0%D0%BD%D1%81%D1%82%D0%B2%D0%BE\" title=\"Христианство\">христианство</a>.\n",
       "</p>, <p>Помимо логики ещё один приём философского мышления обеспечивает целостность философии. Каждое новое течение в философии, новая идея или новая философская школа соотносит себя с предшествующими философскими концепциями, предоставляя <a class=\"extiw\" href=\"https://en.wikipedia.org/wiki/Critique\" title=\"en:Critique\">критический анализ</a><span style=\"white-space: nowrap\"><span class=\"noprint\" style=\"font-size:95%; position: relative; top: .4em;\"> <span class=\"ref-info\" style=\"cursor:help;\" title=\"на английском языке\">(англ.)</span></span><span class=\"link-ru metadata noprint\" style=\"font-size:80%; margin-left:-1.7em; position: relative; top: -.4em;\"><a class=\"new\" href=\"/w/index.php?title=%D0%9A%D1%80%D0%B8%D1%82%D0%B8%D1%87%D0%B5%D1%81%D0%BA%D0%B8%D0%B9_%D0%B0%D0%BD%D0%B0%D0%BB%D0%B8%D0%B7&amp;action=edit&amp;redlink=1\" title=\"Критический анализ (страница отсутствует)\">русск.</a></span></span> этих концепций в рамках своей новой <a href=\"/wiki/%D0%9F%D0%B0%D1%80%D0%B0%D0%B4%D0%B8%D0%B3%D0%BC%D0%B0_(%D1%84%D0%B8%D0%BB%D0%BE%D1%81%D0%BE%D1%84%D0%B8%D1%8F)\" title=\"Парадигма (философия)\">парадигмы</a><sup class=\"reference\" id=\"cite_ref-_5269c1e1c964aeb6_20-0\"><a href=\"#cite_note-_5269c1e1c964aeb6-20\">[19]</a></sup>. Например, знаменитая работа <a href=\"/wiki/%D0%9A%D0%B0%D0%BD%D1%82,_%D0%98%D0%BC%D0%BC%D0%B0%D0%BD%D1%83%D0%B8%D0%BB\" title=\"Кант, Иммануил\">Иммануила Канта</a>, «<a href=\"/wiki/%D0%9A%D1%80%D0%B8%D1%82%D0%B8%D0%BA%D0%B0_%D1%87%D0%B8%D1%81%D1%82%D0%BE%D0%B3%D0%BE_%D1%80%D0%B0%D0%B7%D1%83%D0%BC%D0%B0\" title=\"Критика чистого разума\">Критика чистого разума</a>» содержит критический анализ концепций <a href=\"/wiki/%D0%A0%D0%B0%D1%86%D0%B8%D0%BE%D0%BD%D0%B0%D0%BB%D0%B8%D0%B7%D0%BC_(%D1%84%D0%B8%D0%BB%D0%BE%D1%81%D0%BE%D1%84%D0%B8%D1%8F)\" title=\"Рационализм (философия)\">рационализма</a> и <a href=\"/wiki/%D0%AD%D0%BC%D0%BF%D0%B8%D1%80%D0%B8%D0%B7%D0%BC\" title=\"Эмпиризм\">эмпиризма</a>. Таким образом, логика и критический анализ являются столпами философского мышления и обеспечивают целостность философии.\n",
       "</p>, <p>Вместе с этим расплывчатость определения философии является её характерной особенностью и отделяет философию от наук. Если философам в какой-либо области удаётся совершить прорыв, обнаружив эффективную методологию <a href=\"/wiki/%D0%9F%D0%BE%D0%B7%D0%BD%D0%B0%D0%BD%D0%B8%D0%B5\" title=\"Познание\">познания</a>, которая может быть усвоена без привлечения философии, то эта область обычно отделяется от философии в самостоятельную дисциплину. Так, успешное применение <a href=\"/wiki/%D0%9D%D0%B0%D1%83%D1%87%D0%BD%D1%8B%D0%B9_%D0%BC%D0%B5%D1%82%D0%BE%D0%B4\" title=\"Научный метод\">научного метода познания</a> к различным классам природных объектов окончательно отделило от философии часть <a href=\"/wiki/%D0%9D%D0%B0%D1%82%D1%83%D1%80%D1%84%D0%B8%D0%BB%D0%BE%D1%81%D0%BE%D1%84%D0%B8%D1%8F\" title=\"Натурфилософия\">натурфилософии</a>, которая впоследствии распалась на вереницу <a href=\"/wiki/%D0%95%D1%81%D1%82%D0%B5%D1%81%D1%82%D0%B2%D0%B5%D0%BD%D0%BD%D1%8B%D0%B5_%D0%BD%D0%B0%D1%83%D0%BA%D0%B8\" title=\"Естественные науки\">естественных наук</a><sup class=\"reference\" id=\"cite_ref-_1b1e17f88c9f7758_7-3\"><a href=\"#cite_note-_1b1e17f88c9f7758-7\">[7]</a></sup><sup class=\"reference\" id=\"cite_ref-_8cfbcfb59f0304ab_21-0\"><a href=\"#cite_note-_8cfbcfb59f0304ab-21\">[20]</a></sup>. Например, <a href=\"/wiki/%D0%9D%D1%8C%D1%8E%D1%82%D0%BE%D0%BD,_%D0%98%D1%81%D0%B0%D0%B0%D0%BA\" title=\"Ньютон, Исаак\">Исаак Ньютон</a> написал свою фундаментальную работу «<a href=\"/wiki/%D0%9C%D0%B0%D1%82%D0%B5%D0%BC%D0%B0%D1%82%D0%B8%D1%87%D0%B5%D1%81%D0%BA%D0%B8%D0%B5_%D0%BD%D0%B0%D1%87%D0%B0%D0%BB%D0%B0_%D0%BD%D0%B0%D1%82%D1%83%D1%80%D0%B0%D0%BB%D1%8C%D0%BD%D0%BE%D0%B9_%D1%84%D0%B8%D0%BB%D0%BE%D1%81%D0%BE%D1%84%D0%B8%D0%B8\" title=\"Математические начала натуральной философии\">Математические начала натуральной философии</a>», будучи, по его собственным представлениям, философом, а в настоящее время известен как физик и математик. Вся англоязычная наука до сих пор сохраняет следы своего родства с философией, например, в том, что во всех её дисциплинах высшая учёная степень носит название «<a href=\"/wiki/%D0%94%D0%BE%D0%BA%D1%82%D0%BE%D1%80_%D1%84%D0%B8%D0%BB%D0%BE%D1%81%D0%BE%D1%84%D0%B8%D0%B8\" title=\"Доктор философии\">Доктор философии</a>» (<a href=\"/wiki/%D0%90%D0%BD%D0%B3%D0%BB%D0%B8%D0%B9%D1%81%D0%BA%D0%B8%D0%B9_%D1%8F%D0%B7%D1%8B%D0%BA\" title=\"Английский язык\">англ.</a> <span lang=\"en\" style=\"font-style:italic;\">Ph.D.</span>)<sup class=\"reference\" id=\"cite_ref-_e4d74d26f23fee1c_22-0\"><a href=\"#cite_note-_e4d74d26f23fee1c-22\">[21]</a></sup>.\n",
       "</p>, <p>По мнению <a class=\"mw-redirect\" href=\"/wiki/%D0%9B%D0%B5%D0%BD%D0%B8%D0%BD\" title=\"Ленин\">Ленина</a>, высказанному в его труде «<a href=\"/wiki/%D0%9C%D0%B0%D1%82%D0%B5%D1%80%D0%B8%D0%B0%D0%BB%D0%B8%D0%B7%D0%BC_%D0%B8_%D1%8D%D0%BC%D0%BF%D0%B8%D1%80%D0%B8%D0%BE%D0%BA%D1%80%D0%B8%D1%82%D0%B8%D1%86%D0%B8%D0%B7%D0%BC\" title=\"Материализм и эмпириокритицизм\">Материализм и эмпириокритицизм</a>», «…за гносеологической схоластикой <a href=\"/wiki/%D0%AD%D0%BC%D0%BF%D0%B8%D1%80%D0%B8%D0%BE%D0%BA%D1%80%D0%B8%D1%82%D0%B8%D1%86%D0%B8%D0%B7%D0%BC\" title=\"Эмпириокритицизм\">эмпириокритицизма</a> нельзя не видеть борьбы партий в философии, борьбы, которая в последнем счёте выражает тенденции и идеологию враждебных классов современного общества. Новейшая философия так же партийна, как и две тысячи лет тому назад. Борющимися партиями по сути дела… являются <a href=\"/wiki/%D0%9C%D0%B0%D1%82%D0%B5%D1%80%D0%B8%D0%B0%D0%BB%D0%B8%D0%B7%D0%BC\" title=\"Материализм\">материализм</a> и <a href=\"/wiki/%D0%98%D0%B4%D0%B5%D0%B0%D0%BB%D0%B8%D0%B7%D0%BC\" title=\"Идеализм\">идеализм</a>»<sup class=\"reference\" id=\"cite_ref-23\"><a href=\"#cite_note-23\">[22]</a></sup>.\n",
       "</p>, <p>Дальнейшая конкретизация определения философии переходит к описанию её различных отделов<sup class=\"reference\" id=\"cite_ref-_5c8ab40a2b354d34_8-2\"><a href=\"#cite_note-_5c8ab40a2b354d34-8\">[8]</a></sup>. Философия подразделяется по двум основным измерениям: по предметам изучения и по «типам», то есть по различным школам и концепциям.\n",
       "</p>, <p>Первое измерение выделяет области применения философии<style data-mw-deduplicate=\"TemplateStyles:r104609042\">.mw-parser-output .ts-Переход img{margin-left:.285714em}</style><span class=\"ts-Переход noprint\" title=\"#Сегментация философии по предмету изучения\"><sup><a href=\"#Сегментация_философии_по_предмету_изучения\">[⇨]</a></sup></span>. Разумеется, провести такое деление можно по-разному<sup class=\"reference\" id=\"cite_ref-_42c56fc86b34036f_24-0\"><a href=\"#cite_note-_42c56fc86b34036f-24\">[23]</a></sup>. Одной из наиболее крупных таких сегментаций является разделение философии на <a href=\"/wiki/%D0%9C%D0%B5%D1%82%D0%B0%D1%84%D0%B8%D0%B7%D0%B8%D0%BA%D0%B0\" title=\"Метафизика\">метафизику</a> (вопросы <a class=\"mw-redirect\" href=\"/wiki/%D0%91%D1%8B%D1%82%D0%B8%D0%B5_(%D1%84%D0%B8%D0%BB%D0%BE%D1%81%D0%BE%D1%84%D0%B8%D1%8F)\" title=\"Бытие (философия)\">бытия</a>, существования), <a href=\"/wiki/%D0%AD%D0%BF%D0%B8%D1%81%D1%82%D0%B5%D0%BC%D0%BE%D0%BB%D0%BE%D0%B3%D0%B8%D1%8F\" title=\"Эпистемология\">эпистемологию</a> (вопросы <a href=\"/wiki/%D0%9F%D0%BE%D0%B7%D0%BD%D0%B0%D0%BD%D0%B8%D0%B5\" title=\"Познание\">познания</a>) и <a href=\"/wiki/%D0%90%D0%BA%D1%81%D0%B8%D0%BE%D0%BB%D0%BE%D0%B3%D0%B8%D1%8F\" title=\"Аксиология\">аксиологию</a> (вопросы ценностей и морали)<sup class=\"reference\" id=\"cite_ref-_44db6934c5d4e329_15-1\"><a href=\"#cite_note-_44db6934c5d4e329-15\">[14]</a></sup>. Иначе, в более классическом варианте, помимо трёх областей, перечисленных выше, в отдельные предметы выделяются также <a href=\"/wiki/%D0%9B%D0%BE%D0%B3%D0%B8%D0%BA%D0%B0\" title=\"Логика\">логика</a> (совершенствование рационального философского аппарата) и <a href=\"/wiki/%D0%98%D1%81%D1%82%D0%BE%D1%80%D0%B8%D1%8F_%D1%84%D0%B8%D0%BB%D0%BE%D1%81%D0%BE%D1%84%D0%B8%D0%B8\" title=\"История философии\">история философии</a> (<a class=\"extiw\" href=\"https://en.wikipedia.org/wiki/Critique\" title=\"en:Critique\">критический анализ</a><span style=\"white-space: nowrap\"><span class=\"noprint\" style=\"font-size:95%; position: relative; top: .4em;\"> <span class=\"ref-info\" style=\"cursor:help;\" title=\"на английском языке\">(англ.)</span></span><span class=\"link-ru metadata noprint\" style=\"font-size:80%; margin-left:-1.7em; position: relative; top: -.4em;\"><a class=\"new\" href=\"/w/index.php?title=%D0%9A%D1%80%D0%B8%D1%82%D0%B8%D1%87%D0%B5%D1%81%D0%BA%D0%B8%D0%B9_%D0%B0%D0%BD%D0%B0%D0%BB%D0%B8%D0%B7&amp;action=edit&amp;redlink=1\" title=\"Критический анализ (страница отсутствует)\">русск.</a></span></span> философских концепций прошлого)<sup class=\"reference\" id=\"cite_ref-_5c8ab40a2b354d34_8-3\"><a href=\"#cite_note-_5c8ab40a2b354d34-8\">[8]</a></sup>. К <a href=\"/wiki/%D0%90%D1%80%D0%B8%D1%81%D1%82%D0%BE%D1%82%D0%B5%D0%BB%D1%8C\" title=\"Аристотель\">Аристотелю</a> восходит разделение философии на теоретическую, практическую и поэтическую (творческую)<sup class=\"reference\" id=\"cite_ref-25\"><a href=\"#cite_note-25\">[24]</a></sup>.\n",
       "</p>, <p>Второе измерение выделяет различные философские школы и методологии<link href=\"mw-data:TemplateStyles:r104609042\" rel=\"mw-deduplicated-inline-style\"/><span class=\"ts-Переход noprint\" title=\"#Сегментация по философским школам. История философии\"><sup><a href=\"#Сегментация_по_философским_школам._История_философии\">[⇨]</a></sup></span>. Наиболее крупным таким разделением является, например, выделение в отдельный сегмент всей <a href=\"/wiki/%D0%97%D0%B0%D0%BF%D0%B0%D0%B4%D0%BD%D0%B0%D1%8F_%D1%84%D0%B8%D0%BB%D0%BE%D1%81%D0%BE%D1%84%D0%B8%D1%8F\" title=\"Западная философия\">западной философии</a>, то есть совокупности <a href=\"/wiki/%D0%90%D0%BD%D1%82%D0%B8%D1%87%D0%BD%D0%B0%D1%8F_%D1%84%D0%B8%D0%BB%D0%BE%D1%81%D0%BE%D1%84%D0%B8%D1%8F\" title=\"Античная философия\">античной философии</a> и всех философских школ и направлений, впоследствии возникших в <a href=\"/wiki/%D0%97%D0%B0%D0%BF%D0%B0%D0%B4%D0%BD%D0%B0%D1%8F_%D0%95%D0%B2%D1%80%D0%BE%D0%BF%D0%B0\" title=\"Западная Европа\">Западной Европе</a> и в <a href=\"/wiki/%D0%A1%D0%BE%D0%B5%D0%B4%D0%B8%D0%BD%D1%91%D0%BD%D0%BD%D1%8B%D0%B5_%D0%A8%D1%82%D0%B0%D1%82%D1%8B_%D0%90%D0%BC%D0%B5%D1%80%D0%B8%D0%BA%D0%B8\" title=\"Соединённые Штаты Америки\">США</a>, включая, например, <a href=\"/wiki/%D0%9D%D0%B5%D0%BC%D0%B5%D1%86%D0%BA%D0%B8%D0%B9_%D0%B8%D0%B4%D0%B5%D0%B0%D0%BB%D0%B8%D0%B7%D0%BC\" title=\"Немецкий идеализм\">немецкую классическую философию</a>, <a href=\"/wiki/%D0%A4%D1%80%D0%B0%D0%BD%D1%86%D1%83%D0%B7%D1%81%D0%BA%D0%B0%D1%8F_%D1%84%D0%B8%D0%BB%D0%BE%D1%81%D0%BE%D1%84%D0%B8%D1%8F\" title=\"Французская философия\">французскую философию</a> и др. Исторически, вследствие языковых и пространственных барьеров, различные философские школы оказывались локализованными внутри конкретных стран и народов, как, например, <a href=\"/wiki/%D0%94%D1%80%D0%B5%D0%B2%D0%BD%D0%B5%D0%B3%D1%80%D0%B5%D1%87%D0%B5%D1%81%D0%BA%D0%B0%D1%8F_%D1%84%D0%B8%D0%BB%D0%BE%D1%81%D0%BE%D1%84%D0%B8%D1%8F\" title=\"Древнегреческая философия\">древнегреческая философия</a>, <a href=\"/wiki/%D0%9A%D0%B8%D1%82%D0%B0%D0%B9%D1%81%D0%BA%D0%B0%D1%8F_%D1%84%D0%B8%D0%BB%D0%BE%D1%81%D0%BE%D1%84%D0%B8%D1%8F\" title=\"Китайская философия\">китайская философия</a> или <a href=\"/wiki/%D0%9D%D0%B5%D0%BC%D0%B5%D1%86%D0%BA%D0%B0%D1%8F_%D1%84%D0%B8%D0%BB%D0%BE%D1%81%D0%BE%D1%84%D0%B8%D1%8F\" title=\"Немецкая философия\">немецкая философия</a>. Начиная с XVII века с постепенным развитием <a href=\"/wiki/%D0%93%D0%BB%D0%BE%D0%B1%D0%B0%D0%BB%D0%B8%D0%B7%D0%B0%D1%86%D0%B8%D1%8F\" title=\"Глобализация\">глобализации</a> национальные и географические различия стали играть меньшую роль, и различные философские течения, становясь <a href=\"/wiki/%D0%98%D0%BD%D1%82%D0%B5%D1%80%D0%BD%D0%B0%D1%86%D0%B8%D0%BE%D0%BD%D0%B0%D0%BB%D0%B8%D0%B7%D0%BC\" title=\"Интернационализм\">интернациональными</a>, стали получать названия, не привязанные к географии и к культуре, как, например, <a href=\"/wiki/%D0%9C%D0%B0%D1%80%D0%BA%D1%81%D0%B8%D0%B7%D0%BC\" title=\"Марксизм\">марксизм</a>, <a href=\"/wiki/%D0%AD%D0%BA%D0%B7%D0%B8%D1%81%D1%82%D0%B5%D0%BD%D1%86%D0%B8%D0%B0%D0%BB%D0%B8%D0%B7%D0%BC\" title=\"Экзистенциализм\">экзистенциализм</a>, и другие. Вместе с этим на сегодняшний день сохраняются некоторые культурно-языковые различия, формирующие различные философские направления. Одним из важнейших таких разделений является разделение современной философии на <a href=\"/wiki/%D0%9A%D0%BE%D0%BD%D1%82%D0%B8%D0%BD%D0%B5%D0%BD%D1%82%D0%B0%D0%BB%D1%8C%D0%BD%D0%B0%D1%8F_%D1%84%D0%B8%D0%BB%D0%BE%D1%81%D0%BE%D1%84%D0%B8%D1%8F\" title=\"Континентальная философия\">континентальную философию</a>, включающую в себя главным образом работы <a href=\"/wiki/%D0%A4%D1%80%D0%B0%D0%BD%D1%86%D0%B8%D1%8F\" title=\"Франция\">французских</a> и <a href=\"/wiki/%D0%93%D0%B5%D1%80%D0%BC%D0%B0%D0%BD%D0%B8%D1%8F\" title=\"Германия\">немецких</a> современных философов, и <a href=\"/wiki/%D0%90%D0%BD%D0%B0%D0%BB%D0%B8%D1%82%D0%B8%D1%87%D0%B5%D1%81%D0%BA%D0%B0%D1%8F_%D1%84%D0%B8%D0%BB%D0%BE%D1%81%D0%BE%D1%84%D0%B8%D1%8F\" title=\"Аналитическая философия\">аналитическую философию</a>, которая преимущественно развивается в <a href=\"/wiki/%D0%90%D0%BD%D0%B3%D0%BB%D0%B8%D0%B9%D1%81%D0%BA%D0%B8%D0%B9_%D1%8F%D0%B7%D1%8B%D0%BA\" title=\"Английский язык\">англоязычных</a> странах.\n",
       "</p>, <p>Начиная с <a href=\"/wiki/%D0%90%D0%BD%D1%82%D0%B8%D1%87%D0%BD%D0%BE%D1%81%D1%82%D1%8C\" title=\"Античность\">античности</a>, философия получает универсальное значение особого <a href=\"/wiki/%D0%96%D0%B8%D0%B7%D0%BD%D1%8C\" title=\"Жизнь\">жизненного</a> пути, принадлежность к разным философским школам требует от <a href=\"/wiki/%D0%90%D0%B4%D0%B5%D0%BF%D1%82\" title=\"Адепт\">адептов</a> приверженности разным жизненным стилям<sup class=\"reference\" id=\"cite_ref-26\"><a href=\"#cite_note-26\">[25]</a></sup>.\n",
       "</p>, <p>Поскольку философия состоит из рациональных рассуждений, логика является первичным атрибутом философии. Для анализа различных философских концепций, для их сопоставления друг с другом необходимо проведение <a class=\"extiw\" href=\"https://en.wikipedia.org/wiki/Critique\" title=\"en:Critique\">критического анализа</a><span style=\"white-space: nowrap\"><span class=\"noprint\" style=\"font-size:95%; position: relative; top: .4em;\"> <span class=\"ref-info\" style=\"cursor:help;\" title=\"на английском языке\">(англ.)</span></span><span class=\"link-ru metadata noprint\" style=\"font-size:80%; margin-left:-1.7em; position: relative; top: -.4em;\"><a class=\"new\" href=\"/w/index.php?title=%D0%9A%D1%80%D0%B8%D1%82%D0%B8%D1%87%D0%B5%D1%81%D0%BA%D0%B8%D0%B9_%D0%B0%D0%BD%D0%B0%D0%BB%D0%B8%D0%B7&amp;action=edit&amp;redlink=1\" title=\"Критический анализ (страница отсутствует)\">русск.</a></span></span> различных философских утверждений и теорий. В связи с тем, что человеческое мышление формулируется текстуально, логика тесно связана с анализом текстов и языков. Логика формализует текстуальное рассуждение и определяет его формы, которые приемлемы для анализа. Первым шагом к логической формализации рассуждения послужило выявление <a class=\"mw-disambig\" href=\"/wiki/%D0%A1%D0%B8%D0%BB%D0%BB%D0%BE%D0%B3%D0%B8%D0%B7%D0%BC\" title=\"Силлогизм\">силлогизмов</a>, или рассуждений вида:\n",
       "</p>, <p>Корректное использование силлогизмов открывает дорогу для доказательных рассуждений в философии, в <a href=\"/wiki/%D0%9C%D0%B0%D1%82%D0%B5%D0%BC%D0%B0%D1%82%D0%B8%D0%BA%D0%B0\" title=\"Математика\">математике</a>, в <a href=\"/wiki/%D0%95%D1%81%D1%82%D0%B5%D1%81%D1%82%D0%B2%D0%B5%D0%BD%D0%BD%D1%8B%D0%B5_%D0%BD%D0%B0%D1%83%D0%BA%D0%B8\" title=\"Естественные науки\">естественных науках</a> или для формализации <a href=\"/wiki/%D0%94%D0%B5%D0%B4%D1%83%D0%BA%D1%82%D0%B8%D0%B2%D0%BD%D0%BE%D0%B5_%D1%83%D0%BC%D0%BE%D0%B7%D0%B0%D0%BA%D0%BB%D1%8E%D1%87%D0%B5%D0%BD%D0%B8%D0%B5\" title=\"Дедуктивное умозаключение\">дедуктивного мышления</a>.\n",
       "</p>, <p>При всей своей кажущейся простоте выделение силлогизмов из обычной человеческой речи произошло не сразу и не везде<sup class=\"reference\" id=\"cite_ref-syllogism_27-0\"><a href=\"#cite_note-syllogism-27\">[прим. 2]</a></sup>. Выделению силлогизмов как способа доказательства способствовало сочетание философии и математики, распространённое в <a href=\"/wiki/%D0%94%D1%80%D0%B5%D0%B2%D0%BD%D1%8F%D1%8F_%D0%93%D1%80%D0%B5%D1%86%D0%B8%D1%8F\" title=\"Древняя Греция\">Древней Греции</a>. Первое формальное изложение понятия силлогизма и простейшей логической системы было сделано <a href=\"/wiki/%D0%90%D1%80%D0%B8%D1%81%D1%82%D0%BE%D1%82%D0%B5%D0%BB%D1%8C\" title=\"Аристотель\">Аристотелем</a><link href=\"mw-data:TemplateStyles:r104609042\" rel=\"mw-deduplicated-inline-style\"/><span class=\"ts-Переход noprint\" title=\"#Классическая греческая философия\"><sup><a href=\"#Классическая_греческая_философия\">[⇨]</a></sup></span>. Логика Аристотеля оставалась неизменной две тысячи лет, до начала XX века, когда исследования в математике и <a href=\"/wiki/%D0%90%D0%BD%D0%B0%D0%BB%D0%B8%D1%82%D0%B8%D1%87%D0%B5%D1%81%D0%BA%D0%B0%D1%8F_%D1%84%D0%B8%D0%BB%D0%BE%D1%81%D0%BE%D1%84%D0%B8%D1%8F\" title=\"Аналитическая философия\">аналитической философии</a> открыли дорогу для развития логики<link href=\"mw-data:TemplateStyles:r104609042\" rel=\"mw-deduplicated-inline-style\"/><span class=\"ts-Переход noprint\" title=\"#Совершенствование логики\"><sup><a href=\"#Совершенствование_логики\">[⇨]</a></sup></span>. Была формализована «<a href=\"/wiki/%D0%9B%D0%BE%D0%B3%D0%B8%D0%BA%D0%B0_%D0%BF%D0%B5%D1%80%D0%B2%D0%BE%D0%B3%D0%BE_%D0%BF%D0%BE%D1%80%D1%8F%D0%B4%D0%BA%D0%B0\" title=\"Логика первого порядка\">логика первого порядка</a>» или «логика предикатов», которая к настоящему моменту хорошо изучена. Однако, как оказалось, для полноценного анализа философской аргументации, а тем более естественной человеческой речи требуется применение <a href=\"/wiki/%D0%9C%D0%BE%D0%B4%D0%B0%D0%BB%D1%8C%D0%BD%D0%B0%D1%8F_%D0%BB%D0%BE%D0%B3%D0%B8%D0%BA%D0%B0\" title=\"Модальная логика\">модальной логики</a> и логик более высоких порядков, в частности <a href=\"/wiki/%D0%9B%D0%BE%D0%B3%D0%B8%D0%BA%D0%B0_%D0%B2%D1%82%D0%BE%D1%80%D0%BE%D0%B3%D0%BE_%D0%BF%D0%BE%D1%80%D1%8F%D0%B4%D0%BA%D0%B0\" title=\"Логика второго порядка\">логики второго порядка</a>. Кроме этого взаимосвязь формального символического языка и естественной речи исследуют <a href=\"/wiki/%D0%9B%D0%BE%D0%B3%D0%B8%D1%87%D0%B5%D1%81%D0%BA%D0%B0%D1%8F_%D1%81%D0%B5%D0%BC%D0%B0%D0%BD%D1%82%D0%B8%D0%BA%D0%B0\" title=\"Логическая семантика\">логическая семантика</a> и <a href=\"/wiki/%D0%A1%D0%B5%D0%BC%D0%B8%D0%BE%D1%82%D0%B8%D0%BA%D0%B0\" title=\"Семиотика\">семиотика</a>. Эти дисциплины в совокупности с модальной логикой более высоких порядков продолжают оставаться областью активных междисциплинарных исследований. Современная логика состоит из нетривиальных, глубоко математических концепций, которые изучаются философами, математиками, <a href=\"/wiki/%D0%9B%D0%B8%D0%BD%D0%B3%D0%B2%D0%B8%D1%81%D1%82\" title=\"Лингвист\">лингвистами</a>, а в последнее время ещё и <a href=\"/wiki/%D0%9F%D1%80%D0%BE%D0%B3%D1%80%D0%B0%D0%BC%D0%BC%D0%B8%D1%81%D1%82\" title=\"Программист\">программистами</a> и специалистами в области <a href=\"/wiki/%D0%A2%D0%B5%D0%BE%D1%80%D0%B8%D1%8F_%D0%BF%D1%80%D0%B8%D0%BD%D1%8F%D1%82%D0%B8%D1%8F_%D1%80%D0%B5%D1%88%D0%B5%D0%BD%D0%B8%D0%B9\" title=\"Теория принятия решений\">теории решений</a> и <a href=\"/wiki/%D0%98%D1%81%D0%BA%D1%83%D1%81%D1%81%D1%82%D0%B2%D0%B5%D0%BD%D0%BD%D1%8B%D0%B9_%D0%B8%D0%BD%D1%82%D0%B5%D0%BB%D0%BB%D0%B5%D0%BA%D1%82\" title=\"Искусственный интеллект\">искусственного интеллекта</a>. Логика, таким образом, является как одной из самых древних, так и одной из самых современных дисциплин<sup class=\"reference\" id=\"cite_ref-_b00476dedb9217cf_28-0\"><a href=\"#cite_note-_b00476dedb9217cf-28\">[26]</a></sup>.\n",
       "</p>, <p>Метафизика представляет собой самый абстрактный раздел философии, изучающий наиболее фундаментальные, т. н. «вечные» вопросы, связанные с реальностью. Среди этих фундаментальных вопросов в отдельный класс выделяются вопросы, связанные с <a class=\"mw-redirect\" href=\"/wiki/%D0%91%D1%8B%D1%82%D0%B8%D0%B5_(%D1%84%D0%B8%D0%BB%D0%BE%D1%81%D0%BE%D1%84%D0%B8%D1%8F)\" title=\"Бытие (философия)\">бытием</a>, и эта часть метафизики называется «<a href=\"/wiki/%D0%9E%D0%BD%D1%82%D0%BE%D0%BB%D0%BE%D0%B3%D0%B8%D1%8F\" title=\"Онтология\">онтология</a>». К вопросам бытия в первую очередь относятся такие: «Что в действительности существует?», «Что означает существование?», «Что делает существование возможным?». Более прикладные вопросы бытия включают в себя: «Почему существует мир?», «Существует только один мир?», «Что такое пространство?», «Что такое время?» и др. Хотя понятия <i>онтология</i> и <i>метафизика</i> иногда используются как <a href=\"/wiki/%D0%A1%D0%B8%D0%BD%D0%BE%D0%BD%D0%B8%D0%BC%D1%8B\" title=\"Синонимы\">синонимы</a>, существуют классы метафизических вопросов, которые не связаны с бытием напрямую. К таким проблемам относятся вопросы взаимоотношения между целым и частями, вопросы взаимосвязи между причинами и следствиями, вопросы, связанные сo <a href=\"/wiki/%D0%A1%D0%B2%D0%BE%D0%B1%D0%BE%D0%B4%D0%B0_%D0%B2%D0%BE%D0%BB%D0%B8\" title=\"Свобода воли\">свободой воли</a> и др. Такие вопросы скорее относятся к метафизике, но обычно не к онтологии<sup class=\"reference\" id=\"cite_ref-_44d46434c5cebbde_29-0\"><a href=\"#cite_note-_44d46434c5cebbde-29\">[27]</a></sup>.\n",
       "</p>, <p>Нередко философская система строится вокруг определённого <a href=\"/wiki/%D0%94%D0%BE%D0%B3%D0%BC%D0%B0%D1%82\" title=\"Догмат\">догмата</a>, который она пытается рационализировать. Например, в рамках <a href=\"/wiki/%D0%A5%D1%80%D0%B8%D1%81%D1%82%D0%B8%D0%B0%D0%BD%D1%81%D0%BA%D0%B0%D1%8F_%D1%84%D0%B8%D0%BB%D0%BE%D1%81%D0%BE%D1%84%D0%B8%D1%8F\" title=\"Христианская философия\">христианской философии</a>, <a href=\"/wiki/%D0%98%D1%81%D0%BB%D0%B0%D0%BC%D1%81%D0%BA%D0%B0%D1%8F_%D1%84%D0%B8%D0%BB%D0%BE%D1%81%D0%BE%D1%84%D0%B8%D1%8F\" title=\"Исламская философия\">исламской философии</a> предпринимались попытки доказать существование Бога. Раздел онтологии, который стремится таким образом рационализировать религию называется рациональной или <a href=\"/wiki/%D0%95%D1%81%D1%82%D0%B5%D1%81%D1%82%D0%B2%D0%B5%D0%BD%D0%BD%D0%B0%D1%8F_%D1%82%D0%B5%D0%BE%D0%BB%D0%BE%D0%B3%D0%B8%D1%8F\" title=\"Естественная теология\">естественной теологией</a>. Аналогично, <a class=\"extiw\" href=\"https://de.wikipedia.org/wiki/Rationale_Psychologie\" title=\"de:Rationale Psychologie\">рациональной психологией</a><span style=\"white-space: nowrap\"><span class=\"noprint\" style=\"font-size:95%; position: relative; top: .4em;\"> <span class=\"ref-info\" style=\"cursor:help;\" title=\"на немецком языке\">(нем.)</span></span><span class=\"link-ru metadata noprint\" style=\"font-size:80%; margin-left:-1.7em; position: relative; top: -.4em;\"><a class=\"new\" href=\"/w/index.php?title=%D0%A0%D0%B0%D1%86%D0%B8%D0%BE%D0%BD%D0%B0%D0%BB%D1%8C%D0%BD%D0%B0%D1%8F_%D0%BF%D1%81%D0%B8%D1%85%D0%BE%D0%BB%D0%BE%D0%B3%D0%B8%D1%8F&amp;action=edit&amp;redlink=1\" title=\"Рациональная психология (страница отсутствует)\">русск.</a></span></span> называется часть онтологии, которая выстраивается вокруг убеждения в существовании души отдельно от материального мира. В более общем случае, рационализация любой <a href=\"/wiki/%D0%9A%D0%BE%D1%81%D0%BC%D0%BE%D0%BB%D0%BE%D0%B3%D0%B8%D1%8F\" title=\"Космология\">космологии</a>, называется «рациональной космологией»<sup class=\"reference\" id=\"cite_ref-_93bf50a06c0ea83e_30-0\"><a href=\"#cite_note-_93bf50a06c0ea83e-30\">[28]</a></sup>.\n",
       "</p>, <p>Некоторые философские течения в XX веке поставили под сомнение необходимость занятия чистой метафизикой. Например, с точки зрения <a href=\"/wiki/%D0%9F%D0%BE%D0%B7%D0%B8%D1%82%D0%B8%D0%B2%D0%B8%D0%B7%D0%BC\" title=\"Позитивизм\">позитивистов</a>, в особенности <a href=\"/wiki/%D0%9B%D0%BE%D0%B3%D0%B8%D1%87%D0%B5%D1%81%D0%BA%D0%B8%D0%B9_%D0%BF%D0%BE%D0%B7%D0%B8%D1%82%D0%B8%D0%B2%D0%B8%D0%B7%D0%BC\" title=\"Логический позитивизм\">логических позитивистов</a>, а также с точки зрения многих представителей естественных наук изучать имеет смысл лишь те вопросы, для которых выполняется <a href=\"/wiki/%D0%92%D0%B5%D1%80%D0%B8%D1%84%D0%B8%D0%BA%D0%B0%D1%86%D0%B8%D0%BE%D0%BD%D0%B8%D0%B7%D0%BC\" title=\"Верификационизм\">критерий верификации</a>. Большинство «вечных вопросов» такому критерию не удовлетворяет, и, следовательно, в чистом виде их рассмотрение бессмысленно. С другой стороны, <a href=\"/wiki/%D0%9F%D0%BE%D1%81%D1%82%D1%81%D1%82%D1%80%D1%83%D0%BA%D1%82%D1%83%D1%80%D0%B0%D0%BB%D0%B8%D0%B7%D0%BC\" title=\"Постструктурализм\">постструктуралисты</a>, имеющие прямо противоположные представления о науке и верификации, также критикуют осмысленность метафизики, продолжая традицию <a href=\"/wiki/%D0%A5%D0%B0%D0%B9%D0%B4%D0%B5%D0%B3%D0%B3%D0%B5%D1%80,_%D0%9C%D0%B0%D1%80%D1%82%D0%B8%D0%BD\" title=\"Хайдеггер, Мартин\">Хайдеггера</a> и <a href=\"/wiki/%D0%9D%D0%B8%D1%86%D1%88%D0%B5,_%D0%A4%D1%80%D0%B8%D0%B4%D1%80%D0%B8%D1%85\" title=\"Ницше, Фридрих\">Ницше</a>, считая и метафизику, и философию целиком, и <a href=\"/wiki/%D0%95%D1%81%D1%82%D0%B5%D1%81%D1%82%D0%B2%D0%B5%D0%BD%D0%BD%D1%8B%D0%B5_%D0%BD%D0%B0%D1%83%D0%BA%D0%B8\" title=\"Естественные науки\">естественные науки</a> лишь «временной аберрацией западного сознания»<sup class=\"reference\" id=\"cite_ref-_44d46434c5cebbdd_31-0\"><a href=\"#cite_note-_44d46434c5cebbdd-31\">[29]</a></sup><sup class=\"reference\" id=\"cite_ref-_ed83a810275b7053_32-0\"><a href=\"#cite_note-_ed83a810275b7053-32\">[30]</a></sup>.\n",
       "</p>, <p>Такой сильный разброс позиций критиков оставляет метафизике широкое пространство для манёвра, и в целом в течение последних ста лет интерес к метафизике нарастает<sup class=\"reference\" id=\"cite_ref-_44d46434c5cebbdd_31-1\"><a href=\"#cite_note-_44d46434c5cebbdd-31\">[29]</a></sup>. Метафизические исследования идут внутри разных областей философии, например, внутри <a href=\"/wiki/%D0%A4%D0%B8%D0%BB%D0%BE%D1%81%D0%BE%D1%84%D0%B8%D1%8F_%D0%BD%D0%B0%D1%83%D0%BA%D0%B8\" title=\"Философия науки\">философии науки</a>, <a href=\"/wiki/%D0%A4%D0%B8%D0%BB%D0%BE%D1%81%D0%BE%D1%84%D0%B8%D1%8F_%D1%8F%D0%B7%D1%8B%D0%BA%D0%B0\" title=\"Философия языка\">философии языка</a>, <a href=\"/wiki/%D0%A4%D0%B8%D0%BB%D0%BE%D1%81%D0%BE%D1%84%D0%B8%D1%8F_%D0%BA%D1%83%D0%BB%D1%8C%D1%82%D1%83%D1%80%D1%8B\" title=\"Философия культуры\">философии культуры</a>. Современная метафизика представляет собой высокоспециализированную дисциплину, в которой с использованием <a class=\"extiw\" href=\"https://en.wikipedia.org/wiki/HO_(complexity)\" title=\"en:HO (complexity)\">логики высоких порядков</a><span style=\"white-space: nowrap\"><span class=\"noprint\" style=\"font-size:95%; position: relative; top: .4em;\"> <span class=\"ref-info\" style=\"cursor:help;\" title=\"на английском языке\">(англ.)</span></span><span class=\"link-ru metadata noprint\" style=\"font-size:80%; margin-left:-1.7em; position: relative; top: -.4em;\"><a class=\"new\" href=\"/w/index.php?title=%D0%9B%D0%BE%D0%B3%D0%B8%D0%BA%D0%B0_%D0%B2%D1%8B%D1%81%D0%BE%D0%BA%D0%B8%D1%85_%D0%BF%D0%BE%D1%80%D1%8F%D0%B4%D0%BA%D0%BE%D0%B2&amp;action=edit&amp;redlink=1\" title=\"Логика высоких порядков (страница отсутствует)\">русск.</a></span></span> происходят попытки отделения от «вечных» вопросов каких-либо разрешимых частей<sup class=\"reference\" id=\"cite_ref-_44d46434c5cebbde_29-1\"><a href=\"#cite_note-_44d46434c5cebbde-29\">[27]</a></sup>.\n",
       "</p>, <p>Теоретическая философия включает в себя <a href=\"/wiki/%D0%9F%D0%BE%D0%B7%D0%BD%D0%B0%D0%BD%D0%B8%D0%B5\" title=\"Познание\">познание</a> природы и познание самого познания. К первой категории традиционно относится <a href=\"/wiki/%D0%9D%D0%B0%D1%82%D1%83%D1%80%D1%84%D0%B8%D0%BB%D0%BE%D1%81%D0%BE%D1%84%D0%B8%D1%8F\" title=\"Натурфилософия\">натурфилософия</a>, однако, значительная её часть в XVII—XVIII вв. с концептуализацией <a href=\"/wiki/%D0%9D%D0%B0%D1%83%D1%87%D0%BD%D1%8B%D0%B9_%D0%BC%D0%B5%D1%82%D0%BE%D0%B4\" title=\"Научный метод\">научного метода</a> выделилась из философии в естественные науки — <a href=\"/wiki/%D0%A4%D0%B8%D0%B7%D0%B8%D0%BA%D0%B0\" title=\"Физика\">физику</a>, <a href=\"/wiki/%D0%A5%D0%B8%D0%BC%D0%B8%D1%8F\" title=\"Химия\">химию</a>, <a href=\"/wiki/%D0%90%D1%81%D1%82%D1%80%D0%BE%D0%BD%D0%BE%D0%BC%D0%B8%D1%8F\" title=\"Астрономия\">астрономию</a>, <a href=\"/wiki/%D0%91%D0%B8%D0%BE%D0%BB%D0%BE%D0%B3%D0%B8%D1%8F\" title=\"Биология\">биологию</a>. Тем не менее часть природы, связанной с природой самого человека, по-прежнему остаётся в рамках философских исследований, так как ясной <a href=\"/wiki/%D0%9F%D0%B0%D1%80%D0%B0%D0%B4%D0%B8%D0%B3%D0%BC%D0%B0_(%D1%84%D0%B8%D0%BB%D0%BE%D1%81%D0%BE%D1%84%D0%B8%D1%8F)\" title=\"Парадигма (философия)\">парадигмы</a> подхода к этим вопросам в настоящее время не существует. Поэтому <a href=\"/wiki/%D0%A4%D0%B8%D0%BB%D0%BE%D1%81%D0%BE%D1%84%D0%B8%D1%8F_%D1%81%D0%BE%D0%B7%D0%BD%D0%B0%D0%BD%D0%B8%D1%8F\" title=\"Философия сознания\">философия сознания</a>, <a href=\"/wiki/%D0%A4%D0%B8%D0%BB%D0%BE%D1%81%D0%BE%D1%84%D0%B8%D1%8F_%D1%8F%D0%B7%D1%8B%D0%BA%D0%B0\" title=\"Философия языка\">философия языка</a> и <a href=\"/wiki/%D0%A1%D0%B5%D0%BC%D0%B8%D0%BE%D1%82%D0%B8%D0%BA%D0%B0\" title=\"Семиотика\">семиотика</a> в качестве дисциплин философии продолжают поиск понимания процессов, происходящих в <a href=\"/wiki/%D0%93%D0%BE%D0%BB%D0%BE%D0%B2%D0%BD%D0%BE%D0%B9_%D0%BC%D0%BE%D0%B7%D0%B3_%D1%87%D0%B5%D0%BB%D0%BE%D0%B2%D0%B5%D0%BA%D0%B0\" title=\"Головной мозг человека\">человеческом мозге</a> и связанных с человеческим мышлением, которое, главным образом, выражает себя посредством <a href=\"/wiki/%D0%95%D1%81%D1%82%D0%B5%D1%81%D1%82%D0%B2%D0%B5%D0%BD%D0%BD%D1%8B%D0%B9_%D1%8F%D0%B7%D1%8B%D0%BA\" title=\"Естественный язык\">естественных языков</a><sup class=\"reference\" id=\"cite_ref-_8cfbcfb59f0304ab_21-1\"><a href=\"#cite_note-_8cfbcfb59f0304ab-21\">[20]</a></sup>.\n",
       "</p>, <p>Вторая категория разделов теоретической философии изучает сам процесс познания. Главной областью философии, которая задаётся вопросом «Как мы что-либо знаем?» и «Действительно ли мы это знаем?», является <a href=\"/wiki/%D0%AD%D0%BF%D0%B8%D1%81%D1%82%D0%B5%D0%BC%D0%BE%D0%BB%D0%BE%D0%B3%D0%B8%D1%8F\" title=\"Эпистемология\">эпистемология</a> (иногда ещё называющаяся «гносеологией»). В настоящее время её основным разделом, сосредоточившим основную исследовательскую деятельность, является <a href=\"/wiki/%D0%A4%D0%B8%D0%BB%D0%BE%D1%81%D0%BE%D1%84%D0%B8%D1%8F_%D0%BD%D0%B0%D1%83%D0%BA%D0%B8\" title=\"Философия науки\">философия науки</a>, которая анализирует практику научного метода и пытается ответить на вопросы «Как именно работает научный метод?», «Можно ли формализовать научный метод?», «Действительно ли работает научный метод?»<sup class=\"reference\" id=\"cite_ref-_e7738637e5b79cab_33-0\"><a href=\"#cite_note-_e7738637e5b79cab-33\">[31]</a></sup>. Основные положения философии науки в рамках <a href=\"/wiki/%D0%9A%D0%BE%D0%BD%D1%82%D0%B8%D0%BD%D0%B5%D0%BD%D1%82%D0%B0%D0%BB%D1%8C%D0%BD%D0%B0%D1%8F_%D1%84%D0%B8%D0%BB%D0%BE%D1%81%D0%BE%D1%84%D0%B8%D1%8F\" title=\"Континентальная философия\">континентальной философии</a><link href=\"mw-data:TemplateStyles:r104609042\" rel=\"mw-deduplicated-inline-style\"/><span class=\"ts-Переход noprint\" title=\"#Философия науки в континентальной традиции\"><sup><a href=\"#Философия_науки_в_континентальной_традиции\">[⇨]</a></sup></span> в настоящий момент сильно разнятся с аналогичными положениями в рамках <a href=\"/wiki/%D0%90%D0%BD%D0%B0%D0%BB%D0%B8%D1%82%D0%B8%D1%87%D0%B5%D1%81%D0%BA%D0%B0%D1%8F_%D1%84%D0%B8%D0%BB%D0%BE%D1%81%D0%BE%D1%84%D0%B8%D1%8F\" title=\"Аналитическая философия\">аналитической философии</a><link href=\"mw-data:TemplateStyles:r104609042\" rel=\"mw-deduplicated-inline-style\"/><span class=\"ts-Переход noprint\" title=\"#Философия науки в аналитической традиции\"><sup><a href=\"#Философия_науки_в_аналитической_традиции\">[⇨]</a></sup></span>. Философия науки, в свою очередь, разделяется на <a href=\"/wiki/%D0%A4%D0%B8%D0%BB%D0%BE%D1%81%D0%BE%D1%84%D0%B8%D1%8F_%D0%BC%D0%B0%D1%82%D0%B5%D0%BC%D0%B0%D1%82%D0%B8%D0%BA%D0%B8\" title=\"Философия математики\">философию математики</a>, <a href=\"/wiki/%D0%A4%D0%B8%D0%BB%D0%BE%D1%81%D0%BE%D1%84%D0%B8%D1%8F_%D1%84%D0%B8%D0%B7%D0%B8%D0%BA%D0%B8\" title=\"Философия физики\">философию физики</a>, <a href=\"/wiki/%D0%A4%D0%B8%D0%BB%D0%BE%D1%81%D0%BE%D1%84%D0%B8%D1%8F_%D0%B1%D0%B8%D0%BE%D0%BB%D0%BE%D0%B3%D0%B8%D0%B8\" title=\"Философия биологии\">философию биологии</a>, <a href=\"/wiki/%D0%A4%D0%B8%D0%BB%D0%BE%D1%81%D0%BE%D1%84%D0%B8%D1%8F_%D1%8D%D0%BA%D0%BE%D0%BD%D0%BE%D0%BC%D0%B8%D0%BA%D0%B8\" title=\"Философия экономики\">философию экономики</a> и пр.<sup class=\"reference\" id=\"cite_ref-_44fd6c34c5f1ceaa_34-0\"><a href=\"#cite_note-_44fd6c34c5f1ceaa-34\">[32]</a></sup>\n",
       "</p>, <p>Ещё одним важным аспектом изучения самого процесса познания является изучение самой философии. Одним из отличий философии от типичной науки является возможность выхода в мета-позицию по отношению к себе же. Дисциплина <a href=\"/wiki/%D0%9C%D0%B5%D1%82%D0%B0%D1%84%D0%B8%D0%BB%D0%BE%D1%81%D0%BE%D1%84%D0%B8%D1%8F\" title=\"Метафилософия\">метафилософии</a> изучает саму философию со стороны, важнейшей и более разработанной дисциплиной такого рода является <a href=\"/wiki/%D0%9C%D0%B5%D1%82%D0%B0%D1%8D%D1%82%D0%B8%D0%BA%D0%B0\" title=\"Метаэтика\">метаэтика</a>, которая занимает стороннюю позицию относительно этики<sup class=\"reference\" id=\"cite_ref-_bd66bc88a429357b_35-0\"><a href=\"#cite_note-_bd66bc88a429357b-35\">[33]</a></sup>.\n",
       "</p>, <p>Практическая философия фактически представляет собой различные аспекты <a href=\"/wiki/%D0%AD%D1%82%D0%B8%D0%BA%D0%B0\" title=\"Этика\">этики</a>. Этика в самом широком смысле в первую очередь исследует место человека в мире, пытается ответить на вопросы, что такое <a href=\"/wiki/%D0%A1%D1%87%D0%B0%D1%81%D1%82%D1%8C%D0%B5\" title=\"Счастье\">человеческое счастье</a>, и каким образом оно достижимо. Этика исследует вопросы <a href=\"/wiki/%D0%94%D0%BE%D0%B1%D1%80%D0%BE\" title=\"Добро\">добра</a> и <a href=\"/wiki/%D0%97%D0%BB%D0%BE\" title=\"Зло\">зла</a>, понятие <a href=\"/wiki/%D0%A1%D0%BF%D1%80%D0%B0%D0%B2%D0%B5%D0%B4%D0%BB%D0%B8%D0%B2%D0%BE%D1%81%D1%82%D1%8C\" title=\"Справедливость\">справедливости</a>, ищет <a href=\"/wiki/%D0%A1%D0%BC%D1%8B%D1%81%D0%BB_%D0%B6%D0%B8%D0%B7%D0%BD%D0%B8\" title=\"Смысл жизни\">смысл жизни</a> человека. Из этой общей задачи выделяются более конкретные дисциплины<sup class=\"reference\" id=\"cite_ref-_58d5ddd6111fa2ee_36-0\"><a href=\"#cite_note-_58d5ddd6111fa2ee-36\">[34]</a></sup>.\n",
       "</p>, <p><a href=\"/wiki/%D0%9F%D0%BE%D0%BB%D0%B8%D1%82%D0%B8%D1%87%D0%B5%D1%81%D0%BA%D0%B0%D1%8F_%D1%84%D0%B8%D0%BB%D0%BE%D1%81%D0%BE%D1%84%D0%B8%D1%8F\" title=\"Политическая философия\">Политическая философия</a> исследует различные существующие политические системы и изобретает новые, <a href=\"/wiki/%D0%A4%D0%B8%D0%BB%D0%BE%D1%81%D0%BE%D1%84%D0%B8%D1%8F_%D0%BF%D1%80%D0%B0%D0%B2%D0%B0\" title=\"Философия права\">философия права</a> исследует в самом широком смысле последствия тех или иных законодательных принципов. <a href=\"/wiki/%D0%A4%D0%B8%D0%BB%D0%BE%D1%81%D0%BE%D1%84%D0%B8%D1%8F_%D0%B8%D1%81%D1%82%D0%BE%D1%80%D0%B8%D0%B8\" title=\"Философия истории\">Философия истории</a> изучает историю на предмет выявления в ней каких-либо общих принципов, которые можно было бы использовать для совершенствования мира, наконец <a href=\"/wiki/%D0%AD%D1%81%D1%82%D0%B5%D1%82%D0%B8%D0%BA%D0%B0\" title=\"Эстетика\">эстетика</a> стремится понять, что такое прекрасное. Более частные дисциплины включают в себя <a href=\"/wiki/%D0%90%D0%BA%D1%81%D0%B8%D0%BE%D0%BB%D0%BE%D0%B3%D0%B8%D1%8F\" title=\"Аксиология\">аксиологию</a> — выработку базовых человеческих ценностей, <a href=\"/wiki/%D0%A4%D0%B8%D0%BB%D0%BE%D1%81%D0%BE%D1%84%D0%B8%D1%8F_%D1%80%D0%B5%D0%BB%D0%B8%D0%B3%D0%B8%D0%B8\" title=\"Философия религии\">философию религии</a> — изучение религий по отношению к человеку, <a href=\"/wiki/%D0%A4%D0%B8%D0%BB%D0%BE%D1%81%D0%BE%D1%84%D0%B8%D1%8F_%D1%82%D0%B5%D1%85%D0%BD%D0%B8%D0%BA%D0%B8\" title=\"Философия техники\">философию техники</a> — анализ влияния <a href=\"/wiki/%D0%9D%D0%B0%D1%83%D1%87%D0%BD%D0%BE-%D1%82%D0%B5%D1%85%D0%BD%D0%B8%D1%87%D0%B5%D1%81%D0%BA%D0%B0%D1%8F_%D1%80%D0%B5%D0%B2%D0%BE%D0%BB%D1%8E%D1%86%D0%B8%D1%8F\" title=\"Научно-техническая революция\">технического прогресса</a> на человечество, <a href=\"/wiki/%D0%A4%D0%B8%D0%BB%D0%BE%D1%81%D0%BE%D1%84%D0%B8%D1%8F_%D0%BE%D0%B1%D1%80%D0%B0%D0%B7%D0%BE%D0%B2%D0%B0%D0%BD%D0%B8%D1%8F\" title=\"Философия образования\">философию образования</a> — вопросы совершенствования образования и т. д.<sup class=\"reference\" id=\"cite_ref-_7b2dd1db129b9aa5_37-0\"><a href=\"#cite_note-_7b2dd1db129b9aa5-37\">[35]</a></sup>\n",
       "</p>, <p>В некоторых уголках земного шара практическая философия развивалась значительно раньше, чем теоретическая философия, метафизика или логика. Например, <a href=\"/wiki/%D0%9A%D0%B8%D1%82%D0%B0%D0%B9%D1%81%D0%BA%D0%B0%D1%8F_%D1%84%D0%B8%D0%BB%D0%BE%D1%81%D0%BE%D1%84%D0%B8%D1%8F\" title=\"Китайская философия\">древнекитайская философия</a> почти целиком изучала только вопросы этики и политической философии<link href=\"mw-data:TemplateStyles:r104609042\" rel=\"mw-deduplicated-inline-style\"/><span class=\"ts-Переход noprint\" title=\"#Древнекитайская философия\"><sup><a href=\"#Древнекитайская_философия\">[⇨]</a></sup></span>, при возникновении собственной <a href=\"/wiki/%D0%A0%D1%83%D1%81%D1%81%D0%BA%D0%B0%D1%8F_%D1%84%D0%B8%D0%BB%D0%BE%D1%81%D0%BE%D1%84%D0%B8%D1%8F\" title=\"Русская философия\">философии в России</a> интерес русских мыслителей также касался в первую очередь практической философии<link href=\"mw-data:TemplateStyles:r104609042\" rel=\"mw-deduplicated-inline-style\"/><span class=\"ts-Переход noprint\" title=\"#Философия в России\"><sup><a href=\"#Философия_в_России\">[⇨]</a></sup></span>.\n",
       "</p>, <p>Зарождение философии, формирование рационального философского мышления началось примерно одновременно в VII—VI вв. до н. э. на разных концах земного шара: в <a class=\"mw-redirect\" href=\"/wiki/%D0%9A%D0%B8%D1%82%D0%B0%D0%B9_(%D1%81%D1%82%D1%80%D0%B0%D0%BD%D0%B0)\" title=\"Китай (страна)\">Китае</a>, в <a href=\"/wiki/%D0%92%D0%B5%D0%B4%D0%B8%D0%B9%D1%81%D0%BA%D0%B0%D1%8F_%D1%86%D0%B8%D0%B2%D0%B8%D0%BB%D0%B8%D0%B7%D0%B0%D1%86%D0%B8%D1%8F\" title=\"Ведийская цивилизация\">Индии</a> и в <a href=\"/wiki/%D0%A1%D1%80%D0%B5%D0%B4%D0%B8%D0%B7%D0%B5%D0%BC%D0%BD%D0%BE%D0%B5_%D0%BC%D0%BE%D1%80%D0%B5\" title=\"Средиземное море\">средиземноморских</a> <a class=\"mw-redirect\" href=\"/wiki/%D0%94%D1%80%D0%B5%D0%B2%D0%BD%D0%B5%D0%B3%D1%80%D0%B5%D1%87%D0%B5%D1%81%D0%BA%D0%B0%D1%8F_%D0%BA%D0%BE%D0%BB%D0%BE%D0%BD%D0%B8%D0%B7%D0%B0%D1%86%D0%B8%D1%8F\" title=\"Древнегреческая колонизация\">греческих колониях</a><span style=\"background: #ffeaea; color: #444444;\"></span><sup class=\"noprint\" style=\"white-space: nowrap\">[<i><a href=\"/wiki/%D0%92%D0%B8%D0%BA%D0%B8%D0%BF%D0%B5%D0%B4%D0%B8%D1%8F:%D0%A1%D1%81%D1%8B%D0%BB%D0%BA%D0%B8_%D0%BD%D0%B0_%D0%B8%D1%81%D1%82%D0%BE%D1%87%D0%BD%D0%B8%D0%BA%D0%B8\" title=\"Википедия:Ссылки на источники\"><span style=\"\" title=\"не указан источник на утверждение (26 сентября 2015)\">источник не указан 1672 дня</span></a></i>]</sup>. Возможно, что другие цивилизации этого или более раннего периода уже практиковали философское мышление, однако их философские работы остаются неизвестными. <span style=\"padding-left:0.1em; padding-right:0.1em; color:#888; border:1px solid #ddd;\">Отдельные исследователи-нефилософы</span><sup class=\"\" style=\"white-space: nowrap\">[<i><span style=\"\" title=\"\">уточнить</span></i>]</sup> иногда причисляют к древнейшей философии сборники <a href=\"/wiki/%D0%9F%D0%BE%D1%81%D0%BB%D0%BE%D0%B2%D0%B8%D1%86%D0%B0\" title=\"Пословица\">пословиц</a> и <a href=\"/wiki/%D0%90%D1%84%D0%BE%D1%80%D0%B8%D0%B7%D0%BC\" title=\"Афоризм\">афоризмов</a>, оставшиеся от цивилизаций <a href=\"/wiki/%D0%94%D1%80%D0%B5%D0%B2%D0%BD%D0%B8%D0%B9_%D0%95%D0%B3%D0%B8%D0%BF%D0%B5%D1%82\" title=\"Древний Египет\">Древнего Египта</a> и <a href=\"/wiki/%D0%9C%D0%B5%D1%81%D0%BE%D0%BF%D0%BE%D1%82%D0%B0%D0%BC%D0%B8%D1%8F\" title=\"Месопотамия\">Месопотамии</a><sup class=\"reference\" id=\"cite_ref-Buccellati_38-0\"><a href=\"#cite_note-Buccellati-38\">[36]</a></sup>, однако такое включение не поддерживается в философской литературе. Вместе с этим культурное влияние этих цивилизаций на <a href=\"/wiki/%D0%94%D1%80%D0%B5%D0%B2%D0%BD%D1%8F%D1%8F_%D0%93%D1%80%D0%B5%D1%86%D0%B8%D1%8F\" title=\"Древняя Греция\">греческую цивилизацию</a> в целом, и в частности на мировоззрение <a href=\"/wiki/%D0%94%D0%BE%D1%81%D0%BE%D0%BA%D1%80%D0%B0%D1%82%D0%B8%D0%BA%D0%B8\" title=\"Досократики\">ранних греческих философов</a> несомненно<sup class=\"reference\" id=\"cite_ref-_6379822f2b9da85c_39-0\"><a href=\"#cite_note-_6379822f2b9da85c-39\">[37]</a></sup><sup class=\"reference\" id=\"cite_ref-_46a16cc9e2ed84ae_40-0\"><a href=\"#cite_note-_46a16cc9e2ed84ae-40\">[38]</a></sup>, однако не оно послужило зарождению самостоятельной философской древнегреческой мысли<sup class=\"reference\" id=\"cite_ref-41\"><a href=\"#cite_note-41\">[39]</a></sup>. Занимавшийся проблемой возникновения философии <a href=\"/wiki/%D0%A7%D0%B0%D0%BD%D1%8B%D1%88%D0%B5%D0%B2,_%D0%90%D1%80%D1%81%D0%B5%D0%BD%D0%B8%D0%B9_%D0%9D%D0%B8%D0%BA%D0%BE%D0%BB%D0%B0%D0%B5%D0%B2%D0%B8%D1%87\" title=\"Чанышев, Арсений Николаевич\">А. Н. Чанышев</a> выделяет три её источника: мифологию, науку и «обобщения обыденного сознания»<sup class=\"reference\" id=\"cite_ref-42\"><a href=\"#cite_note-42\">[40]</a></sup>.\n",
       "</p>, <p>Общим элементом возникновения и развития философии явилось формирование философских школ, состоящих из последователей определённого учения, причём во всех регионах вклад последователей зачастую приписывался основателю школы или школе в целом. Становление <a href=\"/wiki/%D0%98%D0%BD%D0%B4%D0%B8%D0%B9%D1%81%D0%BA%D0%B0%D1%8F_%D1%84%D0%B8%D0%BB%D0%BE%D1%81%D0%BE%D1%84%D0%B8%D1%8F\" title=\"Индийская философия\">индийской философии</a> и <a href=\"/wiki/%D0%94%D1%80%D0%B5%D0%B2%D0%BD%D0%B5%D0%B3%D1%80%D0%B5%D1%87%D0%B5%D1%81%D0%BA%D0%B0%D1%8F_%D1%84%D0%B8%D0%BB%D0%BE%D1%81%D0%BE%D1%84%D0%B8%D1%8F\" title=\"Древнегреческая философия\">греческой философии</a> проходило по схожей схеме, однако индийская философия развивалась значительно медленнее<sup class=\"reference\" id=\"cite_ref-_d203ded4985c0153_43-0\"><a href=\"#cite_note-_d203ded4985c0153-43\">[41]</a></sup>. <a href=\"/wiki/%D0%9A%D0%B8%D1%82%D0%B0%D0%B9%D1%81%D0%BA%D0%B0%D1%8F_%D1%84%D0%B8%D0%BB%D0%BE%D1%81%D0%BE%D1%84%D0%B8%D1%8F\" title=\"Китайская философия\">Китайская философия</a>, развитие которой сдерживал консерватизм общественно-политического устройства общества, развивалась в целом ещё медленнее, хорошо проработанными её областями стали только <a href=\"/wiki/%D0%AD%D1%82%D0%B8%D0%BA%D0%B0\" title=\"Этика\">этика</a> и <a href=\"/wiki/%D0%9F%D0%BE%D0%BB%D0%B8%D1%82%D0%B8%D1%87%D0%B5%D1%81%D0%BA%D0%B0%D1%8F_%D1%84%D0%B8%D0%BB%D0%BE%D1%81%D0%BE%D1%84%D0%B8%D1%8F\" title=\"Политическая философия\">политическая философия</a><sup class=\"reference\" id=\"cite_ref-_6379822f2b9da85c_39-1\"><a href=\"#cite_note-_6379822f2b9da85c-39\">[37]</a></sup><sup class=\"reference\" id=\"cite_ref-_466b83ae95846d0b_44-0\"><a href=\"#cite_note-_466b83ae95846d0b-44\">[42]</a></sup>.\n",
       "</p>, <p>Греческая философия берёт своё начало в VI веке до н. э. Корни западной философии, истоки <a href=\"/wiki/%D0%A0%D0%B0%D1%86%D0%B8%D0%BE%D0%BD%D0%B0%D0%BB%D1%8C%D0%BD%D0%BE%D1%81%D1%82%D1%8C\" title=\"Рациональность\">рационального</a> <a class=\"mw-redirect\" href=\"/wiki/%D0%9C%D1%8B%D1%88%D0%BB%D0%B5%D0%BD%D0%B8%D0%B5_(%D1%84%D0%B8%D0%BB%D0%BE%D1%81%D0%BE%D1%84%D0%B8%D1%8F)\" title=\"Мышление (философия)\">мышления</a> и само возникновение слова «философия» связаны с несколькими мыслителями и их школами, которые появились в <a href=\"/wiki/%D0%94%D1%80%D0%B5%D0%B2%D0%BD%D1%8F%D1%8F_%D0%93%D1%80%D0%B5%D1%86%D0%B8%D1%8F\" title=\"Древняя Греция\">Греции</a> в этот период. Собирательно все эти философы именуются <a href=\"/wiki/%D0%94%D0%BE%D1%81%D0%BE%D0%BA%D1%80%D0%B0%D1%82%D0%B8%D0%BA%D0%B8\" title=\"Досократики\">досократиками</a>, то есть предшествующими <a href=\"/wiki/%D0%A1%D0%BE%D0%BA%D1%80%D0%B0%D1%82\" title=\"Сократ\">Сократу</a> и в теоретическом, и во временном смысле. Среди самых известных досократиков <a href=\"/wiki/%D0%A4%D0%B0%D0%BB%D0%B5%D1%81_%D0%9C%D0%B8%D0%BB%D0%B5%D1%82%D1%81%D0%BA%D0%B8%D0%B9\" title=\"Фалес Милетский\">Фалес</a>, <a href=\"/wiki/%D0%94%D0%B5%D0%BC%D0%BE%D0%BA%D1%80%D0%B8%D1%82\" title=\"Демокрит\">Демокрит</a>, <a href=\"/wiki/%D0%9F%D0%B8%D1%84%D0%B0%D0%B3%D0%BE%D1%80\" title=\"Пифагор\">Пифагор</a> и <a href=\"/wiki/%D0%97%D0%B5%D0%BD%D0%BE%D0%BD_%D0%AD%D0%BB%D0%B5%D0%B9%D1%81%D0%BA%D0%B8%D0%B9\" title=\"Зенон Элейский\">Зенон</a>. Досократики ставили перед собой <a href=\"/wiki/%D0%9C%D0%B5%D1%82%D0%B0%D1%84%D0%B8%D0%B7%D0%B8%D0%BA%D0%B0\" title=\"Метафизика\">метафизические</a> вопросы вида «Что такое <a class=\"mw-redirect\" href=\"/wiki/%D0%91%D1%8B%D1%82%D0%B8%D0%B5_(%D1%84%D0%B8%D0%BB%D0%BE%D1%81%D0%BE%D1%84%D0%B8%D1%8F)\" title=\"Бытие (философия)\">бытие</a>?», «Существуют ли в реальности границы между объектами?» или «Меняются ли объекты в реальности?», а также создали несколько противоречащих друг другу моделей мира, частично отвечающих на эти вопросы. Главная ценность этих моделей заключалась в новом способе получения знания: рациональное теоретизирование в связке с <a href=\"/wiki/%D0%AD%D0%BC%D0%BF%D0%B8%D1%80%D0%B8%D0%B7%D0%BC\" title=\"Эмпиризм\">эмпирическими</a> наблюдениями<sup class=\"reference\" id=\"cite_ref-_8c088cc32a280aaf_45-0\"><a href=\"#cite_note-_8c088cc32a280aaf-45\">[43]</a></sup><sup class=\"reference\" id=\"cite_ref-_b4f52683bfca8ea8_46-0\"><a href=\"#cite_note-_b4f52683bfca8ea8-46\">[44]</a></sup>.\n",
       "</p>, <p>Фалес был первым из философов, который использовал <a href=\"/wiki/%D0%A0%D0%B5%D0%B4%D1%83%D0%BA%D1%86%D0%B8%D0%BE%D0%BD%D0%B8%D0%B7%D0%BC\" title=\"Редукционизм\">редукционизм</a> — попытался выделить внутри сложного окружающего мира какие-либо простые законы или составляющие. Этот метод был в течение следующих 200 лет повторён многими из досократиков, в частности Демокритом и <a href=\"/wiki/%D0%9B%D0%B5%D0%B2%D0%BA%D0%B8%D0%BF%D0%BF\" title=\"Левкипп\">Левкиппом</a> — авторами концепции <a href=\"/wiki/%D0%90%D1%82%D0%BE%D0%BC%D0%B8%D0%B7%D0%BC\" title=\"Атомизм\">атомизма</a>, которая оказалось очень ценной философской, а впоследствии и научной концепцией, применяемой и по сей день<sup class=\"reference\" id=\"cite_ref-_5c71bbbfbbd3e92f_47-0\"><a href=\"#cite_note-_5c71bbbfbbd3e92f-47\">[45]</a></sup>. Заслуга досократиков также заключается в совершенствовании <a href=\"/wiki/%D0%9B%D0%BE%D0%B3%D0%B8%D0%BA%D0%B0\" title=\"Логика\">логики</a>, которая ими отрабатывалась не только на философском, но и на математическом материале. Неслучайно, многие достижения <a href=\"/wiki/%D0%AD%D0%BB%D0%B5%D0%BC%D0%B5%D0%BD%D1%82%D0%B0%D1%80%D0%BD%D0%B0%D1%8F_%D0%BC%D0%B0%D1%82%D0%B5%D0%BC%D0%B0%D1%82%D0%B8%D0%BA%D0%B0\" title=\"Элементарная математика\">элементарной математики</a> и <a href=\"/wiki/%D0%93%D0%B5%D0%BE%D0%BC%D0%B5%D1%82%D1%80%D0%B8%D1%8F\" title=\"Геометрия\">геометрии</a> тоже связаны с именами досократиков<sup class=\"reference\" id=\"cite_ref-_19c6352da2a199a4_48-0\"><a href=\"#cite_note-_19c6352da2a199a4-48\">[46]</a></sup>. Досократики заложили основу классической античной философии<sup class=\"reference\" id=\"cite_ref-_e957996ace9be67b_49-0\"><a href=\"#cite_note-_e957996ace9be67b-49\">[47]</a></sup>. Пифагор был первым, кто начал использовать слово «философия», хотя ещё в более общем смысле, а не в качестве термина<sup class=\"reference\" id=\"cite_ref-_b4f52683bfca8ea8_46-1\"><a href=\"#cite_note-_b4f52683bfca8ea8-46\">[44]</a></sup>.\n",
       "</p>, <p>Более поздняя группа древнегреческих философов, <a href=\"/wiki/%D0%A1%D0%BE%D1%84%D0%B8%D1%81%D1%82%D1%8B\" title=\"Софисты\">софисты</a>, проявляла <a href=\"/wiki/%D0%A1%D0%BA%D0%B5%D0%BF%D1%82%D0%B8%D1%86%D0%B8%D0%B7%D0%BC\" title=\"Скептицизм\">скептицизм</a> в отношении досократиков, искавших <i>истинные</i> ответы на свои вопросы<sup class=\"reference\" id=\"cite_ref-_67739bd3cb0a765d_50-0\"><a href=\"#cite_note-_67739bd3cb0a765d-50\">[48]</a></sup>. Софисты верили в <a href=\"/wiki/%D0%A0%D0%B5%D0%BB%D1%8F%D1%82%D0%B8%D0%B2%D0%B8%D0%B7%D0%BC\" title=\"Релятивизм\">релятивизм</a>, в относительность истины и брались красноречиво и убедительно отстаивать любую точку зрения, а также обучали этому своих учеников. Хотя софисты многократно критиковались более поздними греческими философами, они внесли ценный вклад в развитие <a href=\"/wiki/%D0%9B%D0%BE%D0%B3%D0%B8%D0%BA%D0%B0\" title=\"Логика\">логики</a> и <a href=\"/wiki/%D0%A0%D0%B8%D1%82%D0%BE%D1%80%D0%B8%D0%BA%D0%B0\" title=\"Риторика\">риторики</a>. Философия в последующие этапы своего развития неоднократно возвращалась к релятивизму в других контекстах<sup class=\"reference\" id=\"cite_ref-_c4d829f1ce696bf8_51-0\"><a href=\"#cite_note-_c4d829f1ce696bf8-51\">[49]</a></sup><sup class=\"reference\" id=\"cite_ref-_666c76485275f4e5_52-0\"><a href=\"#cite_note-_666c76485275f4e5-52\">[50]</a></sup>.\n",
       "</p>, <p>Классическая греческая философия оказала огромное влияние на мировую культуру. Эта философия в основном связана с именами трёх людей: <a href=\"/wiki/%D0%A1%D0%BE%D0%BA%D1%80%D0%B0%D1%82\" title=\"Сократ\">Сократа</a>, его ученика <a href=\"/wiki/%D0%9F%D0%BB%D0%B0%D1%82%D0%BE%D0%BD\" title=\"Платон\">Платона</a>, и в свою очередь ученика Платона — <a href=\"/wiki/%D0%90%D1%80%D0%B8%D1%81%D1%82%D0%BE%D1%82%D0%B5%D0%BB%D1%8C\" title=\"Аристотель\">Аристотеля</a>. Вклад Сократа в основном связан с <a href=\"/wiki/%D0%9C%D0%B5%D1%82%D0%BE%D0%B4_%D0%A1%D0%BE%D0%BA%D1%80%D0%B0%D1%82%D0%B0\" title=\"Метод Сократа\">его методом</a>, который заключался в представлении философского вопроса в виде диалога двух сначала не соглашающихся друг с другом философов, один из которых в конце концов, исчерпав аргументы против, соглашается со своим оппонентом. Метод Сократа являлся прелюдией к формальному <a class=\"extiw\" href=\"https://en.wikipedia.org/wiki/Critique\" title=\"en:Critique\">критическому анализу</a><span style=\"white-space: nowrap\"><span class=\"noprint\" style=\"font-size:95%; position: relative; top: .4em;\"> <span class=\"ref-info\" style=\"cursor:help;\" title=\"на английском языке\">(англ.)</span></span><span class=\"link-ru metadata noprint\" style=\"font-size:80%; margin-left:-1.7em; position: relative; top: -.4em;\"><a class=\"new\" href=\"/w/index.php?title=%D0%9A%D1%80%D0%B8%D1%82%D0%B8%D1%87%D0%B5%D1%81%D0%BA%D0%B8%D0%B9_%D0%B0%D0%BD%D0%B0%D0%BB%D0%B8%D0%B7&amp;action=edit&amp;redlink=1\" title=\"Критический анализ (страница отсутствует)\">русск.</a></span></span> иной философской концепции и использовался Платоном, который публиковал свои сочинения в виде диалогов<sup class=\"reference\" id=\"cite_ref-_70bf2842facd627e_53-0\"><a href=\"#cite_note-_70bf2842facd627e-53\">[51]</a></sup><sup class=\"reference\" id=\"cite_ref-_c5d202142c4535fc_54-0\"><a href=\"#cite_note-_c5d202142c4535fc-54\">[52]</a></sup>.\n",
       "</p>, <p>В свою очередь Платон и Аристотель оказались в числе самых влиятельных людей на Земле<sup class=\"reference\" id=\"cite_ref-_de86ee5b0623c34c_55-0\"><a href=\"#cite_note-_de86ee5b0623c34c-55\">[53]</a></sup><sup class=\"reference\" id=\"cite_ref-_19c6362da2a19b73_56-0\"><a href=\"#cite_note-_19c6362da2a19b73-56\">[54]</a></sup><sup class=\"reference\" id=\"cite_ref-_19decf9b8d4e6043_57-0\"><a href=\"#cite_note-_19decf9b8d4e6043-57\">[55]</a></sup>. Основная заслуга Платона заключается в его <a class=\"extiw\" href=\"https://en.wikipedia.org/wiki/Theory_of_Forms\" title=\"en:Theory of Forms\">теории идей</a><span style=\"white-space: nowrap\"><span class=\"noprint\" style=\"font-size:95%; position: relative; top: .4em;\"> <span class=\"ref-info\" style=\"cursor:help;\" title=\"на английском языке\">(англ.)</span></span><span class=\"link-ru metadata noprint\" style=\"font-size:80%; margin-left:-1.7em; position: relative; top: -.4em;\"><a class=\"new\" href=\"/w/index.php?title=%D0%A2%D0%B5%D0%BE%D1%80%D0%B8%D1%8F_%D0%B8%D0%B4%D0%B5%D0%B9&amp;action=edit&amp;redlink=1\" title=\"Теория идей (страница отсутствует)\">русск.</a></span></span>, которая сформулирована в его самом известном <a href=\"/wiki/%D0%93%D0%BE%D1%81%D1%83%D0%B4%D0%B0%D1%80%D1%81%D1%82%D0%B2%D0%BE_(%D0%9F%D0%BB%D0%B0%D1%82%D0%BE%D0%BD)\" title=\"Государство (Платон)\">диалоге «Государство»</a>. В теории идей Платон противопоставляет материальные объекты идеальным «формам» или «идеям» этих объектов, которые существуют где-то в возвышенном мире. В философии Платона материальные объекты — лишь ущербные подобия идеальных форм, ниспосланных свыше, подобно теням реальных объектов из <a href=\"/wiki/%D0%9C%D0%B8%D1%84_%D0%BE_%D0%BF%D0%B5%D1%89%D0%B5%D1%80%D0%B5\" title=\"Миф о пещере\">Мифа о пещере</a><sup class=\"reference\" id=\"cite_ref-_19c6362da2a19b70_58-0\"><a href=\"#cite_note-_19c6362da2a19b70-58\">[56]</a></sup>. Таким образом Платон сформировал важнейшее направление в философии, которое позже назовут <a href=\"/wiki/%D0%98%D0%B4%D0%B5%D0%B0%D0%BB%D0%B8%D0%B7%D0%BC\" title=\"Идеализм\">идеализмом</a><sup class=\"reference\" id=\"cite_ref-_e6b50c739d4e7eb5_59-0\"><a href=\"#cite_note-_e6b50c739d4e7eb5-59\">[57]</a></sup>. Богатство идей, изложенных в трудах Платона, в совокупности с формированием направления идеализма сделали философию Платона настолько значительной, что один из философов XX века, <a href=\"/wiki/%D0%A3%D0%B0%D0%B9%D1%82%D1%85%D0%B5%D0%B4,_%D0%90%D0%BB%D1%8C%D1%84%D1%80%D0%B5%D0%B4_%D0%9D%D0%BE%D1%80%D1%82\" title=\"Уайтхед, Альфред Норт\">Альфред Уайтхед</a> даже назвал всю остальную <a href=\"/wiki/%D0%97%D0%B0%D0%BF%D0%B0%D0%B4%D0%BD%D0%B0%D1%8F_%D1%84%D0%B8%D0%BB%D0%BE%D1%81%D0%BE%D1%84%D0%B8%D1%8F\" title=\"Западная философия\">западную философию</a> «чередой примечаний к Платону»<sup class=\"reference\" id=\"cite_ref-Уайтхед_60-0\"><a href=\"#cite_note-Уайтхед-60\">[прим. 3]</a></sup>. Философия Платона получила название «<a href=\"/wiki/%D0%9F%D0%BB%D0%B0%D1%82%D0%BE%D0%BD%D0%B8%D0%B7%D0%BC\" title=\"Платонизм\">платонизм</a>» и несколько веков развивалась как самостоятельное направление, перейдя впоследствии в <a href=\"/wiki/%D0%9D%D0%B5%D0%BE%D0%BF%D0%BB%D0%B0%D1%82%D0%BE%D0%BD%D0%B8%D0%B7%D0%BC\" title=\"Неоплатонизм\">неоплатонизм</a>.\n",
       "</p>, <p>Заслуги Аристотеля перед мировой культурой носят несколько иной характер. Аристотель систематизировал накопленные в <a href=\"/wiki/%D0%94%D1%80%D0%B5%D0%B2%D0%BD%D1%8F%D1%8F_%D0%93%D1%80%D0%B5%D1%86%D0%B8%D1%8F\" title=\"Древняя Греция\">Греции</a> философские знания в новой форме, которая заложила стандарты <a href=\"/wiki/%D0%9D%D0%B0%D1%83%D1%87%D0%BD%D0%B0%D1%8F_%D0%BB%D0%B8%D1%82%D0%B5%D1%80%D0%B0%D1%82%D1%83%D1%80%D0%B0\" title=\"Научная литература\">научной литературы</a>. Его труды включали последовательное изложение <a href=\"/wiki/%D0%9B%D0%BE%D0%B3%D0%B8%D0%BA%D0%B0\" title=\"Логика\">логики</a>, <a href=\"/wiki/%D0%9C%D0%B5%D1%82%D0%B0%D1%84%D0%B8%D0%B7%D0%B8%D0%BA%D0%B0\" title=\"Метафизика\">метафизики</a>, <a href=\"/wiki/%D0%AD%D1%82%D0%B8%D0%BA%D0%B0\" title=\"Этика\">этики</a>, <a href=\"/wiki/%D0%A0%D0%B8%D1%82%D0%BE%D1%80%D0%B8%D0%BA%D0%B0\" title=\"Риторика\">риторики</a>, а также греческой <a href=\"/wiki/%D0%9D%D0%B0%D1%82%D1%83%D1%80%D1%84%D0%B8%D0%BB%D0%BE%D1%81%D0%BE%D1%84%D0%B8%D1%8F\" title=\"Натурфилософия\">натурфилософии</a>: <a href=\"/wiki/%D0%9A%D0%BE%D1%81%D0%BC%D0%BE%D0%BB%D0%BE%D0%B3%D0%B8%D1%8F\" title=\"Космология\">космологии</a>, <a href=\"/wiki/%D0%A4%D0%B8%D0%B7%D0%B8%D0%BA%D0%B0\" title=\"Физика\">физики</a>, <a href=\"/wiki/%D0%97%D0%BE%D0%BE%D0%BB%D0%BE%D0%B3%D0%B8%D1%8F\" title=\"Зоология\">зоологии</a> и др. Работы Аристотеля явились квинтэссенцией <a href=\"/wiki/%D0%94%D1%80%D0%B5%D0%B2%D0%BD%D0%B5%D0%B3%D1%80%D0%B5%D1%87%D0%B5%D1%81%D0%BA%D0%B0%D1%8F_%D1%84%D0%B8%D0%BB%D0%BE%D1%81%D0%BE%D1%84%D0%B8%D1%8F\" title=\"Древнегреческая философия\">греческой философии</a>, появившейся на закате древнегреческой цивилизации, и стали стандартом в некоторых областях знаний на века, а в некоторых — на тысячелетия<sup class=\"reference\" id=\"cite_ref-_1e3c094d507e902b_61-0\"><a href=\"#cite_note-_1e3c094d507e902b-61\">[58]</a></sup>. Аристотель ввёл в обращение сопутствующую <a href=\"/wiki/%D0%A2%D0%B5%D1%80%D0%BC%D0%B8%D0%BD\" title=\"Термин\">терминологию</a>, которая впоследствии вошла почти во все языки, включающая такие понятия: «<a href=\"/wiki/%D0%9A%D0%B0%D1%82%D0%B5%D0%B3%D0%BE%D1%80%D0%B8%D1%8F_(%D1%84%D0%B8%D0%BB%D0%BE%D1%81%D0%BE%D1%84%D0%B8%D1%8F)\" title=\"Категория (философия)\">категория</a>», «<a href=\"/wiki/%D0%9E%D0%BF%D1%80%D0%B5%D0%B4%D0%B5%D0%BB%D0%B5%D0%BD%D0%B8%D0%B5_(%D0%BB%D0%BE%D0%B3%D0%B8%D0%BA%D0%B0)\" title=\"Определение (логика)\">определение (дефиниция)</a>», «<a href=\"/wiki/%D0%9A%D0%B0%D1%82%D0%B5%D0%B3%D0%BE%D1%80%D0%B8%D1%87%D0%B5%D1%81%D0%BA%D0%B8%D0%B9_%D1%81%D0%B8%D0%BB%D0%BB%D0%BE%D0%B3%D0%B8%D0%B7%D0%BC\" title=\"Категорический силлогизм\">силлогизм</a>», «<a class=\"mw-redirect\" href=\"/wiki/%D0%9F%D1%80%D0%B5%D0%B4%D0%BF%D0%BE%D1%81%D1%8B%D0%BB%D0%BA%D0%B0\" title=\"Предпосылка\">посылка</a>» и «<a href=\"/wiki/%D0%92%D1%8B%D0%B2%D0%BE%D0%B4_(%D1%80%D0%B0%D1%81%D1%81%D1%83%D0%B6%D0%B4%D0%B5%D0%BD%D0%B8%D0%B5)\" title=\"Вывод (рассуждение)\">вывод</a>», «<a href=\"/wiki/%D0%A1%D1%83%D0%B1%D1%81%D1%82%D0%B0%D0%BD%D1%86%D0%B8%D1%8F\" title=\"Субстанция\">субстанция</a>», «<a href=\"/wiki/%D0%91%D0%B8%D0%BE%D0%BB%D0%BE%D0%B3%D0%B8%D1%87%D0%B5%D1%81%D0%BA%D0%B8%D0%B9_%D0%B2%D0%B8%D0%B4\" title=\"Биологический вид\">вид</a>» и «<a href=\"/wiki/%D0%A0%D0%BE%D0%B4_(%D0%B1%D0%B8%D0%BE%D0%BB%D0%BE%D0%B3%D0%B8%D1%8F)\" title=\"Род (биология)\">род</a>», «<a href=\"/wiki/%D0%90%D0%BD%D0%B0%D0%BB%D0%B8%D1%82%D0%B8%D0%BA%D0%B0\" title=\"Аналитика\">аналитический</a>», «<a href=\"/wiki/%D0%94%D0%B8%D0%B0%D0%BB%D0%B5%D0%BA%D1%82%D0%B8%D0%BA%D0%B0\" title=\"Диалектика\">диалектика</a>» и другие<sup class=\"reference\" id=\"cite_ref-_83bd817ea669d152_62-0\"><a href=\"#cite_note-_83bd817ea669d152-62\">[59]</a></sup><sup class=\"reference\" id=\"cite_ref-_7097382bd9c59ee1_63-0\"><a href=\"#cite_note-_7097382bd9c59ee1-63\">[60]</a></sup>. Аристотель многие века пользовался незыблемым авторитетом и в <a href=\"/wiki/%D0%95%D0%B2%D1%80%D0%BE%D0%BF%D0%B0\" title=\"Европа\">Европе</a>, и на <a href=\"/wiki/%D0%91%D0%BB%D0%B8%D0%B6%D0%BD%D0%B8%D0%B9_%D0%92%D0%BE%D1%81%D1%82%D0%BE%D0%BA\" title=\"Ближний Восток\">Ближнем Востоке</a>, где его называли просто «Учитель»<sup class=\"reference\" id=\"cite_ref-_77d9e2085a326fea_64-0\"><a href=\"#cite_note-_77d9e2085a326fea-64\">[61]</a></sup>.\n",
       "</p>, <p>Параллельно с систематизацией материала Аристотель изложил свою собственную философскую <a href=\"/wiki/%D0%9F%D0%B0%D1%80%D0%B0%D0%B4%D0%B8%D0%B3%D0%BC%D0%B0_(%D1%84%D0%B8%D0%BB%D0%BE%D1%81%D0%BE%D1%84%D0%B8%D1%8F)\" title=\"Парадигма (философия)\">парадигму</a>, выраженную, в частности, в <a class=\"extiw\" href=\"https://en.wikipedia.org/wiki/Four_causes\" title=\"en:Four causes\">учении о четырёх причинах</a><span style=\"white-space: nowrap\"><span class=\"noprint\" style=\"font-size:95%; position: relative; top: .4em;\"> <span class=\"ref-info\" style=\"cursor:help;\" title=\"на английском языке\">(англ.)</span></span><span class=\"link-ru metadata noprint\" style=\"font-size:80%; margin-left:-1.7em; position: relative; top: -.4em;\"><a class=\"new\" href=\"/w/index.php?title=%D0%A3%D1%87%D0%B5%D0%BD%D0%B8%D0%B5_%D0%BE_%D1%87%D0%B5%D1%82%D1%8B%D1%80%D1%91%D1%85_%D0%BF%D1%80%D0%B8%D1%87%D0%B8%D0%BD%D0%B0%D1%85&amp;action=edit&amp;redlink=1\" title=\"Учение о четырёх причинах (страница отсутствует)\">русск.</a></span></span> и <a class=\"extiw\" href=\"https://en.wikipedia.org/wiki/Aristotle%27s_theory_of_universals\" title=\"en:Aristotle's theory of universals\">теории универсалий</a><span style=\"white-space: nowrap\"><span class=\"noprint\" style=\"font-size:95%; position: relative; top: .4em;\"> <span class=\"ref-info\" style=\"cursor:help;\" title=\"на английском языке\">(англ.)</span></span><span class=\"link-ru metadata noprint\" style=\"font-size:80%; margin-left:-1.7em; position: relative; top: -.4em;\"><a class=\"new\" href=\"/w/index.php?title=%D0%A2%D0%B5%D0%BE%D1%80%D0%B8%D1%8F_%D1%83%D0%BD%D0%B8%D0%B2%D0%B5%D1%80%D1%81%D0%B0%D0%BB%D0%B8%D0%B9_%D0%90%D1%80%D0%B8%D1%81%D1%82%D0%BE%D1%82%D0%B5%D0%BB%D1%8F&amp;action=edit&amp;redlink=1\" title=\"Теория универсалий Аристотеля (страница отсутствует)\">русск.</a></span></span>, которая отличалась от философии Платона большей привязкой к материальному миру. В частности, «универсалии» Аристотеля порождались самими материальными объектами, в отличие от «идей» Платона, «ниспосланных свыше». Аристотель полагал, что знания можно получить с помощью наблюдений и опыта, а Платон вслед за Сократом считал, что все знания уже существуют, и человек их «вспоминает», а не приобретает. Философия Аристотеля получила название <a href=\"/wiki/%D0%90%D1%80%D0%B8%D1%81%D1%82%D0%BE%D1%82%D0%B5%D0%BB%D0%B8%D0%B7%D0%BC\" title=\"Аристотелизм\">аристотелизма</a> и многие века практиковалась в Европе и на Ближнем Востоке<sup class=\"reference\" id=\"cite_ref-_c3b4371fae41e7a5_65-0\"><a href=\"#cite_note-_c3b4371fae41e7a5-65\">[62]</a></sup>.\n",
       "</p>, <p>После <a href=\"/wiki/%D0%9F%D0%BB%D0%B0%D1%82%D0%BE%D0%BD\" title=\"Платон\">Платона</a> и <a href=\"/wiki/%D0%90%D1%80%D0%B8%D1%81%D1%82%D0%BE%D1%82%D0%B5%D0%BB%D1%8C\" title=\"Аристотель\">Аристотеля</a> в <a href=\"/wiki/%D0%94%D1%80%D0%B5%D0%B2%D0%BD%D1%8F%D1%8F_%D0%93%D1%80%D0%B5%D1%86%D0%B8%D1%8F\" title=\"Древняя Греция\">Греции</a>, а затем в <a href=\"/wiki/%D0%A0%D0%B8%D0%BC%D1%81%D0%BA%D0%B0%D1%8F_%D0%B8%D0%BC%D0%BF%D0%B5%D1%80%D0%B8%D1%8F\" title=\"Римская империя\">Римской империи</a> продолжали своё развитие несколько философских школ и течений, основанных на <a href=\"/wiki/%D0%94%D1%80%D0%B5%D0%B2%D0%BD%D0%B5%D0%B3%D1%80%D0%B5%D1%87%D0%B5%D1%81%D0%BA%D0%B0%D1%8F_%D1%84%D0%B8%D0%BB%D0%BE%D1%81%D0%BE%D1%84%D0%B8%D1%8F\" title=\"Древнегреческая философия\">греческой философии</a>, включая <a href=\"/wiki/%D0%9D%D0%B5%D0%BE%D0%BF%D0%B8%D1%84%D0%B0%D0%B3%D0%BE%D1%80%D0%B5%D0%B8%D0%B7%D0%BC\" title=\"Неопифагореизм\">неопифагореизм</a>, <a href=\"/wiki/%D0%9F%D0%BB%D0%B0%D1%82%D0%BE%D0%BD%D0%B8%D0%B7%D0%BC\" title=\"Платонизм\">платонизм</a>, а также <a href=\"/wiki/%D0%9F%D0%B5%D1%80%D0%B8%D0%BF%D0%B0%D1%82%D0%B5%D1%82%D0%B8%D0%BA%D0%B8\" title=\"Перипатетики\">перипатетиков</a><sup class=\"reference\" id=\"cite_ref-def-pp_66-0\"><a href=\"#cite_note-def-pp-66\">[прим. 4]</a></sup>, продолжающих философию Аристотеля<sup class=\"reference\" id=\"cite_ref-_a4e04ef1c07f45ee_67-0\"><a href=\"#cite_note-_a4e04ef1c07f45ee-67\">[63]</a></sup>. <a class=\"mw-redirect\" href=\"/wiki/%D0%A1%D0%BA%D0%B5%D0%BF%D1%82%D0%B8%D0%BA%D0%B8\" title=\"Скептики\">Скептики</a> выражали и развивали идеи <a href=\"/wiki/%D0%A1%D0%BE%D1%84%D0%B8%D0%B7%D0%BC\" title=\"Софизм\">софистов</a> о невозможности приобретения истинных знаний о мире<sup class=\"reference\" id=\"cite_ref-_afad82d01c8aa865_68-0\"><a href=\"#cite_note-_afad82d01c8aa865-68\">[64]</a></sup>. Среди новых течений этого периода выделялся <a href=\"/wiki/%D0%A1%D1%82%D0%BE%D0%B8%D1%86%D0%B8%D0%B7%D0%BC\" title=\"Стоицизм\">стоицизм</a> — <a href=\"/wiki/%D0%AD%D1%82%D0%B8%D0%BA%D0%B0\" title=\"Этика\">этическая</a> концепция, схожая с <a href=\"/wiki/%D0%9A%D0%B8%D1%82%D0%B0%D0%B9%D1%81%D0%BA%D0%B0%D1%8F_%D1%84%D0%B8%D0%BB%D0%BE%D1%81%D0%BE%D1%84%D0%B8%D1%8F\" title=\"Китайская философия\">китайским</a> <a href=\"/wiki/%D0%94%D0%B0%D0%BE%D1%81%D0%B8%D0%B7%D0%BC\" title=\"Даосизм\">даосизмом</a>, отождествляющая источник гармонии в мире с принятием естественного порядка вещей и, соответственно, рекомендующая стоически переносить все повороты судьбы<sup class=\"reference\" id=\"cite_ref-_412a0bc430cb2524_69-0\"><a href=\"#cite_note-_412a0bc430cb2524-69\">[65]</a></sup><sup class=\"reference\" id=\"cite_ref-_2e8a3160f2f9b69b_70-0\"><a href=\"#cite_note-_2e8a3160f2f9b69b-70\">[66]</a></sup>. Наконец, ещё одним важным течением этого периода стал <a href=\"/wiki/%D0%9D%D0%B5%D0%BE%D0%BF%D0%BB%D0%B0%D1%82%D0%BE%D0%BD%D0%B8%D0%B7%D0%BC\" title=\"Неоплатонизм\">неоплатонизм</a>. Известный философ этого периода идеолог неоплатонизма <a href=\"/wiki/%D0%9F%D0%BB%D0%BE%D1%82%D0%B8%D0%BD\" title=\"Плотин\">Плотин</a> (III век н. э.) возражал против <a href=\"/wiki/%D0%90%D0%BD%D1%82%D1%80%D0%BE%D0%BF%D0%BE%D0%BC%D0%BE%D1%80%D1%84%D0%B8%D0%B7%D0%BC\" title=\"Антропоморфизм\">антропоморфности</a> <a href=\"/wiki/%D0%91%D0%BE%D0%B3\" title=\"Бог\">Бога</a>, утверждая, что таким образом у Бога, который должен быть всемогущим, в результате человекоподобия появлялись бы границы возможностей. Как следствие, в неоплатонизме происходит сближение между монотеистическим всемогущим богом и миром идей или форм <a href=\"/wiki/%D0%9F%D0%BB%D0%B0%D1%82%D0%BE%D0%BD\" title=\"Платон\">Платона</a>, что сделало возможным частичную интеграцию идей Платона в христианство и другие монотеистические религии<sup class=\"reference\" id=\"cite_ref-_b061ab03ae90993b_71-0\"><a href=\"#cite_note-_b061ab03ae90993b-71\">[67]</a></sup>.\n",
       "</p>, <p>Древнеиндийская философия зародилась из традиции толкования <a href=\"/wiki/%D0%92%D0%B5%D0%B4%D1%8B\" title=\"Веды\">Вед</a>, древнейших текстов традиции <a href=\"/wiki/%D0%98%D0%BD%D0%B4%D1%83%D0%B8%D0%B7%D0%BC\" title=\"Индуизм\">индуизма</a>. Время зарождения <a href=\"/wiki/%D0%98%D0%BD%D0%B4%D0%B8%D0%B9%D1%81%D0%BA%D0%B0%D1%8F_%D1%84%D0%B8%D0%BB%D0%BE%D1%81%D0%BE%D1%84%D0%B8%D1%8F\" title=\"Индийская философия\">индийской философии</a> небесспорно. Часть исследователей соотносят начало древнеиндийской философии с VIII—VI вв. до н. э. — с написанием <a href=\"/wiki/%D0%A3%D0%BF%D0%B0%D0%BD%D0%B8%D1%88%D0%B0%D0%B4%D1%8B\" title=\"Упанишады\">Упанишад</a>, раннего сборника комментариев к Ведам, считая Упанишады уже философским произведением<sup class=\"reference\" id=\"cite_ref-_44d0d934c5cb99de_72-0\"><a href=\"#cite_note-_44d0d934c5cb99de-72\">[68]</a></sup>. Более консервативный подход относит начало собственно философии в Индии к V—IV вв. до н. э., к так называемому «<a href=\"/wiki/%D0%A8%D1%80%D0%B0%D0%BC%D0%B0%D0%BD%D0%B0\" title=\"Шрамана\">шраманскому</a> периоду»<sup class=\"reference\" id=\"cite_ref-_902e101c34a5421f_73-0\"><a href=\"#cite_note-_902e101c34a5421f-73\">[69]</a></sup><sup class=\"reference\" id=\"cite_ref-_ec0a9b04161e771b_74-0\"><a href=\"#cite_note-_ec0a9b04161e771b-74\">[70]</a></sup><sup class=\"reference\" id=\"cite_ref-_c1c55407f8e12b73_75-0\"><a href=\"#cite_note-_c1c55407f8e12b73-75\">[71]</a></sup>. В этот период странствующие монахи, <a href=\"/wiki/%D0%A8%D1%80%D0%B0%D0%BC%D0%B0%D0%BD%D0%B0\" title=\"Шрамана\">шраманы</a>, стали подвергать сомнению авторитет Вед, что спровоцировало религиозную полемику и привело к возникновению различных философских течений. Среди наиболее известных критиков индуизма выделяются, в первую очередь, <a href=\"/wiki/%D0%91%D1%83%D0%B4%D0%B4%D0%B0_%D0%A8%D0%B0%D0%BA%D1%8C%D1%8F%D0%BC%D1%83%D0%BD%D0%B8\" title=\"Будда Шакьямуни\">Будда</a>, а также его современник <a href=\"/wiki/%D0%90%D0%B4%D0%B6%D0%B8%D1%82%D0%B0_%D0%9A%D0%B5%D1%81%D0%B0%D0%BA%D0%B0%D0%BC%D0%B1%D0%B0%D0%BB%D0%B0\" title=\"Аджита Кесакамбала\">Аджита Кесакамбала</a>, в наследии которого прослеживается <a href=\"/wiki/%D0%9C%D0%B0%D1%82%D0%B5%D1%80%D0%B8%D0%B0%D0%BB%D0%B8%D0%B7%D0%BC\" title=\"Материализм\">материализм</a>, выраженный ещё более отчётливо, чем у <a href=\"/wiki/%D0%94%D0%B5%D0%BC%D0%BE%D0%BA%D1%80%D0%B8%D1%82\" title=\"Демокрит\">Демокрита</a><sup class=\"reference\" id=\"cite_ref-_f1616a1827a359c1_76-0\"><a href=\"#cite_note-_f1616a1827a359c1-76\">[72]</a></sup>, и <a class=\"extiw\" href=\"https://en.wikipedia.org/wiki/Pakudha_Kaccayana\" title=\"en:Pakudha Kaccayana\">Пакудха Каччаяна</a><span style=\"white-space: nowrap\"><span class=\"noprint\" style=\"font-size:95%; position: relative; top: .4em;\"> <span class=\"ref-info\" style=\"cursor:help;\" title=\"на английском языке\">(англ.)</span></span><span class=\"link-ru metadata noprint\" style=\"font-size:80%; margin-left:-1.7em; position: relative; top: -.4em;\"><a class=\"new\" href=\"/w/index.php?title=%D0%9F%D0%B0%D0%BA%D1%83%D0%B4%D1%85%D0%B0_%D0%9A%D0%B0%D1%87%D1%87%D0%B0%D1%8F%D0%BD%D0%B0&amp;action=edit&amp;redlink=1\" title=\"Пакудха Каччаяна (страница отсутствует)\">русск.</a></span></span>, учивший своих последователей <a href=\"/wiki/%D0%A0%D0%B5%D0%B4%D1%83%D0%BA%D1%86%D0%B8%D0%BE%D0%BD%D0%B8%D0%B7%D0%BC\" title=\"Редукционизм\">редукционизму</a> и <a href=\"/wiki/%D0%A0%D0%B5%D0%B0%D0%BB%D0%B8%D0%B7%D0%BC_(%D1%84%D0%B8%D0%BB%D0%BE%D1%81%D0%BE%D1%84%D0%B8%D1%8F)\" title=\"Реализм (философия)\">реализму</a><sup class=\"reference\" id=\"cite_ref-_76a4e9307e47371b_77-0\"><a href=\"#cite_note-_76a4e9307e47371b-77\">[73]</a></sup>, который впоследствии стал свойственен многим древнеиндийским философам<sup class=\"reference\" id=\"cite_ref-_15cd81bbb8ebda23_78-0\"><a href=\"#cite_note-_15cd81bbb8ebda23-78\">[74]</a></sup>.\n",
       "</p>, <p>В древнеиндийской традиции прослеживается течение <a href=\"/wiki/%D0%A1%D0%BE%D1%84%D0%B8%D0%B7%D0%BC\" title=\"Софизм\">софистов</a>, «<a href=\"/wiki/%D0%9B%D0%BE%D0%BA%D0%B0%D1%8F%D1%82%D0%B0\" title=\"Локаята\">Локаята</a>», полемическая традиция которых способствовала появлению множества «философских кружков»<sup class=\"reference\" id=\"cite_ref-_3b35440e85f5245e_79-0\"><a href=\"#cite_note-_3b35440e85f5245e-79\">[75]</a></sup>. В дальнейшем (IV в. до н. э. — II в. н. э.) в Индии формируются <a class=\"mw-redirect\" href=\"/wiki/%D0%94%D0%B0%D1%80%D1%88%D0%B0%D0%BD%D1%8B\" title=\"Даршаны\">даршаны</a> — философские школы, которые разбиваются на те, которые считают Веды авторитетом, и на те, которые отрицают их авторитет. К первой группе относятся в первую очередь шесть классических школ <a href=\"/wiki/%D0%A4%D0%B8%D0%BB%D0%BE%D1%81%D0%BE%D1%84%D0%B8%D1%8F_%D0%B8%D0%BD%D0%B4%D1%83%D0%B8%D0%B7%D0%BC%D0%B0\" title=\"Философия индуизма\">философии индуизма</a>: <a href=\"/wiki/%D0%A1%D0%B0%D0%BD%D0%BA%D1%85%D1%8C%D1%8F\" title=\"Санкхья\">санкхья</a>, <a href=\"/wiki/%D0%A0%D0%B0%D0%B4%D0%B6%D0%B0-%D0%B9%D0%BE%D0%B3%D0%B0\" title=\"Раджа-йога\">йога</a>, <a href=\"/wiki/%D0%9D%D1%8C%D1%8F%D1%8F\" title=\"Ньяя\">ньяя</a>, <a href=\"/wiki/%D0%92%D0%B0%D0%B9%D1%88%D0%B5%D1%88%D0%B8%D0%BA%D0%B0\" title=\"Вайшешика\">вайшешика</a>, <a href=\"/wiki/%D0%9C%D0%B8%D0%BC%D0%B0%D0%BD%D1%81%D0%B0\" title=\"Миманса\">миманса</a> и <a href=\"/wiki/%D0%92%D0%B5%D0%B4%D0%B0%D0%BD%D1%82%D0%B0\" title=\"Веданта\">веданта</a>. Ко второй группе относятся локаята, <a class=\"extiw\" href=\"https://en.wikipedia.org/wiki/Early_Buddhist_schools\" title=\"en:Early Buddhist schools\">школы раннего буддизма</a><span style=\"white-space: nowrap\"><span class=\"noprint\" style=\"font-size:95%; position: relative; top: .4em;\"> <span class=\"ref-info\" style=\"cursor:help;\" title=\"на английском языке\">(англ.)</span></span><span class=\"link-ru metadata noprint\" style=\"font-size:80%; margin-left:-1.7em; position: relative; top: -.4em;\"><a class=\"new\" href=\"/w/index.php?title=%D0%A8%D0%BA%D0%BE%D0%BB%D1%8B_%D1%80%D0%B0%D0%BD%D0%BD%D0%B5%D0%B3%D0%BE_%D0%B1%D1%83%D0%B4%D0%B4%D0%B8%D0%B7%D0%BC%D0%B0&amp;action=edit&amp;redlink=1\" title=\"Школы раннего буддизма (страница отсутствует)\">русск.</a></span></span>, <a class=\"extiw\" href=\"https://en.wikipedia.org/wiki/Jain_philosophy\" title=\"en:Jain philosophy\">школа джайнизма</a><span style=\"white-space: nowrap\"><span class=\"noprint\" style=\"font-size:95%; position: relative; top: .4em;\"> <span class=\"ref-info\" style=\"cursor:help;\" title=\"на английском языке\">(англ.)</span></span><span class=\"link-ru metadata noprint\" style=\"font-size:80%; margin-left:-1.7em; position: relative; top: -.4em;\"><a class=\"new\" href=\"/w/index.php?title=%D0%94%D0%B6%D0%B0%D0%B9%D0%BD%D1%81%D0%BA%D0%B0%D1%8F_%D1%84%D0%B8%D0%BB%D0%BE%D1%81%D0%BE%D1%84%D0%B8%D1%8F&amp;action=edit&amp;redlink=1\" title=\"Джайнская философия (страница отсутствует)\">русск.</a></span></span> и другие<sup class=\"reference\" id=\"cite_ref-_080b749c8e1c41e8_80-0\"><a href=\"#cite_note-_080b749c8e1c41e8-80\">[76]</a></sup>. Характерной общей особенностью индийской философии была приверженность многих школ ярко выраженному <a href=\"/wiki/%D0%A0%D0%B5%D0%B0%D0%BB%D0%B8%D0%B7%D0%BC_(%D1%84%D0%B8%D0%BB%D0%BE%D1%81%D0%BE%D1%84%D0%B8%D1%8F)\" title=\"Реализм (философия)\">реализму</a> в сочетании с интересом к <a href=\"/wiki/%D0%AD%D0%BF%D0%B8%D1%81%D1%82%D0%B5%D0%BC%D0%BE%D0%BB%D0%BE%D0%B3%D0%B8%D1%8F\" title=\"Эпистемология\">эпистемологии</a>, к достоверности средств познания<sup class=\"reference\" id=\"cite_ref-_30c33583fdce3fc4_81-0\"><a href=\"#cite_note-_30c33583fdce3fc4-81\">[77]</a></sup>.\n",
       "</p>, <p>Древнеиндийская философия в своём становлении проходила те же первые этапы, что и греческая, однако происходило это значительно медленнее, что предположительно может быть связано с тем, что <a href=\"/wiki/%D0%9B%D0%BE%D0%B3%D0%B8%D0%BA%D0%B0\" title=\"Логика\">логика</a> рассуждений индийских философов была привязана к <a href=\"/wiki/%D0%9B%D0%B8%D0%BD%D0%B3%D0%B2%D0%B8%D1%81%D1%82%D0%B8%D0%BA%D0%B0\" title=\"Лингвистика\">лингвистике</a>, а не к <a href=\"/wiki/%D0%9C%D0%B0%D1%82%D0%B5%D0%BC%D0%B0%D1%82%D0%B8%D0%BA%D0%B0\" title=\"Математика\">математике</a>, как у <a href=\"/wiki/%D0%94%D0%BE%D1%81%D0%BE%D0%BA%D1%80%D0%B0%D1%82%D0%B8%D0%BA%D0%B8\" title=\"Досократики\">досократиков</a><sup class=\"reference\" id=\"cite_ref-_909272ad9f7b2e36_82-0\"><a href=\"#cite_note-_909272ad9f7b2e36-82\">[78]</a></sup><sup class=\"reference\" id=\"cite_ref-_98153011c82ab2f8_83-0\"><a href=\"#cite_note-_98153011c82ab2f8-83\">[79]</a></sup>. Древнеиндийский <a href=\"/wiki/%D0%9A%D0%B0%D1%82%D0%B5%D0%B3%D0%BE%D1%80%D0%B8%D1%87%D0%B5%D1%81%D0%BA%D0%B8%D0%B9_%D1%81%D0%B8%D0%BB%D0%BB%D0%BE%D0%B3%D0%B8%D0%B7%D0%BC\" title=\"Категорический силлогизм\">силлогизм</a> обычно состоял из пяти и более ступеней, против классических трёх ступеней<sup class=\"reference\" id=\"cite_ref-_15cd81bbb8ebda23_78-1\"><a href=\"#cite_note-_15cd81bbb8ebda23-78\">[74]</a></sup>, и рассуждения рассматривались как стратегии убеждения, а не как <a href=\"/wiki/%D0%94%D0%BE%D0%BA%D0%B0%D0%B7%D0%B0%D1%82%D0%B5%D0%BB%D1%8C%D1%81%D1%82%D0%B2%D0%BE_(%D0%BB%D0%BE%D0%B3%D0%B8%D0%BA%D0%B0)\" title=\"Доказательство (логика)\">доказательства</a><sup class=\"reference\" id=\"cite_ref-_909272ad9f7b2e39_84-0\"><a href=\"#cite_note-_909272ad9f7b2e39-84\">[80]</a></sup>. Древнеиндийская философия проработала многие вопросы <a href=\"/wiki/%D0%9B%D0%BE%D0%B3%D0%B8%D0%BA%D0%B0\" title=\"Логика\">логики</a><sup class=\"reference\" id=\"cite_ref-_8588067a0fd01bc6_85-0\"><a href=\"#cite_note-_8588067a0fd01bc6-85\">[81]</a></sup>, ввела понятие, собственно, философии<sup class=\"reference\" id=\"cite_ref-ind_def_86-0\"><a href=\"#cite_note-ind_def-86\">[прим. 5]</a></sup>, а в некоторых аспектах раннего буддизма приступила к проработке философских вопросов, к которым <a href=\"/wiki/%D0%97%D0%B0%D0%BF%D0%B0%D0%B4%D0%BD%D0%B0%D1%8F_%D1%84%D0%B8%D0%BB%D0%BE%D1%81%D0%BE%D1%84%D0%B8%D1%8F\" title=\"Западная философия\">европейская философия</a> подошла только к периоду <a href=\"/wiki/%D0%9D%D0%BE%D0%B2%D0%BE%D0%B5_%D0%B2%D1%80%D0%B5%D0%BC%D1%8F\" title=\"Новое время\">нового времени</a><sup class=\"reference\" id=\"cite_ref-_8828d84546581e82_87-0\"><a href=\"#cite_note-_8828d84546581e82-87\">[82]</a></sup>. Вместе с этим в Индии логика философского рассуждения не достигла уровня <a href=\"/wiki/%D0%90%D1%80%D0%B8%D1%81%D1%82%D0%BE%D1%82%D0%B5%D0%BB%D1%8C\" title=\"Аристотель\">Аристотеля</a> вплоть до начала XX века<sup class=\"reference\" id=\"cite_ref-_98152d11c82aad84_88-0\"><a href=\"#cite_note-_98152d11c82aad84-88\">[83]</a></sup>, и в Индии даже в традициях развитого буддизма не были созданы тексты, аналогичные платоновским и аристотелевским, которые могли бы стать ядром более зрелых философских школ, аналогичных античным школам<sup class=\"reference\" id=\"cite_ref-_ff7d02426f1248ab_89-0\"><a href=\"#cite_note-_ff7d02426f1248ab-89\">[84]</a></sup>, и, таким образом, индийская философия прошла приблизительно лишь половину пути, пройденного <a href=\"/wiki/%D0%94%D1%80%D0%B5%D0%B2%D0%BD%D0%B5%D0%B3%D1%80%D0%B5%D1%87%D0%B5%D1%81%D0%BA%D0%B0%D1%8F_%D1%84%D0%B8%D0%BB%D0%BE%D1%81%D0%BE%D1%84%D0%B8%D1%8F\" title=\"Древнегреческая философия\">древнегреческой философией</a><sup class=\"reference\" id=\"cite_ref-_c0e7f6febd1fa4db_90-0\"><a href=\"#cite_note-_c0e7f6febd1fa4db-90\">[85]</a></sup>. Последующее в Индии доминирование уже канонизированных <a href=\"/wiki/%D0%91%D1%83%D0%B4%D0%B4%D0%B8%D0%B7%D0%BC\" title=\"Буддизм\">буддизма</a> и <a href=\"/wiki/%D0%94%D0%B6%D0%B0%D0%B9%D0%BD%D0%B8%D0%B7%D0%BC\" title=\"Джайнизм\">джайнизма</a>, возможно, послужило причиной значительного снижения разнообразия школ индийской философии и сказалось на темпах её развития<sup class=\"reference\" id=\"cite_ref-_69ab361c226a30b5_91-0\"><a href=\"#cite_note-_69ab361c226a30b5-91\">[86]</a></sup>.\n",
       "</p>, <p>Хотя китайские классические тексты описывают период «<a href=\"/wiki/%D0%A1%D1%82%D0%BE_%D1%88%D0%BA%D0%BE%D0%BB\" title=\"Сто школ\">ста философских школ</a>», которым приписывается зарождение философии в <a class=\"mw-redirect\" href=\"/wiki/%D0%9A%D0%B8%D1%82%D0%B0%D0%B9_(%D1%81%D1%82%D1%80%D0%B0%D0%BD%D0%B0)\" title=\"Китай (страна)\">Китае</a><sup class=\"reference\" id=\"cite_ref-_94b89489213124af_92-0\"><a href=\"#cite_note-_94b89489213124af-92\">[87]</a></sup>, исторические и лингвистические данные свидетельствуют о том, что в реальности этих школ было значительно меньше, причём учение <a href=\"/wiki/%D0%9A%D0%BE%D0%BD%D1%84%D1%83%D1%86%D0%B8%D0%B9\" title=\"Конфуций\">Конфуция</a> возникло первым, в VI—V вв. до н. э., а остальные школы, самые известные из которых — <a href=\"/wiki/%D0%94%D0%B0%D0%BE%D1%81%D0%B8%D0%B7%D0%BC\" title=\"Даосизм\">даосизм</a> и <a href=\"/wiki/%D0%9B%D0%B5%D0%B3%D0%B8%D0%B7%D0%BC\" title=\"Легизм\">легизм</a>, зарождались и развивались, формулируя свои учения уже по отношению к <a href=\"/wiki/%D0%9A%D0%BE%D0%BD%D1%84%D1%83%D1%86%D0%B8%D0%B0%D0%BD%D1%81%D1%82%D0%B2%D0%BE\" title=\"Конфуцианство\">конфуцианству</a><sup class=\"reference\" id=\"cite_ref-_466b83ae95846d0b_44-1\"><a href=\"#cite_note-_466b83ae95846d0b-44\">[42]</a></sup><sup class=\"reference\" id=\"cite_ref-_44e1f234c5da37a3_93-0\"><a href=\"#cite_note-_44e1f234c5da37a3-93\">[88]</a></sup>. В частности, тексты легендарного основателя даосизма <a href=\"/wiki/%D0%9B%D0%B0%D0%BE-%D1%86%D0%B7%D1%8B\" title=\"Лао-цзы\">Лао-цзы</a> возникли после Конфуция<sup class=\"reference\" id=\"cite_ref-_df453e8b53dd3515_94-0\"><a href=\"#cite_note-_df453e8b53dd3515-94\">[89]</a></sup>.\n",
       "</p>, <p>Отличительной особенностью <a href=\"/wiki/%D0%9A%D0%B8%D1%82%D0%B0%D0%B9%D1%81%D0%BA%D0%B0%D1%8F_%D1%84%D0%B8%D0%BB%D0%BE%D1%81%D0%BE%D1%84%D0%B8%D1%8F\" title=\"Китайская философия\">китайской философии</a> является абсолютное преобладание в ней <a href=\"/wiki/%D0%9F%D1%80%D0%B0%D0%BA%D1%82%D0%B8%D1%87%D0%B5%D1%81%D0%BA%D0%B0%D1%8F_%D1%84%D0%B8%D0%BB%D0%BE%D1%81%D0%BE%D1%84%D0%B8%D1%8F\" title=\"Практическая философия\">практической философии</a>, в особенности <a href=\"/wiki/%D0%AD%D1%82%D0%B8%D0%BA%D0%B0\" title=\"Этика\">этики</a> и <a href=\"/wiki/%D0%9F%D0%BE%D0%BB%D0%B8%D1%82%D0%B8%D1%87%D0%B5%D1%81%D0%BA%D0%B0%D1%8F_%D1%84%D0%B8%D0%BB%D0%BE%D1%81%D0%BE%D1%84%D0%B8%D1%8F\" title=\"Политическая философия\">политической философии</a>. Китайские философы в первую очередь задавались вопросами, каким должен быть идеальный гражданин и идеальный правитель, что требуется для поддержания гармонии и порядка в государстве и обществе, а полемика между различными школами вращалась вокруг истинного источника гармонии в мире и обществе<sup class=\"reference\" id=\"cite_ref-_932a36c6fecff6fa_95-0\"><a href=\"#cite_note-_932a36c6fecff6fa-95\">[90]</a></sup>. По большому счёту это связано, с одной стороны, с тем, что китайское общество этого периода только что пережило ряд политических потрясений и старалось переосмыслить политическую конфигурацию государства<sup class=\"reference\" id=\"cite_ref-_94b89489213124af_92-1\"><a href=\"#cite_note-_94b89489213124af-92\">[87]</a></sup><sup class=\"reference\" id=\"cite_ref-_44e1f234c5da37a3_93-1\"><a href=\"#cite_note-_44e1f234c5da37a3-93\">[88]</a></sup>, а, с другой стороны, с тем, что <a href=\"/wiki/%D0%93%D1%80%D0%B0%D0%BC%D0%BE%D1%82%D0%BD%D0%BE%D1%81%D1%82%D1%8C\" title=\"Грамотность\">грамотность</a>, а, как следствие, и возможность заниматься философией находилась в <a class=\"mw-redirect\" href=\"/wiki/%D0%9A%D0%B8%D1%82%D0%B0%D0%B9_(%D1%81%D1%82%D1%80%D0%B0%D0%BD%D0%B0)\" title=\"Китай (страна)\">Китае</a> в зависимости от строгой <a href=\"/wiki/%D0%98%D0%B5%D1%80%D0%B0%D1%80%D1%85%D0%B8%D1%8F\" title=\"Иерархия\">иерархии</a> общества. Философы, таким образом, оказывались приближёнными к политикам и чиновникам, но изолированными от других слоёв общества<sup class=\"reference\" id=\"cite_ref-_70ddcd0259021fca_96-0\"><a href=\"#cite_note-_70ddcd0259021fca-96\">[91]</a></sup>.\n",
       "</p>, <p>В период становления китайской философии ряд философских школ ставили вопросы <a href=\"/wiki/%D0%9C%D0%B5%D1%82%D0%B0%D1%84%D0%B8%D0%B7%D0%B8%D0%BA%D0%B0\" title=\"Метафизика\">метафизики</a>, <a href=\"/wiki/%D0%AD%D0%BF%D0%B8%D1%81%D1%82%D0%B5%D0%BC%D0%BE%D0%BB%D0%BE%D0%B3%D0%B8%D1%8F\" title=\"Эпистемология\">эпистемологии</a> и <a href=\"/wiki/%D0%9D%D0%B0%D1%82%D1%83%D1%80%D1%84%D0%B8%D0%BB%D0%BE%D1%81%D0%BE%D1%84%D0%B8%D1%8F\" title=\"Натурфилософия\">натурфилософии</a>, что в особенности относится к <a href=\"/wiki/%D0%9C%D0%BE%D0%B8%D0%B7%D0%BC\" title=\"Моизм\">моистам</a> и <a href=\"/wiki/%D0%98%D0%BD%D1%8C_%D1%8F%D0%BD_%D1%86%D0%B7%D1%8F\" title=\"Инь ян цзя\">инь ян цзя</a>, однако серьёзного продолжения эта работа не получила. С одной стороны, философы в Китае подверглись серьёзным гонениям, а, с другой стороны, в Китае возобладала философия Конфуция, которая уделяла наибольшее внимание вопросам <a href=\"/wiki/%D0%AD%D1%82%D0%B8%D0%BA%D0%B0\" title=\"Этика\">этики</a>, а в вопросах <a class=\"mw-redirect\" href=\"/wiki/%D0%91%D1%8B%D1%82%D0%B8%D0%B5_(%D1%84%D0%B8%D0%BB%D0%BE%D1%81%D0%BE%D1%84%D0%B8%D1%8F)\" title=\"Бытие (философия)\">бытия</a> опиралась на традиционную <a href=\"/wiki/%D0%9A%D0%B8%D1%82%D0%B0%D0%B9%D1%81%D0%BA%D0%B0%D1%8F_%D0%BC%D0%B8%D1%84%D0%BE%D0%BB%D0%BE%D0%B3%D0%B8%D1%8F\" title=\"Китайская мифология\">китайскую мифологию</a>, причём постулировала наилучшим источником знания древние тексты. Более того, в период <a class=\"mw-redirect\" href=\"/wiki/%D0%A5%D0%B0%D0%BD%D1%8C_(%D0%B4%D0%B8%D0%BD%D0%B0%D1%81%D1%82%D0%B8%D1%8F)\" title=\"Хань (династия)\">династии Хань</a>, с III в до н. э., конфуцианству был предан де-факто статус религии, и философия в Китае была вынуждена развиваться относительно конфуцианского канона<sup class=\"reference\" id=\"cite_ref-_466b83ae95846d0b_44-2\"><a href=\"#cite_note-_466b83ae95846d0b-44\">[42]</a></sup><sup class=\"reference\" id=\"cite_ref-_70ddcd0259021fca_96-1\"><a href=\"#cite_note-_70ddcd0259021fca-96\">[91]</a></sup><sup class=\"reference\" id=\"cite_ref-_47168a3e4493d865_97-0\"><a href=\"#cite_note-_47168a3e4493d865-97\">[92]</a></sup>.\n",
       "</p>, <p>Относительно прошедшего и последующих периодов развитие философии в мире в IV—XVI вв. происходило медленно. В <a href=\"/wiki/%D0%95%D0%B2%D1%80%D0%BE%D0%BF%D0%B0\" title=\"Европа\">Европе</a> и на <a href=\"/wiki/%D0%91%D0%BB%D0%B8%D0%B6%D0%BD%D0%B8%D0%B9_%D0%92%D0%BE%D1%81%D1%82%D0%BE%D0%BA\" title=\"Ближний Восток\">Ближнем Востоке</a> это было отчасти связано с канонизацией текстов <a href=\"/wiki/%D0%90%D1%80%D0%B8%D1%81%D1%82%D0%BE%D1%82%D0%B5%D0%BB%D1%8C\" title=\"Аристотель\">Аристотеля</a> и <a href=\"/wiki/%D0%9F%D0%BB%D0%B0%D1%82%D0%BE%D0%BD\" title=\"Платон\">Платона</a>, а отчасти с доминированием в этих регионах <a href=\"/wiki/%D0%9C%D0%BE%D0%BD%D0%BE%D1%82%D0%B5%D0%B8%D0%B7%D0%BC\" title=\"Монотеизм\">монотеистических религий</a><sup class=\"reference\" id=\"cite_ref-_19c6322da2a1944c_98-0\"><a href=\"#cite_note-_19c6322da2a1944c-98\">[93]</a></sup>. Формула <a href=\"/wiki/%D0%9A%D0%B0%D1%82%D0%BE%D0%BB%D0%B8%D1%86%D0%B8%D0%B7%D0%BC\" title=\"Католицизм\">католического</a> <a href=\"/wiki/%D0%9C%D0%BE%D0%BD%D0%B0%D1%85\" title=\"Монах\">монаха</a> XI века <a href=\"/wiki/%D0%9F%D1%91%D1%82%D1%80_%D0%94%D0%B0%D0%BC%D0%B8%D0%B0%D0%BD%D0%B8\" title=\"Пётр Дамиани\">Петра Дамиани</a> «Философия есть служанка <a href=\"/wiki/%D0%91%D0%BE%D0%B3%D0%BE%D1%81%D0%BB%D0%BE%D0%B2%D0%B8%D0%B5\" title=\"Богословие\">теологии</a>»<sup class=\"reference\" id=\"cite_ref-99\"><a href=\"#cite_note-99\">[94]</a></sup> стала крылатой среди современных характеристик развития философии этого периода, подчёркивая очень узкие рамки возможного философского новаторства<sup class=\"reference\" id=\"cite_ref-_e3a7c7b21d3cc7e6_100-0\"><a href=\"#cite_note-_e3a7c7b21d3cc7e6-100\">[95]</a></sup>. В Индии развитие философской мысли никогда не происходило высокими темпами, а широкое распространение <a href=\"/wiki/%D0%91%D1%83%D0%B4%D0%B4%D0%B8%D0%B7%D0%BC\" title=\"Буддизм\">буддизма</a> к концу III в. н. э. негативно повлияло на разнообразие философских концепций<link href=\"mw-data:TemplateStyles:r104609042\" rel=\"mw-deduplicated-inline-style\"/><span class=\"ts-Переход noprint\" title=\"#Философия в Индии и на Дальнем Востоке\"><sup><a href=\"#Философия_в_Индии_и_на_Дальнем_Востоке\">[⇨]</a></sup></span>. Наконец, в <a class=\"mw-redirect\" href=\"/wiki/%D0%9A%D0%B8%D1%82%D0%B0%D0%B9_(%D1%81%D1%82%D1%80%D0%B0%D0%BD%D0%B0)\" title=\"Китай (страна)\">Китае</a> развитию философии мешали гонения на философов, распространение буддизма и канонизация текстов <a href=\"/wiki/%D0%9A%D0%BE%D0%BD%D1%84%D1%83%D1%86%D0%B8%D0%B9\" title=\"Конфуций\">Конфуция</a><sup class=\"reference\" id=\"cite_ref-_70ddcd0259021fca_96-2\"><a href=\"#cite_note-_70ddcd0259021fca-96\">[91]</a></sup>. По большому счёту, на срок, превышающий целое тысячелетие, философия огромного пространства цивилизованного мира оказалась под практически полным влиянием мировоззрений всего шести персоналий: Платона, Аристотеля, Конфуция, <a href=\"/wiki/%D0%91%D1%83%D0%B4%D0%B4%D0%B0_%D0%A8%D0%B0%D0%BA%D1%8C%D1%8F%D0%BC%D1%83%D0%BD%D0%B8\" title=\"Будда Шакьямуни\">Будды</a>, <a href=\"/wiki/%D0%9C%D1%83%D1%85%D0%B0%D0%BC%D0%BC%D0%B5%D0%B4\" title=\"Мухаммед\">Мухаммеда</a> и <a href=\"/wiki/%D0%A5%D1%80%D0%B8%D1%81%D1%82%D0%BE%D1%81\" title=\"Христос\">Христа</a>.\n",
       "</p>, <p>Характерно также, что и философия Европы, и философия Китая проделали в этот период своеобразный круг. Европейская философия, оттолкнувшись от <a href=\"/wiki/%D0%90%D0%BD%D1%82%D0%B8%D1%87%D0%BD%D0%B0%D1%8F_%D1%84%D0%B8%D0%BB%D0%BE%D1%81%D0%BE%D1%84%D0%B8%D1%8F\" title=\"Античная философия\">античной философии</a>, надолго приросла к христианской теологии<link href=\"mw-data:TemplateStyles:r104609042\" rel=\"mw-deduplicated-inline-style\"/><span class=\"ts-Переход noprint\" title=\"#Христианская философия\"><sup><a href=\"#Христианская_философия\">[⇨]</a></sup></span>, только затем, чтобы вернуться обратно к античной философии в <a href=\"/wiki/%D0%92%D0%BE%D0%B7%D1%80%D0%BE%D0%B6%D0%B4%D0%B5%D0%BD%D0%B8%D0%B5\" title=\"Возрождение\">эпоху Возрождения</a><link href=\"mw-data:TemplateStyles:r104609042\" rel=\"mw-deduplicated-inline-style\"/><span class=\"ts-Переход noprint\" title=\"#Философия эпохи Возрождения\"><sup><a href=\"#Философия_эпохи_Возрождения\">[⇨]</a></sup></span>. Аналогично философия Китая ещё быстрее возвращается к <a href=\"/wiki/%D0%9A%D0%BE%D0%BD%D1%84%D1%83%D1%86%D0%B8%D0%B0%D0%BD%D1%81%D1%82%D0%B2%D0%BE\" title=\"Конфуцианство\">конфуцианству</a> после многовекового «увлечения» буддизмом<link href=\"mw-data:TemplateStyles:r104609042\" rel=\"mw-deduplicated-inline-style\"/><span class=\"ts-Переход noprint\" title=\"#Философия в Китае\"><sup><a href=\"#Философия_в_Китае\">[⇨]</a></sup></span>. В Индии же в этот период философия просто очень медленно прогрессирует, почти не изменившись со времён своего эпического периода II в. до н. э. — II в. н. э.<link href=\"mw-data:TemplateStyles:r104609042\" rel=\"mw-deduplicated-inline-style\"/><span class=\"ts-Переход noprint\" title=\"#Философия в Индии и на Дальнем Востоке\"><sup><a href=\"#Философия_в_Индии_и_на_Дальнем_Востоке\">[⇨]</a></sup></span>\n",
       "</p>, <p>Философия в регионах, где практиковалось <a href=\"/wiki/%D0%A5%D1%80%D0%B8%D1%81%D1%82%D0%B8%D0%B0%D0%BD%D1%81%D1%82%D0%B2%D0%BE\" title=\"Христианство\">христианство</a>, развивалась медленно, в связи с тем, что была подчинена определённой доктрине<sup class=\"reference\" id=\"cite_ref-_19d570b2208e6773_101-0\"><a href=\"#cite_note-_19d570b2208e6773-101\">[96]</a></sup>. Первоначальный период христианской философии (до IV века) характеризуется попытками рационально обосновать христианство, придать ему дополнительный вес. Этот период философии называется «<a href=\"/wiki/%D0%9F%D0%B0%D1%82%D1%80%D0%B8%D1%81%D1%82%D0%B8%D0%BA%D0%B0\" title=\"Патристика\">патристикой</a>», а его наиболее яркой фигурой считается <a href=\"/wiki/%D0%90%D0%B2%D1%80%D0%B5%D0%BB%D0%B8%D0%B9_%D0%90%D0%B2%D0%B3%D1%83%D1%81%D1%82%D0%B8%D0%BD\" title=\"Аврелий Августин\">Блаженный Августин</a>, который провёл интеграцию <a href=\"/wiki/%D0%9D%D0%B5%D0%BE%D0%BF%D0%BB%D0%B0%D1%82%D0%BE%D0%BD%D0%B8%D0%B7%D0%BC\" title=\"Неоплатонизм\">неоплатонизма</a> и христианства, устранив из неоплатонизма всё, что противоречило <a href=\"/wiki/%D0%91%D0%B8%D0%B1%D0%BB%D0%B8%D1%8F\" title=\"Библия\">Библии</a>. Более поздний период христианской философии называется «<a href=\"/wiki/%D0%A1%D1%85%D0%BE%D0%BB%D0%B0%D1%81%D1%82%D0%B8%D0%BA%D0%B0\" title=\"Схоластика\">схоластикой</a>», которая характеризуется формированием философских школ при церковных организациях, которые выполняли различные поручения церкви. Самым известным философом этого периода является <a href=\"/wiki/%D0%A4%D0%BE%D0%BC%D0%B0_%D0%90%D0%BA%D0%B2%D0%B8%D0%BD%D1%81%D0%BA%D0%B8%D0%B9\" title=\"Фома Аквинский\">Фома Аквинский</a>, который, выполняя такое поручение, объединил христианство с <a href=\"/wiki/%D0%90%D1%80%D0%B8%D1%81%D1%82%D0%BE%D1%82%D0%B5%D0%BB%D0%B8%D0%B7%D0%BC\" title=\"Аристотелизм\">аристотелизмом</a>. Философия Фомы Аквинского по сей день является «официальной» философией <a href=\"/wiki/%D0%9A%D0%B0%D1%82%D0%BE%D0%BB%D0%B8%D1%86%D0%B8%D0%B7%D0%BC\" title=\"Католицизм\">Католической церкви</a>, преподаваемой в её <a href=\"/wiki/%D0%9A%D0%BE%D0%BB%D0%BB%D0%B5%D0%B4%D0%B6\" title=\"Колледж\">колледжах</a> и <a href=\"/wiki/%D0%A1%D0%B5%D0%BC%D0%B8%D0%BD%D0%B0%D1%80%D0%B8%D1%8F\" title=\"Семинария\">семинариях</a>. Фома Аквинский также известен своими <a class=\"extiw\" href=\"https://en.wikipedia.org/wiki/Quinque_viae\" title=\"en:Quinque viae\">пятью доказательствами существования Бога</a><span style=\"white-space: nowrap\"><span class=\"noprint\" style=\"font-size:95%; position: relative; top: .4em;\"> <span class=\"ref-info\" style=\"cursor:help;\" title=\"на английском языке\">(англ.)</span></span><span class=\"link-ru metadata noprint\" style=\"font-size:80%; margin-left:-1.7em; position: relative; top: -.4em;\"><a class=\"new\" href=\"/w/index.php?title=%D0%9F%D1%8F%D1%82%D1%8C_%D0%B4%D0%BE%D0%BA%D0%B0%D0%B7%D0%B0%D1%82%D0%B5%D0%BB%D1%8C%D1%81%D1%82%D0%B2_%D0%B1%D1%8B%D1%82%D0%B8%D1%8F_%D0%91%D0%BE%D0%B3%D0%B0&amp;action=edit&amp;redlink=1\" title=\"Пять доказательств бытия Бога (страница отсутствует)\">русск.</a></span></span><sup class=\"reference\" id=\"cite_ref-_7097382bd9c59ee1_63-1\"><a href=\"#cite_note-_7097382bd9c59ee1-63\">[60]</a></sup><sup class=\"reference\" id=\"cite_ref-_d3c744abb9bf3a2a_102-0\"><a href=\"#cite_note-_d3c744abb9bf3a2a-102\">[97]</a></sup>.\n",
       "</p>, <p>Зарождение <a href=\"/wiki/%D0%98%D1%81%D0%BB%D0%B0%D0%BC%D1%81%D0%BA%D0%B0%D1%8F_%D1%84%D0%B8%D0%BB%D0%BE%D1%81%D0%BE%D1%84%D0%B8%D1%8F\" title=\"Исламская философия\">исламской философии</a> относится к VIII—IX вв. Один из первых известных философов <a href=\"/wiki/%D0%98%D1%81%D0%BB%D0%B0%D0%BC\" title=\"Ислам\">ислама</a>, <a href=\"/wiki/%D0%90%D0%BB%D1%8C-%D0%9A%D0%B8%D0%BD%D0%B4%D0%B8\" title=\"Аль-Кинди\">Аль-Кинди</a>, познакомился с трудами <a href=\"/wiki/%D0%90%D1%80%D0%B8%D1%81%D1%82%D0%BE%D1%82%D0%B5%D0%BB%D1%8C\" title=\"Аристотель\">Аристотеля</a> и <a href=\"/wiki/%D0%9F%D0%BB%D0%B0%D1%82%D0%BE%D0%BD\" title=\"Платон\">Платона</a>, дал «<a href=\"/wiki/%D0%9D%D0%B5%D0%BE%D0%BF%D0%BB%D0%B0%D1%82%D0%BE%D0%BD%D0%B8%D0%B7%D0%BC\" title=\"Неоплатонизм\">неоплатоническое</a>» определение <a href=\"/wiki/%D0%90%D0%BB%D0%BB%D0%B0%D1%85\" title=\"Аллах\">Аллаха</a> как абсолютного и трансцендентного сущего, а затем стал приверженцем <a href=\"/wiki/%D0%90%D1%80%D0%B8%D1%81%D1%82%D0%BE%D1%82%D0%B5%D0%BB%D0%B8%D0%B7%D0%BC\" title=\"Аристотелизм\">аристотелизма</a>. Попытки одновременной интеграции в ислам и неоплатонизма, и аристотелизма были характерны для последователей Аль-Кинди, среди которых наиболее известными были <a class=\"mw-redirect\" href=\"/wiki/%D0%90%D0%B2%D0%B8%D1%86%D0%B5%D0%BD%D0%BD%D0%B0\" title=\"Авиценна\">Авиценна</a> и <a href=\"/wiki/%D0%98%D0%B1%D0%BD_%D0%A0%D1%83%D1%88%D0%B4\" title=\"Ибн Рушд\">Ибн Рушд</a><sup class=\"reference\" id=\"cite_ref-_46705d3ddcfd39a1_103-0\"><a href=\"#cite_note-_46705d3ddcfd39a1-103\">[98]</a></sup>. Характерно, что работы Аристотеля лучше сохранились в арабских переводах на Востоке, чем в средневековой Европе, и некоторые трактаты сохранились благодаря переводам с арабского на латынь<sup class=\"reference\" id=\"cite_ref-_77d9e2085a326fea_64-1\"><a href=\"#cite_note-_77d9e2085a326fea-64\">[61]</a></sup>.\n",
       "</p>, <p>Одной из основных проблем исламской философии, растянувшейся на несколько веков, было противостояние между <a href=\"/wiki/%D0%A6%D0%B5%D1%80%D0%BA%D0%BE%D0%B2%D0%BD%D1%8B%D0%B9_%D0%BA%D0%B0%D0%BD%D0%BE%D0%BD\" title=\"Церковный канон\">каноном</a> ислама и мистическими исламскими сектами. Многие исламские философы предпринимали попытки рационально поддержать канон, однако основное мистическое направление — <a href=\"/wiki/%D0%A1%D1%83%D1%84%D0%B8%D0%B7%D0%BC\" title=\"Суфизм\">суфизм</a> — к XIII веку выделилось в отдельное направление ислама. Суфизм во многом приближается к неоплатонизму и содержит элементы <a href=\"/wiki/%D0%A2%D0%B5%D0%BE%D1%81%D0%BE%D1%84%D0%B8%D1%8F\" title=\"Теософия\">теософии</a>. Наконец, в XVI веке персидский философ <a href=\"/wiki/%D0%9C%D1%83%D0%BB%D0%BB%D0%B0_%D0%A1%D0%B0%D0%B4%D1%80%D0%B0\" title=\"Мулла Садра\">мулла Садра</a> провёл интеграцию аристотелизма, неоплатонизма и ислама, и его философия стала наиболее влиятельной концепцией в исламе вплоть до настоящего времени<sup class=\"reference\" id=\"cite_ref-_6d627a8b5894f813_104-0\"><a href=\"#cite_note-_6d627a8b5894f813-104\">[99]</a></sup><sup class=\"reference\" id=\"cite_ref-_9406e29161a0011f_105-0\"><a href=\"#cite_note-_9406e29161a0011f-105\">[100]</a></sup>.\n",
       "</p>, <p>Становление философии <a href=\"/wiki/%D0%98%D1%83%D0%B4%D0%B0%D0%B8%D0%B7%D0%BC\" title=\"Иудаизм\">иудаизма</a> проходило, с одной стороны, под влиянием исламской философии, а, с другой стороны, под влиянием аристотелизма и неоплатонизма. Несколько мыслителей из последователей иудаизма попытались адаптировать эти концепции к иудаизму, включая <a href=\"/wiki/%D0%A1%D0%B0%D0%B0%D0%B4%D0%B8%D1%8F_%D0%93%D0%B0%D0%BE%D0%BD\" title=\"Саадия Гаон\">Саадия бен Йосефа</a>, который предпринял попытку создать еврейский калам по аналогии с <a class=\"mw-redirect\" href=\"/wiki/%D0%9A%D0%B0%D0%BB%D0%B0%D0%BC_(%D0%B4%D0%B8%D1%81%D1%86%D0%B8%D0%BF%D0%BB%D0%B8%D0%BD%D0%B0)\" title=\"Калам (дисциплина)\">исламскими каламами</a>, и <a href=\"/wiki/%D0%9C%D0%B0%D0%B9%D0%BC%D0%BE%D0%BD%D0%B8%D0%B4\" title=\"Маймонид\">Маймонида</a><sup class=\"reference\" id=\"cite_ref-_111833f4c9bad585_106-0\"><a href=\"#cite_note-_111833f4c9bad585-106\">[101]</a></sup>.\n",
       "</p>, <p>Развитие <a href=\"/wiki/%D0%98%D0%BD%D0%B4%D0%B8%D0%B9%D1%81%D0%BA%D0%B0%D1%8F_%D1%84%D0%B8%D0%BB%D0%BE%D1%81%D0%BE%D1%84%D0%B8%D1%8F\" title=\"Индийская философия\">философии в Индии</a> всегда происходило относительно медленно. Усугубляющим фактором стало широкое распространение к III в. н. э. в Индии <a href=\"/wiki/%D0%91%D1%83%D0%B4%D0%B4%D0%B8%D0%B7%D0%BC\" title=\"Буддизм\">буддизма</a>, в концепциях которого не приветствуются категоричные ответы на поставленные вопросы, что отрицательно сказывалось на развитии <a href=\"/wiki/%D0%9B%D0%BE%D0%B3%D0%B8%D0%BA%D0%B0\" title=\"Логика\">философской логики</a><sup class=\"reference\" id=\"cite_ref-_d203ded4985c0157_107-0\"><a href=\"#cite_note-_d203ded4985c0157-107\">[102]</a></sup>. Однако вторжение в Индию <a href=\"/wiki/%D0%98%D1%81%D0%BB%D0%B0%D0%BC\" title=\"Ислам\">мусульман</a> в VIII веке и ренессанс <a href=\"/wiki/%D0%98%D0%BD%D0%B4%D1%83%D0%B8%D0%B7%D0%BC\" title=\"Индуизм\">индуизма</a> в XIII веке обострили как <a href=\"/wiki/%D0%91%D0%BE%D0%B3%D0%BE%D1%81%D0%BB%D0%BE%D0%B2%D0%B8%D0%B5\" title=\"Богословие\">теологические</a>, так и философские дискуссии, и к XVI веку в Индии насчитывалось уже около 600 текстов, которые можно считать философскими. Прослеживаются параллели в обсуждаемых философских вопросах и вариантов ответов на них между философами Индии и их современниками из Европы — христианскими философами-<a href=\"/wiki/%D0%A1%D1%85%D0%BE%D0%BB%D0%B0%D1%81%D1%82%D0%B8%D0%BA%D0%B0\" title=\"Схоластика\">схоластами</a><sup class=\"reference\" id=\"cite_ref-_d3a1478be48ce4d3_108-0\"><a href=\"#cite_note-_d3a1478be48ce4d3-108\">[103]</a></sup>.\n",
       "</p>, <p><span id=\".D0.A4.D0.B8.D0.BB.D0.BE.D1.81.D0.BE.D1.84.D0.B8.D1.8F_.D0.B2_.D0.9A.D0.B8.D1.82.D0.B0.D0.B5\"><span id=\"Философия_в_Китае\"></span></span>Распространение буддизма в <a class=\"mw-redirect\" href=\"/wiki/%D0%9A%D0%B8%D1%82%D0%B0%D0%B9_(%D1%81%D1%82%D1%80%D0%B0%D0%BD%D0%B0)\" title=\"Китай (страна)\">Китае</a> в III—V вв. привело к появлению отдельной китайской ветви буддизма — <a href=\"/wiki/%D0%A7%D0%B0%D0%BD%D1%8C-%D0%B1%D1%83%D0%B4%D0%B4%D0%B8%D0%B7%D0%BC\" title=\"Чань-буддизм\">чань-буддизма</a>, которая сочетала в себе близкие философии одной из традиционных индийских буддийских школ, <a href=\"/wiki/%D0%9C%D0%B0%D1%85%D0%B0%D1%8F%D0%BD%D0%B0\" title=\"Махаяна\">Махаяны</a>, и китайского <a href=\"/wiki/%D0%94%D0%B0%D0%BE%D1%81%D0%B8%D0%B7%D0%BC\" title=\"Даосизм\">даосизма</a><sup class=\"reference\" id=\"cite_ref-_282c0f67125694ac_109-0\"><a href=\"#cite_note-_282c0f67125694ac-109\">[104]</a></sup>. Именно чань-буддизм распространяется в <a href=\"/wiki/%D0%AF%D0%BF%D0%BE%D0%BD%D0%B8%D1%8F\" title=\"Япония\">Японию</a>, в <a href=\"/wiki/%D0%9A%D0%BE%D1%80%D0%B5%D1%8F\" title=\"Корея\">Корею</a>, во <a href=\"/wiki/%D0%92%D1%8C%D0%B5%D1%82%D0%BD%D0%B0%D0%BC\" title=\"Вьетнам\">Вьетнам</a> и в другие страны <a href=\"/wiki/%D0%94%D0%B0%D0%BB%D1%8C%D0%BD%D0%B8%D0%B9_%D0%92%D0%BE%D1%81%D1%82%D0%BE%D0%BA\" title=\"Дальний Восток\">Дальнего Востока</a>, где получает название «<a class=\"mw-redirect\" href=\"/wiki/%D0%94%D0%B7%D1%8D%D0%BD-%D0%B1%D1%83%D0%B4%D0%B4%D0%B8%D0%B7%D0%BC\" title=\"Дзэн-буддизм\">дзэн-буддизм</a>». В Японии комбинация конфуцианства и дзэн-буддизма ложится в основу философии <a href=\"/wiki/%D0%A1%D0%B0%D0%BC%D1%83%D1%80%D0%B0%D0%B9\" title=\"Самурай\">самураев</a>. Буддизм принёс в Китай намного более развитый логический и категориальный аппарат, чем тот, каким пользовались древнекитайские философы, однако к XI веку влияние философии буддизма в Китае снижается, и наблюдается возврат к слегка модифицированному <a href=\"/wiki/%D0%9A%D0%BE%D0%BD%D1%84%D1%83%D1%86%D0%B8%D0%B0%D0%BD%D1%81%D1%82%D0%B2%D0%BE\" title=\"Конфуцианство\">конфуцианству</a>, которое получает название «<a href=\"/wiki/%D0%9D%D0%B5%D0%BE%D0%BA%D0%BE%D0%BD%D1%84%D1%83%D1%86%D0%B8%D0%B0%D0%BD%D1%81%D1%82%D0%B2%D0%BE\" title=\"Неоконфуцианство\">неоконфуцианство</a>»<sup class=\"reference\" id=\"cite_ref-_282c0f67125694ac_109-1\"><a href=\"#cite_note-_282c0f67125694ac-109\">[104]</a></sup>.\n",
       "</p>, <p>Основой <a href=\"/wiki/%D0%A4%D0%B8%D0%BB%D0%BE%D1%81%D0%BE%D1%84%D0%B8%D1%8F_%D0%92%D0%BE%D0%B7%D1%80%D0%BE%D0%B6%D0%B4%D0%B5%D0%BD%D0%B8%D1%8F\" title=\"Философия Возрождения\">философии Возрождения</a> явился <a href=\"/wiki/%D0%93%D1%83%D0%BC%D0%B0%D0%BD%D0%B8%D0%B7%D0%BC\" title=\"Гуманизм\">гуманизм</a> — уходящая корнями в итальянский <a href=\"/wiki/%D0%9F%D1%80%D0%BE%D1%82%D0%BE%D1%80%D0%B5%D0%BD%D0%B5%D1%81%D1%81%D0%B0%D0%BD%D1%81\" title=\"Проторенессанс\">проторенессанс</a> концепция, ставящая человека в центр философской системы «мир-человек». Гуманисты, которые не были «профессиональными философами», получающими учёные степени в европейских католических университетах, полагали, что философия не может обслуживать только божественное, а должна интересоваться делами земными, прежде всего человеком. Вместе с этим гуманисты не столько создавали собственную философию, сколько, выступая против «схоластизированного» <a href=\"/wiki/%D0%90%D1%80%D0%B8%D1%81%D1%82%D0%BE%D1%82%D0%B5%D0%BB%D1%8C\" title=\"Аристотель\">Аристотеля</a>, закреплённого <a class=\"mw-redirect\" href=\"/wiki/%D0%A0%D0%B8%D0%BC%D1%81%D0%BA%D0%BE-%D0%BA%D0%B0%D1%82%D0%BE%D0%BB%D0%B8%D1%87%D0%B5%D1%81%D0%BA%D0%B0%D1%8F_%D1%86%D0%B5%D1%80%D0%BA%D0%BE%D0%B2%D1%8C\" title=\"Римско-католическая церковь\">католической церковью</a> в качестве единственного авторитета, предлагали вернуться к <a href=\"/wiki/%D0%9D%D0%B5%D0%BE%D0%BF%D0%BB%D0%B0%D1%82%D0%BE%D0%BD%D0%B8%D0%B7%D0%BC\" title=\"Неоплатонизм\">неоплатонизму</a> и к другим античным философским течениям<sup class=\"reference\" id=\"cite_ref-_c6de337c45b21d2b_110-0\"><a href=\"#cite_note-_c6de337c45b21d2b-110\">[105]</a></sup><sup class=\"reference\" id=\"cite_ref-_df177e8a0c3a1837_111-0\"><a href=\"#cite_note-_df177e8a0c3a1837-111\">[106]</a></sup>. В числе первых известных философов-гуманистов были <a href=\"/wiki/%D0%9D%D0%B8%D0%BA%D0%BE%D0%BB%D0%B0%D0%B9_%D0%9A%D1%83%D0%B7%D0%B0%D0%BD%D1%81%D0%BA%D0%B8%D0%B9\" title=\"Николай Кузанский\">Николай Кузанский</a> и <a href=\"/wiki/%D0%9C%D0%BE%D0%BD%D1%82%D0%B5%D0%BD%D1%8C,_%D0%9C%D0%B8%D1%88%D0%B5%D0%BB%D1%8C_%D0%B4%D0%B5\" title=\"Монтень, Мишель де\">Мишель Монтень</a>. Поначалу гуманисты выступали именно против <a href=\"/wiki/%D0%A1%D1%85%D0%BE%D0%BB%D0%B0%D1%81%D1%82%D0%B8%D0%BA%D0%B0\" title=\"Схоластика\">схоластики</a>, а не против церкви, однако эволюция философской мысли <a href=\"/wiki/%D0%92%D0%BE%D0%B7%D1%80%D0%BE%D0%B6%D0%B4%D0%B5%D0%BD%D0%B8%D0%B5\" title=\"Возрождение\">Возрождения</a> в Европе быстро приходила в противоречие с <a href=\"/wiki/%D0%A5%D1%80%D0%B8%D1%81%D1%82%D0%B8%D0%B0%D0%BD%D1%81%D1%82%D0%B2%D0%BE\" title=\"Христианство\">христианским</a> <a href=\"/wiki/%D0%94%D0%BE%D0%B3%D0%BC%D0%B0%D1%82\" title=\"Догмат\">догматом</a>. Стремительное развитие <a href=\"/wiki/%D0%AD%D1%81%D1%82%D0%B5%D1%82%D0%B8%D0%BA%D0%B0\" title=\"Эстетика\">эстетики</a>, <a href=\"/wiki/%D0%9D%D0%B0%D1%82%D1%83%D1%80%D1%84%D0%B8%D0%BB%D0%BE%D1%81%D0%BE%D1%84%D0%B8%D1%8F\" title=\"Натурфилософия\">натурфилософии</a> и <a href=\"/wiki/%D0%9D%D0%B0%D1%83%D0%BA%D0%B0\" title=\"Наука\">науки</a>, связанное, в частности, с именами <a href=\"/wiki/%D0%9C%D0%B8%D0%BA%D0%B5%D0%BB%D0%B0%D0%BD%D0%B4%D0%B6%D0%B5%D0%BB%D0%BE\" title=\"Микеланджело\">Микеланджело</a>, <a href=\"/wiki/%D0%9B%D0%B5%D0%BE%D0%BD%D0%B0%D1%80%D0%B4%D0%BE_%D0%B4%D0%B0_%D0%92%D0%B8%D0%BD%D1%87%D0%B8\" title=\"Леонардо да Винчи\">Леонардо да Винчи</a> и <a href=\"/wiki/%D0%9A%D0%BE%D0%BF%D0%B5%D1%80%D0%BD%D0%B8%D0%BA,_%D0%9D%D0%B8%D0%BA%D0%BE%D0%BB%D0%B0%D0%B9\" title=\"Коперник, Николай\">Николая Коперника</a>, в сочетании с характерным для этой эпохи безнравственным поведением <a href=\"/wiki/%D0%9F%D0%B0%D0%BF%D1%81%D1%82%D0%B2%D0%BE\" title=\"Папство\">римских пап</a> девальвировало авторитет католической церкви у большой прослойки интеллектуалов. Оставаясь верующими христианами, многие интеллектуалы засомневались в авторитете <a href=\"/wiki/%D0%92%D0%B0%D1%82%D0%B8%D0%BA%D0%B0%D0%BD\" title=\"Ватикан\">Ватикана</a> — во многих уголках Европы начиналась <a href=\"/wiki/%D0%A0%D0%B5%D1%84%D0%BE%D1%80%D0%BC%D0%B0%D1%86%D0%B8%D1%8F\" title=\"Реформация\">Реформация</a>. Философы Возрождения перестали доверять официальной церковной философии и стали искать другие источники знания, обратившись в первую очередь к забытым <a href=\"/wiki/%D0%90%D0%BD%D1%82%D0%B8%D1%87%D0%BD%D0%B0%D1%8F_%D1%84%D0%B8%D0%BB%D0%BE%D1%81%D0%BE%D1%84%D0%B8%D1%8F\" title=\"Античная философия\">философам античности</a><sup class=\"reference\" id=\"cite_ref-_8c98c8a08f15d77d_112-0\"><a href=\"#cite_note-_8c98c8a08f15d77d-112\">[107]</a></sup><sup class=\"reference\" id=\"cite_ref-_ed1472457c315d0c_113-0\"><a href=\"#cite_note-_ed1472457c315d0c-113\">[108]</a></sup>.\n",
       "</p>, <p>Начиная с XVII века происходит стремительное развитие философии, и мир обогащается множеством новых философских концепций и подходов. Священные тексты как основной источник знания отодвинуты в сторону, и философы вновь возвращаются к базовым философским вопросам, поднятым в древности. В <a href=\"/wiki/%D0%95%D0%B2%D1%80%D0%BE%D0%BF%D0%B0\" title=\"Европа\">Европе</a>, начиная с <a href=\"/wiki/%D0%92%D0%BE%D0%B7%D1%80%D0%BE%D0%B6%D0%B4%D0%B5%D0%BD%D0%B8%D0%B5\" title=\"Возрождение\">эпохи Возрождения</a>, переведены и систематизированы все сохранившиеся работы античных философов, и, опираясь на <a href=\"/wiki/%D0%90%D0%BD%D1%82%D0%B8%D1%87%D0%BD%D0%B0%D1%8F_%D1%84%D0%B8%D0%BB%D0%BE%D1%81%D0%BE%D1%84%D0%B8%D1%8F\" title=\"Античная философия\">античную философию</a>, философская мысль движется дальше. Параллельно начинаются революционные преобразования в <a href=\"/wiki/%D0%9D%D0%B0%D1%82%D1%83%D1%80%D1%84%D0%B8%D0%BB%D0%BE%D1%81%D0%BE%D1%84%D0%B8%D1%8F\" title=\"Натурфилософия\">натурфилософии</a>, которые позже станут называться «<a href=\"/wiki/%D0%A0%D0%B5%D0%B2%D0%BE%D0%BB%D1%8E%D1%86%D0%B8%D1%8F_%D0%B2_%D0%BD%D0%B0%D1%83%D0%BA%D0%B5\" title=\"Революция в науке\">революцией в науке</a>». <a href=\"/wiki/%D0%91%D1%8D%D0%BA%D0%BE%D0%BD,_%D0%A4%D1%80%D1%8D%D0%BD%D1%81%D0%B8%D1%81\" title=\"Бэкон, Фрэнсис\">Фрэнсис Бэкон</a> чётко формулирует идею <a href=\"/wiki/%D0%AD%D0%BA%D1%81%D0%BF%D0%B5%D1%80%D0%B8%D0%BC%D0%B5%D0%BD%D1%82\" title=\"Эксперимент\">эксперимента</a> как источника знания, а <a href=\"/wiki/%D0%93%D0%B0%D0%BB%D0%B8%D0%BB%D0%B5%D0%B9,_%D0%93%D0%B0%D0%BB%D0%B8%D0%BB%D0%B5%D0%BE\" title=\"Галилей, Галилео\">Галилео Галилей</a> закладывает основу методологии, которая станет фундаментом для всей науки, — методологии <a href=\"/wiki/%D0%9D%D0%B0%D1%83%D1%87%D0%BD%D1%8B%D0%B9_%D0%BC%D0%B5%D1%82%D0%BE%D0%B4\" title=\"Научный метод\">научного метода</a><sup class=\"reference\" id=\"cite_ref-_8d80ffa24a80fa2f_114-0\"><a href=\"#cite_note-_8d80ffa24a80fa2f-114\">[109]</a></sup>.\n",
       "</p>, <p>Одновременно всё заметнее становятся результаты <a href=\"/wiki/%D0%93%D0%BB%D0%BE%D0%B1%D0%B0%D0%BB%D0%B8%D0%B7%D0%B0%D1%86%D0%B8%D1%8F\" title=\"Глобализация\">глобализации</a>, и знания начинают свободно перемещаться по миру — начинается взаимная интеграция разных философий. Европа открывает для себя <a href=\"/wiki/%D0%98%D0%BD%D0%B4%D0%B8%D1%8F\" title=\"Индия\">Индию</a> и <a class=\"mw-redirect\" href=\"/wiki/%D0%9A%D0%B8%D1%82%D0%B0%D0%B9_(%D1%81%D1%82%D1%80%D0%B0%D0%BD%D0%B0)\" title=\"Китай (страна)\">Китай</a> во всей полноте, а Индия и Китай — Европу. Для <a href=\"/wiki/%D0%97%D0%B0%D0%BF%D0%B0%D0%B4%D0%BD%D0%B0%D1%8F_%D1%84%D0%B8%D0%BB%D0%BE%D1%81%D0%BE%D1%84%D0%B8%D1%8F\" title=\"Западная философия\">западной философии</a> столкновение с Китаем в первую очередь отразилось на этико-религиозных вопросах. Во-первых, сам факт существования древней китайской цивилизации, цивилизации, не упомянутой в <a href=\"/wiki/%D0%91%D0%B8%D0%B1%D0%BB%D0%B8%D1%8F\" title=\"Библия\">Библии</a>, <span style=\"padding-left:0.1em; padding-right:0.1em; color:#888; border:1px solid #ddd;\">которая хранила летописи со времён древнее <a href=\"/wiki/%D0%92%D1%81%D0%B5%D0%BC%D0%B8%D1%80%D0%BD%D1%8B%D0%B9_%D0%BF%D0%BE%D1%82%D0%BE%D0%BF\" title=\"Всемирный потоп\">«Всемирного» потопа</a>,</span><span style=\"background: #ffeaea; color: #444444;\"></span><sup class=\"\" style=\"white-space: nowrap\">[<i><a href=\"/wiki/%D0%A8%D0%B0%D0%B1%D0%BB%D0%BE%D0%BD:%D0%9F%D1%80%D0%BE%D1%8F%D1%81%D0%BD%D0%B8%D1%82%D1%8C/doc\" title=\"Шаблон:Прояснить/doc\"><span style=\"\" title=\"Шаблон:Прояснить/doc\">прояснить</span></a></i>]</sup> подорвал авторитет Библии. Во-вторых, цивилизованность китайцев и их представления об <a href=\"/wiki/%D0%AD%D1%82%D0%B8%D0%BA%D0%B0\" title=\"Этика\">этике</a>, восходящие к <a href=\"/wiki/%D0%9A%D0%BE%D0%BD%D1%84%D1%83%D1%86%D0%B8%D0%B9\" title=\"Конфуций\">Конфуцию</a>, поставили перед европейцами вопросы о связи между этикой и религией, возникла получившая продолжение во французском <a href=\"/wiki/%D0%9F%D1%80%D0%BE%D1%81%D0%B2%D0%B5%D1%89%D0%B5%D0%BD%D0%B8%D0%B5\" title=\"Просвещение\">Просвещении</a><link href=\"mw-data:TemplateStyles:r104609042\" rel=\"mw-deduplicated-inline-style\"/><span class=\"ts-Переход noprint\" title=\"#Французское Просвещение\"><sup><a href=\"#Французское_Просвещение\">[⇨]</a></sup></span> идея <a href=\"/wiki/%D0%95%D1%81%D1%82%D0%B5%D1%81%D1%82%D0%B2%D0%B5%D0%BD%D0%BD%D0%B0%D1%8F_%D1%82%D0%B5%D0%BE%D0%BB%D0%BE%D0%B3%D0%B8%D1%8F\" title=\"Естественная теология\">«естественной религии»</a>, то есть религии, не связанной со священными текстами<sup class=\"reference\" id=\"cite_ref-_356279993e033409_115-0\"><a href=\"#cite_note-_356279993e033409-115\">[110]</a></sup>. <a href=\"/wiki/%D0%98%D0%BD%D0%B4%D0%B8%D0%B9%D1%81%D0%BA%D0%B0%D1%8F_%D1%84%D0%B8%D0%BB%D0%BE%D1%81%D0%BE%D1%84%D0%B8%D1%8F\" title=\"Индийская философия\">Философия Индии</a> была интегрирована в западную философию, главным образом, начиная с публикаций <a href=\"/wiki/%D0%A8%D0%BE%D0%BF%D0%B5%D0%BD%D0%B3%D0%B0%D1%83%D1%8D%D1%80,_%D0%90%D1%80%D1%82%D1%83%D1%80\" title=\"Шопенгауэр, Артур\">Артура Шопенгауэра</a><sup class=\"reference\" id=\"cite_ref-_44f9db34c5eea256_116-0\"><a href=\"#cite_note-_44f9db34c5eea256-116\">[111]</a></sup>.\n",
       "</p>, <p>В XVIII веке дело, начатое <a href=\"/wiki/%D0%93%D1%83%D0%BC%D0%B0%D0%BD%D0%B8%D0%B7%D0%BC\" title=\"Гуманизм\">гуманистами</a>, получило продолжение в развитии <a href=\"/wiki/%D0%9F%D0%BE%D0%BB%D0%B8%D1%82%D0%B8%D1%87%D0%B5%D1%81%D0%BA%D0%B0%D1%8F_%D1%84%D0%B8%D0%BB%D0%BE%D1%81%D0%BE%D1%84%D0%B8%D1%8F\" title=\"Политическая философия\">политической философии</a> и <a href=\"/wiki/%D0%AD%D1%82%D0%B8%D0%BA%D0%B0\" title=\"Этика\">этики</a> во <a href=\"/wiki/%D0%A4%D1%80%D0%B0%D0%BD%D1%86%D0%B8%D1%8F\" title=\"Франция\">Франции</a>. Французское государство этого периода было более репрессивным по сравнению с соседними <a href=\"/wiki/%D0%93%D0%B5%D1%80%D0%BC%D0%B0%D0%BD%D0%B8%D1%8F\" title=\"Германия\">Германией</a>, <a class=\"mw-redirect\" href=\"/wiki/%D0%93%D0%BE%D0%BB%D0%BB%D0%B0%D0%BD%D0%B4%D0%B8%D1%8F\" title=\"Голландия\">Голландией</a> или <a href=\"/wiki/%D0%90%D0%BD%D0%B3%D0%BB%D0%B8%D1%8F\" title=\"Англия\">Англией</a>, что спровоцировало аргументированный протест многих влиятельных французских философов, которые подвергли сомнению авторитет и церкви, и государства в вопросах этики и морали. <a href=\"/wiki/%D0%9C%D0%BE%D0%BD%D1%82%D0%B5%D1%81%D0%BA%D1%8C%D1%91,_%D0%A8%D0%B0%D1%80%D0%BB%D1%8C_%D0%B4%D0%B5\" title=\"Монтескьё, Шарль де\">Монтескьё</a> опубликовал несколько работ по политической философии, где формально обосновал эффективность <a href=\"/wiki/%D0%A0%D0%B0%D0%B7%D0%B4%D0%B5%D0%BB%D0%B5%D0%BD%D0%B8%D0%B5_%D0%B2%D0%BB%D0%B0%D1%81%D1%82%D0%B5%D0%B9\" title=\"Разделение властей\">разделения властей</a>, существующего в Англии и описанного <a href=\"/wiki/%D0%9B%D0%BE%D0%BA%D0%BA,_%D0%94%D0%B6%D0%BE%D0%BD\" title=\"Локк, Джон\">Джоном Локком</a>. <a href=\"/wiki/%D0%92%D0%BE%D0%BB%D1%8C%D1%82%D0%B5%D1%80\" title=\"Вольтер\">Вольтер</a> критиковал христианство, а <a href=\"/wiki/%D0%A0%D1%83%D1%81%D1%81%D0%BE,_%D0%96%D0%B0%D0%BD-%D0%96%D0%B0%D0%BA\" title=\"Руссо, Жан-Жак\">Жан-Жак Руссо</a> в своей знаменитой работе «<a class=\"extiw\" href=\"https://uk.wikipedia.org/wiki/%D0%9F%D1%80%D0%BE_%D1%81%D1%83%D1%81%D0%BF%D1%96%D0%BB%D1%8C%D0%BD%D1%83_%D1%83%D0%B3%D0%BE%D0%B4%D1%83,_%D0%B0%D0%B1%D0%BE_%D0%BF%D1%80%D0%B8%D0%BD%D1%86%D0%B8%D0%BF%D0%B8_%D0%BF%D0%BE%D0%BB%D1%96%D1%82%D0%B8%D1%87%D0%BD%D0%BE%D0%B3%D0%BE_%D0%BF%D1%80%D0%B0%D0%B2%D0%B0\" title=\"uk:Про суспільну угоду, або принципи політичного права\">Про общественный договор, или принципы политического права</a><span style=\"white-space: nowrap\"><span class=\"noprint\" style=\"font-size:95%; position: relative; top: .4em;\"> <span class=\"ref-info\" style=\"cursor:help;\" title=\"на украинском языке\">(укр.)</span></span><span class=\"link-ru metadata noprint\" style=\"font-size:80%; margin-left:-1.7em; position: relative; top: -.4em;\"><a class=\"new\" href=\"/w/index.php?title=%D0%9F%D1%80%D0%BE_%D0%BE%D0%B1%D1%89%D0%B5%D1%81%D1%82%D0%B2%D0%B5%D0%BD%D0%BD%D1%8B%D0%B9_%D0%B4%D0%BE%D0%B3%D0%BE%D0%B2%D0%BE%D1%80,_%D0%B8%D0%BB%D0%B8_%D0%BF%D1%80%D0%B8%D0%BD%D1%86%D0%B8%D0%BF%D1%8B_%D0%BF%D0%BE%D0%BB%D0%B8%D1%82%D0%B8%D1%87%D0%B5%D1%81%D0%BA%D0%BE%D0%B3%D0%BE_%D0%BF%D1%80%D0%B0%D0%B2%D0%B0&amp;action=edit&amp;redlink=1\" title=\"Про общественный договор, или принципы политического права (страница отсутствует)\">русск.</a></span></span>» развил идею <a href=\"/wiki/%D0%9E%D0%B1%D1%89%D0%B5%D1%81%D1%82%D0%B2%D0%B5%D0%BD%D0%BD%D1%8B%D0%B9_%D0%B4%D0%BE%D0%B3%D0%BE%D0%B2%D0%BE%D1%80\" title=\"Общественный договор\">общественного договора</a> и изложил принципы прямой <a href=\"/wiki/%D0%94%D0%B5%D0%BC%D0%BE%D0%BA%D1%80%D0%B0%D1%82%D0%B8%D1%8F\" title=\"Демократия\">демократии</a>. Труды этих философов оказали большое влияние на общественно-политическую жизнь: они составляли основную часть идеологии <a href=\"/wiki/%D0%92%D0%B5%D0%BB%D0%B8%D0%BA%D0%B0%D1%8F_%D1%84%D1%80%D0%B0%D0%BD%D1%86%D1%83%D0%B7%D1%81%D0%BA%D0%B0%D1%8F_%D1%80%D0%B5%D0%B2%D0%BE%D0%BB%D1%8E%D1%86%D0%B8%D1%8F\" title=\"Великая французская революция\">Французской революции</a>, а также легли в основу <a href=\"/wiki/%D0%9A%D0%BE%D0%BD%D1%81%D1%82%D0%B8%D1%82%D1%83%D1%86%D0%B8%D1%8F_%D0%A1%D0%A8%D0%90\" title=\"Конституция США\">Конституции США</a><sup class=\"reference\" id=\"cite_ref-_8025603da4adbf02_117-0\"><a href=\"#cite_note-_8025603da4adbf02-117\">[112]</a></sup><sup class=\"reference\" id=\"cite_ref-_c5899f91a423dace_118-0\"><a href=\"#cite_note-_c5899f91a423dace-118\">[113]</a></sup>.\n",
       "</p>, <p>Одним из ключевых вопросов философии является понимание характера взаимосвязи между нашим <a class=\"mw-redirect\" href=\"/wiki/%D0%A1%D0%BE%D0%B7%D0%BD%D0%B0%D0%BD%D0%B8%D0%B5_(%D1%84%D0%B8%D0%BB%D0%BE%D1%81%D0%BE%D1%84%D0%B8%D1%8F)\" title=\"Сознание (философия)\">сознанием</a> и окружающим миром. Две концепции, возникшие на заре философии — материализм и идеализм, получают в <a href=\"/wiki/%D0%9D%D0%BE%D0%B2%D0%BE%D0%B5_%D0%B2%D1%80%D0%B5%D0%BC%D1%8F\" title=\"Новое время\">Новое время</a> свои названия и формальное изложение и начинают дальнейшее развитие. Материализм, прослеживающийся у <a href=\"/wiki/%D0%90%D1%82%D0%BE%D0%BC%D0%B8%D0%B7%D0%BC\" title=\"Атомизм\">атомистов</a>-<a href=\"/wiki/%D0%94%D0%BE%D1%81%D0%BE%D0%BA%D1%80%D0%B0%D1%82%D0%B8%D0%BA%D0%B8\" title=\"Досократики\">досократиков</a> и в древнеиндийской <a href=\"/wiki/%D0%9B%D0%BE%D0%BA%D0%B0%D1%8F%D1%82%D0%B0\" title=\"Локаята\">локаята</a>, в виде стройного изложения формулирует <a href=\"/wiki/%D0%93%D0%BE%D0%B1%D0%B1%D1%81,_%D0%A2%D0%BE%D0%BC%D0%B0%D1%81\" title=\"Гоббс, Томас\">Томас Гоббс</a>. <a href=\"/wiki/%D0%9B%D0%BE%D0%BA%D0%BA,_%D0%94%D0%B6%D0%BE%D0%BD\" title=\"Локк, Джон\">Джон Локк</a>, однако, заостряет внимание на том обстоятельстве, что человек не столько непосредственно контактирует с окружающим миром, сколько воспринимает его сквозь призму своих <a href=\"/wiki/%D0%9E%D1%80%D0%B3%D0%B0%D0%BD_%D1%87%D1%83%D0%B2%D1%81%D1%82%D0%B2\" title=\"Орган чувств\">органов чувств</a>. <a href=\"/wiki/%D0%91%D0%B5%D1%80%D0%BA%D0%BB%D0%B8,_%D0%94%D0%B6%D0%BE%D1%80%D0%B4%D0%B6\" title=\"Беркли, Джордж\">Джордж Беркли</a> занимает позицию идеализма: он доводит аргументы Локка до абсолюта: человеческий мир состоит из его чувств и идей, а не из материальных объектов<sup class=\"reference\" id=\"cite_ref-_d9ae8ac93171eda2_119-0\"><a href=\"#cite_note-_d9ae8ac93171eda2-119\">[114]</a></sup>.\n",
       "</p>, <p>Было также сформулировано несколько промежуточных концепций. <a href=\"/wiki/%D0%94%D0%B5%D0%BA%D0%B0%D1%80%D1%82,_%D0%A0%D0%B5%D0%BD%D0%B5\" title=\"Декарт, Рене\">Рене Декарт</a> в своей философии пытался объяснить сосуществование идеального и материального мира. Его концепция, которая близко подходила к <a class=\"extiw\" href=\"https://en.wikipedia.org/wiki/Theory_of_Forms\" title=\"en:Theory of Forms\">теории идей</a><span style=\"white-space: nowrap\"><span class=\"noprint\" style=\"font-size:95%; position: relative; top: .4em;\"> <span class=\"ref-info\" style=\"cursor:help;\" title=\"на английском языке\">(англ.)</span></span><span class=\"link-ru metadata noprint\" style=\"font-size:80%; margin-left:-1.7em; position: relative; top: -.4em;\"><a class=\"new\" href=\"/w/index.php?title=%D0%A2%D0%B5%D0%BE%D1%80%D0%B8%D1%8F_%D0%B8%D0%B4%D0%B5%D0%B9&amp;action=edit&amp;redlink=1\" title=\"Теория идей (страница отсутствует)\">русск.</a></span></span> <a href=\"/wiki/%D0%9F%D0%BB%D0%B0%D1%82%D0%BE%D0%BD\" title=\"Платон\">Платона</a>, получила название «<a href=\"/wiki/%D0%94%D1%83%D0%B0%D0%BB%D0%B8%D0%B7%D0%BC_(%D1%84%D0%B8%D0%BB%D0%BE%D1%81%D0%BE%D1%84%D0%B8%D1%8F)\" title=\"Дуализм (философия)\">дуализма</a>». С другой стороны, <a href=\"/wiki/%D0%A1%D0%BF%D0%B8%D0%BD%D0%BE%D0%B7%D0%B0,_%D0%91%D0%B5%D0%BD%D0%B5%D0%B4%D0%B8%D0%BA%D1%82\" title=\"Спиноза, Бенедикт\">Спиноза</a> считал, что весь мир состоит из первичной «субстанции», которая и есть «бог» и которая формирует и материальные объекты, и человеческое сознание с идеальными объектами. Таким образом, материальный и идеальный мир становились двумя проявлениями одной и той же сущности. Наконец, <a href=\"/wiki/%D0%9B%D0%B5%D0%B9%D0%B1%D0%BD%D0%B8%D1%86,_%D0%93%D0%BE%D1%82%D1%84%D1%80%D0%B8%D0%B4_%D0%92%D0%B8%D0%BB%D1%8C%D0%B3%D0%B5%D0%BB%D1%8C%D0%BC\" title=\"Лейбниц, Готфрид Вильгельм\">Лейбниц</a>, который ввёл термин «идеализм» в философию, сформулировал на заре XVIII века концепцию, которая перекликается с современной <a href=\"/wiki/%D0%A4%D0%B8%D0%B7%D0%B8%D0%BA%D0%B0_%D1%8D%D0%BB%D0%B5%D0%BC%D0%B5%D0%BD%D1%82%D0%B0%D1%80%D0%BD%D1%8B%D1%85_%D1%87%D0%B0%D1%81%D1%82%D0%B8%D1%86\" title=\"Физика элементарных частиц\">физикой элементарных частиц</a>. Лейбниц считал, что основой всех объектов являются не материальные <a href=\"/wiki/%D0%90%D1%82%D0%BE%D0%BC\" title=\"Атом\">атомы</a>, а «<a href=\"/wiki/%D0%9C%D0%BE%D0%BD%D0%B0%D0%B4%D0%B0\" title=\"Монада\">монады</a>» — частички активности или энергии<sup class=\"reference\" id=\"cite_ref-_3411f2ea82c7853a_120-0\"><a href=\"#cite_note-_3411f2ea82c7853a-120\">[115]</a></sup>.\n",
       "</p>, <p>Понимание того обстоятельства, что Библия более не является надёжным, а тем более единственно верным источником знания, послужило началом серьёзной <a href=\"/wiki/%D0%AD%D0%BF%D0%B8%D1%81%D1%82%D0%B5%D0%BC%D0%BE%D0%BB%D0%BE%D0%B3%D0%B8%D1%8F\" title=\"Эпистемология\">эпистемологической</a> полемики. «Откуда мы что-то знаем?» — задавали себе вопрос философы <a href=\"/wiki/%D0%9D%D0%BE%D0%B2%D0%BE%D0%B5_%D0%B2%D1%80%D0%B5%D0%BC%D1%8F\" title=\"Новое время\">Нового времени</a>, и этот вопрос был актуален с <a href=\"/wiki/%D0%90%D0%BD%D1%82%D0%B8%D1%87%D0%BD%D0%BE%D1%81%D1%82%D1%8C\" title=\"Античность\">античных времён</a>. <a href=\"/wiki/%D0%94%D0%BE%D1%81%D0%BE%D0%BA%D1%80%D0%B0%D1%82%D0%B8%D0%BA%D0%B8\" title=\"Досократики\">Досократики</a>, в большинстве своём <a href=\"/wiki/%D0%A0%D0%B0%D1%86%D0%B8%D0%BE%D0%BD%D0%B0%D0%BB%D0%B8%D0%B7%D0%BC_(%D1%84%D0%B8%D0%BB%D0%BE%D1%81%D0%BE%D1%84%D0%B8%D1%8F)\" title=\"Рационализм (философия)\">рационалисты</a>, полагали, что мир можно постичь размышлением. Размышляя достаточно долго и правильно, удаётся постигать настоящие и неопровержимые истины, например, что <span class=\"mwe-math-element\"><span class=\"mwe-math-mathml-inline mwe-math-mathml-a11y\" style=\"display: none;\"><math alttext=\"{\\displaystyle 2+2=4}\" xmlns=\"http://www.w3.org/1998/Math/MathML\">\n",
       "<semantics>\n",
       "<mrow class=\"MJX-TeXAtom-ORD\">\n",
       "<mstyle displaystyle=\"true\" scriptlevel=\"0\">\n",
       "<mn>2</mn>\n",
       "<mo>+</mo>\n",
       "<mn>2</mn>\n",
       "<mo>=</mo>\n",
       "<mn>4</mn>\n",
       "</mstyle>\n",
       "</mrow>\n",
       "<annotation encoding=\"application/x-tex\">{\\displaystyle 2+2=4}</annotation>\n",
       "</semantics>\n",
       "</math></span><img alt=\"2+2=4\" aria-hidden=\"true\" class=\"mwe-math-fallback-image-inline\" src=\"https://wikimedia.org/api/rest_v1/media/math/render/svg/bb6a3bbd9401d92584246527beee883714954a41\" style=\"vertical-align: -0.505ex; width:9.426ex; height:2.343ex;\"/></span>, или <a href=\"/wiki/%D0%A2%D0%B5%D0%BE%D1%80%D0%B5%D0%BC%D0%B0_%D0%9F%D0%B8%D1%84%D0%B0%D0%B3%D0%BE%D1%80%D0%B0\" title=\"Теорема Пифагора\">теорему Пифагора</a>. Ещё в античные времена рационалистам возражали <a class=\"mw-redirect\" href=\"/wiki/%D0%A1%D0%BA%D0%B5%D0%BF%D1%82%D0%B8%D0%BA%D0%B8\" title=\"Скептики\">скептики</a>-<a href=\"/wiki/%D0%A1%D0%BE%D1%84%D0%B8%D0%B7%D0%BC\" title=\"Софизм\">софисты</a>. Глубокое исследование рационализма провёл <a href=\"/wiki/%D0%94%D0%B5%D0%BA%D0%B0%D1%80%D1%82,_%D0%A0%D0%B5%D0%BD%D0%B5\" title=\"Декарт, Рене\">Рене Декарт</a>, который с помощью концепции <a class=\"extiw\" href=\"https://en.wikipedia.org/wiki/Evil_demon\" title=\"en:Evil demon\">«злого демона»</a><span style=\"white-space: nowrap\"><span class=\"noprint\" style=\"font-size:95%; position: relative; top: .4em;\"> <span class=\"ref-info\" style=\"cursor:help;\" title=\"на английском языке\">(англ.)</span></span><span class=\"link-ru metadata noprint\" style=\"font-size:80%; margin-left:-1.7em; position: relative; top: -.4em;\"><a class=\"new\" href=\"/w/index.php?title=%D0%97%D0%BB%D0%BE%D0%B9_%D0%B4%D0%B5%D0%BC%D0%BE%D0%BD&amp;action=edit&amp;redlink=1\" title=\"Злой демон (страница отсутствует)\">русск.</a></span></span>, существа, которое может обманывать все органы чувств человека, продемонстрировал, что единственная частичка знания об окружающем мире, которую можно добыть исключительно рациональным способом, — это «<a href=\"/wiki/Cogito_ergo_sum\" title=\"Cogito ergo sum\">я думаю, значит, я существую</a>». Все остальные выводы могут оказаться ложными<sup class=\"reference\" id=\"cite_ref-_4560d83a12e270e3_121-0\"><a href=\"#cite_note-_4560d83a12e270e3-121\">[116]</a></sup><sup class=\"reference\" id=\"cite_ref-_dee6d7f6ff69a27f_122-0\"><a href=\"#cite_note-_dee6d7f6ff69a27f-122\">[117]</a></sup>. Концепцию Декарта демонстрирует, например, популярный <a href=\"/wiki/%D0%9C%D0%B0%D1%82%D1%80%D0%B8%D1%86%D0%B0_(%D1%84%D0%B8%D0%BB%D1%8C%D0%BC)\" title=\"Матрица (фильм)\">фильм «Матрица»</a>.\n",
       "</p>, <p><a href=\"/wiki/%D0%A1%D0%BF%D0%B8%D0%BD%D0%BE%D0%B7%D0%B0,_%D0%91%D0%B5%D0%BD%D0%B5%D0%B4%D0%B8%D0%BA%D1%82\" title=\"Спиноза, Бенедикт\">Спиноза</a> и <a href=\"/wiki/%D0%9B%D0%B5%D0%B9%D0%B1%D0%BD%D0%B8%D1%86,_%D0%93%D0%BE%D1%82%D1%84%D1%80%D0%B8%D0%B4_%D0%92%D0%B8%D0%BB%D1%8C%D0%B3%D0%B5%D0%BB%D1%8C%D0%BC\" title=\"Лейбниц, Готфрид Вильгельм\">Лейбниц</a> придерживались рационалистических взглядов, но <a href=\"/wiki/%D0%9B%D0%BE%D0%BA%D0%BA,_%D0%94%D0%B6%D0%BE%D0%BD\" title=\"Локк, Джон\">Джон Локк</a> и <a href=\"/wiki/%D0%91%D0%B5%D1%80%D0%BA%D0%BB%D0%B8,_%D0%94%D0%B6%D0%BE%D1%80%D0%B4%D0%B6\" title=\"Беркли, Джордж\">Джордж Беркли</a> считали, что всё познание происходит лишь чувственно, эмпирически. Наибольший вклад в развитие эмпиризма внёс <a href=\"/wiki/%D0%AE%D0%BC,_%D0%94%D1%8D%D0%B2%D0%B8%D0%B4\" title=\"Юм, Дэвид\">Дэвид Юм</a>, который в своих работах показывает, что всё человеческое знание основывается на обобщении наблюдаемых явлений, строго говоря, на <a href=\"/wiki/%D0%98%D0%BD%D0%B4%D1%83%D0%BA%D1%82%D0%B8%D0%B2%D0%BD%D0%BE%D0%B5_%D1%83%D0%BC%D0%BE%D0%B7%D0%B0%D0%BA%D0%BB%D1%8E%D1%87%D0%B5%D0%BD%D0%B8%D0%B5\" title=\"Индуктивное умозаключение\">индуктивном мышлении</a>. Юм развёрнуто сформулировал <a href=\"/wiki/%D0%9F%D1%80%D0%BE%D0%B1%D0%BB%D0%B5%D0%BC%D0%B0_%D0%B8%D0%BD%D0%B4%D1%83%D0%BA%D1%86%D0%B8%D0%B8\" title=\"Проблема индукции\">проблему индукции</a> — понимание того, что индуктивное мышление, в отличие от <a href=\"/wiki/%D0%94%D0%B5%D0%B4%D1%83%D0%BA%D1%82%D0%B8%D0%B2%D0%BD%D0%BE%D0%B5_%D1%83%D0%BC%D0%BE%D0%B7%D0%B0%D0%BA%D0%BB%D1%8E%D1%87%D0%B5%D0%BD%D0%B8%D0%B5\" title=\"Дедуктивное умозаключение\">дедуктивного</a>, не несёт в себе рациональной основы. Иными словами, нет никаких <i>рациональных</i> оснований полагать, что Солнце взойдёт завтра, только потому, что это случалось во все предыдущие наблюдаемые дни<sup class=\"reference\" id=\"cite_ref-_0c0e6a93474daef9_123-0\"><a href=\"#cite_note-_0c0e6a93474daef9-123\">[118]</a></sup><sup class=\"reference\" id=\"cite_ref-_869cde769f39015c_124-0\"><a href=\"#cite_note-_869cde769f39015c-124\">[119]</a></sup>.\n",
       "</p>, <p>По мнению многих, Иммануил Кант оказался в числе тех философов, которых ставят на один уровень с <a href=\"/wiki/%D0%9F%D0%BB%D0%B0%D1%82%D0%BE%D0%BD\" title=\"Платон\">Платоном</a> и <a href=\"/wiki/%D0%90%D1%80%D0%B8%D1%81%D1%82%D0%BE%D1%82%D0%B5%D0%BB%D1%8C\" title=\"Аристотель\">Аристотелем</a><sup class=\"reference\" id=\"cite_ref-_6d70138b58a08643_125-0\"><a href=\"#cite_note-_6d70138b58a08643-125\">[120]</a></sup><sup class=\"reference\" id=\"cite_ref-_44d0dd34c5cba084_126-0\"><a href=\"#cite_note-_44d0dd34c5cba084-126\">[121]</a></sup>. Его философские работы, включающие одну из самых известных книг по философии — «<a href=\"/wiki/%D0%9A%D1%80%D0%B8%D1%82%D0%B8%D0%BA%D0%B0_%D1%87%D0%B8%D1%81%D1%82%D0%BE%D0%B3%D0%BE_%D1%80%D0%B0%D0%B7%D1%83%D0%BC%D0%B0\" title=\"Критика чистого разума\">Критику чистого разума</a>», задали новые стандарты глубинного <a class=\"extiw\" href=\"https://en.wikipedia.org/wiki/Critique\" title=\"en:Critique\">критического анализа</a><span style=\"white-space: nowrap\"><span class=\"noprint\" style=\"font-size:95%; position: relative; top: .4em;\"> <span class=\"ref-info\" style=\"cursor:help;\" title=\"на английском языке\">(англ.)</span></span><span class=\"link-ru metadata noprint\" style=\"font-size:80%; margin-left:-1.7em; position: relative; top: -.4em;\"><a class=\"new\" href=\"/w/index.php?title=%D0%9A%D1%80%D0%B8%D1%82%D0%B8%D1%87%D0%B5%D1%81%D0%BA%D0%B8%D0%B9_%D0%B0%D0%BD%D0%B0%D0%BB%D0%B8%D0%B7&amp;action=edit&amp;redlink=1\" title=\"Критический анализ (страница отсутствует)\">русск.</a></span></span> в философии. Философия Канта сначала как <a href=\"/wiki/%D0%9A%D0%B0%D0%BD%D1%82%D0%B8%D0%B0%D0%BD%D1%81%D1%82%D0%B2%D0%BE\" title=\"Кантианство\">кантианство</a>, а впоследствии как <a href=\"/wiki/%D0%9D%D0%B5%D0%BE%D0%BA%D0%B0%D0%BD%D1%82%D0%B8%D0%B0%D0%BD%D1%81%D1%82%D0%B2%D0%BE\" title=\"Неокантианство\">неокантианство</a> оказала существенное влияние на европейское философское мышление.\n",
       "</p>, <p>В «Критике чистого разума» Кант обратился к проблеме <a href=\"/wiki/%D0%A0%D0%B0%D1%86%D0%B8%D0%BE%D0%BD%D0%B0%D0%BB%D0%B8%D0%B7%D0%BC_(%D1%84%D0%B8%D0%BB%D0%BE%D1%81%D0%BE%D1%84%D0%B8%D1%8F)\" title=\"Рационализм (философия)\">рационализма</a> и <a href=\"/wiki/%D0%AD%D0%BC%D0%BF%D0%B8%D1%80%D0%B8%D0%B7%D0%BC\" title=\"Эмпиризм\">эмпиризма</a>, изложил свою критику прежних подходов и выдвинул свою концепцию познания, объединяющую эмпиризм и рационализм. Вдохновлённый <a href=\"/wiki/%D0%9A%D0%BE%D0%BF%D0%B5%D1%80%D0%BD%D0%B8%D0%BA%D0%BE%D0%B2%D1%81%D0%BA%D0%B0%D1%8F_%D1%80%D0%B5%D0%B2%D0%BE%D0%BB%D1%8E%D1%86%D0%B8%D1%8F\" title=\"Коперниковская революция\">коперниковской революцией</a> в астрономии, Кант намеревался совершить революцию в философии<sup class=\"reference\" id=\"cite_ref-_c938a2f9b873ac99_127-0\"><a href=\"#cite_note-_c938a2f9b873ac99-127\">[122]</a></sup>. Кант разделил предметы познания на «<a href=\"/wiki/%D0%A4%D0%B5%D0%BD%D0%BE%D0%BC%D0%B5%D0%BD\" title=\"Феномен\">феномены</a>» и «<a href=\"/wiki/%D0%92%D0%B5%D1%89%D1%8C_%D0%B2_%D1%81%D0%B5%D0%B1%D0%B5\" title=\"Вещь в себе\">вещи в себе</a>» (<a href=\"/wiki/%D0%9B%D0%B0%D1%82%D0%B8%D0%BD%D1%81%D0%BA%D0%B8%D0%B9_%D1%8F%D0%B7%D1%8B%D0%BA\" title=\"Латинский язык\">лат.</a> <span lang=\"la\" style=\"font-style:italic;\">noumena</span>). Утверждения о «вещах в себе» (например: «Бог существует»), по Канту, нельзя проверить опытным путём; Кант считал, что человеку не даны в опыте такие предметы, и поэтому он не в состоянии получить о них теоретическое знание. С другой стороны, согласно Канту, человек, используя разум, концептуализирует данные чувств: помещает их во время и пространство, категоризирует, придаёт феномену причинность. Таким образом, познание у Канта не ограничивается чистым восприятием, а представляет собой комбинацию эмпирического и рационального<sup class=\"reference\" id=\"cite_ref-_3acf4c1496119952_128-0\"><a href=\"#cite_note-_3acf4c1496119952-128\">[123]</a></sup><sup class=\"reference\" id=\"cite_ref-_44d0dd34c5cba085_129-0\"><a href=\"#cite_note-_44d0dd34c5cba085-129\">[124]</a></sup>.\n",
       "</p>, <p><a href=\"/wiki/%D0%9A%D0%B0%D0%BD%D1%82%D0%B8%D0%B0%D0%BD%D1%81%D1%82%D0%B2%D0%BE\" title=\"Кантианство\">Философия Канта</a> подразумевает разрыв, который ещё нужно как-то преодолеть, между действительными объектами, которые во всей своей полноте есть «вещи в себе» и поэтому непостижимы, и их явлениями в человеческом <a class=\"mw-redirect\" href=\"/wiki/%D0%A1%D0%BE%D0%B7%D0%BD%D0%B0%D0%BD%D0%B8%D0%B5_(%D1%84%D0%B8%D0%BB%D0%BE%D1%81%D0%BE%D1%84%D0%B8%D1%8F)\" title=\"Сознание (философия)\">сознании</a>, которые концептуализированы через призму человеческого разума. Философия Канта оставляет открытым вопрос <a href=\"/wiki/%D0%9E%D0%B1%D1%8A%D0%B5%D0%BA%D1%82%D0%B8%D0%B2%D0%B8%D0%B7%D0%BC_(%D1%84%D0%B8%D0%BB%D0%BE%D1%81%D0%BE%D1%84%D0%B8%D1%8F)\" title=\"Объективизм (философия)\">объективности</a> познания, так как категоризация и концептуализация феномена может быть субъективной<sup class=\"reference\" id=\"cite_ref-_c48ca6ce5689217b_130-0\"><a href=\"#cite_note-_c48ca6ce5689217b-130\">[125]</a></sup><sup class=\"reference\" id=\"cite_ref-_65f05ee70b22e229_131-0\"><a href=\"#cite_note-_65f05ee70b22e229-131\">[126]</a></sup>. Этот вопрос лёг в основу раскола в современной философии, её сегментации на <a href=\"/wiki/%D0%9A%D0%BE%D0%BD%D1%82%D0%B8%D0%BD%D0%B5%D0%BD%D1%82%D0%B0%D0%BB%D1%8C%D0%BD%D0%B0%D1%8F_%D1%84%D0%B8%D0%BB%D0%BE%D1%81%D0%BE%D1%84%D0%B8%D1%8F\" title=\"Континентальная философия\">континентальную философию</a><link href=\"mw-data:TemplateStyles:r104609042\" rel=\"mw-deduplicated-inline-style\"/><span class=\"ts-Переход noprint\" title=\"#Континентальная философия\"><sup><a href=\"#Континентальная_философия\">[⇨]</a></sup></span> и <a href=\"/wiki/%D0%90%D0%BD%D0%B0%D0%BB%D0%B8%D1%82%D0%B8%D1%87%D0%B5%D1%81%D0%BA%D0%B0%D1%8F_%D1%84%D0%B8%D0%BB%D0%BE%D1%81%D0%BE%D1%84%D0%B8%D1%8F\" title=\"Аналитическая философия\">аналитическую философию</a><link href=\"mw-data:TemplateStyles:r104609042\" rel=\"mw-deduplicated-inline-style\"/><span class=\"ts-Переход noprint\" title=\"#Аналитическая философия\"><sup><a href=\"#Аналитическая_философия\">[⇨]</a></sup></span>. Традиция континентальной философии на волне <a class=\"mw-redirect\" href=\"/wiki/%D0%90%D0%B1%D1%81%D0%BE%D0%BB%D1%8E%D1%82%D0%BD%D1%8B%D0%B9_%D0%B8%D0%B4%D0%B5%D0%B0%D0%BB%D0%B8%D0%B7%D0%BC\" title=\"Абсолютный идеализм\">абсолютного идеализма</a> <a href=\"/wiki/%D0%93%D0%B5%D0%B3%D0%B5%D0%BB%D1%8C,_%D0%93%D0%B5%D0%BE%D1%80%D0%B3_%D0%92%D0%B8%D0%BB%D1%8C%D0%B3%D0%B5%D0%BB%D1%8C%D0%BC_%D0%A4%D1%80%D0%B8%D0%B4%D1%80%D0%B8%D1%85\" title=\"Гегель, Георг Вильгельм Фридрих\">Гегеля</a> исходит из понимания мира как системы, выражаемой концепциями и категориями. В таком мире можно, например, усилиями воли с помощью различных, в том числе рациональных, рассуждений проводить рекатегоризации, реконцептуализации или <a href=\"/wiki/%D0%94%D0%B5%D0%BA%D0%BE%D0%BD%D1%81%D1%82%D1%80%D1%83%D0%BA%D1%86%D0%B8%D1%8F\" title=\"Деконструкция\">деконструкции</a>, порождая всё новые и новые философские концепции<sup class=\"reference\" id=\"cite_ref-_cf796acb587966e8_132-0\"><a href=\"#cite_note-_cf796acb587966e8-132\">[127]</a></sup><sup class=\"reference\" id=\"cite_ref-_67cf5e0bbc3e7958_133-0\"><a href=\"#cite_note-_67cf5e0bbc3e7958-133\">[128]</a></sup>. Традиция аналитической философии, поначалу продолжая философию британских <a href=\"/wiki/%D0%AD%D0%BC%D0%BF%D0%B8%D1%80%D0%B8%D0%B7%D0%BC\" title=\"Эмпиризм\">эмпиристов</a>, подразумевает поиск обратной связи между каждой выстроенной философской категоризацией и реальным миром. Аналитическая философия, таким образом, уделяет большее внимание строгости <a href=\"/wiki/%D0%9B%D0%BE%D0%B3%D0%B8%D0%BA%D0%B0\" title=\"Логика\">логики</a> рассуждения и частично приближается к дисциплинам, использующим <a href=\"/wiki/%D0%9D%D0%B0%D1%83%D1%87%D0%BD%D1%8B%D0%B9_%D0%BC%D0%B5%D1%82%D0%BE%D0%B4\" title=\"Научный метод\">научный метод</a><sup class=\"reference\" id=\"cite_ref-_f72a178c2488d311_134-0\"><a href=\"#cite_note-_f72a178c2488d311-134\">[129]</a></sup>.\n",
       "</p>, <p>Преемники <a href=\"/wiki/%D0%9A%D0%B0%D0%BD%D1%82,_%D0%98%D0%BC%D0%BC%D0%B0%D0%BD%D1%83%D0%B8%D0%BB\" title=\"Кант, Иммануил\">Канта</a> в Германии — <a href=\"/wiki/%D0%A4%D0%B8%D1%85%D1%82%D0%B5,_%D0%98%D0%BE%D0%B3%D0%B0%D0%BD%D0%BD_%D0%93%D0%BE%D1%82%D0%BB%D0%B8%D0%B1\" title=\"Фихте, Иоганн Готлиб\">Фихте</a>, <a class=\"mw-redirect\" href=\"/wiki/%D0%A8%D0%B5%D0%BB%D0%BB%D0%B8%D0%BD%D0%B3,_%D0%A4%D1%80%D0%B8%D0%B4%D1%80%D0%B8%D1%85_%D0%92%D0%B8%D0%BB%D1%8C%D0%B3%D0%B5%D0%BB%D1%8C%D0%BC_%D0%99%D0%BE%D0%B7%D0%B5%D1%84_%D1%84%D0%BE%D0%BD\" title=\"Шеллинг, Фридрих Вильгельм Йозеф фон\">Шеллинг</a> и <a href=\"/wiki/%D0%93%D0%B5%D0%B3%D0%B5%D0%BB%D1%8C,_%D0%93%D0%B5%D0%BE%D1%80%D0%B3_%D0%92%D0%B8%D0%BB%D1%8C%D0%B3%D0%B5%D0%BB%D1%8C%D0%BC_%D0%A4%D1%80%D0%B8%D0%B4%D1%80%D0%B8%D1%85\" title=\"Гегель, Георг Вильгельм Фридрих\">Гегель</a> — развили философию в направлении <a class=\"mw-redirect\" href=\"/wiki/%D0%90%D0%B1%D1%81%D0%BE%D0%BB%D1%8E%D1%82%D0%BD%D1%8B%D0%B9_%D0%B8%D0%B4%D0%B5%D0%B0%D0%BB%D0%B8%D0%B7%D0%BC\" title=\"Абсолютный идеализм\">абсолютного идеализма</a>, полностью отвергнув существование кантовских <a href=\"/wiki/%D0%92%D0%B5%D1%89%D1%8C_%D0%B2_%D1%81%D0%B5%D0%B1%D0%B5\" title=\"Вещь в себе\">вещей в себе</a>. Окружающий мир у Гегеля — конкретное выражение категорий абсолютной идеи<sup class=\"reference\" id=\"cite_ref-_19c6362da2a19b71_135-0\"><a href=\"#cite_note-_19c6362da2a19b71-135\">[130]</a></sup>. Послекантовский немецкий идеализм предложил рассматривать трансцендентальный субъект исторически, и в качестве субъекта у Гегеля предстала история человечества в целом как некий «объективный дух». Формы объективного духа суть развивающиеся исторические формы культуры<sup class=\"reference\" id=\"cite_ref-136\"><a href=\"#cite_note-136\">[131]</a></sup>. Гегель, таким образом, трансформировал трансцендентальный идеализм Канта в <a href=\"/wiki/%D0%9C%D0%B5%D1%82%D0%B0%D1%84%D0%B8%D0%B7%D0%B8%D0%BA%D0%B0\" title=\"Метафизика\">метафизический</a> <a href=\"/wiki/%D0%98%D0%B4%D0%B5%D0%B0%D0%BB%D0%B8%D0%B7%D0%BC\" title=\"Идеализм\">идеализм</a><sup class=\"reference\" id=\"cite_ref-_65f05ee70b22e229_131-1\"><a href=\"#cite_note-_65f05ee70b22e229-131\">[126]</a></sup>.\n",
       "</p>, <p>Континентальная философия берёт своё начало в концептуализациях, которые стали возможны в рамках <a href=\"/wiki/%D0%9A%D0%B0%D0%BD%D1%82%D0%B8%D0%B0%D0%BD%D1%81%D1%82%D0%B2%D0%BE\" title=\"Кантианство\">философии Канта</a><link href=\"mw-data:TemplateStyles:r104609042\" rel=\"mw-deduplicated-inline-style\"/><span class=\"ts-Переход noprint\" title=\"#Иммануил Кант\"><sup><a href=\"#Иммануил_Кант\">[⇨]</a></sup></span> и <a href=\"/wiki/%D0%93%D0%B5%D0%B3%D0%B5%D0%BB%D1%8C,_%D0%93%D0%B5%D0%BE%D1%80%D0%B3_%D0%92%D0%B8%D0%BB%D1%8C%D0%B3%D0%B5%D0%BB%D1%8C%D0%BC_%D0%A4%D1%80%D0%B8%D0%B4%D1%80%D0%B8%D1%85\" title=\"Гегель, Георг Вильгельм Фридрих\">Гегеля</a>. Первоначально термин «континентальная философия» подразумевал противопоставление <a href=\"/wiki/%D0%90%D0%BD%D0%B0%D0%BB%D0%B8%D1%82%D0%B8%D1%87%D0%B5%D1%81%D0%BA%D0%B0%D1%8F_%D1%84%D0%B8%D0%BB%D0%BE%D1%81%D0%BE%D1%84%D0%B8%D1%8F\" title=\"Аналитическая философия\">аналитической</a>, тогда английской (то есть «островной») философии и философий <a href=\"/wiki/%D0%A4%D1%80%D0%B0%D0%BD%D1%86%D0%B8%D1%8F\" title=\"Франция\">Франции</a> и <a href=\"/wiki/%D0%93%D0%B5%D1%80%D0%BC%D0%B0%D0%BD%D0%B8%D1%8F\" title=\"Германия\">Германии</a>, которые были распространены на <a href=\"/wiki/%D0%95%D0%B2%D1%80%D0%BE%D0%BF%D0%B0\" title=\"Европа\">Европейском континенте</a>. Oднако, последователи течений быстро смешались географически, и в настоящее время континентальную философию определяют набором относящихся к ней философских концепций. Эти концепции совершенно различны по своей сути и простираются от <a href=\"/wiki/%D0%9C%D0%B0%D1%80%D0%BA%D1%81%D0%B8%D0%B7%D0%BC\" title=\"Марксизм\">марксизма</a> до <a href=\"/wiki/%D0%9F%D0%BE%D1%81%D1%82%D1%81%D1%82%D1%80%D1%83%D0%BA%D1%82%D1%83%D1%80%D0%B0%D0%BB%D0%B8%D0%B7%D0%BC\" title=\"Постструктурализм\">постструктурализма</a>, однако их объединяет полная свобода концептуализации, невозможная в пределах аналитической философии<sup class=\"reference\" id=\"cite_ref-_e9a4801010576147_137-0\"><a href=\"#cite_note-_e9a4801010576147-137\">[132]</a></sup><sup class=\"reference\" id=\"cite_ref-_25f149f053c13eec_138-0\"><a href=\"#cite_note-_25f149f053c13eec-138\">[133]</a></sup><sup class=\"reference\" id=\"cite_ref-_e231257a246f8787_139-0\"><a href=\"#cite_note-_e231257a246f8787-139\">[134]</a></sup>. <a class=\"mw-redirect\" href=\"/wiki/%D0%90%D0%B1%D1%81%D0%BE%D0%BB%D1%8E%D1%82%D0%BD%D1%8B%D0%B9_%D0%B8%D0%B4%D0%B5%D0%B0%D0%BB%D0%B8%D0%B7%D0%BC\" title=\"Абсолютный идеализм\">Абсолютный идеализм</a> Гегеля подразумевает, что мир состоит из категорий, концепций, структур, не существующих в реальности, а придуманных человеком, поэтому становятся возможны любые рекатегоризации и <a href=\"/wiki/%D0%94%D0%B5%D0%BA%D0%BE%D0%BD%D1%81%D1%82%D1%80%D1%83%D0%BA%D1%86%D0%B8%D1%8F\" title=\"Деконструкция\">деконструкции</a> по какому-либо выбранному основанию<sup class=\"reference\" id=\"cite_ref-_cf796acb587966e8_132-1\"><a href=\"#cite_note-_cf796acb587966e8-132\">[127]</a></sup>. Например, <a href=\"/wiki/%D0%9D%D0%B8%D1%86%D1%88%D0%B5,_%D0%A4%D1%80%D0%B8%D0%B4%D1%80%D0%B8%D1%85\" title=\"Ницше, Фридрих\">Ницше</a> постулировал отсутствие моральных норм, <a href=\"/wiki/%D0%9C%D0%B0%D1%80%D0%BA%D1%81,_%D0%9A%D0%B0%D1%80%D0%BB\" title=\"Маркс, Карл\">Маркс</a> был убеждён в скорой <a href=\"/wiki/%D0%93%D0%B5%D0%B3%D0%B5%D0%BC%D0%BE%D0%BD%D0%B8%D1%8F\" title=\"Гегемония\">гегемонии</a> <a href=\"/wiki/%D0%9F%D1%80%D0%BE%D0%BB%D0%B5%D1%82%D0%B0%D1%80%D0%B8%D0%B0%D1%82\" title=\"Пролетариат\">пролетариата</a>, а <a href=\"/wiki/%D0%9A%D0%B0%D0%BC%D1%8E,_%D0%90%D0%BB%D1%8C%D0%B1%D0%B5%D1%80\" title=\"Камю, Альбер\">Камю</a> в абсурдности жизни. Хотя многие из представителей континентальной философии, включая, например, Маркса или <a href=\"/wiki/%D0%9A%D1%8C%D0%B5%D1%80%D0%BA%D0%B5%D0%B3%D0%BE%D1%80,_%D0%A1%D1%91%D1%80%D0%B5%D0%BD\" title=\"Кьеркегор, Сёрен\">Кьеркегора</a>, критиковали Гегеля, они тем не менее строили свою философию относительно Гегеля<sup class=\"reference\" id=\"cite_ref-_73daac2a6a68a7bb_140-0\"><a href=\"#cite_note-_73daac2a6a68a7bb-140\">[135]</a></sup><sup class=\"reference\" id=\"cite_ref-_6d700e8b58a07dcd_141-0\"><a href=\"#cite_note-_6d700e8b58a07dcd-141\">[136]</a></sup><sup class=\"reference\" id=\"cite_ref-_44e55e34c5dd24d6_142-0\"><a href=\"#cite_note-_44e55e34c5dd24d6-142\">[137]</a></sup>.\n",
       "</p>, <p>Крупный сегмент современной континентальной философии, включающий в себя, как минимум, <a href=\"/wiki/%D0%93%D0%B5%D1%80%D0%BC%D0%B5%D0%BD%D0%B5%D0%B2%D1%82%D0%B8%D0%BA%D0%B0\" title=\"Герменевтика\">герменевтику</a> и <a href=\"/wiki/%D0%9F%D0%BE%D1%81%D1%82%D1%81%D1%82%D1%80%D1%83%D0%BA%D1%82%D1%83%D1%80%D0%B0%D0%BB%D0%B8%D0%B7%D0%BC\" title=\"Постструктурализм\">постструктурализм</a>, относится к философии <a href=\"/wiki/%D0%9F%D0%BE%D1%81%D1%82%D0%BC%D0%BE%D0%B4%D0%B5%D1%80%D0%BD%D0%B8%D0%B7%D0%BC\" title=\"Постмодернизм\">постмодернизма</a>.\n",
       "</p>, <p>Многие критики указывают, что направлениям континентальной философии свойственен как моральный, так и методологический <a href=\"/wiki/%D0%A0%D0%B5%D0%BB%D1%8F%D1%82%D0%B8%D0%B2%D0%B8%D0%B7%D0%BC\" title=\"Релятивизм\">релятивизм</a>, и, как следствие, отрыв от реальности окружающего мира. Например, представители аналитической традиции в философии критикуют континентальных философов за то, что мысль каждого из направлений внутри континентальной философии вращается внутри себя, без связи с окружающим миром, что не даёт возможности оценить ценность того или иного направления в общедисциплинарном контексте<sup class=\"reference\" id=\"cite_ref-_cf796acb587966e8_132-2\"><a href=\"#cite_note-_cf796acb587966e8-132\">[127]</a></sup>. Известный представитель аналитической школы философии <a href=\"/wiki/%D0%A0%D0%B0%D1%81%D1%81%D0%B5%D0%BB,_%D0%91%D0%B5%D1%80%D1%82%D1%80%D0%B0%D0%BD\" title=\"Рассел, Бертран\">Бертран Рассел</a> указывал на <a href=\"/wiki/%D0%9C%D0%BE%D1%80%D0%B0%D0%BB%D1%8C%D0%BD%D1%8B%D0%B9_%D1%80%D0%B5%D0%BB%D1%8F%D1%82%D0%B8%D0%B2%D0%B8%D0%B7%D0%BC\" title=\"Моральный релятивизм\">моральный релятивизм</a> континентального мышления, который, следуя гегелевской диалектике, привёл к разрушительным для общества цепочкам «либеральной» философской мысли: <a href=\"/wiki/%D0%91%D0%B5%D0%BD%D1%82%D0%B0%D0%BC,_%D0%98%D0%B5%D1%80%D0%B5%D0%BC%D0%B8%D1%8F\" title=\"Бентам, Иеремия\">Бентам</a> → <a href=\"/wiki/%D0%A0%D0%B8%D0%BA%D0%B0%D1%80%D0%B4%D0%BE,_%D0%94%D0%B0%D0%B2%D0%B8%D0%B4\" title=\"Рикардо, Давид\">Рикардо</a> → <a href=\"/wiki/%D0%9C%D0%B0%D1%80%D0%BA%D1%81,_%D0%9A%D0%B0%D1%80%D0%BB\" title=\"Маркс, Карл\">Маркс</a> → <a href=\"/wiki/%D0%A1%D1%82%D0%B0%D0%BB%D0%B8%D0%BD,_%D0%98%D0%BE%D1%81%D0%B8%D1%84_%D0%92%D0%B8%D1%81%D1%81%D0%B0%D1%80%D0%B8%D0%BE%D0%BD%D0%BE%D0%B2%D0%B8%D1%87\" title=\"Сталин, Иосиф Виссарионович\">Сталин</a> и <a href=\"/wiki/%D0%A4%D0%B8%D1%85%D1%82%D0%B5,_%D0%98%D0%BE%D0%B3%D0%B0%D0%BD%D0%BD_%D0%93%D0%BE%D1%82%D0%BB%D0%B8%D0%B1\" title=\"Фихте, Иоганн Готлиб\">Фихте</a> → <a href=\"/wiki/%D0%91%D0%B0%D0%B9%D1%80%D0%BE%D0%BD,_%D0%94%D0%B6%D0%BE%D1%80%D0%B4%D0%B6_%D0%93%D0%BE%D1%80%D0%B4%D0%BE%D0%BD\" title=\"Байрон, Джордж Гордон\">Байрон</a> → <a href=\"/wiki/%D0%9A%D0%B0%D1%80%D0%BB%D0%B5%D0%B9%D0%BB%D1%8C,_%D0%A2%D0%BE%D0%BC%D0%B0%D1%81\" title=\"Карлейль, Томас\">Карлейль</a> → <a href=\"/wiki/%D0%9D%D0%B8%D1%86%D1%88%D0%B5,_%D0%A4%D1%80%D0%B8%D0%B4%D1%80%D0%B8%D1%85\" title=\"Ницше, Фридрих\">Ницше</a> → <a href=\"/wiki/%D0%93%D0%B8%D1%82%D0%BB%D0%B5%D1%80,_%D0%90%D0%B4%D0%BE%D0%BB%D1%8C%D1%84\" title=\"Гитлер, Адольф\">Гитлер</a><sup class=\"reference\" id=\"cite_ref-Russell_143-0\"><a href=\"#cite_note-Russell-143\">[прим. 6]</a></sup>. Некоторые учёные<span style=\"background: #ffeaea; color: #444444;\"></span><sup class=\"\" style=\"white-space: nowrap\">[<i><a href=\"/wiki/%D0%92%D0%B8%D0%BA%D0%B8%D0%BF%D0%B5%D0%B4%D0%B8%D1%8F:%D0%98%D0%B7%D0%B1%D0%B5%D0%B3%D0%B0%D0%B9%D1%82%D0%B5_%D0%BD%D0%B5%D0%BE%D0%BF%D1%80%D0%B5%D0%B4%D0%B5%D0%BB%D1%91%D0%BD%D0%BD%D1%8B%D1%85_%D0%B2%D1%8B%D1%80%D0%B0%D0%B6%D0%B5%D0%BD%D0%B8%D0%B9\" title=\"Википедия:Избегайте неопределённых выражений\"><span style=\"\" title=\"Википедия:Избегайте неопределённых выражений\">кто?</span></a></i>]</sup> также критикуют постмодернистскую континентальную школу за релятивизм и отсутствие каких-либо методологических рамок.\n",
       "</p>, <p>Один из последователей <a href=\"/wiki/%D0%93%D0%B5%D0%B3%D0%B5%D0%BB%D1%8C,_%D0%93%D0%B5%D0%BE%D1%80%D0%B3_%D0%92%D0%B8%D0%BB%D1%8C%D0%B3%D0%B5%D0%BB%D1%8C%D0%BC_%D0%A4%D1%80%D0%B8%D0%B4%D1%80%D0%B8%D1%85\" title=\"Гегель, Георг Вильгельм Фридрих\">Гегеля</a>, <a href=\"/wiki/%D0%9C%D0%B0%D1%80%D0%BA%D1%81,_%D0%9A%D0%B0%D1%80%D0%BB\" title=\"Маркс, Карл\">Карл Маркс</a> подхватил мысль о трансформации мира с помощью мысли и считал философию не столько инструментом понимания мира, сколько средством его изменения. Суть <a href=\"/wiki/%D0%9C%D0%B0%D1%80%D0%BA%D1%81%D0%B8%D0%B7%D0%BC\" title=\"Марксизм\">марксистской философии</a> сводилась к тому, что идеальное общество не должно быть сегментировано на <a href=\"/wiki/%D0%A1%D0%BE%D1%86%D0%B8%D0%B0%D0%BB%D1%8C%D0%BD%D1%8B%D0%B9_%D0%BA%D0%BB%D0%B0%D1%81%D1%81\" title=\"Социальный класс\">классы</a>, и это достижимо путём отмены частной собственности, в особенности на <a href=\"/wiki/%D0%A1%D1%80%D0%B5%D0%B4%D1%81%D1%82%D0%B2%D0%B0_%D0%BF%D1%80%D0%BE%D0%B8%D0%B7%D0%B2%D0%BE%D0%B4%D1%81%D1%82%D0%B2%D0%B0\" title=\"Средства производства\">средства производства</a>. Отмена частной собственности должна была стать результатом «<a href=\"/wiki/%D0%9A%D0%BB%D0%B0%D1%81%D1%81%D0%BE%D0%B2%D0%B0%D1%8F_%D0%B1%D0%BE%D1%80%D1%8C%D0%B1%D0%B0\" title=\"Классовая борьба\">классовой борьбы</a>», когда многочисленный «<a href=\"/wiki/%D0%9F%D1%80%D0%BE%D0%BB%D0%B5%D1%82%D0%B0%D1%80%D0%B8%D0%B0%D1%82\" title=\"Пролетариат\">пролетариат</a>» ощутит свою силу и победит в ходе революции «<a href=\"/wiki/%D0%91%D1%83%D1%80%D0%B6%D1%83%D0%B0%D0%B7%D0%B8%D1%8F\" title=\"Буржуазия\">буржуазию</a>», установив свою <a href=\"/wiki/%D0%94%D0%B8%D0%BA%D1%82%D0%B0%D1%82%D1%83%D1%80%D0%B0_%D0%BF%D1%80%D0%BE%D0%BB%D0%B5%D1%82%D0%B0%D1%80%D0%B8%D0%B0%D1%82%D0%B0\" title=\"Диктатура пролетариата\">диктатуру</a>, которая будет промежуточным этапом на пути к идеальному «коммунистическому» обществу<sup class=\"reference\" id=\"cite_ref-_d116f0e8d1b9176f_144-0\"><a href=\"#cite_note-_d116f0e8d1b9176f-144\">[138]</a></sup>. Попытка применения на деле положений теории Маркса была опробована в результате <a href=\"/wiki/%D0%A0%D0%B5%D0%B2%D0%BE%D0%BB%D1%8E%D1%86%D0%B8%D1%8F_1917_%D0%B3%D0%BE%D0%B4%D0%B0_%D0%B2_%D0%A0%D0%BE%D1%81%D1%81%D0%B8%D0%B8\" title=\"Революция 1917 года в России\">Революции 1917 года в России</a><sup class=\"reference\" id=\"cite_ref-Marx_145-0\"><a href=\"#cite_note-Marx-145\">[прим. 7]</a></sup>, однако общество власти трудящихся в <a href=\"/wiki/%D0%A0%D0%BE%D1%81%D1%81%D0%B8%D1%8F\" title=\"Россия\">России</a> построить не удалось<sup class=\"reference\" id=\"cite_ref-_6d69828b589b2458_146-0\"><a href=\"#cite_note-_6d69828b589b2458-146\">[139]</a></sup>.\n",
       "</p>, <p>Хотя почти все экономические прогнозы Маркса не сбылись<sup class=\"reference\" id=\"cite_ref-_498f576cc683ed3e_147-0\"><a href=\"#cite_note-_498f576cc683ed3e-147\">[140]</a></sup>, его философские, в особенности ранние работы представляют интерес для <a href=\"/wiki/%D0%9D%D0%B5%D0%BE%D0%BC%D0%B0%D1%80%D0%BA%D1%81%D0%B8%D0%B7%D0%BC\" title=\"Неомарксизм\">неомарксистов</a> — последователей «умеренного» марксизма в Европе ХХ — XXI вв. Даже с учётом ошибочности ряда положений классического марксизма, марксистская философия углубляет понимание процессов, которые происходят в обществе. Необычность развития неомарксизма заключается в том, что его последователи последовательно пытались совместить марксизм с другими модными теориями. Сразу после войны неомарксисты скомбинировали марксизм с <a href=\"/wiki/%D0%A4%D1%80%D0%B5%D0%B9%D0%B4%D0%B8%D0%B7%D0%BC\" title=\"Фрейдизм\">фрейдизмом</a> и приняли непосредственное участие в формировании <a href=\"/wiki/%D0%A4%D1%80%D0%B0%D0%BD%D0%BA%D1%84%D1%83%D1%80%D1%82%D1%81%D0%BA%D0%B0%D1%8F_%D1%88%D0%BA%D0%BE%D0%BB%D0%B0\" title=\"Франкфуртская школа\">Франкфуртской школы</a>, в 1970-е годы неомарксисты сочетали философию Маркса с модным в то время <a href=\"/wiki/%D0%A1%D1%82%D1%80%D1%83%D0%BA%D1%82%D1%83%D1%80%D0%B0%D0%BB%D0%B8%D0%B7%D0%BC\" title=\"Структурализм\">структурализмом</a>, а в 1980-е годы попытались адаптировать марксизм под пришедших к власти во многих странах консерваторов. В настоящее время существуют гибриды марксизма и <a href=\"/wiki/%D0%A4%D0%B5%D0%BC%D0%B8%D0%BD%D0%B8%D0%B7%D0%BC\" title=\"Феминизм\">феминизма</a>, марксизма и <a href=\"/wiki/%D0%9F%D0%BE%D1%81%D1%82%D1%81%D1%82%D1%80%D1%83%D0%BA%D1%82%D1%83%D1%80%D0%B0%D0%BB%D0%B8%D0%B7%D0%BC\" title=\"Постструктурализм\">постструктурализма</a> и др. Таким образом, неомарксизм в настоящее время ищет себя в комбинации с разнообразием той самой «буржуазной философии», которую сам Маркс в своё время решительно отвергал<sup class=\"reference\" id=\"cite_ref-_9d3c076df1981737_148-0\"><a href=\"#cite_note-_9d3c076df1981737-148\">[141]</a></sup>.\n",
       "</p>, <p>Феноменология — направление в философии XX века, основанное немецким философом <a href=\"/wiki/%D0%93%D1%83%D1%81%D1%81%D0%B5%D1%80%D0%BB%D1%8C,_%D0%AD%D0%B4%D0%BC%D1%83%D0%BD%D0%B4\" title=\"Гуссерль, Эдмунд\">Эдмундом Гуссерлем</a>. В основе феноменологии лежит выдвинутая учителем Гуссерля <a href=\"/wiki/%D0%91%D1%80%D0%B5%D0%BD%D1%82%D0%B0%D0%BD%D0%BE,_%D0%A4%D1%80%D0%B0%D0%BD%D1%86\" title=\"Брентано, Франц\">Францем Брентано</a> идея <a href=\"/wiki/%D0%98%D0%BD%D1%82%D0%B5%D0%BD%D1%86%D0%B8%D0%BE%D0%BD%D0%B0%D0%BB%D1%8C%D0%BD%D0%BE%D1%81%D1%82%D1%8C\" title=\"Интенциональность\">интенциональности</a> <a class=\"mw-redirect\" href=\"/wiki/%D0%A1%D0%BE%D0%B7%D0%BD%D0%B0%D0%BD%D0%B8%D0%B5_(%D1%84%D0%B8%D0%BB%D0%BE%D1%81%D0%BE%D1%84%D0%B8%D1%8F)\" title=\"Сознание (философия)\">сознания</a>. В феноменологии ставится задача выявления чистого сознания, или сущности сознания. С этой целью осуществляется так называемая <a href=\"/wiki/%D0%A4%D0%B5%D0%BD%D0%BE%D0%BC%D0%B5%D0%BD%D0%BE%D0%BB%D0%BE%D0%B3%D0%B8%D1%87%D0%B5%D1%81%D0%BA%D0%B0%D1%8F_%D1%80%D0%B5%D0%B4%D1%83%D0%BA%D1%86%D0%B8%D1%8F\" title=\"Феноменологическая редукция\">феноменологическая редукция</a>, в результате чего любой предмет должен рассматриваться только как коррелят сознания. Задачей феноменологии является не изучение свойств предмета, а исследование актов сознания, в которых формируется спектр значений, усматриваемых в предмете и его свойствах. Феноменологическая редукция включает в себя вынесение за скобки догматических установок сознания, которые в рамках феноменологического исследования не должны иметь значения<sup class=\"reference\" id=\"cite_ref-_d156663226580f3f_149-0\"><a href=\"#cite_note-_d156663226580f3f-149\">[142]</a></sup>.\n",
       "</p>, <p>Отталкиваясь от феноменологии Гуссерля, <a href=\"/wiki/%D0%A5%D0%B0%D0%B9%D0%B4%D0%B5%D0%B3%D0%B3%D0%B5%D1%80,_%D0%9C%D0%B0%D1%80%D1%82%D0%B8%D0%BD\" title=\"Хайдеггер, Мартин\">Мартин Хайдеггер</a> выдвинул идею «герменевтической феноменологии». В его концепции <a href=\"/wiki/%D0%93%D0%B5%D1%80%D0%BC%D0%B5%D0%BD%D0%B5%D0%B2%D1%82%D0%B8%D0%BA%D0%B0\" title=\"Герменевтика\">герменевтика</a> из методологии гуманитарных наук превращается в учение о <a href=\"/wiki/%D0%91%D1%8B%D1%82%D0%B8%D0%B5\" title=\"Бытие\">бытии</a>. Предмет герменевтики — понимание — трактуется как фундаментальный способ человеческого бытия. Основы философской герменевтики изложил ученик Хайдеггера <a href=\"/wiki/%D0%93%D0%B0%D0%B4%D0%B0%D0%BC%D0%B5%D1%80,_%D0%A5%D0%B0%D0%BD%D1%81-%D0%93%D0%B5%D0%BE%D1%80%D0%B3\" title=\"Гадамер, Ханс-Георг\">Ханс-Георг Гадамер</a> в своей работе «Истина и метод» (1960). Вслед за Хайдеггером Гадамер указал на связь герменевтики с языком. Условием понимания, согласно Гадамеру, является предпонимание — предпосылка понимания, которая определяется традицией, связывающей историю и современность. Любая традиция тесно связана с языком, выражается в нём. С точки зрения философской герменевтики, язык определяет человека, оказываясь условием его познавательной деятельности<sup class=\"reference\" id=\"cite_ref-_d156663226580f3f_149-1\"><a href=\"#cite_note-_d156663226580f3f-149\">[142]</a></sup>.\n",
       "</p>, <p>Ряд философов и писателей, обращаясь к теме внутренних ценностей человека, постулировали отсутствие каких-либо оснований для следования существующим моральным и культурным нормам, что получило название «<a href=\"/wiki/%D0%9D%D0%B8%D0%B3%D0%B8%D0%BB%D0%B8%D0%B7%D0%BC\" title=\"Нигилизм\">нигилизм</a>». Например, основываясь на своём понимании <a href=\"/wiki/%D0%91%D1%83%D0%B4%D0%B4%D0%B8%D0%B7%D0%BC\" title=\"Буддизм\">буддизма</a>, нигилистическую картину мира нарисовал <a href=\"/wiki/%D0%A8%D0%BE%D0%BF%D0%B5%D0%BD%D0%B3%D0%B0%D1%83%D1%8D%D1%80,_%D0%90%D1%80%D1%82%D1%83%D1%80\" title=\"Шопенгауэр, Артур\">Шопенгауэр</a>. <a href=\"/wiki/%D0%A8%D0%BF%D0%B5%D0%BD%D0%B3%D0%BB%D0%B5%D1%80,_%D0%9E%D1%81%D0%B2%D0%B0%D0%BB%D1%8C%D0%B4\" title=\"Шпенглер, Освальд\">Шпенглер</a> и <a href=\"/wiki/%D0%9D%D0%B8%D1%86%D1%88%D0%B5,_%D0%A4%D1%80%D0%B8%D0%B4%D1%80%D0%B8%D1%85\" title=\"Ницше, Фридрих\">Ницше</a> видели распространение нигилизма в окружающей их европейской культуре. Ницше считал нигилизм естественной логикой развития всей европейской культуры, корни которой он видел, в частности, в христианском постулировании априорной греховности человека. Хотя Шпенглер и Ницше скорее концептуализировали нигилизм и его причины, их самих часто причисляют к нигилистам. Сам термин «нигилизм», вероятно, впервые возник в России, где многие писатели, например <a href=\"/wiki/%D0%A2%D1%83%D1%80%D0%B3%D0%B5%D0%BD%D0%B5%D0%B2,_%D0%98%D0%B2%D0%B0%D0%BD_%D0%A1%D0%B5%D1%80%D0%B3%D0%B5%D0%B5%D0%B2%D0%B8%D1%87\" title=\"Тургенев, Иван Сергеевич\">Тургенев</a>, неоднократно выводили образы нигилистов в художественной литературе<sup class=\"reference\" id=\"cite_ref-_0c1ae4864dacff90_150-0\"><a href=\"#cite_note-_0c1ae4864dacff90-150\">[143]</a></sup><sup class=\"reference\" id=\"cite_ref-_44d7e034c5d1c440_151-0\"><a href=\"#cite_note-_44d7e034c5d1c440-151\">[144]</a></sup>.\n",
       "</p>, <p>Положительно относились к нигилизму философы анархизма<sup class=\"reference\" id=\"cite_ref-_0c1ae4864dacff90_150-1\"><a href=\"#cite_note-_0c1ae4864dacff90-150\">[143]</a></sup>, течения, которое предполагает отказ от государственных и, зачастую, церковных институтов. Анархисты декларируют свободу человека первоочередной ценностью, а все государственные институты рассматривают как препятствие. Идею анархизма можно проследить, начиная с некоторых <a href=\"/wiki/%D0%94%D0%BE%D1%81%D0%BE%D0%BA%D1%80%D0%B0%D1%82%D0%B8%D0%BA%D0%B8\" title=\"Досократики\">досократиков</a>, включая <a href=\"/wiki/%D0%97%D0%B5%D0%BD%D0%BE%D0%BD_%D0%AD%D0%BB%D0%B5%D0%B9%D1%81%D0%BA%D0%B8%D0%B9\" title=\"Зенон Элейский\">Зенона</a>. Первым современным философом, который использовал термин «анархизм» и сформулировал его концепцию, был французский политик <a class=\"mw-redirect\" href=\"/wiki/%D0%9F%D1%80%D1%83%D0%B4%D0%BE%D0%BD,_%D0%9F%D1%8C%D0%B5%D1%80_%D0%96%D0%BE%D0%B7%D0%B5%D1%84\" title=\"Прудон, Пьер Жозеф\">Пьер Прудон</a>. Философия анархизма получила развитие в России, и два <a href=\"/wiki/%D0%A0%D1%83%D1%81%D1%81%D0%BA%D0%B0%D1%8F_%D1%84%D0%B8%D0%BB%D0%BE%D1%81%D0%BE%D1%84%D0%B8%D1%8F\" title=\"Русская философия\">русских философа</a> — <a href=\"/wiki/%D0%91%D0%B0%D0%BA%D1%83%D0%BD%D0%B8%D0%BD,_%D0%9C%D0%B8%D1%85%D0%B0%D0%B8%D0%BB_%D0%90%D0%BB%D0%B5%D0%BA%D1%81%D0%B0%D0%BD%D0%B4%D1%80%D0%BE%D0%B2%D0%B8%D1%87\" title=\"Бакунин, Михаил Александрович\">Михаил Бакунин</a> и <a href=\"/wiki/%D0%9A%D1%80%D0%BE%D0%BF%D0%BE%D1%82%D0%BA%D0%B8%D0%BD,_%D0%9F%D1%91%D1%82%D1%80_%D0%90%D0%BB%D0%B5%D0%BA%D1%81%D0%B5%D0%B5%D0%B2%D0%B8%D1%87\" title=\"Кропоткин, Пётр Алексеевич\">Пётр Кропоткин</a> — считаются одними из главных идеологов анархизма в мире<sup class=\"reference\" id=\"cite_ref-_2395c2a1ee180b45_152-0\"><a href=\"#cite_note-_2395c2a1ee180b45-152\">[145]</a></sup>.\n",
       "</p>, <p>Экзистенциализм уходит корнями в критику отдельных аспектов философии <a href=\"/wiki/%D0%93%D0%B5%D0%B3%D0%B5%D0%BB%D1%8C,_%D0%93%D0%B5%D0%BE%D1%80%D0%B3_%D0%92%D0%B8%D0%BB%D1%8C%D0%B3%D0%B5%D0%BB%D1%8C%D0%BC_%D0%A4%D1%80%D0%B8%D0%B4%D1%80%D0%B8%D1%85\" title=\"Гегель, Георг Вильгельм Фридрих\">Гегеля</a>, прозвучавшую со стороны <a href=\"/wiki/%D0%A8%D0%BE%D0%BF%D0%B5%D0%BD%D0%B3%D0%B0%D1%83%D1%8D%D1%80,_%D0%90%D1%80%D1%82%D1%83%D1%80\" title=\"Шопенгауэр, Артур\">Шопенгауэра</a> и <a href=\"/wiki/%D0%9A%D1%8C%D0%B5%D1%80%D0%BA%D0%B5%D0%B3%D0%BE%D1%80,_%D0%A1%D1%91%D1%80%D0%B5%D0%BD\" title=\"Кьеркегор, Сёрен\">Кьеркегора</a>. Это течение постулирует необходимость обратить философию в первую очередь на службу человека, философия должна помогать людям выжить в сложном мире. В этом аспекте экзистенциализм перекликается с <a href=\"/wiki/%D0%9F%D1%80%D0%B0%D0%B3%D0%BC%D0%B0%D1%82%D0%B8%D0%B7%D0%BC\" title=\"Прагматизм\">прагматизмом</a>, однако, в отличие от прагматизма, экзистенциализм постулирует абсурдность мира и <a href=\"/wiki/%D0%98%D1%80%D1%80%D0%B0%D1%86%D0%B8%D0%BE%D0%BD%D0%B0%D0%BB%D0%B8%D0%B7%D0%BC\" title=\"Иррационализм\">иррациональность</a> человека, которая находится в постоянном конфликте с этим миром, а также наличие <a href=\"/wiki/%D0%AD%D0%BA%D0%B7%D0%B8%D1%81%D1%82%D0%B5%D0%BD%D1%86%D0%B8%D0%B0%D0%BB%D1%8C%D0%BD%D1%8B%D0%B9_%D0%BA%D1%80%D0%B8%D0%B7%D0%B8%D1%81\" title=\"Экзистенциальный кризис\">экзистенциального кризиса</a>. В результате люди испытывают ощущение внутренней пустоты и тревоги. Самый известный экзистенциалист XX века, <a href=\"/wiki/%D0%A1%D0%B0%D1%80%D1%82%D1%80,_%D0%96%D0%B0%D0%BD-%D0%9F%D0%BE%D0%BB%D1%8C\" title=\"Сартр, Жан-Поль\">Жан-Поль Сартр</a>, будучи <a href=\"/wiki/%D0%90%D1%82%D0%B5%D0%B8%D0%B7%D0%BC\" title=\"Атеизм\">атеистом</a>, полагал, что отсутствие Бога «обрекает человека на свободу», на существование без предопределённой цели, и каждый человек должен самостоятельно и ответственно выбирать смысл своего существования и свою ценностную систему. К экзистенциалистам относят многих писателей, в чьих произведениях затронута проблематика внутренней пустоты и тревоги человека, в первую очередь <a href=\"/wiki/%D0%9A%D0%B0%D0%BC%D1%8E,_%D0%90%D0%BB%D1%8C%D0%B1%D0%B5%D1%80\" title=\"Камю, Альбер\">Камю</a>, <a href=\"/wiki/%D0%94%D0%BE%D1%81%D1%82%D0%BE%D0%B5%D0%B2%D1%81%D0%BA%D0%B8%D0%B9,_%D0%A4%D1%91%D0%B4%D0%BE%D1%80_%D0%9C%D0%B8%D1%85%D0%B0%D0%B9%D0%BB%D0%BE%D0%B2%D0%B8%D1%87\" title=\"Достоевский, Фёдор Михайлович\">Достоевского</a>, <a href=\"/wiki/%D0%9A%D0%B0%D1%84%D0%BA%D0%B0,_%D0%A4%D1%80%D0%B0%D0%BD%D1%86\" title=\"Кафка, Франц\">Кафку</a>, <a href=\"/wiki/%D0%91%D0%B5%D0%BA%D0%BA%D0%B5%D1%82,_%D0%A1%D1%8D%D0%BC%D1%8E%D1%8D%D0%BB\" title=\"Беккет, Сэмюэл\">Беккета</a><sup class=\"reference\" id=\"cite_ref-_ff129c99963eeca0_153-0\"><a href=\"#cite_note-_ff129c99963eeca0-153\">[146]</a></sup><sup class=\"reference\" id=\"cite_ref-_7cf6b91baa69639c_154-0\"><a href=\"#cite_note-_7cf6b91baa69639c-154\">[147]</a></sup>.\n",
       "</p>, <p><a href=\"/wiki/%D0%A1%D0%B5%D0%BC%D0%B8%D0%BE%D1%82%D0%B8%D0%BA%D0%B0\" title=\"Семиотика\">Семиотика</a> — это дисциплина, которая выделяет <a href=\"/wiki/%D0%97%D0%BD%D0%B0%D0%BA\" title=\"Знак\">знаки</a> в окружающем мире и изучает их смысл и взаимосвязь. Элементы семиотики содержатся ещё в работах <a href=\"/wiki/%D0%9F%D0%BB%D0%B0%D1%82%D0%BE%D0%BD\" title=\"Платон\">Платона</a> и <a href=\"/wiki/%D0%90%D1%80%D0%B8%D1%81%D1%82%D0%BE%D1%82%D0%B5%D0%BB%D1%8C\" title=\"Аристотель\">Аристотеля</a>. Современная семиотика возникла внутри <a href=\"/wiki/%D0%90%D0%BD%D0%B0%D0%BB%D0%B8%D1%82%D0%B8%D1%87%D0%B5%D1%81%D0%BA%D0%B0%D1%8F_%D1%84%D0%B8%D0%BB%D0%BE%D1%81%D0%BE%D1%84%D0%B8%D1%8F\" title=\"Аналитическая философия\">аналитической традиции</a>: она была определена <a href=\"/wiki/%D0%9B%D0%BE%D0%BA%D0%BA,_%D0%94%D0%B6%D0%BE%D0%BD\" title=\"Локк, Джон\">Джоном Локком</a>, а концептуализирована философом <a href=\"/wiki/%D0%9F%D0%B8%D1%80%D1%81,_%D0%A7%D0%B0%D1%80%D0%BB%D1%8C%D0%B7_%D0%A1%D0%B0%D0%BD%D0%B4%D0%B5%D1%80%D1%81\" title=\"Пирс, Чарльз Сандерс\">Чарльзом Пирсом</a>. Однако, в настоящее время наибольшее развитие получила семиотика континентальной традиции в определении лингвиста <a href=\"/wiki/%D0%A1%D0%BE%D1%81%D1%81%D1%8E%D1%80,_%D0%A4%D0%B5%D1%80%D0%B4%D0%B8%D0%BD%D0%B0%D0%BD%D0%B4_%D0%B4%D0%B5\" title=\"Соссюр, Фердинанд де\">Фердинанда де Соссюра</a>, как дисциплина, изучающая роль знаков в общественной жизни. Большая часть современных семиотических исследований ведётся в рамках <a href=\"/wiki/%D0%90%D0%BD%D1%82%D1%80%D0%BE%D0%BF%D0%BE%D0%BB%D0%BE%D0%B3%D0%B8%D1%8F\" title=\"Антропология\">антропологии</a> и <a href=\"/wiki/%D0%9B%D0%B8%D0%BD%D0%B3%D0%B2%D0%B8%D1%81%D1%82%D0%B8%D0%BA%D0%B0\" title=\"Лингвистика\">лингвистики</a>. Фердинанд де Соссюр полагал, что, выделяя знаки в первую очередь в языке той или иной культуры, можно выделить в этой культуре крупные и глубокие <i>структуры</i>, которые являются определяющими для особенностей этой культуры. Это направление исследований получило название «<a href=\"/wiki/%D0%A1%D1%82%D1%80%D1%83%D0%BA%D1%82%D1%83%D1%80%D0%B0%D0%BB%D0%B8%D0%B7%D0%BC\" title=\"Структурализм\">структурализм</a>», и, в основном, связано с трудами <a href=\"/wiki/%D0%9B%D0%B5%D0%B2%D0%B8-%D0%A1%D1%82%D1%80%D0%BE%D1%81%D1%81,_%D0%9A%D0%BB%D0%BE%D0%B4\" title=\"Леви-Стросс, Клод\">Леви-Стросса</a>, который использовал этот метод в своих антропологических исследованиях<sup class=\"reference\" id=\"cite_ref-_05ba632a97e01818_155-0\"><a href=\"#cite_note-_05ba632a97e01818-155\">[148]</a></sup><sup class=\"reference\" id=\"cite_ref-_6d700a8b58a07718_156-0\"><a href=\"#cite_note-_6d700a8b58a07718-156\">[149]</a></sup>.\n",
       "</p>, <p>Понятие «<a href=\"/wiki/%D0%9F%D0%BE%D1%81%D1%82%D1%81%D1%82%D1%80%D1%83%D0%BA%D1%82%D1%83%D1%80%D0%B0%D0%BB%D0%B8%D0%B7%D0%BC\" title=\"Постструктурализм\">постструктурализм</a>» главным образом связано с именами <a href=\"/wiki/%D0%A4%D1%80%D0%B0%D0%BD%D1%86%D1%83%D0%B7%D1%81%D0%BA%D0%B0%D1%8F_%D1%84%D0%B8%D0%BB%D0%BE%D1%81%D0%BE%D1%84%D0%B8%D1%8F\" title=\"Французская философия\">французских философов</a> <a href=\"/wiki/%D0%94%D0%B5%D1%80%D1%80%D0%B8%D0%B4%D0%B0,_%D0%96%D0%B0%D0%BA\" title=\"Деррида, Жак\">Жака Деррида</a>, <a href=\"/wiki/%D0%A4%D1%83%D0%BA%D0%BE,_%D0%9C%D0%B8%D1%88%D0%B5%D0%BB%D1%8C\" title=\"Фуко, Мишель\">Мишеля Фуко</a>, <a href=\"/wiki/%D0%94%D0%B5%D0%BB%D1%91%D0%B7,_%D0%96%D0%B8%D0%BB%D1%8C\" title=\"Делёз, Жиль\">Жиля Делёза</a>, <a class=\"mw-redirect\" href=\"/wiki/%D0%9B%D0%B8%D0%BE%D1%82%D0%B0%D1%80,_%D0%96%D0%B0%D0%BD_%D0%A4%D1%80%D0%B0%D0%BD%D1%81%D1%83%D0%B0\" title=\"Лиотар, Жан Франсуа\">Жана Франсуа Лиотара</a> и <a href=\"/wiki/%D0%9B%D0%B0%D0%BA%D0%B0%D0%BD,_%D0%96%D0%B0%D0%BA\" title=\"Лакан, Жак\">Жака Лакана</a>. Название <i>постструктурализм</i> подразумевает критику структурализма, которая наиболее явно выражена в работах Деррида. Философия постструктурализма подразумевает, что провести определительную и исчерпывающую интерпретацию текстов невозможно, а, следовательно, <a href=\"/wiki/%D0%A1%D1%82%D1%80%D1%83%D0%BA%D1%82%D1%83%D1%80%D0%BD%D0%B0%D1%8F_%D0%BB%D0%B8%D0%BD%D0%B3%D0%B2%D0%B8%D1%81%D1%82%D0%B8%D0%BA%D0%B0\" title=\"Структурная лингвистика\">структурная лингвистика</a> и <a class=\"extiw\" href=\"https://uk.wikipedia.org/wiki/%D0%A1%D1%82%D1%80%D1%83%D0%BA%D1%82%D1%83%D1%80%D0%BD%D0%B0_%D0%B0%D0%BD%D1%82%D1%80%D0%BE%D0%BF%D0%BE%D0%BB%D0%BE%D0%B3%D1%96%D1%8F\" title=\"uk:Структурна антропологія\">структурная антропология</a><span style=\"white-space: nowrap\"><span class=\"noprint\" style=\"font-size:95%; position: relative; top: .4em;\"> <span class=\"ref-info\" style=\"cursor:help;\" title=\"на украинском языке\">(укр.)</span></span><span class=\"link-ru metadata noprint\" style=\"font-size:80%; margin-left:-1.7em; position: relative; top: -.4em;\"><a class=\"new\" href=\"/w/index.php?title=%D0%A1%D1%82%D1%80%D1%83%D0%BA%D1%82%D1%83%D1%80%D0%BD%D0%B0%D1%8F_%D0%B0%D0%BD%D1%82%D1%80%D0%BE%D0%BF%D0%BE%D0%BB%D0%BE%D0%B3%D0%B8%D1%8F&amp;action=edit&amp;redlink=1\" title=\"Структурная антропология (страница отсутствует)\">русск.</a></span></span> не имеют смысла. Метод <a href=\"/wiki/%D0%94%D0%B5%D0%BA%D0%BE%D0%BD%D1%81%D1%82%D1%80%D1%83%D0%BA%D1%86%D0%B8%D1%8F\" title=\"Деконструкция\">деконструкции</a> Деррида демонстрирует выявление стереотипов (апорий) в любом тексте, которые заведомо сказываются на его смысле. Деррида провозглашает радикальный тезис: всё есть дискурс (текст), в который изначально вписана любая философская позиция, а однозначная интерпретация текста практически невозможна. Фуко придерживался менее радикальных взглядов: он сомневался в существовании истинной интерпретации в социальных и гуманитарных науках, то есть считал, что социальные и естественные науки имеют фундаментально разную природу. В развитии гуманитарного знания и общественной жизни он видел смену дискурсов (эпистем), содержащих различные стереотипы, которые временно овладевают мышлением<sup class=\"reference\" id=\"cite_ref-_db74b1d919f24434_157-0\"><a href=\"#cite_note-_db74b1d919f24434-157\">[150]</a></sup><sup class=\"reference\" id=\"cite_ref-_41c6891bfd2081ae_158-0\"><a href=\"#cite_note-_41c6891bfd2081ae-158\">[151]</a></sup>.\n",
       "</p>, <p>До середины XX века философия науки в <a href=\"/wiki/%D0%9A%D0%BE%D0%BD%D1%82%D0%B8%D0%BD%D0%B5%D0%BD%D1%82%D0%B0%D0%BB%D1%8C%D0%BD%D0%B0%D1%8F_%D1%84%D0%B8%D0%BB%D0%BE%D1%81%D0%BE%D1%84%D0%B8%D1%8F\" title=\"Континентальная философия\">континентальной</a> и в <a href=\"/wiki/%D0%90%D0%BD%D0%B0%D0%BB%D0%B8%D1%82%D0%B8%D1%87%D0%B5%D1%81%D0%BA%D0%B0%D1%8F_%D1%84%D0%B8%D0%BB%D0%BE%D1%81%D0%BE%D1%84%D0%B8%D1%8F\" title=\"Аналитическая философия\">аналитической традициях</a> развивалась параллельно. Например, философы обеих традиций считают важным вклад <a href=\"/wiki/%D0%93%D1%83%D1%81%D1%81%D0%B5%D1%80%D0%BB%D1%8C,_%D0%AD%D0%B4%D0%BC%D1%83%D0%BD%D0%B4\" title=\"Гуссерль, Эдмунд\">Эдмунда Гуссерля</a> в <a href=\"/wiki/%D0%A4%D0%B8%D0%BB%D0%BE%D1%81%D0%BE%D1%84%D0%B8%D1%8F_%D0%BC%D0%B0%D1%82%D0%B5%D0%BC%D0%B0%D1%82%D0%B8%D0%BA%D0%B8\" title=\"Философия математики\">философию математики</a>. В 1960-е годы с развитием <a href=\"/wiki/%D0%9F%D0%BE%D1%81%D1%82%D1%81%D1%82%D1%80%D1%83%D0%BA%D1%82%D1%83%D1%80%D0%B0%D0%BB%D0%B8%D0%B7%D0%BC\" title=\"Постструктурализм\">постструктурализма</a> континентальная философия науки стала существенно отличаться от аналитической традиции. В современной континентальной традиции преобладает представление о <a href=\"/wiki/%D0%A0%D0%B5%D0%BB%D1%8F%D1%82%D0%B8%D0%B2%D0%B8%D0%B7%D0%BC\" title=\"Релятивизм\">релятивизме</a> научного знания. Многие континентальные философы интерпретируют <a href=\"/wiki/%D0%A1%D0%BC%D0%B5%D0%BD%D0%B0_%D0%BF%D0%B0%D1%80%D0%B0%D0%B4%D0%B8%D0%B3%D0%BC\" title=\"Смена парадигм\">смену парадигм</a> как смену <a href=\"/wiki/%D0%94%D0%B8%D1%81%D0%BA%D1%83%D1%80%D1%81\" title=\"Дискурс\">дискурсов</a> лишь под влиянием моды, а не как некий процесс, углубляющий познание реальности<sup class=\"reference\" id=\"cite_ref-_6be8548cdd6e0d81_159-0\"><a href=\"#cite_note-_6be8548cdd6e0d81-159\">[152]</a></sup>. Таким образом, в континентальной традиции принято релятивисткое толкование знаменитой книги <a href=\"/wiki/%D0%9A%D1%83%D0%BD,_%D0%A2%D0%BE%D0%BC%D0%B0%D1%81_%D0%A1%D1%8D%D0%BC%D1%8E%D1%8D%D0%BB\" title=\"Кун, Томас Сэмюэл\">Куна</a> «<a href=\"/wiki/%D0%A1%D1%82%D1%80%D1%83%D0%BA%D1%82%D1%83%D1%80%D0%B0_%D0%BD%D0%B0%D1%83%D1%87%D0%BD%D1%8B%D1%85_%D1%80%D0%B5%D0%B2%D0%BE%D0%BB%D1%8E%D1%86%D0%B8%D0%B9\" title=\"Структура научных революций\">Структура научных революций</a>», несмотря на то, что сам Кун возражал против такой интерпретации<sup class=\"reference\" id=\"cite_ref-Kuhn_160-0\"><a href=\"#cite_note-Kuhn-160\">[прим. 8]</a></sup>. Ряд континентальных философов, например, <a href=\"/wiki/%D0%9B%D0%B0%D1%82%D1%83%D1%80,_%D0%91%D1%80%D1%83%D0%BD%D0%BE\" title=\"Латур, Бруно\">Бруно Латур</a> и <a href=\"/wiki/%D0%A4%D0%B5%D0%B9%D0%B5%D1%80%D0%B0%D0%B1%D0%B5%D0%BD%D0%B4,_%D0%9F%D0%BE%D0%BB_%D0%9A%D0%B0%D1%80%D0%BB\" title=\"Фейерабенд, Пол Карл\">Пол Фейерабенд</a> считают научные теории <a href=\"/wiki/%D0%A1%D0%BE%D1%86%D0%B8%D0%B0%D0%BB%D1%8C%D0%BD%D1%8B%D0%B9_%D0%BA%D0%BE%D0%BD%D1%81%D1%82%D1%80%D1%83%D0%BA%D1%82%D0%B8%D0%B2%D0%B8%D0%B7%D0%BC\" title=\"Социальный конструктивизм\">социально сконструированными</a> и не имеющими отношения к познанию реальности<sup class=\"reference\" id=\"cite_ref-_24373bc55ea8157b_161-0\"><a href=\"#cite_note-_24373bc55ea8157b-161\">[153]</a></sup><sup class=\"reference\" id=\"cite_ref-_32be514291441435_162-0\"><a href=\"#cite_note-_32be514291441435-162\">[154]</a></sup>. Эта позиция получила название «<a href=\"/wiki/%D0%AD%D0%BF%D0%B8%D1%81%D1%82%D0%B5%D0%BC%D0%BE%D0%BB%D0%BE%D0%B3%D0%B8%D1%87%D0%B5%D1%81%D0%BA%D0%B8%D0%B9_%D0%B0%D0%BD%D0%B0%D1%80%D1%85%D0%B8%D0%B7%D0%BC\" title=\"Эпистемологический анархизм\">эпистемологический анархизм</a>».\n",
       "</p>, <p>В отличие от <a href=\"/wiki/%D0%9A%D0%BE%D0%BD%D1%82%D0%B8%D0%BD%D0%B5%D0%BD%D1%82%D0%B0%D0%BB%D1%8C%D0%BD%D0%B0%D1%8F_%D1%84%D0%B8%D0%BB%D0%BE%D1%81%D0%BE%D1%84%D0%B8%D1%8F\" title=\"Континентальная философия\">континентальной философии</a> аналитическая философия определяется не своими течениями и концепциями, а своим подходом и методами. В более широком смысле аналитическую философию определяют как философскую деятельность, осмысленность которой можно обосновать либо строго логически, либо посредством обратной связи с окружающим миром. Например, в рамках аналитической философии имеет смысл обсуждать либо лишь те утверждения, которые можно теоретически проверить эмпирическим путём, либо различные логические следствия таких утверждений. Аналитическая философия, таким образом, приближается к <a href=\"/wiki/%D0%9D%D0%B0%D1%83%D0%BA%D0%B0\" title=\"Наука\">научной деятельности</a><sup class=\"reference\" id=\"cite_ref-наука2_163-0\"><a href=\"#cite_note-наука2-163\">[прим. 9]</a></sup>. В таком широком смысле аналитическая философия включает в себя <a href=\"/wiki/%D0%9F%D1%80%D0%B0%D0%B3%D0%BC%D0%B0%D1%82%D0%B8%D0%B7%D0%BC\" title=\"Прагматизм\">прагматизм</a> и, в некоторых определениях, <a class=\"mw-redirect\" href=\"/wiki/%D0%A4%D0%B5%D0%BD%D0%BE%D0%BC%D0%B5%D0%BD%D0%BE%D0%BB%D0%BE%D0%B3%D0%B8%D1%8F_(%D1%84%D0%B8%D0%BB%D0%BE%D1%81%D0%BE%D1%84%D0%B8%D1%8F)\" title=\"Феноменология (философия)\">феноменологию</a> <a href=\"/wiki/%D0%93%D1%83%D1%81%D1%81%D0%B5%D1%80%D0%BB%D1%8C,_%D0%AD%D0%B4%D0%BC%D1%83%D0%BD%D0%B4\" title=\"Гуссерль, Эдмунд\">Гуссерля</a><sup class=\"reference\" id=\"cite_ref-_226198d4b724afe7_164-0\"><a href=\"#cite_note-_226198d4b724afe7-164\">[155]</a></sup>. В более узком смысле аналитическую философию определяют как совокупность методов для достижения вышеописанной цели, выдвинутых в начале XX века <a href=\"/wiki/%D0%A0%D0%B0%D1%81%D1%81%D0%B5%D0%BB,_%D0%91%D0%B5%D1%80%D1%82%D1%80%D0%B0%D0%BD\" title=\"Рассел, Бертран\">Расселом</a> и <a href=\"/wiki/%D0%9C%D1%83%D1%80,_%D0%94%D0%B6%D0%BE%D1%80%D0%B4%D0%B6_%D0%AD%D0%B4%D0%B2%D0%B0%D1%80%D0%B4\" title=\"Мур, Джордж Эдвард\">Муром</a>, которые в первую очередь включают в себя совершенствование <a href=\"/wiki/%D0%9C%D0%B0%D1%82%D0%B5%D0%BC%D0%B0%D1%82%D0%B8%D1%87%D0%B5%D1%81%D0%BA%D0%B0%D1%8F_%D0%BB%D0%BE%D0%B3%D0%B8%D0%BA%D0%B0\" title=\"Математическая логика\">математической логики</a> и строгий <a href=\"/wiki/%D0%9B%D0%B8%D0%BD%D0%B3%D0%B2%D0%B8%D1%81%D1%82%D0%B8%D0%BA%D0%B0\" title=\"Лингвистика\">лингвистический</a> анализ, так называемую «<a href=\"/wiki/%D0%A4%D0%B8%D0%BB%D0%BE%D1%81%D0%BE%D1%84%D0%B8%D1%8F_%D0%BE%D0%B1%D1%8B%D0%B4%D0%B5%D0%BD%D0%BD%D0%BE%D0%B3%D0%BE_%D1%8F%D0%B7%D1%8B%D0%BA%D0%B0\" title=\"Философия обыденного языка\">философию обыденного языка</a>»<sup class=\"reference\" id=\"cite_ref-_cb05d1cfa7c37178_165-0\"><a href=\"#cite_note-_cb05d1cfa7c37178-165\">[156]</a></sup><sup class=\"reference\" id=\"cite_ref-_a6ee1fc50e2b8219_166-0\"><a href=\"#cite_note-_a6ee1fc50e2b8219-166\">[157]</a></sup>.\n",
       "</p>, <p>Аналитическую философию критикуют по трём основаниям: за излишнее сужение методологии, за излишнее сужение предмета и за присущий ей <a href=\"/wiki/%D0%A0%D0%B5%D0%B4%D1%83%D0%BA%D1%86%D0%B8%D0%BE%D0%BD%D0%B8%D0%B7%D0%BC\" title=\"Редукционизм\">редукционизм</a>. В первом случае объектом критики становится <a href=\"/wiki/%D0%A1%D1%86%D0%B8%D0%B5%D0%BD%D1%82%D0%B8%D0%B7%D0%BC\" title=\"Сциентизм\">сциентизм</a>, представление о научном мышлении как идеальном и попытки следовать за ним. Во втором случае, ссылаясь на текущую практику аналитической философии, критики обращают внимание на то, что в связи с ограниченностью допустимых методов аналитическая философия де-факто лимитирует своё приложение вопросами <a href=\"/wiki/%D0%AD%D0%BF%D0%B8%D1%81%D1%82%D0%B5%D0%BC%D0%BE%D0%BB%D0%BE%D0%B3%D0%B8%D1%8F\" title=\"Эпистемология\">эпистемологии</a>, <a href=\"/wiki/%D0%A4%D0%B8%D0%BB%D0%BE%D1%81%D0%BE%D1%84%D0%B8%D1%8F_%D0%BD%D0%B0%D1%83%D0%BA%D0%B8\" title=\"Философия науки\">философией науки</a>, <a href=\"/wiki/%D0%A4%D0%B8%D0%BB%D0%BE%D1%81%D0%BE%D1%84%D0%B8%D1%8F_%D1%81%D0%BE%D0%B7%D0%BD%D0%B0%D0%BD%D0%B8%D1%8F\" title=\"Философия сознания\">философией сознания</a>, <a href=\"/wiki/%D0%A4%D0%B8%D0%BB%D0%BE%D1%81%D0%BE%D1%84%D0%B8%D1%8F_%D1%8F%D0%B7%D1%8B%D0%BA%D0%B0\" title=\"Философия языка\">философией языка</a> и некоторыми аспектами <a href=\"/wiki/%D0%AD%D1%82%D0%B8%D0%BA%D0%B0\" title=\"Этика\">этики</a>. Метафизические вопросы, вопросы, связанные со смыслом жизни, выпадают из анализа в нынешней аналитической философии<sup class=\"reference\" id=\"cite_ref-_68ce92893a365fdb_167-0\"><a href=\"#cite_note-_68ce92893a365fdb-167\">[158]</a></sup><sup class=\"reference\" id=\"cite_ref-_b6fd28897960602b_168-0\"><a href=\"#cite_note-_b6fd28897960602b-168\">[159]</a></sup>. Критика по третьему основанию отмечает, что в рамках аналитической философии, как и в точных науках, все методы сводятся к редукционизму, разделению вопросов на более частные, и, таким образом, не остаётся места для <a href=\"/wiki/%D0%A5%D0%BE%D0%BB%D0%B8%D0%B7%D0%BC\" title=\"Холизм\">холизма</a>, философии целостности<sup class=\"reference\" id=\"cite_ref-_226198d4b724afe7_164-1\"><a href=\"#cite_note-_226198d4b724afe7-164\">[155]</a></sup>.\n",
       "</p>, <p>Прагматизм — традиция <a href=\"/wiki/%D0%90%D0%BC%D0%B5%D1%80%D0%B8%D0%BA%D0%B0%D0%BD%D1%81%D0%BA%D0%B0%D1%8F_%D1%84%D0%B8%D0%BB%D0%BE%D1%81%D0%BE%D1%84%D0%B8%D1%8F\" title=\"Американская философия\">американской философии</a>, связанная главным образом с работами <a href=\"/wiki/%D0%9F%D0%B8%D1%80%D1%81,_%D0%A7%D0%B0%D1%80%D0%BB%D1%8C%D0%B7_%D0%A1%D0%B0%D0%BD%D0%B4%D0%B5%D1%80%D1%81\" title=\"Пирс, Чарльз Сандерс\">Чарльза Пирса</a>, <a class=\"mw-redirect\" href=\"/wiki/%D0%94%D0%B6%D0%B5%D0%BC%D1%81,_%D0%A3%D0%B8%D0%BB%D1%8C%D1%8F%D0%BC\" title=\"Джемс, Уильям\">Уильяма Джеймса</a> и <a href=\"/wiki/%D0%94%D1%8C%D1%8E%D0%B8,_%D0%94%D0%B6%D0%BE%D0%BD\" title=\"Дьюи, Джон\">Джона Дьюи</a>. Философия прагматизма отрицает осмысленность <a href=\"/wiki/%D0%9C%D0%B5%D1%82%D0%B0%D1%84%D0%B8%D0%B7%D0%B8%D0%BA%D0%B0\" title=\"Метафизика\">метафизики</a> и переопределяет истину в какой-то области знания как временный <a href=\"/wiki/%D0%9A%D0%BE%D0%BD%D1%81%D0%B5%D0%BD%D1%81%D1%83%D1%81\" title=\"Консенсус\">консенсус</a> между людьми, которые эту область исследуют. Философия прагматизма не занимается поиском истин, а критически анализирует различные концепции на предмет их пригодности и применимости. Философские концепции, таким образом, в рамках прагматизма часто рассматриваются как инструменты, предназначенные для человеческой деятельности. Такой подход называется «<a href=\"/wiki/%D0%98%D0%BD%D1%81%D1%82%D1%80%D1%83%D0%BC%D0%B5%D0%BD%D1%82%D0%B0%D0%BB%D0%B8%D0%B7%D0%BC\" title=\"Инструментализм\">инструментализмом</a>». Соответственно, прагматисты часто занимаются очень прикладными вопросами. Например, Джон Дьюи известен своим вкладом в <a href=\"/wiki/%D0%A4%D0%B8%D0%BB%D0%BE%D1%81%D0%BE%D1%84%D0%B8%D1%8F_%D0%BE%D0%B1%D1%80%D0%B0%D0%B7%D0%BE%D0%B2%D0%B0%D0%BD%D0%B8%D1%8F\" title=\"Философия образования\">философию образования</a><sup class=\"reference\" id=\"cite_ref-_7edcdc7faccbd90d_169-0\"><a href=\"#cite_note-_7edcdc7faccbd90d-169\">[160]</a></sup>.\n",
       "</p>, <p>Вплоть до конца XIX века <a href=\"/wiki/%D0%9B%D0%BE%D0%B3%D0%B8%D0%BA%D0%B0\" title=\"Логика\">логика</a> оставалась неизменной со времён <a href=\"/wiki/%D0%90%D1%80%D0%B8%D1%81%D1%82%D0%BE%D1%82%D0%B5%D0%BB%D1%8C\" title=\"Аристотель\">Аристотеля</a>, причём бытовало мнение, что усовершенствовать логику невозможно. Например, <a href=\"/wiki/%D0%9A%D0%B0%D0%BD%D1%82,_%D0%98%D0%BC%D0%BC%D0%B0%D0%BD%D1%83%D0%B8%D0%BB\" title=\"Кант, Иммануил\">Кант</a> утверждал, что логика Аристотеля совершенна. Однако в середине XIX века появились исследования <a href=\"/wiki/%D0%91%D1%83%D0%BB%D1%8C,_%D0%94%D0%B6%D0%BE%D1%80%D0%B4%D0%B6\" title=\"Буль, Джордж\">Буля</a> и <a href=\"/wiki/%D0%9C%D0%BE%D1%80%D0%B3%D0%B0%D0%BD,_%D0%9E%D0%B3%D0%B0%D1%81%D1%82%D0%B5%D1%81_%D0%B4%D0%B5\" title=\"Морган, Огастес де\">де Моргана</a>, открывающие перспективы в развитии логики, и на рубеже XIX и XX веков независимо друг от друга немецкий математик <a class=\"mw-redirect\" href=\"/wiki/%D0%A4%D1%80%D0%B5%D0%B3%D0%B5,_%D0%A4%D1%80%D0%B8%D0%B4%D1%80%D0%B8%D1%85_%D0%9B%D1%8E%D0%B4%D0%B2%D0%B8%D0%B3_%D0%93%D0%BE%D1%82%D0%BB%D0%BE%D0%B1\" title=\"Фреге, Фридрих Людвиг Готлоб\">Готлоб Фреге</a> и английские философы аналитической традиции <a href=\"/wiki/%D0%A0%D0%B0%D1%81%D1%81%D0%B5%D0%BB,_%D0%91%D0%B5%D1%80%D1%82%D1%80%D0%B0%D0%BD\" title=\"Рассел, Бертран\">Бертран Рассел</a> и <a href=\"/wiki/%D0%A3%D0%B0%D0%B9%D1%82%D1%85%D0%B5%D0%B4,_%D0%90%D0%BB%D1%8C%D1%84%D1%80%D0%B5%D0%B4_%D0%9D%D0%BE%D1%80%D1%82\" title=\"Уайтхед, Альфред Норт\">Альфред Уайтхед</a> опубликовали исследования, которые легли в основу намного более совершенных и функциональных логических систем: <a href=\"/wiki/%D0%9B%D0%BE%D0%B3%D0%B8%D0%BA%D0%B0_%D0%BF%D0%B5%D1%80%D0%B2%D0%BE%D0%B3%D0%BE_%D0%BF%D0%BE%D1%80%D1%8F%D0%B4%D0%BA%D0%B0\" title=\"Логика первого порядка\">логики предикатов</a> и <a href=\"/wiki/%D0%9C%D0%BE%D0%B4%D0%B0%D0%BB%D1%8C%D0%BD%D0%B0%D1%8F_%D0%BB%D0%BE%D0%B3%D0%B8%D0%BA%D0%B0\" title=\"Модальная логика\">модальной логики</a>. Эти результаты позволили значительно усовершенствовать <a href=\"/wiki/%D0%90%D0%BA%D1%81%D0%B8%D0%BE%D0%BC%D0%B0\" title=\"Аксиома\">аксиоматизацию</a> <a href=\"/wiki/%D0%9C%D0%B0%D1%82%D0%B5%D0%BC%D0%B0%D1%82%D0%B8%D0%BA%D0%B0\" title=\"Математика\">математики</a>, а также стали отправной точкой для исследований <a href=\"/wiki/%D0%93%D1%91%D0%B4%D0%B5%D0%BB%D1%8C,_%D0%9A%D1%83%D1%80%D1%82\" title=\"Гёдель, Курт\">Курта Гёделя</a>, которые завершились его доказательством <a href=\"/wiki/%D0%A2%D0%B5%D0%BE%D1%80%D0%B5%D0%BC%D0%B0_%D0%93%D1%91%D0%B4%D0%B5%D0%BB%D1%8F_%D0%BE_%D0%BD%D0%B5%D0%BF%D0%BE%D0%BB%D0%BD%D0%BE%D1%82%D0%B5\" title=\"Теорема Гёделя о неполноте\">теоремы о неполноте</a> — по многим оценкам, самого важного результата в области логики со времён Аристотеля. Теорема Гёделя о неполноте накладывает серьёзные ограничения на <a href=\"/wiki/%D0%AD%D0%BF%D0%B8%D1%81%D1%82%D0%B5%D0%BC%D0%BE%D0%BB%D0%BE%D0%B3%D0%B8%D1%8F\" title=\"Эпистемология\">эпистемологическую систему</a> — и научную, и философскую. Успехи в развитии логики предоставили аналитической философии новые инструменты анализа<sup class=\"reference\" id=\"cite_ref-_f72a178c2488d311_134-1\"><a href=\"#cite_note-_f72a178c2488d311-134\">[129]</a></sup>.\n",
       "</p>, <p>Идея позитивизма, предположения, что все общественные науки, включая философию, будут заменены точными науками, была сформулирована ещё в начале XIX века <a href=\"/wiki/%D0%9A%D0%BE%D0%BD%D1%82,_%D0%9E%D0%B3%D1%8E%D1%81%D1%82\" title=\"Конт, Огюст\">Огюстом Контом</a><sup class=\"reference\" id=\"cite_ref-_d62092364a173441_170-0\"><a href=\"#cite_note-_d62092364a173441-170\">[161]</a></sup>. Сугубо логико-математический подход к <a href=\"/wiki/%D0%90%D0%BD%D0%B0%D0%BB%D0%B8%D1%82%D0%B8%D1%87%D0%B5%D1%81%D0%BA%D0%B0%D1%8F_%D1%84%D0%B8%D0%BB%D0%BE%D1%81%D0%BE%D1%84%D0%B8%D1%8F\" title=\"Аналитическая философия\">аналитической философии</a> достиг своего пика во время встреч <a href=\"/wiki/%D0%92%D0%B5%D0%BD%D1%81%D0%BA%D0%B8%D0%B9_%D0%BA%D1%80%D1%83%D0%B6%D0%BE%D0%BA\" title=\"Венский кружок\">Венского кружка</a>, куда входили математики и известные философы, включая <a class=\"mw-redirect\" href=\"/wiki/%D0%9F%D0%BE%D0%BF%D0%BF%D0%B5%D1%80,_%D0%9A%D0%B0%D1%80%D0%BB_%D0%A0%D0%B0%D0%B9%D0%BC%D1%83%D0%BD%D0%B4\" title=\"Поппер, Карл Раймунд\">Карла Поппера</a> и ученика <a href=\"/wiki/%D0%A0%D0%B0%D1%81%D1%81%D0%B5%D0%BB,_%D0%91%D0%B5%D1%80%D1%82%D1%80%D0%B0%D0%BD\" title=\"Рассел, Бертран\">Рассела</a>, <a href=\"/wiki/%D0%92%D0%B8%D1%82%D0%B3%D0%B5%D0%BD%D1%88%D1%82%D0%B5%D0%B9%D0%BD,_%D0%9B%D1%8E%D0%B4%D0%B2%D0%B8%D0%B3\" title=\"Витгенштейн, Людвиг\">Людвига Витгенштейна</a>. В результате своей деятельности кружок сформулировал доктрину «<a class=\"mw-redirect\" href=\"/wiki/%D0%9D%D0%B5%D0%BE%D0%BF%D0%BE%D0%B7%D0%B8%D1%82%D0%B8%D0%B2%D0%B8%D0%B7%D0%BC\" title=\"Неопозитивизм\">неопозитивизма</a>» или «логического позитивизма» по отношению к философии, постулируя, что любое утверждение в философии должно удовлетворять критерию проверямости. Такой подход называется «<a href=\"/wiki/%D0%92%D0%B5%D1%80%D0%B8%D1%84%D0%B8%D0%BA%D0%B0%D1%86%D0%B8%D0%BE%D0%BD%D0%B8%D0%B7%D0%BC\" title=\"Верификационизм\">верификационизмом</a>». Однако после долгих бесплодных попыток применить верификационизм к философии, течение логического позитивизма ослабло. Серьёзные сомнения в эффективности логического позитивизма продемонстрировал в своих работах <a href=\"/wiki/%D0%9A%D1%83%D0%B0%D0%B9%D0%BD,_%D0%A3%D0%B8%D0%BB%D0%BB%D0%B0%D1%80%D0%B4_%D0%92%D0%B0%D0%BD_%D0%9E%D1%80%D0%BC%D0%B0%D0%BD\" title=\"Куайн, Уиллард Ван Орман\">Уиллард Куайн</a>. Отказался от своей прежней позиции и Витгенштейн<sup class=\"reference\" id=\"cite_ref-_dd75cd36b60815b2_171-0\"><a href=\"#cite_note-_dd75cd36b60815b2-171\">[162]</a></sup>.\n",
       "</p>, <p><a href=\"/wiki/%D0%A4%D0%B8%D0%BB%D0%BE%D1%81%D0%BE%D1%84%D0%B8%D1%8F_%D0%BD%D0%B0%D1%83%D0%BA%D0%B8\" title=\"Философия науки\">Философия науки</a> является одной из самых больших областей исследования в аналитической философии и ярким примером различия в подходах между <a href=\"/wiki/%D0%9A%D0%BE%D0%BD%D1%82%D0%B8%D0%BD%D0%B5%D0%BD%D1%82%D0%B0%D0%BB%D1%8C%D0%BD%D0%B0%D1%8F_%D1%84%D0%B8%D0%BB%D0%BE%D1%81%D0%BE%D1%84%D0%B8%D1%8F\" title=\"Континентальная философия\">континентальной</a> и аналитической философией. Аналитическая философия науки в целом пытается ответить на вопросы: «почему <a href=\"/wiki/%D0%9D%D0%B0%D1%83%D1%87%D0%BD%D1%8B%D0%B9_%D0%BC%D0%B5%D1%82%D0%BE%D0%B4\" title=\"Научный метод\">научный метод</a> работает?», «как именно он работает?», в то время как континентальная философия науки объясняет, что на самом деле научный метод не работает<sup class=\"reference\" id=\"cite_ref-_f72a178c2488d311_134-2\"><a href=\"#cite_note-_f72a178c2488d311-134\">[129]</a></sup>. Среди самых известных философов аналитической традиции <a href=\"/wiki/%D0%9A%D1%83%D0%BD,_%D0%A2%D0%BE%D0%BC%D0%B0%D1%81_%D0%A1%D1%8D%D0%BC%D1%8E%D1%8D%D0%BB\" title=\"Кун, Томас Сэмюэл\">Томас Кун</a>, который ввёл в обращение термины «<a href=\"/wiki/%D0%A0%D0%B5%D0%B2%D0%BE%D0%BB%D1%8E%D1%86%D0%B8%D1%8F_%D0%B2_%D0%BD%D0%B0%D1%83%D0%BA%D0%B5\" title=\"Революция в науке\">научная революция</a>», «<a href=\"/wiki/%D0%9F%D0%B0%D1%80%D0%B0%D0%B4%D0%B8%D0%B3%D0%BC%D0%B0_(%D1%84%D0%B8%D0%BB%D0%BE%D1%81%D0%BE%D1%84%D0%B8%D1%8F)\" title=\"Парадигма (философия)\">парадигма</a>» и «<a href=\"/wiki/%D0%A1%D0%BC%D0%B5%D0%BD%D0%B0_%D0%BF%D0%B0%D1%80%D0%B0%D0%B4%D0%B8%D0%B3%D0%BC\" title=\"Смена парадигм\">смена парадигм</a>», <a class=\"mw-redirect\" href=\"/wiki/%D0%9F%D0%BE%D0%BF%D0%BF%D0%B5%D1%80,_%D0%9A%D0%B0%D1%80%D0%BB_%D0%A0%D0%B0%D0%B9%D0%BC%D1%83%D0%BD%D0%B4\" title=\"Поппер, Карл Раймунд\">Карл Поппер</a>, который явно сформулировал критерий <a href=\"/wiki/%D0%A4%D0%B0%D0%BB%D1%8C%D1%81%D0%B8%D1%84%D0%B8%D1%86%D0%B8%D1%80%D1%83%D0%B5%D0%BC%D0%BE%D1%81%D1%82%D1%8C\" title=\"Фальсифицируемость\">фальсифицируемости</a> научных теорий, и <a href=\"/wiki/%D0%9A%D1%83%D0%B0%D0%B9%D0%BD,_%D0%A3%D0%B8%D0%BB%D0%BB%D0%B0%D1%80%D0%B4_%D0%92%D0%B0%D0%BD_%D0%9E%D1%80%D0%BC%D0%B0%D0%BD\" title=\"Куайн, Уиллард Ван Орман\">Уиллард Куайн</a>, известный своим вкладом в развитие <a href=\"/wiki/%D0%9C%D0%B0%D1%82%D0%B5%D0%BC%D0%B0%D1%82%D0%B8%D1%87%D0%B5%D1%81%D0%BA%D0%B0%D1%8F_%D0%BB%D0%BE%D0%B3%D0%B8%D0%BA%D0%B0\" title=\"Математическая логика\">математической логики</a> и более строгой формулировкой принципов <a href=\"/wiki/%D0%AD%D0%BC%D0%BF%D0%B8%D1%80%D0%B8%D0%B7%D0%BC\" title=\"Эмпиризм\">эмпиризма</a>. Карл Поппер также применял критерий фальсифицируемости к общественным системам, например, в своей известной книге «<a href=\"/wiki/%D0%9E%D1%82%D0%BA%D1%80%D1%8B%D1%82%D0%BE%D0%B5_%D0%BE%D0%B1%D1%89%D0%B5%D1%81%D1%82%D0%B2%D0%BE_%D0%B8_%D0%B5%D0%B3%D0%BE_%D0%B2%D1%80%D0%B0%D0%B3%D0%B8\" title=\"Открытое общество и его враги\">Открытое общество и его враги</a>». Многие вопросы в философии науки остаются открытыми и в настоящее время широко обсуждаются в специальной литературе.\n",
       "</p>, <p>В рамках первоначальной концептуализации аналитической философии многие философы в первой половине XX века уделили большое внимание <a href=\"/wiki/%D0%A4%D0%B8%D0%BB%D0%BE%D1%81%D0%BE%D1%84%D0%B8%D1%8F_%D1%8F%D0%B7%D1%8B%D0%BA%D0%B0\" title=\"Философия языка\">философии языка</a>. И <a href=\"/wiki/%D0%A4%D1%80%D0%B5%D0%B3%D0%B5,_%D0%93%D0%BE%D1%82%D0%BB%D0%BE%D0%B1\" title=\"Фреге, Готлоб\">Фреге</a>, и <a href=\"/wiki/%D0%A0%D0%B0%D1%81%D1%81%D0%B5%D0%BB,_%D0%91%D0%B5%D1%80%D1%82%D1%80%D0%B0%D0%BD\" title=\"Рассел, Бертран\">Рассела</a> в процессе разработки <a href=\"/wiki/%D0%9C%D0%B0%D1%82%D0%B5%D0%BC%D0%B0%D1%82%D0%B8%D1%87%D0%B5%D1%81%D0%BA%D0%B0%D1%8F_%D0%BB%D0%BE%D0%B3%D0%B8%D0%BA%D0%B0\" title=\"Математическая логика\">математической логики</a> занимали вопросы взаимосвязи между смыслом и языковым выражением. Были предприняты попытки редуцировать язык к наипростейшим частицам смысла и привязать их к разработанному логическому аппарату. Большой вклад в развитие философии языка внесли <a class=\"mw-redirect\" href=\"/wiki/%D0%A1%D1%91%D1%80%D0%BB%D1%8C,_%D0%94%D0%B6%D0%BE%D0%BD_%D0%A0%D0%BE%D0%B4%D0%B6%D0%B5%D1%80%D1%81\" title=\"Сёрль, Джон Роджерс\">Джон Сёрль</a>, <a href=\"/wiki/%D0%A2%D0%B0%D1%80%D1%81%D0%BA%D0%B8%D0%B9,_%D0%90%D0%BB%D1%8C%D1%84%D1%80%D0%B5%D0%B4\" title=\"Тарский, Альфред\">Альфред Тарский</a> и <a href=\"/wiki/%D0%94%D1%8D%D0%B2%D0%B8%D0%B4%D1%81%D0%BE%D0%BD,_%D0%94%D0%BE%D0%BD%D0%B0%D0%BB%D1%8C%D0%B4\" title=\"Дэвидсон, Дональд\">Дональд Дэвидсон</a>, однако превратить <a href=\"/wiki/%D0%9B%D0%B8%D0%BD%D0%B3%D0%B2%D0%B8%D1%81%D1%82%D0%B8%D0%BA%D0%B0\" title=\"Лингвистика\">лингвистику</a> в точную науку не удалось. Вместо этого были обнаружены основания для скептицизма по поводу осмысленности применения редукции к языкам вообще<sup class=\"reference\" id=\"cite_ref-_f72a178c2488d311_134-3\"><a href=\"#cite_note-_f72a178c2488d311-134\">[129]</a></sup>.\n",
       "</p>, <p>Хотя исследования в области философии языка продолжаются, со второй половины XX века фокус в аналитической традиции сместился в сторону <a href=\"/wiki/%D0%A4%D0%B8%D0%BB%D0%BE%D1%81%D0%BE%D1%84%D0%B8%D1%8F_%D1%81%D0%BE%D0%B7%D0%BD%D0%B0%D0%BD%D0%B8%D1%8F\" title=\"Философия сознания\">философии сознания</a>. Философия сознания главным образом пытается понять саму природу <a class=\"mw-redirect\" href=\"/wiki/%D0%A1%D0%BE%D0%B7%D0%BD%D0%B0%D0%BD%D0%B8%D0%B5_(%D1%84%D0%B8%D0%BB%D0%BE%D1%81%D0%BE%D1%84%D0%B8%D1%8F)\" title=\"Сознание (философия)\">сознания</a>, и многие нефилософы, включая <a href=\"/wiki/%D0%91%D0%B8%D0%BE%D0%BB%D0%BE%D0%B3%D0%B8%D1%8F\" title=\"Биология\">биологов</a>, <a href=\"/wiki/%D0%9F%D1%81%D0%B8%D1%85%D0%BE%D0%BB%D0%BE%D0%B3%D0%B8%D1%8F\" title=\"Психология\">психологов</a>, специалистов в области <a href=\"/wiki/%D0%98%D1%81%D0%BA%D1%83%D1%81%D1%81%D1%82%D0%B2%D0%B5%D0%BD%D0%BD%D1%8B%D0%B9_%D0%B8%D0%BD%D1%82%D0%B5%D0%BB%D0%BB%D0%B5%D0%BA%D1%82\" title=\"Искусственный интеллект\">искусственного интеллекта</a>, работают в этом же направлении, каждый в рамках своей <a href=\"/wiki/%D0%9F%D0%B0%D1%80%D0%B0%D0%B4%D0%B8%D0%B3%D0%BC%D0%B0_(%D1%84%D0%B8%D0%BB%D0%BE%D1%81%D0%BE%D1%84%D0%B8%D1%8F)\" title=\"Парадигма (философия)\">парадигмы</a>. С философской точки зрения, главный вопрос, касающийся сознания, связан с оправданностью принципа <a class=\"mw-redirect\" href=\"/wiki/%D0%94%D1%83%D0%B0%D0%BB%D0%B8%D0%B7%D0%BC\" title=\"Дуализм\">дуализма</a>, сформулированного <a href=\"/wiki/%D0%94%D0%B5%D0%BA%D0%B0%D1%80%D1%82,_%D0%A0%D0%B5%D0%BD%D0%B5\" title=\"Декарт, Рене\">Декартом</a>. Большинство людей на Земле верят в этот принцип, в существование материального тела и одновременную нематериальность либо всего человеческого сознания, либо его части, например, «души». В то же время многие исследователи придерживаются <a class=\"mw-redirect\" href=\"/wiki/%D0%A2%D0%B5%D0%BE%D1%80%D0%B8%D1%8F_%D1%82%D0%BE%D0%B6%D0%B4%D0%B5%D1%81%D1%82%D0%B2%D0%B0\" title=\"Теория тождества\">теории тождества</a>, полагая, что каждому психическому состоянию соответствует какое-то физическое состояние человеческого мозга. Среди философов, известных своим вкладом в философию сознания, <a href=\"/wiki/%D0%9F%D0%B0%D1%82%D0%BD%D1%8D%D0%BC,_%D0%A5%D0%B8%D0%BB%D0%B0%D1%80%D0%B8_%D0%A3%D0%B0%D0%B9%D1%82%D1%85%D0%BE%D0%BB%D0%BB\" title=\"Патнэм, Хилари Уайтхолл\">Хилари Патнэм</a>, <a href=\"/wiki/%D0%9F%D0%B5%D0%BD%D1%80%D0%BE%D1%83%D0%B7,_%D0%A0%D0%BE%D0%B4%D0%B6%D0%B5%D1%80\" title=\"Пенроуз, Роджер\">Роджер Пенроуз</a>, <a href=\"/wiki/%D0%94%D0%B5%D0%BD%D0%BD%D0%B5%D1%82,_%D0%94%D1%8D%D0%BD%D0%B8%D0%B5%D0%BB\" title=\"Деннет, Дэниел\">Дэниел Деннет</a> и др.<sup class=\"reference\" id=\"cite_ref-_f72a178c2488d311_134-4\"><a href=\"#cite_note-_f72a178c2488d311-134\">[129]</a></sup>\n",
       "</p>, <p><a href=\"/wiki/%D0%9A%D0%BE%D1%81%D0%BC%D0%B8%D0%B7%D0%BC\" title=\"Космизм\">Космизм</a>, возникший в конце XIX — начале XX вв., обсуждает дальнейшее развитие человечества в контексте освобождения разума от биологических ограничений (то есть обретения бессмертия) и в контексте освобождения человека от вынужденного присутствия на <a href=\"/wiki/%D0%97%D0%B5%D0%BC%D0%BB%D1%8F\" title=\"Земля\">Земле</a> — расселения в <a href=\"/wiki/%D0%92%D1%81%D0%B5%D0%BB%D0%B5%D0%BD%D0%BD%D0%B0%D1%8F\" title=\"Вселенная\">космосе</a>. С философской точки зрения, оба контекста увязываются с обобщением <a href=\"/wiki/%D0%AD%D0%B2%D0%BE%D0%BB%D1%8E%D1%86%D0%B8%D1%8F\" title=\"Эволюция\">теории эволюции</a>: в первом случае человек «метаэволюционирует» — самостоятельно модифицирует себя, превращая в более совершенный биологический или биотехногенный вид, а во втором случае зона действия эволюции дополняется новым, ещё не связанным с земной эволюцией пространством — космосом. В обоих случаях подразумевается переход эволюции в новую, управляемую человеком фазу. Первым сформулировал принципы космизма американский философ <a href=\"/wiki/%D0%A4%D0%B8%D1%81%D0%BA%D0%B5,_%D0%94%D0%B6%D0%BE%D0%BD_(%D1%84%D0%B8%D0%BB%D0%BE%D1%81%D0%BE%D1%84)\" title=\"Фиске, Джон (философ)\">Джон Фиске</a>, однако наибольшее развитие космизм сперва получил в <a href=\"/wiki/%D0%A0%D0%BE%D1%81%D1%81%D0%B8%D0%B9%D1%81%D0%BA%D0%B0%D1%8F_%D0%B8%D0%BC%D0%BF%D0%B5%D1%80%D0%B8%D1%8F\" title=\"Российская империя\">России</a>. Космизм в России в первую очередь связан с именами <a href=\"/wiki/%D0%92%D0%B5%D1%80%D0%BD%D0%B0%D0%B4%D1%81%D0%BA%D0%B8%D0%B9,_%D0%92%D0%BB%D0%B0%D0%B4%D0%B8%D0%BC%D0%B8%D1%80_%D0%98%D0%B2%D0%B0%D0%BD%D0%BE%D0%B2%D0%B8%D1%87\" title=\"Вернадский, Владимир Иванович\">В. И. Вернадского</a>, <a href=\"/wiki/%D0%A6%D0%B8%D0%BE%D0%BB%D0%BA%D0%BE%D0%B2%D1%81%D0%BA%D0%B8%D0%B9,_%D0%9A%D0%BE%D0%BD%D1%81%D1%82%D0%B0%D0%BD%D1%82%D0%B8%D0%BD_%D0%AD%D0%B4%D1%83%D0%B0%D1%80%D0%B4%D0%BE%D0%B2%D0%B8%D1%87\" title=\"Циолковский, Константин Эдуардович\">К. Э. Циолковского</a>, <a href=\"/wiki/%D0%A4%D1%91%D0%B4%D0%BE%D1%80%D0%BE%D0%B2,_%D0%9D%D0%B8%D0%BA%D0%BE%D0%BB%D0%B0%D0%B9_%D0%A4%D1%91%D0%B4%D0%BE%D1%80%D0%BE%D0%B2%D0%B8%D1%87\" title=\"Фёдоров, Николай Фёдорович\">Н. Ф. Фёдорова</a>, <a href=\"/wiki/%D0%A7%D0%B8%D0%B6%D0%B5%D0%B2%D1%81%D0%BA%D0%B8%D0%B9,_%D0%90%D0%BB%D0%B5%D0%BA%D1%81%D0%B0%D0%BD%D0%B4%D1%80_%D0%9B%D0%B5%D0%BE%D0%BD%D0%B8%D0%B4%D0%BE%D0%B2%D0%B8%D1%87\" title=\"Чижевский, Александр Леонидович\">А. Л. Чижевского</a> и др.<sup class=\"reference\" id=\"cite_ref-_d6e097b4e0802e14_172-0\"><a href=\"#cite_note-_d6e097b4e0802e14-172\">[163]</a></sup><sup class=\"reference\" id=\"cite_ref-_0120482a523e18de_173-0\"><a href=\"#cite_note-_0120482a523e18de-173\">[164]</a></sup><sup class=\"reference\" id=\"cite_ref-_bc70518a4092566b_174-0\"><a href=\"#cite_note-_bc70518a4092566b-174\">[165]</a></sup>\n",
       "</p>, <p>Со второй половины XX века космизм в мире обычно обсуждается под именем «<a href=\"/wiki/%D0%A2%D1%80%D0%B0%D0%BD%D1%81%D0%B3%D1%83%D0%BC%D0%B0%D0%BD%D0%B8%D0%B7%D0%BC\" title=\"Трансгуманизм\">трансгуманизма</a>». Трансгуманизм ставит те же задачи, что и космизм, однако наибольший акцент делает на трансформации самого человека. В контексте новых технологий, связанных с развитием <a href=\"/wiki/%D0%91%D0%B8%D0%BE%D0%BB%D0%BE%D0%B3%D0%B8%D1%8F\" title=\"Биология\">биологических наук</a> и <a href=\"/wiki/%D0%98%D1%81%D0%BA%D1%83%D1%81%D1%81%D1%82%D0%B2%D0%B5%D0%BD%D0%BD%D1%8B%D0%B9_%D0%B8%D0%BD%D1%82%D0%B5%D0%BB%D0%BB%D0%B5%D0%BA%D1%82\" title=\"Искусственный интеллект\">искусственного интеллекта</a>, современное обсуждение трансгуманизма становится насущнее<sup class=\"reference\" id=\"cite_ref-_5cbed4cc192147d2_175-0\"><a href=\"#cite_note-_5cbed4cc192147d2-175\">[166]</a></sup><sup class=\"reference\" id=\"cite_ref-_b059527e1c4cbf68_176-0\"><a href=\"#cite_note-_b059527e1c4cbf68-176\">[167]</a></sup>. Космизм и трансгуманизм подразумевают пользу <a href=\"/wiki/%D0%9D%D0%B0%D1%83%D1%87%D0%BD%D0%BE-%D1%82%D0%B5%D1%85%D0%BD%D0%B8%D1%87%D0%B5%D1%81%D0%BA%D0%B8%D0%B9_%D0%BF%D1%80%D0%BE%D0%B3%D1%80%D0%B5%D1%81%D1%81\" title=\"Научно-технический прогресс\">научно-технического прогресса</a> и <a href=\"/wiki/%D0%A1%D1%86%D0%B8%D0%B5%D0%BD%D1%82%D0%B8%D0%B7%D0%BC\" title=\"Сциентизм\">сциентизм</a>, ожидают триумфа науки над самым главным препятствием человека — его смертностью<sup class=\"reference\" id=\"cite_ref-_5cbed4cc192147d2_175-1\"><a href=\"#cite_note-_5cbed4cc192147d2-175\">[166]</a></sup><sup class=\"reference\" id=\"cite_ref-_bc70518a4092566b_174-1\"><a href=\"#cite_note-_bc70518a4092566b-174\">[165]</a></sup>. Философия космизма и трансгуманизма продолжает формироваться, взгляды на идеологию космизма в континентальной Европе неоднозначны<sup class=\"reference\" id=\"cite_ref-_b28a950a635917d1_177-0\"><a href=\"#cite_note-_b28a950a635917d1-177\">[168]</a></sup>. Трансгуманизм критикуется в связи с непредсказуемыми социальными последствиями<sup class=\"reference\" id=\"cite_ref-_2ffa07d9105ff862_178-0\"><a href=\"#cite_note-_2ffa07d9105ff862-178\">[169]</a></sup>, его конечный продукт связывается со <a href=\"/wiki/%D0%A1%D0%B2%D0%B5%D1%80%D1%85%D1%87%D0%B5%D0%BB%D0%BE%D0%B2%D0%B5%D0%BA\" title=\"Сверхчеловек\">сверхчеловеком</a> <a href=\"/wiki/%D0%9D%D0%B8%D1%86%D1%88%D0%B5,_%D0%A4%D1%80%D0%B8%D0%B4%D1%80%D0%B8%D1%85\" title=\"Ницше, Фридрих\">Ницше</a><sup class=\"reference\" id=\"cite_ref-_ae8e3d4e93b5921a_179-0\"><a href=\"#cite_note-_ae8e3d4e93b5921a-179\">[170]</a></sup>. Срединная позиция декларирует трансгуманизм потенциально «очень опасным процессом», однако «наилучшим из возможных» и, вероятно, неизбежным<sup class=\"reference\" id=\"cite_ref-_cc19a88cd4f185c5_180-0\"><a href=\"#cite_note-_cc19a88cd4f185c5-180\">[171]</a></sup>.\n",
       "</p>, <p>Под «русской философией» может подразумеваться как особенная национальная философия, развивающаяся в пределах русской культуры<sup class=\"reference\" id=\"cite_ref-_bbba78dcd5451bf2_181-0\"><a href=\"#cite_note-_bbba78dcd5451bf2-181\">[172]</a></sup>, так и совокупность деятельности различных философов, проживавших на территории <a href=\"/wiki/%D0%A0%D0%BE%D1%81%D1%81%D0%B8%D1%8F\" title=\"Россия\">России</a>, а в историческом контексте — на территории всей <a href=\"/wiki/%D0%A0%D0%BE%D1%81%D1%81%D0%B8%D0%B9%D1%81%D0%BA%D0%B0%D1%8F_%D0%B8%D0%BC%D0%BF%D0%B5%D1%80%D0%B8%D1%8F\" title=\"Российская империя\">Российской империи</a> и <a class=\"mw-redirect\" href=\"/wiki/%D0%A1%D0%A1%D0%A1%D0%A0\" title=\"СССР\">СССР</a><sup class=\"reference\" id=\"cite_ref-_3dae803b12b8383a_182-0\"><a href=\"#cite_note-_3dae803b12b8383a-182\">[173]</a></sup>. Здесь вопрос рассматривается во втором, наиболее широком понимании.\n",
       "</p>, <p>Собственно философская деятельность начинается в России с середины XVIII века. До реформ <a href=\"/wiki/%D0%9F%D1%91%D1%82%D1%80_I\" title=\"Пётр I\">Петра I</a> <a href=\"/wiki/%D0%A0%D1%83%D1%81%D1%81%D0%BA%D0%BE%D0%B5_%D1%86%D0%B0%D1%80%D1%81%D1%82%D0%B2%D0%BE\" title=\"Русское царство\">Российское государство</a> было отделено как от наследия <a href=\"/wiki/%D0%90%D0%BD%D1%82%D0%B8%D1%87%D0%BD%D0%B0%D1%8F_%D1%84%D0%B8%D0%BB%D0%BE%D1%81%D0%BE%D1%84%D0%B8%D1%8F\" title=\"Античная философия\">античной философии</a>, так и от наследия <a href=\"/wiki/%D0%97%D0%B0%D0%BF%D0%B0%D0%B4%D0%BD%D0%B0%D1%8F_%D1%84%D0%B8%D0%BB%D0%BE%D1%81%D0%BE%D1%84%D0%B8%D1%8F\" title=\"Западная философия\">западной философии</a>. Весь период русской истории до середины XVIII века иногда называют «прологом к русской философии»<sup class=\"reference\" id=\"cite_ref-_7cf7585a9bf71447_183-0\"><a href=\"#cite_note-_7cf7585a9bf71447-183\">[174]</a></sup><sup class=\"reference\" id=\"cite_ref-_9a3563a6b58657b7_184-0\"><a href=\"#cite_note-_9a3563a6b58657b7-184\">[175]</a></sup><sup class=\"reference\" id=\"cite_ref-_3729d434cf3108bb_185-0\"><a href=\"#cite_note-_3729d434cf3108bb-185\">[176]</a></sup>. В XVIII веке, начиная с <a href=\"/wiki/%D0%9D%D0%B0%D1%86%D0%B8%D0%BE%D0%BD%D0%B0%D0%BB%D1%8C%D0%BD%D1%8B%D0%B9_%D1%83%D0%BD%D0%B8%D0%B2%D0%B5%D1%80%D1%81%D0%B8%D1%82%D0%B5%D1%82_%C2%AB%D0%9A%D0%B8%D0%B5%D0%B2%D0%BE-%D0%9C%D0%BE%D0%B3%D0%B8%D0%BB%D1%8F%D0%BD%D1%81%D0%BA%D0%B0%D1%8F_%D0%B0%D0%BA%D0%B0%D0%B4%D0%B5%D0%BC%D0%B8%D1%8F%C2%BB\" title=\"Национальный университет «Киево-Могилянская академия»\">Киево-могилянской академии</a>, в Россию проникает наследие мировой философии, и среди выпускников академии — первые российские философы: <a class=\"mw-redirect\" href=\"/wiki/%D0%A4%D0%B5%D0%BE%D1%84%D0%B0%D0%BD_%D0%9F%D1%80%D0%BE%D0%BA%D0%BE%D0%BF%D0%BE%D0%B2%D0%B8%D1%87\" title=\"Феофан Прокопович\">Феофан Прокопович</a> и <a href=\"/wiki/%D0%A1%D0%BA%D0%BE%D0%B2%D0%BE%D1%80%D0%BE%D0%B4%D0%B0,_%D0%93%D1%80%D0%B8%D0%B3%D0%BE%D1%80%D0%B8%D0%B9_%D0%A1%D0%B0%D0%B2%D0%B2%D0%B8%D1%87\" title=\"Сковорода, Григорий Саввич\">Григорий Сковорода</a><sup class=\"reference\" id=\"cite_ref-_67fb2dfd3c0baa08_186-0\"><a href=\"#cite_note-_67fb2dfd3c0baa08-186\">[177]</a></sup><sup class=\"reference\" id=\"cite_ref-_bbba7cdcd54522b8_187-0\"><a href=\"#cite_note-_bbba7cdcd54522b8-187\">[178]</a></sup>. Быстро развиваясь, к XIX веку философия в России расцветает и формирует самостоятельные философские течения. Середина XIX века считается «золотым веком русской философии», а конец XIX — начало XX века — «серебряным веком русской философии»<sup class=\"reference\" id=\"cite_ref-_3dae803b12b8383a_182-1\"><a href=\"#cite_note-_3dae803b12b8383a-182\">[173]</a></sup>.\n",
       "</p>, <p>Первой характерной особенностью философии в России является относительно позднее её становление, которое произошло уже не относительно античной философии, как в Европе, а по отношению к западной философии. Философия проникает в Россию параллельно с идеями <a href=\"/wiki/%D0%A1%D0%B5%D0%BA%D1%83%D0%BB%D1%8F%D1%80%D0%B8%D0%B7%D0%B0%D1%86%D0%B8%D1%8F_(%D1%81%D0%BE%D1%86%D0%B8%D0%BE%D0%BB%D0%BE%D0%B3%D0%B8%D1%8F)\" title=\"Секуляризация (социология)\">секуляризации</a>, характерными для <a href=\"/wiki/%D0%A4%D0%B8%D0%BB%D0%BE%D1%81%D0%BE%D1%84%D0%B8%D1%8F_%D0%9D%D0%BE%D0%B2%D0%BE%D0%B3%D0%BE_%D0%B2%D1%80%D0%B5%D0%BC%D0%B5%D0%BD%D0%B8\" title=\"Философия Нового времени\">философии Нового времени</a>, и быстро порождает разделение русских философов на два лагеря: «<a href=\"/wiki/%D0%97%D0%B0%D0%BF%D0%B0%D0%B4%D0%BD%D0%B8%D1%87%D0%B5%D1%81%D1%82%D0%B2%D0%BE\" title=\"Западничество\">западников</a>», разделяющих эти идеи, и «<a href=\"/wiki/%D0%A1%D0%BB%D0%B0%D0%B2%D1%8F%D0%BD%D0%BE%D1%84%D0%B8%D0%BB%D1%8C%D1%81%D1%82%D0%B2%D0%BE\" title=\"Славянофильство\">славянофилов</a>», которые призывают придерживаться самобытных русских, в первую очередь <a href=\"/wiki/%D0%9F%D1%80%D0%B0%D0%B2%D0%BE%D1%81%D0%BB%D0%B0%D0%B2%D0%B8%D0%B5\" title=\"Православие\">православных</a>, традиций. Это разделение было характерно для всего XIX века, причём государство принимало участие в этом противостоянии, цензурируя «крамольные мысли» и ссылая неугодных философов в <a href=\"/wiki/%D0%A1%D0%B8%D0%B1%D0%B8%D1%80%D1%8C\" title=\"Сибирь\">Сибирь</a>. К западникам, например, относились <a href=\"/wiki/%D0%A7%D0%B0%D0%B0%D0%B4%D0%B0%D0%B5%D0%B2,_%D0%9F%D1%91%D1%82%D1%80_%D0%AF%D0%BA%D0%BE%D0%B2%D0%BB%D0%B5%D0%B2%D0%B8%D1%87\" title=\"Чаадаев, Пётр Яковлевич\">П. Я. Чаадаев</a>, <a href=\"/wiki/%D0%91%D0%B0%D0%BA%D1%83%D0%BD%D0%B8%D0%BD,_%D0%9C%D0%B8%D1%85%D0%B0%D0%B8%D0%BB_%D0%90%D0%BB%D0%B5%D0%BA%D1%81%D0%B0%D0%BD%D0%B4%D1%80%D0%BE%D0%B2%D0%B8%D1%87\" title=\"Бакунин, Михаил Александрович\">М. А. Бакунин</a>, <a href=\"/wiki/%D0%93%D0%B5%D1%80%D1%86%D0%B5%D0%BD,_%D0%90%D0%BB%D0%B5%D0%BA%D1%81%D0%B0%D0%BD%D0%B4%D1%80_%D0%98%D0%B2%D0%B0%D0%BD%D0%BE%D0%B2%D0%B8%D1%87\" title=\"Герцен, Александр Иванович\">А. И. Герцен</a>, <a href=\"/wiki/%D0%A7%D0%B5%D1%80%D0%BD%D1%8B%D1%88%D0%B5%D0%B2%D1%81%D0%BA%D0%B8%D0%B9,_%D0%9D%D0%B8%D0%BA%D0%BE%D0%BB%D0%B0%D0%B9_%D0%93%D0%B0%D0%B2%D1%80%D0%B8%D0%BB%D0%BE%D0%B2%D0%B8%D1%87\" title=\"Чернышевский, Николай Гаврилович\">Н. Г. Чернышевский</a>, <a href=\"/wiki/%D0%91%D0%B5%D0%BB%D0%B8%D0%BD%D1%81%D0%BA%D0%B8%D0%B9,_%D0%92%D0%B8%D1%81%D1%81%D0%B0%D1%80%D0%B8%D0%BE%D0%BD_%D0%93%D1%80%D0%B8%D0%B3%D0%BE%D1%80%D1%8C%D0%B5%D0%B2%D0%B8%D1%87\" title=\"Белинский, Виссарион Григорьевич\">В. Г. Белинский</a>, <a href=\"/wiki/%D0%A1%D1%82%D0%B0%D0%BD%D0%BA%D0%B5%D0%B2%D0%B8%D1%87,_%D0%9D%D0%B8%D0%BA%D0%BE%D0%BB%D0%B0%D0%B9_%D0%92%D0%BB%D0%B0%D0%B4%D0%B8%D0%BC%D0%B8%D1%80%D0%BE%D0%B2%D0%B8%D1%87\" title=\"Станкевич, Николай Владимирович\">Н. В. Станкевич</a>, <a href=\"/wiki/%D0%93%D1%80%D0%B0%D0%BD%D0%BE%D0%B2%D1%81%D0%BA%D0%B8%D0%B9,_%D0%A2%D0%B8%D0%BC%D0%BE%D1%84%D0%B5%D0%B9_%D0%9D%D0%B8%D0%BA%D0%BE%D0%BB%D0%B0%D0%B5%D0%B2%D0%B8%D1%87\" title=\"Грановский, Тимофей Николаевич\">Т. Н. Грановский</a>, <a href=\"/wiki/%D0%9E%D0%B3%D0%B0%D1%80%D1%91%D0%B2,_%D0%9D%D0%B8%D0%BA%D0%BE%D0%BB%D0%B0%D0%B9_%D0%9F%D0%BB%D0%B0%D1%82%D0%BE%D0%BD%D0%BE%D0%B2%D0%B8%D1%87\" title=\"Огарёв, Николай Платонович\">Н. П. Огарёв</a>, <a href=\"/wiki/%D0%91%D0%BE%D1%82%D0%BA%D0%B8%D0%BD,_%D0%92%D0%B0%D1%81%D0%B8%D0%BB%D0%B8%D0%B9_%D0%9F%D0%B5%D1%82%D1%80%D0%BE%D0%B2%D0%B8%D1%87\" title=\"Боткин, Василий Петрович\">В. П. Боткин</a>, <a href=\"/wiki/%D0%9A%D0%BE%D1%80%D1%88,_%D0%95%D0%B2%D0%B3%D0%B5%D0%BD%D0%B8%D0%B9_%D0%A4%D1%91%D0%B4%D0%BE%D1%80%D0%BE%D0%B2%D0%B8%D1%87\" title=\"Корш, Евгений Фёдорович\">Е. Ф. Корш</a>, а к славянофилам — <a href=\"/wiki/%D0%A5%D0%BE%D0%BC%D1%8F%D0%BA%D0%BE%D0%B2,_%D0%90%D0%BB%D0%B5%D0%BA%D1%81%D0%B5%D0%B9_%D0%A1%D1%82%D0%B5%D0%BF%D0%B0%D0%BD%D0%BE%D0%B2%D0%B8%D1%87\" title=\"Хомяков, Алексей Степанович\">А. С. Хомяков</a>, <a href=\"/wiki/%D0%9A%D0%B8%D1%80%D0%B5%D0%B5%D0%B2%D1%81%D0%BA%D0%B8%D0%B9,_%D0%98%D0%B2%D0%B0%D0%BD_%D0%92%D0%B0%D1%81%D0%B8%D0%BB%D1%8C%D0%B5%D0%B2%D0%B8%D1%87\" title=\"Киреевский, Иван Васильевич\">И. В. Киреевский</a>, <a href=\"/wiki/%D0%A1%D0%BE%D0%BB%D0%BE%D0%B2%D1%8C%D1%91%D0%B2,_%D0%92%D0%BB%D0%B0%D0%B4%D0%B8%D0%BC%D0%B8%D1%80_%D0%A1%D0%B5%D1%80%D0%B3%D0%B5%D0%B5%D0%B2%D0%B8%D1%87\" title=\"Соловьёв, Владимир Сергеевич\">В. С. Соловьёв</a>, <a href=\"/wiki/%D0%90%D0%BA%D1%81%D0%B0%D0%BA%D0%BE%D0%B2,_%D0%9A%D0%BE%D0%BD%D1%81%D1%82%D0%B0%D0%BD%D1%82%D0%B8%D0%BD_%D0%A1%D0%B5%D1%80%D0%B3%D0%B5%D0%B5%D0%B2%D0%B8%D1%87\" title=\"Аксаков, Константин Сергеевич\">К. С. Аксаков</a>, <a href=\"/wiki/%D0%A1%D0%B0%D0%BC%D0%B0%D1%80%D0%B8%D0%BD,_%D0%AE%D1%80%D0%B8%D0%B9_%D0%A4%D1%91%D0%B4%D0%BE%D1%80%D0%BE%D0%B2%D0%B8%D1%87\" title=\"Самарин, Юрий Фёдорович\">Ю. Ф. Самарин</a><sup class=\"reference\" id=\"cite_ref-_61d28ad95fd4a98d_188-0\"><a href=\"#cite_note-_61d28ad95fd4a98d-188\">[179]</a></sup><sup class=\"reference\" id=\"cite_ref-_63155bb388c8e2b2_189-0\"><a href=\"#cite_note-_63155bb388c8e2b2-189\">[180]</a></sup><sup class=\"reference\" id=\"cite_ref-_4903a3884490c46f_190-0\"><a href=\"#cite_note-_4903a3884490c46f-190\">[181]</a></sup>.\n",
       "</p>, <p>Второй характерной особенностью философии в России является её <a href=\"/wiki/%D0%90%D0%BD%D1%82%D1%80%D0%BE%D0%BF%D0%BE%D1%86%D0%B5%D0%BD%D1%82%D1%80%D0%B8%D0%B7%D0%BC\" title=\"Антропоцентризм\">антропоцентричность</a>. В творчестве философов России — тема человека, его судьбы и свободы, его смысла жизни. Вопросы свободы человека имели особую актуальность в условиях российского самодержавия XVIII—XIX вв. Поэтому в российской философии <a href=\"/wiki/%D0%AD%D1%82%D0%B8%D0%BA%D0%B0\" title=\"Этика\">этика</a>, <a href=\"/wiki/%D0%9F%D0%BE%D0%BB%D0%B8%D1%82%D0%B8%D1%87%D0%B5%D1%81%D0%BA%D0%B0%D1%8F_%D1%84%D0%B8%D0%BB%D0%BE%D1%81%D0%BE%D1%84%D0%B8%D1%8F\" title=\"Политическая философия\">политическая философия</a>, <a href=\"/wiki/%D0%A4%D0%B8%D0%BB%D0%BE%D1%81%D0%BE%D1%84%D0%B8%D1%8F_%D0%B8%D1%81%D1%82%D0%BE%D1%80%D0%B8%D0%B8\" title=\"Философия истории\">философия истории</a>, <a href=\"/wiki/%D0%A4%D0%B8%D0%BB%D0%BE%D1%81%D0%BE%D1%84%D0%B8%D1%8F_%D1%80%D0%B5%D0%BB%D0%B8%D0%B3%D0%B8%D0%B8\" title=\"Философия религии\">философия религии</a> значительно преобладают над исследованиями в области <a href=\"/wiki/%D0%9C%D0%B5%D1%82%D0%B0%D1%84%D0%B8%D0%B7%D0%B8%D0%BA%D0%B0\" title=\"Метафизика\">метафизики</a>, <a href=\"/wiki/%D0%AD%D0%BF%D0%B8%D1%81%D1%82%D0%B5%D0%BC%D0%BE%D0%BB%D0%BE%D0%B3%D0%B8%D1%8F\" title=\"Эпистемология\">эпистемологии</a> и др. В этом смысле философия в России — как реалистичная, так и утопическая — всегда прагматична и часто увязана с намерениями изменить мир. Отсюда и неслучайно преобладание в российском философском дискурсе теорий, близких к социальной практике, таких как, например, <a href=\"/wiki/%D0%9C%D0%B0%D1%80%D0%BA%D1%81%D0%B8%D0%B7%D0%BC\" title=\"Марксизм\">марксизм</a> или <a href=\"/wiki/%D0%90%D0%BD%D0%B0%D1%80%D1%85%D0%B8%D0%B7%D0%BC\" title=\"Анархизм\">анархизм</a><sup class=\"reference\" id=\"cite_ref-_3dae803b12b8383a_182-2\"><a href=\"#cite_note-_3dae803b12b8383a-182\">[173]</a></sup><sup class=\"reference\" id=\"cite_ref-_5eca5ae53bf982c2_191-0\"><a href=\"#cite_note-_5eca5ae53bf982c2-191\">[182]</a></sup>.\n",
       "</p>, <p>К концу XIX — началу XX века философы России делают заметный во всём мире вклад в различные философские течения. В первую очередь это относится к <a href=\"/wiki/%D0%90%D0%BD%D0%B0%D1%80%D1%85%D0%B8%D0%B7%D0%BC\" title=\"Анархизм\">анархизму</a> (<a href=\"/wiki/%D0%91%D0%B0%D0%BA%D1%83%D0%BD%D0%B8%D0%BD,_%D0%9C%D0%B8%D1%85%D0%B0%D0%B8%D0%BB_%D0%90%D0%BB%D0%B5%D0%BA%D1%81%D0%B0%D0%BD%D0%B4%D1%80%D0%BE%D0%B2%D0%B8%D1%87\" title=\"Бакунин, Михаил Александрович\">М. А. Бакунин</a>, <a href=\"/wiki/%D0%9A%D1%80%D0%BE%D0%BF%D0%BE%D1%82%D0%BA%D0%B8%D0%BD,_%D0%9F%D1%91%D1%82%D1%80_%D0%90%D0%BB%D0%B5%D0%BA%D1%81%D0%B5%D0%B5%D0%B2%D0%B8%D1%87\" title=\"Кропоткин, Пётр Алексеевич\">П. А. Кропоткин</a>), <a href=\"/wiki/%D0%9C%D0%B0%D1%80%D0%BA%D1%81%D0%B8%D0%B7%D0%BC\" title=\"Марксизм\">марксизму</a> (<a href=\"/wiki/%D0%9F%D0%BB%D0%B5%D1%85%D0%B0%D0%BD%D0%BE%D0%B2,_%D0%93%D0%B5%D0%BE%D1%80%D0%B3%D0%B8%D0%B9_%D0%92%D0%B0%D0%BB%D0%B5%D0%BD%D1%82%D0%B8%D0%BD%D0%BE%D0%B2%D0%B8%D1%87\" title=\"Плеханов, Георгий Валентинович\">Г. В. Плеханов</a>) и <a href=\"/wiki/%D0%9A%D0%BE%D1%81%D0%BC%D0%B8%D0%B7%D0%BC\" title=\"Космизм\">космизму</a> (<a href=\"/wiki/%D0%92%D0%B5%D1%80%D0%BD%D0%B0%D0%B4%D1%81%D0%BA%D0%B8%D0%B9,_%D0%92%D0%BB%D0%B0%D0%B4%D0%B8%D0%BC%D0%B8%D1%80_%D0%98%D0%B2%D0%B0%D0%BD%D0%BE%D0%B2%D0%B8%D1%87\" title=\"Вернадский, Владимир Иванович\">В. И. Вернадский</a>, <a href=\"/wiki/%D0%A6%D0%B8%D0%BE%D0%BB%D0%BA%D0%BE%D0%B2%D1%81%D0%BA%D0%B8%D0%B9,_%D0%9A%D0%BE%D0%BD%D1%81%D1%82%D0%B0%D0%BD%D1%82%D0%B8%D0%BD_%D0%AD%D0%B4%D1%83%D0%B0%D1%80%D0%B4%D0%BE%D0%B2%D0%B8%D1%87\" title=\"Циолковский, Константин Эдуардович\">К. Э. Циолковский</a>, <a href=\"/wiki/%D0%A4%D1%91%D0%B4%D0%BE%D1%80%D0%BE%D0%B2,_%D0%9D%D0%B8%D0%BA%D0%BE%D0%BB%D0%B0%D0%B9_%D0%A4%D1%91%D0%B4%D0%BE%D1%80%D0%BE%D0%B2%D0%B8%D1%87\" title=\"Фёдоров, Николай Фёдорович\">Н. Ф. Фёдоров</a>). В 30-е годы XX века с <a href=\"/wiki/%D0%94%D0%BE%D0%B3%D0%BC%D0%B0%D1%82\" title=\"Догмат\">догматизацией</a> «<a href=\"/wiki/%D0%9D%D0%B0%D1%83%D1%87%D0%BD%D1%8B%D0%B9_%D0%BA%D0%BE%D0%BC%D0%BC%D1%83%D0%BD%D0%B8%D0%B7%D0%BC_(%D0%B4%D0%B8%D1%81%D1%86%D0%B8%D0%BF%D0%BB%D0%B8%D0%BD%D0%B0)\" title=\"Научный коммунизм (дисциплина)\">научного коммунизма</a>» развитие философии в России (в СССР) прекращается, а многие философы были убиты или заключены в <a class=\"mw-redirect\" href=\"/wiki/%D0%93%D0%A3%D0%9B%D0%B0%D0%B3\" title=\"ГУЛаг\">тюремные лагеря</a>. Хотя «<a href=\"/wiki/%D0%A5%D1%80%D1%83%D1%89%D1%91%D0%B2%D1%81%D0%BA%D0%B0%D1%8F_%D0%BE%D1%82%D1%82%D0%B5%D0%BF%D0%B5%D0%BB%D1%8C\" title=\"Хрущёвская оттепель\">хрущёвская оттепель</a>» принесла некоторое ослабление цензуры и дала возможность состояться таким философам как <a href=\"/wiki/%D0%9C%D0%B0%D0%BC%D0%B0%D1%80%D0%B4%D0%B0%D1%88%D0%B2%D0%B8%D0%BB%D0%B8,_%D0%9C%D0%B5%D1%80%D0%B0%D0%B1_%D0%9A%D0%BE%D0%BD%D1%81%D1%82%D0%B0%D0%BD%D1%82%D0%B8%D0%BD%D0%BE%D0%B2%D0%B8%D1%87\" title=\"Мамардашвили, Мераб Константинович\">М. К. Мамардашвили</a> и <a href=\"/wiki/%D0%98%D0%BB%D1%8C%D0%B5%D0%BD%D0%BA%D0%BE%D0%B2,_%D0%AD%D0%B2%D0%B0%D0%BB%D1%8C%D0%B4_%D0%92%D0%B0%D1%81%D0%B8%D0%BB%D1%8C%D0%B5%D0%B2%D0%B8%D1%87\" title=\"Ильенков, Эвальд Васильевич\">Э. В. Ильенкову</a>, нормальное развитие философии в России не возобновляется до <a href=\"/wiki/%D0%A0%D0%B0%D1%81%D0%BF%D0%B0%D0%B4_%D0%A1%D0%A1%D0%A1%D0%A0\" title=\"Распад СССР\">распада СССР</a>. В настоящее время преподавание философии в России или публикация различных философских взглядов государством не ограничивается<sup class=\"reference\" id=\"cite_ref-_3dae803b12b8383a_182-3\"><a href=\"#cite_note-_3dae803b12b8383a-182\">[173]</a></sup><sup class=\"reference\" id=\"cite_ref-_44f9e134c5eeacab_192-0\"><a href=\"#cite_note-_44f9e134c5eeacab-192\">[183]</a></sup>.\n",
       "</p>, <p>В обыденной жизни отношение к философам и к философии не всегда позитивно, а понимание предмета философии содержит множество ложных представлений<sup class=\"reference\" id=\"cite_ref-_191e4d0346ea7faa_193-0\"><a href=\"#cite_note-_191e4d0346ea7faa-193\">[184]</a></sup>. Например, слово «философствовать» в <a href=\"/wiki/%D0%A0%D1%83%D1%81%D1%81%D0%BA%D0%B8%D0%B9_%D1%8F%D0%B7%D1%8B%D0%BA\" title=\"Русский язык\">русском языке</a> имеет выраженный негативный оттенок: «мудрёно и беспочвенно рассуждать»<sup class=\"reference\" id=\"cite_ref-Ожегов_194-0\"><a href=\"#cite_note-Ожегов-194\">[185]</a></sup>. Вместе с этим влияние философии на общество трудно переоценить<sup class=\"reference\" id=\"cite_ref-_e4d74d26f23fee1f_195-0\"><a href=\"#cite_note-_e4d74d26f23fee1f-195\">[186]</a></sup>.\n",
       "</p>, <p>С одной стороны, изучение философии оказывает благоприятное влияние на человека, способствует формированию ориентации на истину и доброту. Знание философии спасает человека от «узких рамок обыденного мышления», помогает найти общий язык с другими людьми<sup class=\"reference\" id=\"cite_ref-_f1be2a81b248f894_196-0\"><a href=\"#cite_note-_f1be2a81b248f894-196\">[187]</a></sup>. По некоторым показателям изучение философии развивает мышление лучше всех остальных предметов. Например, исследование известного английского журнала «<a href=\"/wiki/The_Economist\" title=\"The Economist\">The Economist</a>» показало, что студенты-<a href=\"/wiki/%D0%91%D0%B0%D0%BA%D0%B0%D0%BB%D0%B0%D0%B2%D1%80\" title=\"Бакалавр\">бакалавры</a>, заканчивающие именно философские факультеты, лидируют по средним баллам на стандартных вступительных тестах для специализированных высших <a class=\"extiw\" href=\"https://en.wikipedia.org/wiki/Medical_school\" title=\"en:Medical school\">медицинских школ</a><span style=\"white-space: nowrap\"><span class=\"noprint\" style=\"font-size:95%; position: relative; top: .4em;\"> <span class=\"ref-info\" style=\"cursor:help;\" title=\"на английском языке\">(англ.)</span></span><span class=\"link-ru metadata noprint\" style=\"font-size:80%; margin-left:-1.7em; position: relative; top: -.4em;\"><a class=\"new\" href=\"/w/index.php?title=%D0%9C%D0%B5%D0%B4%D0%B8%D1%86%D0%B8%D0%BD%D1%81%D0%BA%D0%B0%D1%8F_%D1%88%D0%BA%D0%BE%D0%BB%D0%B0&amp;action=edit&amp;redlink=1\" title=\"Медицинская школа (страница отсутствует)\">русск.</a></span></span>, <a class=\"new\" href=\"/w/index.php?title=%D0%A8%D0%BA%D0%BE%D0%BB%D0%B0_%D0%BF%D1%80%D0%B0%D0%B2%D0%B0&amp;action=edit&amp;redlink=1\" title=\"Школа права (страница отсутствует)\">школ права</a> и <a href=\"/wiki/%D0%91%D0%B8%D0%B7%D0%BD%D0%B5%D1%81-%D1%88%D0%BA%D0%BE%D0%BB%D0%B0\" title=\"Бизнес-школа\">бизнес-школ</a><sup class=\"reference\" id=\"cite_ref-_d1fed0aa7ef2207b_197-0\"><a href=\"#cite_note-_d1fed0aa7ef2207b-197\">[188]</a></sup>.\n",
       "</p>, <p>С другой стороны, философия оказывает большое влияние на <a href=\"/wiki/%D0%9E%D0%B1%D1%89%D0%B5%D1%81%D1%82%D0%B2%D0%BE\" title=\"Общество\">человеческие общества</a>. Например, философские концепции <a href=\"/wiki/%D0%9A%D0%BE%D0%BD%D1%84%D1%83%D1%86%D0%B8%D0%B9\" title=\"Конфуций\">Конфуция</a> и <a href=\"/wiki/%D0%9B%D0%B0%D0%BE-%D1%86%D0%B7%D1%8B\" title=\"Лао-цзы\">Лао-цзы</a> на тысячелетия предопределили развитие <a class=\"mw-redirect\" href=\"/wiki/%D0%9A%D0%B8%D1%82%D0%B0%D0%B9_(%D1%81%D1%82%D1%80%D0%B0%D0%BD%D0%B0)\" title=\"Китай (страна)\">Китая</a><link href=\"mw-data:TemplateStyles:r104609042\" rel=\"mw-deduplicated-inline-style\"/><span class=\"ts-Переход noprint\" title=\"#Мировая философия в IV—XVI вв.\"><sup><a href=\"#Мировая_философия_в_IV—XVI_вв.\">[⇨]</a></sup></span>. <a href=\"/wiki/%D0%92%D0%BE%D0%B9%D0%BD%D0%B0\" title=\"Война\">Войны</a> и <a href=\"/wiki/%D0%A0%D0%B5%D0%B2%D0%BE%D0%BB%D1%8E%D1%86%D0%B8%D1%8F\" title=\"Революция\">революции</a> начинаются не с оружия, а с философии<sup class=\"reference\" id=\"cite_ref-_e4d74d26f23fee1f_195-1\"><a href=\"#cite_note-_e4d74d26f23fee1f-195\">[186]</a></sup>. Например, распространение философии <a href=\"/wiki/%D0%9C%D0%B0%D1%80%D0%BA%D1%81%D0%B8%D0%B7%D0%BC\" title=\"Марксизм\">марксизма</a> привело к <a href=\"/wiki/%D0%A0%D0%B5%D0%B2%D0%BE%D0%BB%D1%8E%D1%86%D0%B8%D1%8F_1917_%D0%B3%D0%BE%D0%B4%D0%B0_%D0%B2_%D0%A0%D0%BE%D1%81%D1%81%D0%B8%D0%B8\" title=\"Революция 1917 года в России\">революции в России в 1917 году</a><link href=\"mw-data:TemplateStyles:r104609042\" rel=\"mw-deduplicated-inline-style\"/><span class=\"ts-Переход noprint\" title=\"#Марксизм\"><sup><a href=\"#Марксизм\">[⇨]</a></sup></span>, философия французского просвещения привела к <a href=\"/wiki/%D0%92%D0%B5%D0%BB%D0%B8%D0%BA%D0%B0%D1%8F_%D1%84%D1%80%D0%B0%D0%BD%D1%86%D1%83%D0%B7%D1%81%D0%BA%D0%B0%D1%8F_%D1%80%D0%B5%D0%B2%D0%BE%D0%BB%D1%8E%D1%86%D0%B8%D1%8F\" title=\"Великая французская революция\">Великой французской революции</a> и на этой же философии были основаны <a href=\"/wiki/%D0%A1%D0%BE%D0%B5%D0%B4%D0%B8%D0%BD%D1%91%D0%BD%D0%BD%D1%8B%D0%B5_%D0%A8%D1%82%D0%B0%D1%82%D1%8B_%D0%90%D0%BC%D0%B5%D1%80%D0%B8%D0%BA%D0%B8\" title=\"Соединённые Штаты Америки\">Соединённые Штаты Америки</a><link href=\"mw-data:TemplateStyles:r104609042\" rel=\"mw-deduplicated-inline-style\"/><span class=\"ts-Переход noprint\" title=\"#Французское Просвещение\"><sup><a href=\"#Французское_Просвещение\">[⇨]</a></sup></span>.\n",
       "</p>, <p>В честь философии был назван астероид <a href=\"/wiki/(227)_%D0%A4%D0%B8%D0%BB%D0%BE%D1%81%D0%BE%D1%84%D0%B8%D1%8F\" title=\"(227) Философия\">(227) Философия</a>, открытый <a href=\"/wiki/12_%D0%B0%D0%B2%D0%B3%D1%83%D1%81%D1%82%D0%B0\" title=\"12 августа\">12 августа</a> <a href=\"/wiki/1882_%D0%B3%D0%BE%D0%B4\" title=\"1882 год\">1882 года</a> французскими астрономами <a class=\"mw-redirect\" href=\"/wiki/%D0%9F%D0%BE%D0%BB%D1%8C_%D0%B8_%D0%9F%D1%80%D0%BE%D1%81%D0%BF%D0%B5%D1%80_%D0%93%D0%B5%D0%BD%D1%80%D0%B8\" title=\"Поль и Проспер Генри\">Полем и Проспером Анри</a><sup class=\"reference\" id=\"cite_ref-198\"><a href=\"#cite_note-198\">[189]</a></sup>.\n",
       "</p>]"
      ],
      "text/plain": [
       "<IPython.core.display.HTML object>"
      ]
     },
     "metadata": {},
     "output_type": "display_data"
    }
   ],
   "source": [
    "req = get('https://ru.wikipedia.org/wiki/%D0%A4%D0%B8%D0%BB%D0%BE%D1%81%D0%BE%D1%84%D0%B8%D1%8F')\n",
    "# display(HTML(req.text))\n",
    "\n",
    "soup = BeautifulSoup(req.text)\n",
    "content = soup.findAll('div', attrs={'id': 'content'})\n",
    "for a in content:\n",
    "    p = a.findAll('p')\n",
    "    display(HTML(str(p)))"
   ]
  },
  {
   "cell_type": "code",
   "execution_count": 12,
   "metadata": {},
   "outputs": [
    {
     "name": "stdout",
     "output_type": "stream",
     "text": [
      "https://www.google.co.in/?q=Linkin+Park\n"
     ]
    }
   ],
   "source": [
    "def googleSearch(query):\n",
    "    with requests.session() as c:\n",
    "        url = 'https://www.google.co.in'\n",
    "        query = {'q': query}\n",
    "        urllink = requests.get(url, params=query)\n",
    "        print(urllink.url)\n",
    "\n",
    "googleSearch('Linkin Park')"
   ]
  },
  {
   "cell_type": "code",
   "execution_count": 43,
   "metadata": {},
   "outputs": [
    {
     "ename": "IndexError",
     "evalue": "list index out of range",
     "output_type": "error",
     "traceback": [
      "\u001b[1;31m---------------------------------------------------------------------------\u001b[0m",
      "\u001b[1;31mIndexError\u001b[0m                                Traceback (most recent call last)",
      "\u001b[1;32m<ipython-input-43-ea84674c0ac4>\u001b[0m in \u001b[0;36m<module>\u001b[1;34m\u001b[0m\n\u001b[0;32m      7\u001b[0m \u001b[0msoup\u001b[0m \u001b[1;33m=\u001b[0m \u001b[0mBeautifulSoup\u001b[0m\u001b[1;33m(\u001b[0m\u001b[0mreq\u001b[0m\u001b[1;33m.\u001b[0m\u001b[0mtext\u001b[0m\u001b[1;33m,\u001b[0m \u001b[1;34m\"lxml\"\u001b[0m\u001b[1;33m)\u001b[0m\u001b[1;33m\u001b[0m\u001b[1;33m\u001b[0m\u001b[0m\n\u001b[0;32m      8\u001b[0m \u001b[1;33m\u001b[0m\u001b[0m\n\u001b[1;32m----> 9\u001b[1;33m \u001b[0mdisplay\u001b[0m\u001b[1;33m(\u001b[0m\u001b[0mHTML\u001b[0m\u001b[1;33m(\u001b[0m\u001b[0mstr\u001b[0m\u001b[1;33m(\u001b[0m\u001b[0msoup\u001b[0m\u001b[1;33m.\u001b[0m\u001b[0mfindAll\u001b[0m\u001b[1;33m(\u001b[0m\u001b[1;34m\"table\"\u001b[0m\u001b[1;33m,\u001b[0m \u001b[0mattrs\u001b[0m\u001b[1;33m=\u001b[0m\u001b[1;33m{\u001b[0m\u001b[1;34m\"class\"\u001b[0m\u001b[1;33m:\u001b[0m \u001b[1;34m\"images_table\"\u001b[0m\u001b[1;33m}\u001b[0m\u001b[1;33m)\u001b[0m\u001b[1;33m[\u001b[0m\u001b[1;36m0\u001b[0m\u001b[1;33m]\u001b[0m\u001b[1;33m)\u001b[0m\u001b[1;33m)\u001b[0m\u001b[1;33m)\u001b[0m\u001b[1;33m\u001b[0m\u001b[1;33m\u001b[0m\u001b[0m\n\u001b[0m",
      "\u001b[1;31mIndexError\u001b[0m: list index out of range"
     ]
    }
   ],
   "source": [
    "query = \"\"\n",
    "template = 'http://localhost:80/'\n",
    "url = template.format(urllib.parse.urlencode({'q' : query}))\n",
    "req = get(url)\n",
    "\n",
    "assert req.status_code == 200, 'request failed'\n",
    "soup = BeautifulSoup(req.text, \"lxml\")\n",
    "\n",
    "display(HTML(str(soup.findAll(\"table\", attrs={\"class\": \"images_table\"})[0])))"
   ]
  },
  {
   "cell_type": "code",
   "execution_count": 45,
   "metadata": {},
   "outputs": [
    {
     "data": {
      "text/html": [
       "<p>Your login information was correct.</p>"
      ],
      "text/plain": [
       "<IPython.core.display.HTML object>"
      ]
     },
     "metadata": {},
     "output_type": "display_data"
    }
   ],
   "source": [
    "def login(username, password):\n",
    "    req = post(\"http://localhost:80/login\", data={\"username\": username, \"password\": password})\n",
    "    display(HTML(str(req.text)))\n",
    "    \n",
    "login(\"holyfame\", \"pass\")"
   ]
  },
  {
   "cell_type": "code",
   "execution_count": null,
   "metadata": {},
   "outputs": [],
   "source": []
  }
 ],
 "metadata": {
  "kernelspec": {
   "display_name": "Python 3",
   "language": "python",
   "name": "python3"
  },
  "language_info": {
   "codemirror_mode": {
    "name": "ipython",
    "version": 3
   },
   "file_extension": ".py",
   "mimetype": "text/x-python",
   "name": "python",
   "nbconvert_exporter": "python",
   "pygments_lexer": "ipython3",
   "version": "3.8.2"
  }
 },
 "nbformat": 4,
 "nbformat_minor": 2
}
