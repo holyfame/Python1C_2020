{
 "cells": [
  {
   "cell_type": "markdown",
   "metadata": {},
   "source": [
    "## Семинар 1"
   ]
  },
  {
   "cell_type": "code",
   "execution_count": 1,
   "metadata": {},
   "outputs": [
    {
     "data": {
      "text/plain": [
       "True"
      ]
     },
     "execution_count": 1,
     "metadata": {},
     "output_type": "execute_result"
    }
   ],
   "source": [
    "False == False in [False]"
   ]
  },
  {
   "cell_type": "code",
   "execution_count": 3,
   "metadata": {},
   "outputs": [
    {
     "name": "stdout",
     "output_type": "stream",
     "text": [
      "0\n",
      "1\n",
      "2\n",
      "2\n"
     ]
    }
   ],
   "source": [
    "for i in range(3):\n",
    "    print(i)\n",
    "\n",
    "print(i)"
   ]
  },
  {
   "cell_type": "markdown",
   "metadata": {},
   "source": [
    "Объекты выбают изменяемыми и неизменяемыми\n",
    "Переменная - это ссылка на объект"
   ]
  },
  {
   "cell_type": "code",
   "execution_count": 4,
   "metadata": {},
   "outputs": [
    {
     "name": "stdout",
     "output_type": "stream",
     "text": [
      "0 a\n",
      "1 b\n",
      "2 c\n",
      "3 d\n"
     ]
    }
   ],
   "source": [
    "lst = \"abcd\"\n",
    "for i, sym in enumerate(lst):\n",
    "    print(i, sym)"
   ]
  },
  {
   "cell_type": "code",
   "execution_count": 5,
   "metadata": {},
   "outputs": [
    {
     "name": "stdout",
     "output_type": "stream",
     "text": [
      "a 0\n",
      "b 1\n",
      "c 2\n",
      "d 3\n"
     ]
    }
   ],
   "source": [
    "lst2 = list(range(4))\n",
    "for el1, el2 in zip(lst, lst2):\n",
    "    print(el1, el2)"
   ]
  },
  {
   "cell_type": "code",
   "execution_count": 10,
   "metadata": {},
   "outputs": [
    {
     "data": {
      "text/plain": [
       "Counter({'test': 1})"
      ]
     },
     "execution_count": 10,
     "metadata": {},
     "output_type": "execute_result"
    }
   ],
   "source": [
    "from collections import defaultdict, Counter\n",
    "a = Counter()\n",
    "a['test'] += 1\n",
    "a"
   ]
  },
  {
   "cell_type": "code",
   "execution_count": 11,
   "metadata": {},
   "outputs": [
    {
     "data": {
      "text/plain": [
       "defaultdict(str, {'test': 'hi'})"
      ]
     },
     "execution_count": 11,
     "metadata": {},
     "output_type": "execute_result"
    }
   ],
   "source": [
    "b = defaultdict(str)\n",
    "b['test'] += 'hi'\n",
    "b"
   ]
  },
  {
   "cell_type": "code",
   "execution_count": 12,
   "metadata": {},
   "outputs": [
    {
     "name": "stdout",
     "output_type": "stream",
     "text": [
      "(1, 2)\n",
      "{'a': 5, 'b': 10}\n"
     ]
    }
   ],
   "source": [
    "def f(*args, **kwargs):\n",
    "    print(args)\n",
    "    print(kwargs)\n",
    "\n",
    "f(1, 2, a = 5, b = 10)"
   ]
  },
  {
   "cell_type": "markdown",
   "metadata": {},
   "source": [
    "## Семинар 2"
   ]
  },
  {
   "cell_type": "code",
   "execution_count": 1,
   "metadata": {},
   "outputs": [],
   "source": [
    "import sys\n",
    "import chardet"
   ]
  },
  {
   "cell_type": "code",
   "execution_count": 5,
   "metadata": {},
   "outputs": [
    {
     "data": {
      "text/plain": [
       "[49, 50, 51, 52, 82, 84, 86, 88, 90, 92, 94, 96, 98, 100, 102]"
      ]
     },
     "execution_count": 5,
     "metadata": {},
     "output_type": "execute_result"
    }
   ],
   "source": [
    "beer = \" W привет some\"\n",
    "[sys.getsizeof(beer[:index]) for index in range(len(beer) + 1)]"
   ]
  },
  {
   "cell_type": "markdown",
   "metadata": {},
   "source": [
    "чем больше разных символов используется в строке, тем больше весит строка"
   ]
  },
  {
   "cell_type": "code",
   "execution_count": 7,
   "metadata": {},
   "outputs": [
    {
     "data": {
      "text/plain": [
       "{'encoding': 'utf-8', 'confidence': 0.99, 'language': ''}"
      ]
     },
     "execution_count": 7,
     "metadata": {},
     "output_type": "execute_result"
    }
   ],
   "source": [
    "chardet.detect(beer.encode())"
   ]
  },
  {
   "cell_type": "code",
   "execution_count": 10,
   "metadata": {},
   "outputs": [
    {
     "name": "stdout",
     "output_type": "stream",
     "text": [
      "b'\\xd0\\xbb\\xd0\\xb5\\xd0\\xb3\\xd0\\xba\\xd0\\xbe'\n",
      "легко\n"
     ]
    }
   ],
   "source": [
    "byte_str = \"легко\".encode(\"utf-8\")\n",
    "print(byte_str)\n",
    "print(byte_str.decode(\"utf-8\"))"
   ]
  },
  {
   "cell_type": "markdown",
   "metadata": {},
   "source": [
    "## Семинар 3 (декораторы)"
   ]
  },
  {
   "cell_type": "code",
   "execution_count": null,
   "metadata": {},
   "outputs": [],
   "source": []
  },
  {
   "cell_type": "code",
   "execution_count": null,
   "metadata": {},
   "outputs": [],
   "source": []
  },
  {
   "cell_type": "markdown",
   "metadata": {},
   "source": [
    "## Семинар 4 (генераторы)"
   ]
  },
  {
   "cell_type": "code",
   "execution_count": 2,
   "metadata": {},
   "outputs": [],
   "source": [
    "n = 9\n",
    "m = 3"
   ]
  },
  {
   "cell_type": "code",
   "execution_count": 3,
   "metadata": {},
   "outputs": [
    {
     "data": {
      "text/plain": [
       "[3, 12, 21]"
      ]
     },
     "execution_count": 3,
     "metadata": {},
     "output_type": "execute_result"
    }
   ],
   "source": [
    "list(map(lambda x: int(x * m + m * (m - 1) / 2), filter(lambda x: not x % m, range(n))))"
   ]
  },
  {
   "cell_type": "code",
   "execution_count": 62,
   "metadata": {},
   "outputs": [
    {
     "data": {
      "text/plain": [
       "[(0, 1, 2), (3, 4, 5), (6, 7, 8)]"
      ]
     },
     "execution_count": 62,
     "metadata": {},
     "output_type": "execute_result"
    }
   ],
   "source": [
    "it = iter(range(n))\n",
    "# list(map(sum, zip(*[it] * m)))\n",
    "list(zip(*[it] * m))"
   ]
  },
  {
   "cell_type": "code",
   "execution_count": 53,
   "metadata": {},
   "outputs": [
    {
     "data": {
      "text/plain": [
       "[(0, 1), (2, 3)]"
      ]
     },
     "execution_count": 53,
     "metadata": {},
     "output_type": "execute_result"
    }
   ],
   "source": [
    "it = iter(range(4))\n",
    "\n",
    "list(zip(*[iter(range(4))] * 2))"
   ]
  },
  {
   "cell_type": "code",
   "execution_count": 66,
   "metadata": {},
   "outputs": [
    {
     "data": {
      "text/plain": [
       "[0, 1, 2, 3, 4, 10, 20, 't', 'e', 's', 't']"
      ]
     },
     "execution_count": 66,
     "metadata": {},
     "output_type": "execute_result"
    }
   ],
   "source": [
    "def chain(*iterables):\n",
    "    for iterable in iterables:\n",
    "        for it in iterable:\n",
    "            yield it\n",
    "list(chain(range(5), [10, 20], \"test\"))"
   ]
  },
  {
   "cell_type": "code",
   "execution_count": 76,
   "metadata": {},
   "outputs": [
    {
     "name": "stdout",
     "output_type": "stream",
     "text": [
      "1\n",
      "None\n",
      "2\n"
     ]
    }
   ],
   "source": [
    "# def echo(value=None):\n",
    "#     print(\"Execution starts when 'next()' is called for the first time.\")\n",
    "#     try:\n",
    "#         while True:\n",
    "#             try:\n",
    "#                 value = (yield value)\n",
    "#             except Exception as e:\n",
    "#                 value = e\n",
    "#     finally:\n",
    "#         print(\"Don't forget to clean up when 'close()' is called.\")\n",
    "\n",
    "def echo(value=None):\n",
    "    while True:\n",
    "        try:\n",
    "            value = (yield value)\n",
    "        except Exception as e:\n",
    "            value = e\n",
    "\n",
    "generator = echo(1)\n",
    "print(next(generator))\n",
    "\n",
    "print(next(generator))\n",
    "\n",
    "print(generator.send(2))\n",
    "\n",
    "generator.throw(TypeError, \"spam\")\n",
    "\n",
    "generator.close()"
   ]
  },
  {
   "cell_type": "code",
   "execution_count": 77,
   "metadata": {},
   "outputs": [
    {
     "name": "stdout",
     "output_type": "stream",
     "text": [
      "From generator 1\n",
      "From user 2\n",
      "From generator 1\n",
      "From user 3\n",
      "From generator 1\n",
      "From user 4\n",
      "From generator 1\n",
      "From user 5\n",
      "From generator 1\n",
      "From user 6\n",
      "From generator 1\n",
      "From user 7\n",
      "From generator 1\n",
      "From user 8\n",
      "From generator 1\n",
      "From user 9\n",
      "From generator 1\n"
     ]
    }
   ],
   "source": [
    "def coroutine():\n",
    "    for i in range(1, 10):\n",
    "        print(\"From generator {}\".format((yield i)))\n",
    "c = coroutine()\n",
    "c.send(None)\n",
    "try:\n",
    "    while True:\n",
    "        print(\"From user {}\".format(c.send(1)))\n",
    "except StopIteration: pass"
   ]
  },
  {
   "cell_type": "code",
   "execution_count": 132,
   "metadata": {},
   "outputs": [
    {
     "name": "stdout",
     "output_type": "stream",
     "text": [
      "x 10\n",
      "1\n",
      "x 10\n",
      "2\n",
      "x spam\n",
      "x 10\n",
      "4\n",
      "fail\n"
     ]
    }
   ],
   "source": [
    "def helpless():\n",
    "    for i in range(10):\n",
    "        try:\n",
    "            x = yield i\n",
    "        except Exception as e:\n",
    "            x = e\n",
    "            \n",
    "        print('x', x)\n",
    "        \n",
    "c = helpless()\n",
    "next(c)\n",
    "print(c.send(10))\n",
    "print(c.send(10))\n",
    "c.throw(TypeError('spam'))\n",
    "print(c.send(10))\n",
    "c.close()\n",
    "try:\n",
    "    print(c.send(5))\n",
    "except Exception as e:\n",
    "    print('fail')"
   ]
  },
  {
   "cell_type": "markdown",
   "metadata": {},
   "source": [
    "## Семинар 5 (Дескрипторы)"
   ]
  },
  {
   "cell_type": "code",
   "execution_count": 2,
   "metadata": {},
   "outputs": [],
   "source": [
    "class Mine(object):\n",
    "    def __init__(self):\n",
    "        self._x = None\n",
    "\n",
    "    x = property()\n",
    "\n",
    "    @x.getter\n",
    "    def x(self):\n",
    "        \"\"\"Это свойство x.\"\"\"\n",
    "        return self._x\n",
    "\n",
    "    @x.setter\n",
    "    def x(self, value):\n",
    "        self._x = value\n",
    "\n",
    "    @x.deleter\n",
    "    def x(self):\n",
    "        self._x = 'No more'"
   ]
  },
  {
   "cell_type": "code",
   "execution_count": 3,
   "metadata": {},
   "outputs": [
    {
     "name": "stdout",
     "output_type": "stream",
     "text": [
      "5\n",
      "None\n",
      "No more\n"
     ]
    }
   ],
   "source": [
    "a, b = Mine(), Mine()\n",
    "a.x = 5\n",
    "print(a.x)\n",
    "print(b.x)\n",
    "del(a.x)\n",
    "print(a.x)"
   ]
  },
  {
   "cell_type": "code",
   "execution_count": 4,
   "metadata": {},
   "outputs": [
    {
     "name": "stdout",
     "output_type": "stream",
     "text": [
      "100.0\n"
     ]
    }
   ],
   "source": [
    "class Limited(object):\n",
    "\n",
    "    def __init__(self, lo, hi, label=None):\n",
    "        self.lo = lo\n",
    "        self.hi = hi\n",
    "        self.label = label\n",
    "        self.__val = None\n",
    "    \n",
    "    @property\n",
    "    def val(self):\n",
    "        \"Это свойство val.\"\n",
    "        return self.__val\n",
    "\n",
    "    @val.setter\n",
    "    def val(self, value):\n",
    "        if not (self.lo < value < self.hi):\n",
    "            raise ValueError(\"Please, set {label} with conditions: {lo} < {label} < {hi}\".format(**self.__dict__))\n",
    "        self.__val = value\n",
    "    \n",
    "    @val.deleter\n",
    "    def val(self):\n",
    "        self.__val = 'No more'\n",
    "\n",
    "\n",
    "class Summator(object):\n",
    "    x = Limited(1, 1000)\n",
    "    y = Limited(0, 1)\n",
    "\n",
    "summator = Summator()\n",
    "summator.x = 1e2\n",
    "print(summator.x)"
   ]
  },
  {
   "cell_type": "code",
   "execution_count": 5,
   "metadata": {},
   "outputs": [
    {
     "name": "stdout",
     "output_type": "stream",
     "text": [
      "__set__\n",
      "(<__main__.Test object at 0x7f6a01427be0>, 5)\n",
      "<__main__.Trace object at 0x7f6a01427a90>\n",
      "__get__\n",
      "(<__main__.Test object at 0x7f6a01427be0>, <class '__main__.Test'>)\n",
      "None\n"
     ]
    }
   ],
   "source": [
    "\n",
    "class Trace(object):\n",
    "\n",
    "    def __set__(self, *args):\n",
    "        print('__set__', args, sep=\"\\n\")\n",
    "\n",
    "    def __get__(self, *args):\n",
    "        print(self, '__get__', args, sep=\"\\n\")\n",
    "\n",
    "    def __delete__(self, *args):\n",
    "        print('__delete__', args, sep=\"\\n\")\n",
    "\n",
    "class Test(object):\n",
    "    attr = Trace()\n",
    "\n",
    "t = Test()\n",
    "t.attr = 5\n",
    "print(t.attr)\n",
    "# del t.attr"
   ]
  },
  {
   "cell_type": "code",
   "execution_count": 6,
   "metadata": {},
   "outputs": [
    {
     "data": {
      "text/plain": [
       "type"
      ]
     },
     "execution_count": 6,
     "metadata": {},
     "output_type": "execute_result"
    }
   ],
   "source": [
    "type(int)"
   ]
  },
  {
   "cell_type": "code",
   "execution_count": 25,
   "metadata": {},
   "outputs": [],
   "source": [
    "class NonNegative:\n",
    "    \n",
    "    def __get__(self, instance, owner):\n",
    "        return instance.__dict__[self.name]\n",
    "    \n",
    "    def __set__(self, instance, value):\n",
    "        if value < 0:\n",
    "            raise ValueError('Cannot be negative.')\n",
    "        instance.__dict__[self.name] = value\n",
    "        \n",
    "    def __set_name__(self, owner, name):\n",
    "        self.name = name\n",
    "        \n",
    "class Order:\n",
    "    \n",
    "    price = NonNegative()\n",
    "    quantity = NonNegative()\n",
    "    \n",
    "    def __init__(self, name, price, quantity):\n",
    "        self._name = name\n",
    "        self.price = price\n",
    "        self.quantity = quantity\n",
    "        \n",
    "    def total(self):\n",
    "        return self.price * self.quantity"
   ]
  },
  {
   "cell_type": "code",
   "execution_count": 26,
   "metadata": {},
   "outputs": [
    {
     "name": "stdout",
     "output_type": "stream",
     "text": [
      "6\n",
      "10\n"
     ]
    },
    {
     "data": {
      "text/plain": [
       "{'_name': 'apple_pie', 'price': 2, 'quantity': 3}"
      ]
     },
     "execution_count": 26,
     "metadata": {},
     "output_type": "execute_result"
    }
   ],
   "source": [
    "apple_order = Order('apple', 1, 10)\n",
    "new_order = Order('apple_pie', 2, 3)\n",
    "print(new_order.total())\n",
    "print(apple_order.total())\n",
    "new_order.__dict__\n",
    "# 10\n",
    "# apple_order.price = -10\n",
    "# # ValueError: Cannot be negative\n",
    "# apple_order.quantity = -10\n",
    "# # ValueError: Cannot be negative"
   ]
  },
  {
   "cell_type": "code",
   "execution_count": 45,
   "metadata": {},
   "outputs": [
    {
     "name": "stdout",
     "output_type": "stream",
     "text": [
      "C\n",
      "7sm\n"
     ]
    }
   ],
   "source": [
    "def my_metaclass(a, b, c):\n",
    "    return a\n",
    "\n",
    "class C(metaclass=my_metaclass):\n",
    "    pass\n",
    "\n",
    "print(C)\n",
    "B = type('MyClass', (object, ), {'hui': '7sm'})\n",
    "b = B()\n",
    "print(b.hui)"
   ]
  },
  {
   "cell_type": "code",
   "execution_count": 56,
   "metadata": {},
   "outputs": [
    {
     "name": "stdout",
     "output_type": "stream",
     "text": [
      "Creating class C\n"
     ]
    }
   ],
   "source": [
    "import time\n",
    "from functools import wraps\n",
    "\n",
    "def logged(time_format, name_prefix=\"\"):\n",
    "    def decorator(func):\n",
    "        if hasattr(func, '_logged_decorator') and func._logged_decorator:\n",
    "            return func\n",
    "\n",
    "        @wraps(func)\n",
    "        def decorated_func(*args, **kwargs):\n",
    "            start_time = time.time()\n",
    "            print(\"- Running '{}' on {} \".format(\n",
    "                name_prefix + func.__name__,\n",
    "                time.strftime(time_format)\n",
    "            ))\n",
    "            result = func(*args, **kwargs)\n",
    "            end_time = time.time()\n",
    "            print(\"- Finished '{}', execution time = {:0.3f}s \".format(\n",
    "                name_prefix + func.__name__,\n",
    "                end_time - start_time\n",
    "            ))\n",
    "            return result\n",
    "        decorated_func._logged_decorator = True\n",
    "        return decorated_func\n",
    "    return decorator\n",
    "\n",
    "def log_everything_metaclass(class_name, parents, attributes):\n",
    "    print('Creating class', class_name)\n",
    "    myattributes = {}\n",
    "    for name, attr in attributes.items():\n",
    "        myattributes[name] = attr\n",
    "        if hasattr(attr, '__call__'):\n",
    "            myattributes[name] = logged(\n",
    "                \"%b %d %Y - %H:%M:%S\", class_name + \".\"\n",
    "            )(attr)\n",
    "    return type(class_name, parents, myattributes)\n",
    "\n",
    "class C(metaclass=log_everything_metaclass):\n",
    "    def __init__(self, x):\n",
    "        self.x = x\n",
    "\n",
    "    def print_x(self):\n",
    "        print(self.x)"
   ]
  },
  {
   "cell_type": "code",
   "execution_count": 57,
   "metadata": {},
   "outputs": [
    {
     "name": "stdout",
     "output_type": "stream",
     "text": [
      "Starting object creation\n",
      "- Running 'C.__init__' on Apr 05 2020 - 14:40:56 \n",
      "- Finished 'C.__init__', execution time = 0.000s \n",
      "- Running 'C.print_x' on Apr 05 2020 - 14:40:56 \n",
      "Test\n",
      "- Finished 'C.print_x', execution time = 0.000s \n"
     ]
    }
   ],
   "source": [
    "print('Starting object creation')\n",
    "c = C('Test')\n",
    "c.print_x()"
   ]
  },
  {
   "cell_type": "code",
   "execution_count": null,
   "metadata": {},
   "outputs": [],
   "source": []
  }
 ],
 "metadata": {
  "kernelspec": {
   "display_name": "Python 3",
   "language": "python",
   "name": "python3"
  },
  "language_info": {
   "codemirror_mode": {
    "name": "ipython",
    "version": 3
   },
   "file_extension": ".py",
   "mimetype": "text/x-python",
   "name": "python",
   "nbconvert_exporter": "python",
   "pygments_lexer": "ipython3",
   "version": "3.6.9"
  }
 },
 "nbformat": 4,
 "nbformat_minor": 2
}
