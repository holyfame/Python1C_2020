{
 "cells": [
  {
   "cell_type": "code",
   "execution_count": 2,
   "metadata": {},
   "outputs": [],
   "source": [
    "from bottle import request, run, route\n",
    "import urllib\n",
    "import urllib.parse\n",
    "import requests\n",
    "\n",
    "LOGIN = \"holyfame\"\n",
    "PASS = \"pass\""
   ]
  },
  {
   "cell_type": "code",
   "execution_count": 3,
   "metadata": {},
   "outputs": [],
   "source": [
    "@route('/')\n",
    "def main():\n",
    "    query = \"q=котики&tbm=isch\"\n",
    "    template = 'https://www.google.ru/search?{}'.format(query)\n",
    "    url = template.format(urllib.parse.urlencode({'q': query}))\n",
    "    req = requests.get(url)\n",
    "    return req.text\n",
    "\n",
    "\n",
    "@route('/login')\n",
    "def login():\n",
    "    return '''\n",
    "        <form action=\"/login\" method=\"post\">\n",
    "            Username: <input name=\"username\" type=\"text\" />\n",
    "            Password: <input name=\"password\" type=\"password\" />\n",
    "            <input value=\"Login\" type=\"submit\" />\n",
    "        </form>\n",
    "    '''\n",
    "\n",
    "\n",
    "def check_login(username, password):\n",
    "    return username == LOGIN and password == PASS\n",
    "\n",
    "\n",
    "@route('/login', method='POST')\n",
    "def do_login():\n",
    "    username = request.forms.get('username')\n",
    "    password = request.forms.get('password')\n",
    "    if check_login(username, password):\n",
    "        return \"<p>Your login information was correct.</p>\"\n",
    "    else:\n",
    "        return \"<p>Login failed.</p>\""
   ]
  },
  {
   "cell_type": "code",
   "execution_count": 4,
   "metadata": {},
   "outputs": [
    {
     "name": "stderr",
     "output_type": "stream",
     "text": [
      "Bottle v0.12.18 server starting up (using WSGIRefServer())...\n",
      "Listening on http://localhost:80/\n",
      "Hit Ctrl-C to quit.\n",
      "\n",
      "127.0.0.1 - - [25/Apr/2020 13:07:23] \"GET / HTTP/1.1\" 200 22429\n",
      "127.0.0.1 - - [25/Apr/2020 13:07:23] \"GET /images/branding/searchlogo/1x/googlelogo_desk_heirloom_color_150x55dp.gif HTTP/1.1\" 404 861\n",
      "127.0.0.1 - - [25/Apr/2020 13:07:23] \"GET /images/branding/searchlogo/1x/googlelogo_tier_3_footer_g_color_18x26dp.gif HTTP/1.1\" 404 863\n",
      "127.0.0.1 - - [25/Apr/2020 13:07:24] \"GET /images/branding/searchlogo/1x/googlelogo_tier_3_footer_red_o_color_16x26dp.gif HTTP/1.1\" 404 871\n",
      "127.0.0.1 - - [25/Apr/2020 13:07:24] \"GET /images/branding/searchlogo/1x/googlelogo_tier_3_footer_orange_o_color_16x26dp.gif HTTP/1.1\" 404 877\n",
      "127.0.0.1 - - [25/Apr/2020 13:07:24] \"GET /images/branding/searchlogo/1x/googlelogo_tier_3_footer_gle_with_chevron_color_100x26dp.gif HTTP/1.1\" 404 895\n",
      "127.0.0.1 - - [25/Apr/2020 13:07:24] \"GET /favicon.ico HTTP/1.1\" 404 737\n",
      "127.0.0.1 - - [25/Apr/2020 13:07:27] \"GET /url?q=https://zen.yandex.ru/media/pravmir.ru/nashi-kotiki-nas-spasut-5d3599116f5f6f00add74a04&sa=U&ved=0ahUKEwja2q2vqoPpAhWIjosKHdWeCtkQqoUBCBwwCg&usg=AOvVaw3zSrAopLea2HCONd2GREBx HTTP/1.1\" 404 909\n",
      "127.0.0.1 - - [25/Apr/2020 13:07:38] \"GET /login HTTP/1.1\" 200 240\n",
      "127.0.0.1 - - [25/Apr/2020 13:07:43] \"POST /login HTTP/1.1\" 200 42\n",
      "127.0.0.1 - - [25/Apr/2020 13:07:50] \"GET / HTTP/1.1\" 200 22429\n",
      "127.0.0.1 - - [25/Apr/2020 13:07:50] \"GET /images/branding/searchlogo/1x/googlelogo_desk_heirloom_color_150x55dp.gif HTTP/1.1\" 404 861\n",
      "127.0.0.1 - - [25/Apr/2020 13:07:50] \"GET /images/branding/searchlogo/1x/googlelogo_tier_3_footer_g_color_18x26dp.gif HTTP/1.1\" 404 863\n",
      "127.0.0.1 - - [25/Apr/2020 13:07:50] \"GET /images/branding/searchlogo/1x/googlelogo_tier_3_footer_red_o_color_16x26dp.gif HTTP/1.1\" 404 871\n",
      "127.0.0.1 - - [25/Apr/2020 13:07:50] \"GET /images/branding/searchlogo/1x/googlelogo_tier_3_footer_orange_o_color_16x26dp.gif HTTP/1.1\" 404 877\n",
      "127.0.0.1 - - [25/Apr/2020 13:07:50] \"GET /images/branding/searchlogo/1x/googlelogo_tier_3_footer_gle_with_chevron_color_100x26dp.gif HTTP/1.1\" 404 895\n",
      "127.0.0.1 - - [25/Apr/2020 13:13:17] \"GET / HTTP/1.1\" 200 22429\n",
      "127.0.0.1 - - [25/Apr/2020 13:13:23] \"POST /login HTTP/1.1\" 200 20\n",
      "127.0.0.1 - - [25/Apr/2020 13:13:24] \"GET / HTTP/1.1\" 200 22409\n",
      "127.0.0.1 - - [25/Apr/2020 13:13:24] \"GET /images/branding/searchlogo/1x/googlelogo_desk_heirloom_color_150x55dp.gif HTTP/1.1\" 404 861\n",
      "127.0.0.1 - - [25/Apr/2020 13:13:24] \"GET /images/branding/searchlogo/1x/googlelogo_tier_3_footer_g_color_18x26dp.gif HTTP/1.1\" 404 863\n",
      "127.0.0.1 - - [25/Apr/2020 13:13:24] \"GET /images/branding/searchlogo/1x/googlelogo_tier_3_footer_red_o_color_16x26dp.gif HTTP/1.1\" 404 871\n",
      "127.0.0.1 - - [25/Apr/2020 13:13:24] \"GET /images/branding/searchlogo/1x/googlelogo_tier_3_footer_orange_o_color_16x26dp.gif HTTP/1.1\" 404 877\n",
      "127.0.0.1 - - [25/Apr/2020 13:13:24] \"GET /images/branding/searchlogo/1x/googlelogo_tier_3_footer_gle_with_chevron_color_100x26dp.gif HTTP/1.1\" 404 895\n",
      "127.0.0.1 - - [25/Apr/2020 13:14:00] \"POST /login HTTP/1.1\" 200 42\n"
     ]
    }
   ],
   "source": [
    "run(host='localhost', port=80, debug=True)"
   ]
  },
  {
   "cell_type": "code",
   "execution_count": null,
   "metadata": {},
   "outputs": [],
   "source": []
  }
 ],
 "metadata": {
  "kernelspec": {
   "display_name": "Python 3",
   "language": "python",
   "name": "python3"
  },
  "language_info": {
   "codemirror_mode": {
    "name": "ipython",
    "version": 3
   },
   "file_extension": ".py",
   "mimetype": "text/x-python",
   "name": "python",
   "nbconvert_exporter": "python",
   "pygments_lexer": "ipython3",
   "version": "3.8.2"
  }
 },
 "nbformat": 4,
 "nbformat_minor": 4
}
